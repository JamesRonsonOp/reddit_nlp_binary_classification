{
 "cells": [
  {
   "cell_type": "code",
   "execution_count": 101,
   "metadata": {
    "id": "N8nQmT9E3_cL"
   },
   "outputs": [],
   "source": [
    "import pandas as pd\n",
    "import numpy as np\n",
    "import matplotlib.pyplot as plt\n",
    "import seaborn as sns\n",
    "import requests"
   ]
  },
  {
   "cell_type": "code",
   "execution_count": 102,
   "metadata": {
    "id": "vPS6G8q1yRqS"
   },
   "outputs": [],
   "source": [
    "url = 'https://api.pushshift.io/reddit/search/submission'"
   ]
  },
  {
   "cell_type": "code",
   "execution_count": 103,
   "metadata": {
    "id": "VBelQvYpyXOG"
   },
   "outputs": [],
   "source": [
    "params = {\n",
    "    'subreddit': 'casualconversation', \n",
    "    'size' : 500, \n",
    "    'before' : min\n",
    "    #'after' : 1608445057\n",
    "}"
   ]
  },
  {
   "cell_type": "code",
   "execution_count": 104,
   "metadata": {
    "id": "_u5ZxhOoyhFF"
   },
   "outputs": [],
   "source": [
    "\n",
    "res = requests.get(url, params)"
   ]
  },
  {
   "cell_type": "code",
   "execution_count": 105,
   "metadata": {
    "colab": {
     "base_uri": "https://localhost:8080/"
    },
    "id": "qeLrH1zkylzG",
    "outputId": "67562b57-0259-4b4b-a538-645ad7216940"
   },
   "outputs": [
    {
     "data": {
      "text/plain": [
       "200"
      ]
     },
     "execution_count": 105,
     "metadata": {},
     "output_type": "execute_result"
    }
   ],
   "source": [
    "res.status_code"
   ]
  },
  {
   "cell_type": "code",
   "execution_count": 106,
   "metadata": {
    "id": "1Ox5uyfMynr9"
   },
   "outputs": [],
   "source": [
    "data = res.json()"
   ]
  },
  {
   "cell_type": "code",
   "execution_count": 86,
   "metadata": {
    "id": "U2SZkmDEyq9F"
   },
   "outputs": [],
   "source": [
    "posts = data['data']"
   ]
  },
  {
   "cell_type": "code",
   "execution_count": 87,
   "metadata": {
    "colab": {
     "base_uri": "https://localhost:8080/"
    },
    "id": "NZekutx5014R",
    "outputId": "0c0dfd0a-fb1d-48c6-bbc8-271a6233c5d5"
   },
   "outputs": [
    {
     "data": {
      "text/plain": [
       "{'all_awardings': [],\n",
       " 'allow_live_comments': False,\n",
       " 'author': '127bluehearts',\n",
       " 'author_flair_css_class': None,\n",
       " 'author_flair_richtext': [],\n",
       " 'author_flair_text': None,\n",
       " 'author_flair_type': 'text',\n",
       " 'author_fullname': 't2_5vp0sntj',\n",
       " 'author_patreon_flair': False,\n",
       " 'author_premium': False,\n",
       " 'awarders': [],\n",
       " 'can_mod_post': False,\n",
       " 'contest_mode': False,\n",
       " 'created_utc': 1608413378,\n",
       " 'domain': 'self.CasualConversation',\n",
       " 'full_link': 'https://www.reddit.com/r/CasualConversation/comments/kggq31/so_i_thought_i_wouldnt_get_any_recognition_from/',\n",
       " 'gildings': {},\n",
       " 'id': 'kggq31',\n",
       " 'is_crosspostable': True,\n",
       " 'is_meta': False,\n",
       " 'is_original_content': False,\n",
       " 'is_reddit_media_domain': False,\n",
       " 'is_robot_indexable': True,\n",
       " 'is_self': True,\n",
       " 'is_video': False,\n",
       " 'link_flair_background_color': '#638be4',\n",
       " 'link_flair_richtext': [{'a': ':chat:',\n",
       "   'e': 'emoji',\n",
       "   'u': 'https://emoji.redditmedia.com/04fpiw4fukg21_t5_323oy/chat'},\n",
       "  {'e': 'text', 't': ' Just Chatting'}],\n",
       " 'link_flair_template_id': '58904be0-3089-11e9-b6c6-0e12b0807136',\n",
       " 'link_flair_text': ':chat: Just Chatting',\n",
       " 'link_flair_text_color': 'light',\n",
       " 'link_flair_type': 'richtext',\n",
       " 'locked': False,\n",
       " 'media_only': False,\n",
       " 'no_follow': True,\n",
       " 'num_comments': 0,\n",
       " 'num_crossposts': 0,\n",
       " 'over_18': False,\n",
       " 'parent_whitelist_status': 'all_ads',\n",
       " 'permalink': '/r/CasualConversation/comments/kggq31/so_i_thought_i_wouldnt_get_any_recognition_from/',\n",
       " 'pinned': False,\n",
       " 'pwls': 6,\n",
       " 'retrieved_on': 1608413390,\n",
       " 'score': 1,\n",
       " 'selftext': 'I work at a grocery store. Last week, it was announced that the employees would get a $10 gift card. I appreciated the thought, but we deserved much more for what we’ve been through this year. But I was notified today that we will be getting a very nice “thank you” bonus. Though my job is by no means glamorous, and I don’t always feel like I’m appreciated by the higher ups of the company, this makes me feel happy. To those who also work at grocery stores, hang in there. Next week will be crazy, but we’ll get through it!',\n",
       " 'send_replies': True,\n",
       " 'spoiler': False,\n",
       " 'stickied': False,\n",
       " 'subreddit': 'CasualConversation',\n",
       " 'subreddit_id': 't5_323oy',\n",
       " 'subreddit_subscribers': 1414472,\n",
       " 'subreddit_type': 'public',\n",
       " 'thumbnail': 'self',\n",
       " 'title': 'So I thought I wouldn’t get any recognition from my workplace, but today changed that.',\n",
       " 'total_awards_received': 0,\n",
       " 'treatment_tags': [],\n",
       " 'upvote_ratio': 1.0,\n",
       " 'url': 'https://www.reddit.com/r/CasualConversation/comments/kggq31/so_i_thought_i_wouldnt_get_any_recognition_from/',\n",
       " 'whitelist_status': 'all_ads',\n",
       " 'wls': 6}"
      ]
     },
     "execution_count": 87,
     "metadata": {},
     "output_type": "execute_result"
    }
   ],
   "source": [
    "posts[0]"
   ]
  },
  {
   "cell_type": "code",
   "execution_count": 88,
   "metadata": {
    "colab": {
     "base_uri": "https://localhost:8080/"
    },
    "id": "_4LARtpjzgJa",
    "outputId": "49fc9cb7-d455-4308-da7d-223ff96a7ddb"
   },
   "outputs": [
    {
     "data": {
      "text/plain": [
       "100"
      ]
     },
     "execution_count": 88,
     "metadata": {},
     "output_type": "execute_result"
    }
   ],
   "source": [
    "len(posts)"
   ]
  },
  {
   "cell_type": "code",
   "execution_count": 89,
   "metadata": {
    "id": "QIomMgh30AvG"
   },
   "outputs": [],
   "source": [
    "df = pd.DataFrame(posts)"
   ]
  },
  {
   "cell_type": "code",
   "execution_count": 90,
   "metadata": {
    "colab": {
     "base_uri": "https://localhost:8080/",
     "height": 204
    },
    "id": "BUr_LlTy0RHE",
    "outputId": "2a813e4a-2a1e-426c-e49a-b98fa6acc5d3"
   },
   "outputs": [
    {
     "data": {
      "text/html": [
       "<div>\n",
       "<style scoped>\n",
       "    .dataframe tbody tr th:only-of-type {\n",
       "        vertical-align: middle;\n",
       "    }\n",
       "\n",
       "    .dataframe tbody tr th {\n",
       "        vertical-align: top;\n",
       "    }\n",
       "\n",
       "    .dataframe thead th {\n",
       "        text-align: right;\n",
       "    }\n",
       "</style>\n",
       "<table border=\"1\" class=\"dataframe\">\n",
       "  <thead>\n",
       "    <tr style=\"text-align: right;\">\n",
       "      <th></th>\n",
       "      <th>subreddit</th>\n",
       "      <th>selftext</th>\n",
       "      <th>title</th>\n",
       "      <th>created_utc</th>\n",
       "    </tr>\n",
       "  </thead>\n",
       "  <tbody>\n",
       "    <tr>\n",
       "      <th>0</th>\n",
       "      <td>CasualConversation</td>\n",
       "      <td>I work at a grocery store. Last week, it was a...</td>\n",
       "      <td>So I thought I wouldn’t get any recognition fr...</td>\n",
       "      <td>1608413378</td>\n",
       "    </tr>\n",
       "    <tr>\n",
       "      <th>1</th>\n",
       "      <td>CasualConversation</td>\n",
       "      <td>Please, pay me to enthusiastically post about ...</td>\n",
       "      <td>I get accused of being a shill so much, now I ...</td>\n",
       "      <td>1608413301</td>\n",
       "    </tr>\n",
       "    <tr>\n",
       "      <th>2</th>\n",
       "      <td>CasualConversation</td>\n",
       "      <td>[removed]</td>\n",
       "      <td>I'm a guy who doesn't like to do \"guys\" stuff ...</td>\n",
       "      <td>1608412765</td>\n",
       "    </tr>\n",
       "    <tr>\n",
       "      <th>3</th>\n",
       "      <td>CasualConversation</td>\n",
       "      <td>Might seem a little odd to be posting about so...</td>\n",
       "      <td>Tonight I'm going to be hanging out with my yo...</td>\n",
       "      <td>1608412486</td>\n",
       "    </tr>\n",
       "    <tr>\n",
       "      <th>4</th>\n",
       "      <td>CasualConversation</td>\n",
       "      <td>And make them so enticing and convincing that ...</td>\n",
       "      <td>Thinking about it, it’s honestly really crazy ...</td>\n",
       "      <td>1608411555</td>\n",
       "    </tr>\n",
       "  </tbody>\n",
       "</table>\n",
       "</div>"
      ],
      "text/plain": [
       "            subreddit                                           selftext  \\\n",
       "0  CasualConversation  I work at a grocery store. Last week, it was a...   \n",
       "1  CasualConversation  Please, pay me to enthusiastically post about ...   \n",
       "2  CasualConversation                                          [removed]   \n",
       "3  CasualConversation  Might seem a little odd to be posting about so...   \n",
       "4  CasualConversation  And make them so enticing and convincing that ...   \n",
       "\n",
       "                                               title  created_utc  \n",
       "0  So I thought I wouldn’t get any recognition fr...   1608413378  \n",
       "1  I get accused of being a shill so much, now I ...   1608413301  \n",
       "2  I'm a guy who doesn't like to do \"guys\" stuff ...   1608412765  \n",
       "3  Tonight I'm going to be hanging out with my yo...   1608412486  \n",
       "4  Thinking about it, it’s honestly really crazy ...   1608411555  "
      ]
     },
     "execution_count": 90,
     "metadata": {},
     "output_type": "execute_result"
    }
   ],
   "source": [
    "df[['subreddit', 'selftext', 'title', 'created_utc']].head()"
   ]
  },
  {
   "cell_type": "code",
   "execution_count": 91,
   "metadata": {},
   "outputs": [
    {
     "data": {
      "text/plain": [
       "1608413378"
      ]
     },
     "execution_count": 91,
     "metadata": {},
     "output_type": "execute_result"
    }
   ],
   "source": [
    "max = df['created_utc'].max()\n",
    "max"
   ]
  },
  {
   "cell_type": "code",
   "execution_count": 92,
   "metadata": {},
   "outputs": [
    {
     "data": {
      "text/plain": [
       "1608379456"
      ]
     },
     "execution_count": 92,
     "metadata": {},
     "output_type": "execute_result"
    }
   ],
   "source": [
    "min = df['created_utc'].min()\n",
    "min"
   ]
  },
  {
   "cell_type": "code",
   "execution_count": 93,
   "metadata": {
    "id": "3SdSjMKK0W8U"
   },
   "outputs": [],
   "source": [
    "read_df = pd.read_csv('casual_12_18_20')"
   ]
  },
  {
   "cell_type": "code",
   "execution_count": 94,
   "metadata": {},
   "outputs": [],
   "source": [
    "casual = pd.concat([df, read_df], axis = 0)"
   ]
  },
  {
   "cell_type": "code",
   "execution_count": 95,
   "metadata": {},
   "outputs": [],
   "source": [
    "casual = casual[['subreddit', 'selftext', 'title', 'created_utc']]"
   ]
  },
  {
   "cell_type": "code",
   "execution_count": 96,
   "metadata": {},
   "outputs": [
    {
     "data": {
      "text/html": [
       "<div>\n",
       "<style scoped>\n",
       "    .dataframe tbody tr th:only-of-type {\n",
       "        vertical-align: middle;\n",
       "    }\n",
       "\n",
       "    .dataframe tbody tr th {\n",
       "        vertical-align: top;\n",
       "    }\n",
       "\n",
       "    .dataframe thead th {\n",
       "        text-align: right;\n",
       "    }\n",
       "</style>\n",
       "<table border=\"1\" class=\"dataframe\">\n",
       "  <thead>\n",
       "    <tr style=\"text-align: right;\">\n",
       "      <th></th>\n",
       "      <th>subreddit</th>\n",
       "      <th>selftext</th>\n",
       "      <th>title</th>\n",
       "      <th>created_utc</th>\n",
       "    </tr>\n",
       "  </thead>\n",
       "  <tbody>\n",
       "    <tr>\n",
       "      <th>0</th>\n",
       "      <td>CasualConversation</td>\n",
       "      <td>So far, I think it’s been pretty good (despite...</td>\n",
       "      <td>Currently sitting in southern Brazil - born an...</td>\n",
       "      <td>1608515102</td>\n",
       "    </tr>\n",
       "    <tr>\n",
       "      <th>1</th>\n",
       "      <td>CasualConversation</td>\n",
       "      <td>I don’t know if this will be as significant to...</td>\n",
       "      <td>I got into a disagreement with someone on Redd...</td>\n",
       "      <td>1608514968</td>\n",
       "    </tr>\n",
       "    <tr>\n",
       "      <th>2</th>\n",
       "      <td>CasualConversation</td>\n",
       "      <td>[removed]</td>\n",
       "      <td>Currently sitting in southern Brazil - born in...</td>\n",
       "      <td>1608514717</td>\n",
       "    </tr>\n",
       "    <tr>\n",
       "      <th>3</th>\n",
       "      <td>CasualConversation</td>\n",
       "      <td>I’ve been feeling kind of down lately and I th...</td>\n",
       "      <td>Does anyone have any suggestions for wholesome...</td>\n",
       "      <td>1608514674</td>\n",
       "    </tr>\n",
       "    <tr>\n",
       "      <th>4</th>\n",
       "      <td>CasualConversation</td>\n",
       "      <td>I'm not bitter about it. It is what it is. But...</td>\n",
       "      <td>Fellow \"I have to spend Christmas alone\" peopl...</td>\n",
       "      <td>1608514226</td>\n",
       "    </tr>\n",
       "    <tr>\n",
       "      <th>...</th>\n",
       "      <td>...</td>\n",
       "      <td>...</td>\n",
       "      <td>...</td>\n",
       "      <td>...</td>\n",
       "    </tr>\n",
       "    <tr>\n",
       "      <th>95</th>\n",
       "      <td>CasualConversation</td>\n",
       "      <td>Hello, I was wondering if anyone know if a lan...</td>\n",
       "      <td>Notarized ESA letter</td>\n",
       "      <td>1608382432</td>\n",
       "    </tr>\n",
       "    <tr>\n",
       "      <th>96</th>\n",
       "      <td>CasualConversation</td>\n",
       "      <td>[removed]</td>\n",
       "      <td>After finishing college, I essentially did not...</td>\n",
       "      <td>1608381347</td>\n",
       "    </tr>\n",
       "    <tr>\n",
       "      <th>97</th>\n",
       "      <td>CasualConversation</td>\n",
       "      <td>Everyday when I wake up, I check out the news ...</td>\n",
       "      <td>Anyone else tired of seeing articles about bil...</td>\n",
       "      <td>1608381330</td>\n",
       "    </tr>\n",
       "    <tr>\n",
       "      <th>98</th>\n",
       "      <td>CasualConversation</td>\n",
       "      <td>Went onto r/casualconversation today after a c...</td>\n",
       "      <td>So what happened to chat rooms?</td>\n",
       "      <td>1608379523</td>\n",
       "    </tr>\n",
       "    <tr>\n",
       "      <th>99</th>\n",
       "      <td>CasualConversation</td>\n",
       "      <td>[removed]</td>\n",
       "      <td>I made a GOOD NEWS app</td>\n",
       "      <td>1608379456</td>\n",
       "    </tr>\n",
       "  </tbody>\n",
       "</table>\n",
       "<p>200 rows × 4 columns</p>\n",
       "</div>"
      ],
      "text/plain": [
       "             subreddit                                           selftext  \\\n",
       "0   CasualConversation  So far, I think it’s been pretty good (despite...   \n",
       "1   CasualConversation  I don’t know if this will be as significant to...   \n",
       "2   CasualConversation                                          [removed]   \n",
       "3   CasualConversation  I’ve been feeling kind of down lately and I th...   \n",
       "4   CasualConversation  I'm not bitter about it. It is what it is. But...   \n",
       "..                 ...                                                ...   \n",
       "95  CasualConversation  Hello, I was wondering if anyone know if a lan...   \n",
       "96  CasualConversation                                          [removed]   \n",
       "97  CasualConversation  Everyday when I wake up, I check out the news ...   \n",
       "98  CasualConversation  Went onto r/casualconversation today after a c...   \n",
       "99  CasualConversation                                          [removed]   \n",
       "\n",
       "                                                title  created_utc  \n",
       "0   Currently sitting in southern Brazil - born an...   1608515102  \n",
       "1   I got into a disagreement with someone on Redd...   1608514968  \n",
       "2   Currently sitting in southern Brazil - born in...   1608514717  \n",
       "3   Does anyone have any suggestions for wholesome...   1608514674  \n",
       "4   Fellow \"I have to spend Christmas alone\" peopl...   1608514226  \n",
       "..                                                ...          ...  \n",
       "95                               Notarized ESA letter   1608382432  \n",
       "96  After finishing college, I essentially did not...   1608381347  \n",
       "97  Anyone else tired of seeing articles about bil...   1608381330  \n",
       "98                    So what happened to chat rooms?   1608379523  \n",
       "99                             I made a GOOD NEWS app   1608379456  \n",
       "\n",
       "[200 rows x 4 columns]"
      ]
     },
     "execution_count": 96,
     "metadata": {},
     "output_type": "execute_result"
    }
   ],
   "source": [
    "casual.sort_values('created_utc', ascending = False) # 1608487325(min), 1608515102(max), (max: 1608515383, min: 1608486993), (min: 1608439127, max: 1608486993)"
   ]
  },
  {
   "cell_type": "code",
   "execution_count": 97,
   "metadata": {},
   "outputs": [],
   "source": [
    "casual.to_csv('casual.csv')\n",
    "    "
   ]
  },
  {
   "cell_type": "code",
   "execution_count": 98,
   "metadata": {},
   "outputs": [],
   "source": [
    "casual_2 = pd.read_csv('casual')"
   ]
  },
  {
   "cell_type": "code",
   "execution_count": 107,
   "metadata": {},
   "outputs": [
    {
     "data": {
      "text/plain": [
       "1608379456"
      ]
     },
     "execution_count": 107,
     "metadata": {},
     "output_type": "execute_result"
    }
   ],
   "source": [
    "casual_2['created_utc'].min()"
   ]
  },
  {
   "cell_type": "code",
   "execution_count": 108,
   "metadata": {},
   "outputs": [
    {
     "data": {
      "text/plain": [
       "1608515102"
      ]
     },
     "execution_count": 108,
     "metadata": {},
     "output_type": "execute_result"
    }
   ],
   "source": [
    "casual_2['created_utc'].max()"
   ]
  },
  {
   "cell_type": "code",
   "execution_count": 109,
   "metadata": {},
   "outputs": [
    {
     "data": {
      "text/plain": [
       "(200, 5)"
      ]
     },
     "execution_count": 109,
     "metadata": {},
     "output_type": "execute_result"
    }
   ],
   "source": [
    "casual_2.shape"
   ]
  },
  {
   "cell_type": "code",
   "execution_count": 111,
   "metadata": {},
   "outputs": [],
   "source": [
    "casual_1 = pd.read_csv('casual_12_18_20')"
   ]
  },
  {
   "cell_type": "code",
   "execution_count": 112,
   "metadata": {},
   "outputs": [
    {
     "data": {
      "text/plain": [
       "1608487325"
      ]
     },
     "execution_count": 112,
     "metadata": {},
     "output_type": "execute_result"
    }
   ],
   "source": [
    "casual_1['created_utc'].min()"
   ]
  },
  {
   "cell_type": "code",
   "execution_count": 113,
   "metadata": {},
   "outputs": [
    {
     "data": {
      "text/plain": [
       "1608515102"
      ]
     },
     "execution_count": 113,
     "metadata": {},
     "output_type": "execute_result"
    }
   ],
   "source": [
    "casual_1['created_utc'].max()"
   ]
  },
  {
   "cell_type": "code",
   "execution_count": 114,
   "metadata": {},
   "outputs": [
    {
     "data": {
      "text/plain": [
       "(100, 67)"
      ]
     },
     "execution_count": 114,
     "metadata": {},
     "output_type": "execute_result"
    }
   ],
   "source": [
    "casual_1.shape"
   ]
  },
  {
   "cell_type": "code",
   "execution_count": null,
   "metadata": {},
   "outputs": [],
   "source": []
  }
 ],
 "metadata": {
  "colab": {
   "name": "project3_1",
   "provenance": []
  },
  "kernelspec": {
   "display_name": "Python 3",
   "language": "python",
   "name": "python3"
  },
  "language_info": {
   "codemirror_mode": {
    "name": "ipython",
    "version": 3
   },
   "file_extension": ".py",
   "mimetype": "text/x-python",
   "name": "python",
   "nbconvert_exporter": "python",
   "pygments_lexer": "ipython3",
   "version": "3.8.3"
  }
 },
 "nbformat": 4,
 "nbformat_minor": 1
}
