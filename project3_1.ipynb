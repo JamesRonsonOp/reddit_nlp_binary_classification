{
  "nbformat": 4,
  "nbformat_minor": 0,
  "metadata": {
    "colab": {
      "name": "project3_1",
      "provenance": []
    },
    "kernelspec": {
      "name": "python3",
      "display_name": "Python 3"
    }
  },
  "cells": [
    {
      "cell_type": "code",
      "metadata": {
        "id": "N8nQmT9E3_cL"
      },
      "source": [
        "import pandas as pd\n",
        "import numpy as np\n",
        "import matplotlib.pyplot as plt\n",
        "import seaborn as sns\n",
        "import requests"
      ],
      "execution_count": 1,
      "outputs": []
    },
    {
      "cell_type": "code",
      "metadata": {
        "id": "vPS6G8q1yRqS"
      },
      "source": [
        "url = 'https://api.pushshift.io/reddit/search/submission'"
      ],
      "execution_count": 2,
      "outputs": []
    },
    {
      "cell_type": "code",
      "metadata": {
        "id": "VBelQvYpyXOG"
      },
      "source": [
        "params = {\n",
        "    'subreddit': 'casualconversation', \n",
        "    'size' : 500, \n",
        "    # 'before' : \n",
        "    #'after' : 1608445057\n",
        "}"
      ],
      "execution_count": 42,
      "outputs": []
    },
    {
      "cell_type": "code",
      "metadata": {
        "id": "_u5ZxhOoyhFF"
      },
      "source": [
        "\n",
        "res = requests.get(url, params)"
      ],
      "execution_count": 43,
      "outputs": []
    },
    {
      "cell_type": "code",
      "metadata": {
        "colab": {
          "base_uri": "https://localhost:8080/"
        },
        "id": "qeLrH1zkylzG",
        "outputId": "67562b57-0259-4b4b-a538-645ad7216940"
      },
      "source": [
        "res.status_code"
      ],
      "execution_count": 44,
      "outputs": [
        {
          "output_type": "execute_result",
          "data": {
            "text/plain": [
              "200"
            ]
          },
          "metadata": {
            "tags": []
          },
          "execution_count": 44
        }
      ]
    },
    {
      "cell_type": "code",
      "metadata": {
        "id": "1Ox5uyfMynr9"
      },
      "source": [
        "data = res.json()"
      ],
      "execution_count": 45,
      "outputs": []
    },
    {
      "cell_type": "code",
      "metadata": {
        "id": "U2SZkmDEyq9F"
      },
      "source": [
        "posts = data['data']"
      ],
      "execution_count": 46,
      "outputs": []
    },
    {
      "cell_type": "code",
      "metadata": {
        "colab": {
          "base_uri": "https://localhost:8080/"
        },
        "id": "NZekutx5014R",
        "outputId": "0c0dfd0a-fb1d-48c6-bbc8-271a6233c5d5"
      },
      "source": [
        "posts[0]"
      ],
      "execution_count": 47,
      "outputs": [
        {
          "output_type": "execute_result",
          "data": {
            "text/plain": [
              "{'all_awardings': [],\n",
              " 'allow_live_comments': False,\n",
              " 'author': 'maleigh01',\n",
              " 'author_flair_css_class': None,\n",
              " 'author_flair_richtext': [],\n",
              " 'author_flair_text': None,\n",
              " 'author_flair_type': 'text',\n",
              " 'author_fullname': 't2_5n8yhi2j',\n",
              " 'author_patreon_flair': False,\n",
              " 'author_premium': False,\n",
              " 'awarders': [],\n",
              " 'can_mod_post': False,\n",
              " 'contest_mode': False,\n",
              " 'created_utc': 1608446020,\n",
              " 'domain': 'self.CasualConversation',\n",
              " 'full_link': 'https://www.reddit.com/r/CasualConversation/comments/kgp99t/when_should_i_start_looking_for_a_serious/',\n",
              " 'gildings': {},\n",
              " 'id': 'kgp99t',\n",
              " 'is_crosspostable': False,\n",
              " 'is_meta': False,\n",
              " 'is_original_content': False,\n",
              " 'is_reddit_media_domain': False,\n",
              " 'is_robot_indexable': False,\n",
              " 'is_self': True,\n",
              " 'is_video': False,\n",
              " 'link_flair_background_color': '',\n",
              " 'link_flair_richtext': [],\n",
              " 'link_flair_text_color': 'dark',\n",
              " 'link_flair_type': 'text',\n",
              " 'locked': False,\n",
              " 'media_only': False,\n",
              " 'no_follow': True,\n",
              " 'num_comments': 0,\n",
              " 'num_crossposts': 0,\n",
              " 'over_18': False,\n",
              " 'parent_whitelist_status': 'all_ads',\n",
              " 'permalink': '/r/CasualConversation/comments/kgp99t/when_should_i_start_looking_for_a_serious/',\n",
              " 'pinned': False,\n",
              " 'pwls': 6,\n",
              " 'removed_by_category': 'automod_filtered',\n",
              " 'retrieved_on': 1608446031,\n",
              " 'score': 1,\n",
              " 'selftext': '[removed]',\n",
              " 'send_replies': True,\n",
              " 'spoiler': False,\n",
              " 'stickied': False,\n",
              " 'subreddit': 'CasualConversation',\n",
              " 'subreddit_id': 't5_323oy',\n",
              " 'subreddit_subscribers': 1414714,\n",
              " 'subreddit_type': 'public',\n",
              " 'thumbnail': 'self',\n",
              " 'title': 'When should I start looking for a serious relationship.',\n",
              " 'total_awards_received': 0,\n",
              " 'treatment_tags': [],\n",
              " 'upvote_ratio': 1.0,\n",
              " 'url': 'https://www.reddit.com/r/CasualConversation/comments/kgp99t/when_should_i_start_looking_for_a_serious/',\n",
              " 'whitelist_status': 'all_ads',\n",
              " 'wls': 6}"
            ]
          },
          "metadata": {
            "tags": []
          },
          "execution_count": 47
        }
      ]
    },
    {
      "cell_type": "code",
      "metadata": {
        "colab": {
          "base_uri": "https://localhost:8080/"
        },
        "id": "_4LARtpjzgJa",
        "outputId": "49fc9cb7-d455-4308-da7d-223ff96a7ddb"
      },
      "source": [
        "len(posts)"
      ],
      "execution_count": 48,
      "outputs": [
        {
          "output_type": "execute_result",
          "data": {
            "text/plain": [
              "100"
            ]
          },
          "metadata": {
            "tags": []
          },
          "execution_count": 48
        }
      ]
    },
    {
      "cell_type": "code",
      "metadata": {
        "id": "QIomMgh30AvG"
      },
      "source": [
        "df = pd.DataFrame(posts)"
      ],
      "execution_count": 49,
      "outputs": []
    },
    {
      "cell_type": "code",
      "metadata": {
        "colab": {
          "base_uri": "https://localhost:8080/",
          "height": 204
        },
        "id": "BUr_LlTy0RHE",
        "outputId": "2a813e4a-2a1e-426c-e49a-b98fa6acc5d3"
      },
      "source": [
        "df[['subreddit', 'selftext', 'title']].head()"
      ],
      "execution_count": 50,
      "outputs": [
        {
          "output_type": "execute_result",
          "data": {
            "text/html": [
              "<div>\n",
              "<style scoped>\n",
              "    .dataframe tbody tr th:only-of-type {\n",
              "        vertical-align: middle;\n",
              "    }\n",
              "\n",
              "    .dataframe tbody tr th {\n",
              "        vertical-align: top;\n",
              "    }\n",
              "\n",
              "    .dataframe thead th {\n",
              "        text-align: right;\n",
              "    }\n",
              "</style>\n",
              "<table border=\"1\" class=\"dataframe\">\n",
              "  <thead>\n",
              "    <tr style=\"text-align: right;\">\n",
              "      <th></th>\n",
              "      <th>subreddit</th>\n",
              "      <th>selftext</th>\n",
              "      <th>title</th>\n",
              "    </tr>\n",
              "  </thead>\n",
              "  <tbody>\n",
              "    <tr>\n",
              "      <th>0</th>\n",
              "      <td>CasualConversation</td>\n",
              "      <td>[removed]</td>\n",
              "      <td>When should I start looking for a serious rela...</td>\n",
              "    </tr>\n",
              "    <tr>\n",
              "      <th>1</th>\n",
              "      <td>CasualConversation</td>\n",
              "      <td>I have incredible trouble sleeping at the mome...</td>\n",
              "      <td>My girlfriend read me a Chinese children's boo...</td>\n",
              "    </tr>\n",
              "    <tr>\n",
              "      <th>2</th>\n",
              "      <td>CasualConversation</td>\n",
              "      <td>I've seen women call guys a$$holes plenty of t...</td>\n",
              "      <td>Double standards</td>\n",
              "    </tr>\n",
              "    <tr>\n",
              "      <th>3</th>\n",
              "      <td>CasualConversation</td>\n",
              "      <td>I've been struggling a little bit lately and m...</td>\n",
              "      <td>My roommates are so nice and lovely</td>\n",
              "    </tr>\n",
              "    <tr>\n",
              "      <th>4</th>\n",
              "      <td>CasualConversation</td>\n",
              "      <td>[removed]</td>\n",
              "      <td>I can't stop thinking about River Phoenix</td>\n",
              "    </tr>\n",
              "  </tbody>\n",
              "</table>\n",
              "</div>"
            ],
            "text/plain": [
              "            subreddit  ...                                              title\n",
              "0  CasualConversation  ...  When should I start looking for a serious rela...\n",
              "1  CasualConversation  ...  My girlfriend read me a Chinese children's boo...\n",
              "2  CasualConversation  ...                                   Double standards\n",
              "3  CasualConversation  ...                My roommates are so nice and lovely\n",
              "4  CasualConversation  ...          I can't stop thinking about River Phoenix\n",
              "\n",
              "[5 rows x 3 columns]"
            ]
          },
          "metadata": {
            "tags": []
          },
          "execution_count": 50
        }
      ]
    },
    {
      "cell_type": "code",
      "metadata": {
        "id": "3SdSjMKK0W8U"
      },
      "source": [
        ""
      ],
      "execution_count": null,
      "outputs": []
    }
  ]
}