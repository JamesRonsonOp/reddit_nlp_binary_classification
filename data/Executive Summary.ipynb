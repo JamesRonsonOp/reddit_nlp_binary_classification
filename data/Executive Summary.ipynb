{
 "cells": [
  {
   "cell_type": "markdown",
   "metadata": {},
   "source": [
    "# Problem Statement\n",
    "\n",
    "Constellation Brands, a publicly traded company under the ticker `$STZ`, is an international producer and marketer of beverage alcohol. Their annual revenue is roughly `$8 Billion dollars` and the company spends almost `$800 million dollars` per year on advertising. \n",
    "\n",
    "**They are looking to make their marketing and advertising efforts more efficient by using natural language processing to analyze social media interactions for marketing cues and insights.** In light of this focus they have requested a preliminary report detailing insights and actions regarding a few new brands they are considering for launch. Both brands will be geared toward do-it-yourself (DIY) home spirits makers who have an affinity for high-quality and handcrafted spirits. \n",
    "\n",
    "To conduct this preliminary analysis I will be using Reddit data scraped from the r/Homebrewing and r/Winemaking Subreddits. I will clean the data for use in natural language preprocessing, exploratory data analysis, key insight creation, visualization creation and finally predictive modeling.\n",
    "\n",
    "The model will be *****\n",
    "\n",
    "This analysis will be presented to the executive marketing and data science teams of Constellation Brands. "
   ]
  },
  {
   "cell_type": "code",
   "execution_count": null,
   "metadata": {},
   "outputs": [],
   "source": []
  }
 ],
 "metadata": {
  "kernelspec": {
   "display_name": "Python 3",
   "language": "python",
   "name": "python3"
  },
  "language_info": {
   "codemirror_mode": {
    "name": "ipython",
    "version": 3
   },
   "file_extension": ".py",
   "mimetype": "text/x-python",
   "name": "python",
   "nbconvert_exporter": "python",
   "pygments_lexer": "ipython3",
   "version": "3.8.3"
  }
 },
 "nbformat": 4,
 "nbformat_minor": 4
}
