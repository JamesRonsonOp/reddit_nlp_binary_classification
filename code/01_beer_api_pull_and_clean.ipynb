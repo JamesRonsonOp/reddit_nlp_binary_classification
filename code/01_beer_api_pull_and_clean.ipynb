{
 "cells": [
  {
   "cell_type": "markdown",
   "metadata": {},
   "source": [
    "# About This Notebook"
   ]
  },
  {
   "cell_type": "markdown",
   "metadata": {},
   "source": [
    "This notebook takes in data from https://www.reddit.com/r/Homebrewing/  via the Push Shift API found at www.pushshift.io\n",
    "\n",
    "This notebook consists of five steps of initial data retrieval and preprocessing for a Natural Language Processing Project. \n",
    "\n",
    "The project at large will intake data from two different subreddits (from www.Reddit.com), clean and process the data, explore the data for relationships, create and manipulate features and then model to produce a predictive classification model. \n",
    "\n",
    "This notebook will begin the process described above through the following steps: \n",
    "\n",
    "Step 1: Data Retrieval - Is the process of pulling the data from Reddit using the Pushshift API.\n",
    "\n",
    "* Here code was written that identifies the url to call the respective subreddit.\n",
    "* It sets parameters for the Pushshift API\n",
    "* Loops through to create a new request using updated parameters so that each time new information is being pulled from the subreddit.\n",
    "* Creates a dataframe to store each information pull. \n",
    "* Concatenates the dataframe. \n",
    "\n",
    "\n",
    "Step 2: Initial Analysis for Cleaning - Which will analyze unique values, indexes and summary info. \n",
    "\n",
    "\n",
    "\n",
    "Step 3: Cleaning - Will reduce the amount of features being processed, handle duplicate values, and eliminate null values. \n",
    "\n",
    "Step 4: Preliminary EDA - Will conduct an initial exploration of the data to analyze unique values in greater detail, initially explore the possibility of outliers in the data and look into features that may be interesting overall but that may not make it into the advanced EDA and modeling process. \n",
    "\n",
    "Step 5: Preparing DF for Text Analysis - This process will reduce feature columns to just those that will be used in advanced EDA and modeling. It will then save this file to CSV for the purpose of importing into another notebook focused on advanced EDA and feature creation. "
   ]
  },
  {
   "cell_type": "markdown",
   "metadata": {},
   "source": [
    "About r/Homebrewing subreddit:\n",
    "\n",
    "* Created in June of 2008 it is a community of brewers, mazers, vitners and cider makers. \n",
    "* There are at time of this project over 1 million members. \n",
    "* You can find more information about this community on thier Reddit Wiki https://www.reddit.com/r/Homebrewing/comments/ix1yd0/wiki_updates_new_wiki_editor/ where you will find introductions to the moderators and dedicated content creators, links to helpful Homebrewing information as well as links to their Slack and IRC channels. \n",
    "* One reason I chose this blog is because of their rule #3, 'Image only posts are not allowed.'"
   ]
  },
  {
   "cell_type": "markdown",
   "metadata": {},
   "source": [
    "### Importing Libraries"
   ]
  },
  {
   "cell_type": "code",
   "execution_count": 1,
   "metadata": {},
   "outputs": [],
   "source": [
    "import time\n",
    "import requests\n",
    "import pandas as pd\n",
    "import numpy as np\n",
    "import missingno as msno\n",
    "\n",
    "import matplotlib.pyplot as plt\n",
    "import seaborn as sns\n",
    "\n",
    "%matplotlib inline"
   ]
  },
  {
   "cell_type": "markdown",
   "metadata": {},
   "source": [
    "# Step 1 \n",
    "# Data Retrieval \n",
    "### Pulling in Data Using Pushshift API\n",
    "\n",
    "* Code below was slightly adapted from the Pushshift mini lesson administered by Hovanes. "
   ]
  },
  {
   "cell_type": "code",
   "execution_count": 2,
   "metadata": {},
   "outputs": [
    {
     "name": "stdout",
     "output_type": "stream",
     "text": [
      "res 1 code:  200\n",
      "res 2 code:  200\n",
      "res 3 code:  200\n",
      "res 4 code:  200\n",
      "res 5 code:  200\n",
      "res 6 code:  200\n",
      "res 7 code:  200\n",
      "res 8 code:  200\n",
      "res 9 code:  200\n",
      "res 10 code:  200\n",
      "res 11 code:  200\n",
      "res 12 code:  200\n",
      "res 13 code:  200\n",
      "res 14 code:  200\n",
      "res 15 code:  200\n",
      "res 16 code:  200\n",
      "res 17 code:  200\n",
      "res 18 code:  200\n",
      "res 19 code:  200\n",
      "res 20 code:  200\n",
      "res 21 code:  200\n",
      "res 22 code:  200\n",
      "res 23 code:  200\n",
      "res 24 code:  200\n",
      "res 25 code:  200\n",
      "res 26 code:  200\n",
      "res 27 code:  200\n",
      "res 28 code:  200\n",
      "res 29 code:  200\n",
      "res 30 code:  200\n"
     ]
    }
   ],
   "source": [
    "# defining url for pushshift apo\n",
    "url = 'https://api.pushshift.io/reddit/submission/search'\n",
    "# creating an empty list to collect the dataframe lists\n",
    "dfs = []\n",
    "\n",
    "# number of loops that will be made. Each loop pulls a new set of posts.\n",
    "loops = 30\n",
    "\n",
    "params = {\n",
    "        'subreddit': 'homebrewing', \n",
    "        'size': 100,\n",
    "#         'before' :\n",
    "        }\n",
    "\n",
    "\n",
    "#defining the time in which I start the loop.\n",
    "start_time = time.time()\n",
    "\n",
    "#create for loop that sets the current time for the sake of ensuring we are not scraping too fast or taking too many of the sites reasoureces. \n",
    "# This for loop also pulls from requests, formats data into json and creates a dataframe\n",
    "for i in range(loops):\n",
    "    \n",
    "    current_time = time.time()\n",
    "    #requesting data\n",
    "    res = requests.get(url, params) #getting request\n",
    "    print(f'res {i+1} code: ', res.status_code) #printing request status to ensure it went through securely\n",
    "    \n",
    "    data = res.json() #using json to read\n",
    "    posts = data['data'] #indexing into 'data' from json dictionary and list of dictionaries\n",
    "    posts_df = pd.DataFrame(posts)\n",
    "    dfs.append(posts_df) #create dataframe from 'data' dictionary\n",
    "        \n",
    "        \n",
    "    # get oldest post time and use as before parameter in next request\n",
    "    params['before'] = posts_df['created_utc'].min()#adding 'before' parameter to params dictionary\n",
    "        \n",
    "    #created lower limit of 1 second to ensure we are abiding by resource conventions.\n",
    "    time.sleep(3)\n",
    "\n",
    "# creating a dataframe by concatetinating all of the df lists created by the loop    \n",
    "reddit_posts = pd.concat(dfs)"
   ]
  },
  {
   "cell_type": "markdown",
   "metadata": {},
   "source": [
    "___________________\n",
    "# Step 2 \n",
    "# Initial Analysis for Cleaning\n",
    "\n",
    "###  Initial Analysis of Unique Values (Prior to Cleaning)"
   ]
  },
  {
   "cell_type": "code",
   "execution_count": 4,
   "metadata": {},
   "outputs": [
    {
     "name": "stdout",
     "output_type": "stream",
     "text": [
      "<class 'pandas.core.frame.DataFrame'>\n",
      "Int64Index: 3000 entries, 0 to 99\n",
      "Data columns (total 79 columns):\n",
      " #   Column                         Non-Null Count  Dtype  \n",
      "---  ------                         --------------  -----  \n",
      " 0   all_awardings                  3000 non-null   object \n",
      " 1   allow_live_comments            3000 non-null   bool   \n",
      " 2   author                         3000 non-null   object \n",
      " 3   author_flair_css_class         207 non-null    object \n",
      " 4   author_flair_richtext          2977 non-null   object \n",
      " 5   author_flair_text              156 non-null    object \n",
      " 6   author_flair_type              2977 non-null   object \n",
      " 7   author_fullname                2977 non-null   object \n",
      " 8   author_patreon_flair           2977 non-null   object \n",
      " 9   author_premium                 2977 non-null   object \n",
      " 10  awarders                       3000 non-null   object \n",
      " 11  can_mod_post                   3000 non-null   bool   \n",
      " 12  contest_mode                   3000 non-null   bool   \n",
      " 13  created_utc                    3000 non-null   int64  \n",
      " 14  domain                         3000 non-null   object \n",
      " 15  full_link                      3000 non-null   object \n",
      " 16  gildings                       3000 non-null   object \n",
      " 17  id                             3000 non-null   object \n",
      " 18  is_crosspostable               3000 non-null   bool   \n",
      " 19  is_meta                        3000 non-null   bool   \n",
      " 20  is_original_content            3000 non-null   bool   \n",
      " 21  is_reddit_media_domain         3000 non-null   bool   \n",
      " 22  is_robot_indexable             3000 non-null   bool   \n",
      " 23  is_self                        3000 non-null   bool   \n",
      " 24  is_video                       3000 non-null   bool   \n",
      " 25  link_flair_background_color    3000 non-null   object \n",
      " 26  link_flair_richtext            3000 non-null   object \n",
      " 27  link_flair_text_color          3000 non-null   object \n",
      " 28  link_flair_type                3000 non-null   object \n",
      " 29  locked                         3000 non-null   bool   \n",
      " 30  media_only                     3000 non-null   bool   \n",
      " 31  no_follow                      3000 non-null   bool   \n",
      " 32  num_comments                   3000 non-null   int64  \n",
      " 33  num_crossposts                 3000 non-null   int64  \n",
      " 34  over_18                        3000 non-null   bool   \n",
      " 35  parent_whitelist_status        3000 non-null   object \n",
      " 36  permalink                      3000 non-null   object \n",
      " 37  pinned                         3000 non-null   bool   \n",
      " 38  pwls                           3000 non-null   int64  \n",
      " 39  retrieved_on                   3000 non-null   int64  \n",
      " 40  score                          3000 non-null   int64  \n",
      " 41  selftext                       2991 non-null   object \n",
      " 42  send_replies                   3000 non-null   bool   \n",
      " 43  spoiler                        3000 non-null   bool   \n",
      " 44  stickied                       3000 non-null   bool   \n",
      " 45  subreddit                      3000 non-null   object \n",
      " 46  subreddit_id                   3000 non-null   object \n",
      " 47  subreddit_subscribers          3000 non-null   int64  \n",
      " 48  subreddit_type                 3000 non-null   object \n",
      " 49  thumbnail                      3000 non-null   object \n",
      " 50  title                          3000 non-null   object \n",
      " 51  total_awards_received          3000 non-null   int64  \n",
      " 52  treatment_tags                 3000 non-null   object \n",
      " 53  upvote_ratio                   3000 non-null   float64\n",
      " 54  url                            3000 non-null   object \n",
      " 55  whitelist_status               3000 non-null   object \n",
      " 56  wls                            3000 non-null   int64  \n",
      " 57  link_flair_template_id         741 non-null    object \n",
      " 58  link_flair_text                829 non-null    object \n",
      " 59  removed_by_category            294 non-null    object \n",
      " 60  post_hint                      611 non-null    object \n",
      " 61  preview                        611 non-null    object \n",
      " 62  author_flair_background_color  234 non-null    object \n",
      " 63  author_flair_text_color        236 non-null    object \n",
      " 64  thumbnail_height               178 non-null    float64\n",
      " 65  thumbnail_width                178 non-null    float64\n",
      " 66  url_overridden_by_dest         227 non-null    object \n",
      " 67  media                          68 non-null     object \n",
      " 68  media_embed                    68 non-null     object \n",
      " 69  secure_media                   68 non-null     object \n",
      " 70  secure_media_embed             68 non-null     object \n",
      " 71  author_flair_template_id       152 non-null    object \n",
      " 72  suggested_sort                 56 non-null     object \n",
      " 73  banned_by                      9 non-null      object \n",
      " 74  author_cakeday                 14 non-null     object \n",
      " 75  distinguished                  87 non-null     object \n",
      " 76  crosspost_parent               23 non-null     object \n",
      " 77  crosspost_parent_list          23 non-null     object \n",
      " 78  edited                         29 non-null     float64\n",
      "dtypes: bool(18), float64(4), int64(9), object(48)\n",
      "memory usage: 1.5+ MB\n"
     ]
    }
   ],
   "source": [
    "reddit_posts.info()"
   ]
  },
  {
   "cell_type": "code",
   "execution_count": 5,
   "metadata": {},
   "outputs": [
    {
     "data": {
      "text/plain": [
       "(3000, 79)"
      ]
     },
     "execution_count": 5,
     "metadata": {},
     "output_type": "execute_result"
    }
   ],
   "source": [
    "reddit_posts.shape"
   ]
  },
  {
   "cell_type": "markdown",
   "metadata": {},
   "source": [
    "#### 3000 unique id's"
   ]
  },
  {
   "cell_type": "code",
   "execution_count": 6,
   "metadata": {},
   "outputs": [
    {
     "data": {
      "text/plain": [
       "3000"
      ]
     },
     "execution_count": 6,
     "metadata": {},
     "output_type": "execute_result"
    }
   ],
   "source": [
    "unique_ids = reddit_posts['id'].nunique()\n",
    "unique_ids"
   ]
  },
  {
   "cell_type": "markdown",
   "metadata": {},
   "source": [
    "#### 1893 unique authors"
   ]
  },
  {
   "cell_type": "code",
   "execution_count": 7,
   "metadata": {},
   "outputs": [
    {
     "data": {
      "text/plain": [
       "1938"
      ]
     },
     "execution_count": 7,
     "metadata": {},
     "output_type": "execute_result"
    }
   ],
   "source": [
    "reddit_posts['author'].nunique()"
   ]
  },
  {
   "cell_type": "markdown",
   "metadata": {},
   "source": [
    "#### 2378 unique posts"
   ]
  },
  {
   "cell_type": "code",
   "execution_count": 8,
   "metadata": {},
   "outputs": [
    {
     "data": {
      "text/plain": [
       "2380"
      ]
     },
     "execution_count": 8,
     "metadata": {},
     "output_type": "execute_result"
    }
   ],
   "source": [
    "unique_posts = reddit_posts['selftext'].nunique()\n",
    "unique_posts"
   ]
  },
  {
   "cell_type": "markdown",
   "metadata": {},
   "source": [
    "\n",
    "\n",
    "#### Percentage of Unique Posts to Unique IDs"
   ]
  },
  {
   "cell_type": "code",
   "execution_count": 9,
   "metadata": {},
   "outputs": [
    {
     "data": {
      "text/plain": [
       "0.7933333333333333"
      ]
     },
     "execution_count": 9,
     "metadata": {},
     "output_type": "execute_result"
    }
   ],
   "source": [
    "unique_posts / unique_ids"
   ]
  },
  {
   "cell_type": "markdown",
   "metadata": {},
   "source": [
    "_______________\n",
    "\n",
    "## Column and Index Check\n",
    "\n",
    "### Checking column index"
   ]
  },
  {
   "cell_type": "code",
   "execution_count": 10,
   "metadata": {},
   "outputs": [],
   "source": [
    "reddit_posts.columns;"
   ]
  },
  {
   "cell_type": "markdown",
   "metadata": {},
   "source": [
    "### Checking row index\n",
    "* index appears to be repeating (0-100) due to for loop that pulled in posts. \n",
    "* It does not appear that the values are being repeated based on unique posts, id and author values above. \n",
    "* going to reset the index."
   ]
  },
  {
   "cell_type": "code",
   "execution_count": 11,
   "metadata": {},
   "outputs": [
    {
     "data": {
      "text/plain": [
       "Int64Index([ 0,  1,  2,  3,  4,  5,  6,  7,  8,  9,\n",
       "            ...\n",
       "            90, 91, 92, 93, 94, 95, 96, 97, 98, 99],\n",
       "           dtype='int64', length=3000)"
      ]
     },
     "execution_count": 11,
     "metadata": {},
     "output_type": "execute_result"
    }
   ],
   "source": [
    "reddit_posts.index"
   ]
  },
  {
   "cell_type": "code",
   "execution_count": 12,
   "metadata": {},
   "outputs": [],
   "source": [
    "reddit_posts.reset_index(inplace = True, drop = True)"
   ]
  },
  {
   "cell_type": "code",
   "execution_count": 13,
   "metadata": {},
   "outputs": [
    {
     "data": {
      "text/plain": [
       "RangeIndex(start=0, stop=3000, step=1)"
      ]
     },
     "execution_count": 13,
     "metadata": {},
     "output_type": "execute_result"
    }
   ],
   "source": [
    "reddit_posts.index"
   ]
  },
  {
   "cell_type": "code",
   "execution_count": 14,
   "metadata": {},
   "outputs": [
    {
     "data": {
      "text/plain": [
       "Index(['all_awardings', 'allow_live_comments', 'author',\n",
       "       'author_flair_css_class', 'author_flair_richtext', 'author_flair_text',\n",
       "       'author_flair_type', 'author_fullname', 'author_patreon_flair',\n",
       "       'author_premium', 'awarders', 'can_mod_post', 'contest_mode',\n",
       "       'created_utc', 'domain', 'full_link', 'gildings', 'id',\n",
       "       'is_crosspostable', 'is_meta', 'is_original_content',\n",
       "       'is_reddit_media_domain', 'is_robot_indexable', 'is_self', 'is_video',\n",
       "       'link_flair_background_color', 'link_flair_richtext',\n",
       "       'link_flair_text_color', 'link_flair_type', 'locked', 'media_only',\n",
       "       'no_follow', 'num_comments', 'num_crossposts', 'over_18',\n",
       "       'parent_whitelist_status', 'permalink', 'pinned', 'pwls',\n",
       "       'retrieved_on', 'score', 'selftext', 'send_replies', 'spoiler',\n",
       "       'stickied', 'subreddit', 'subreddit_id', 'subreddit_subscribers',\n",
       "       'subreddit_type', 'thumbnail', 'title', 'total_awards_received',\n",
       "       'treatment_tags', 'upvote_ratio', 'url', 'whitelist_status', 'wls',\n",
       "       'link_flair_template_id', 'link_flair_text', 'removed_by_category',\n",
       "       'post_hint', 'preview', 'author_flair_background_color',\n",
       "       'author_flair_text_color', 'thumbnail_height', 'thumbnail_width',\n",
       "       'url_overridden_by_dest', 'media', 'media_embed', 'secure_media',\n",
       "       'secure_media_embed', 'author_flair_template_id', 'suggested_sort',\n",
       "       'banned_by', 'author_cakeday', 'distinguished', 'crosspost_parent',\n",
       "       'crosspost_parent_list', 'edited'],\n",
       "      dtype='object')"
      ]
     },
     "execution_count": 14,
     "metadata": {},
     "output_type": "execute_result"
    }
   ],
   "source": [
    "reddit_posts.columns"
   ]
  },
  {
   "cell_type": "markdown",
   "metadata": {},
   "source": [
    "# Step 3 \n",
    "# Preprocessing / Cleaning"
   ]
  },
  {
   "cell_type": "markdown",
   "metadata": {},
   "source": [
    "## Create New Beer_1 dataframe with reduced columns"
   ]
  },
  {
   "cell_type": "code",
   "execution_count": 15,
   "metadata": {},
   "outputs": [],
   "source": [
    "beer_1 = reddit_posts[['id', 'created_utc', 'title', 'selftext', 'author', 'score', 'num_comments', 'subreddit']]"
   ]
  },
  {
   "cell_type": "code",
   "execution_count": 16,
   "metadata": {},
   "outputs": [
    {
     "data": {
      "text/html": [
       "<div>\n",
       "<style scoped>\n",
       "    .dataframe tbody tr th:only-of-type {\n",
       "        vertical-align: middle;\n",
       "    }\n",
       "\n",
       "    .dataframe tbody tr th {\n",
       "        vertical-align: top;\n",
       "    }\n",
       "\n",
       "    .dataframe thead th {\n",
       "        text-align: right;\n",
       "    }\n",
       "</style>\n",
       "<table border=\"1\" class=\"dataframe\">\n",
       "  <thead>\n",
       "    <tr style=\"text-align: right;\">\n",
       "      <th></th>\n",
       "      <th>id</th>\n",
       "      <th>created_utc</th>\n",
       "      <th>title</th>\n",
       "      <th>selftext</th>\n",
       "      <th>author</th>\n",
       "      <th>score</th>\n",
       "      <th>num_comments</th>\n",
       "      <th>subreddit</th>\n",
       "    </tr>\n",
       "  </thead>\n",
       "  <tbody>\n",
       "    <tr>\n",
       "      <th>0</th>\n",
       "      <td>ktkamt</td>\n",
       "      <td>1610168220</td>\n",
       "      <td>Getting to the bottom of my keg and it is yeas...</td>\n",
       "      <td>As the title says, I usually get 2-3 pints fro...</td>\n",
       "      <td>DeusExHircus</td>\n",
       "      <td>1</td>\n",
       "      <td>0</td>\n",
       "      <td>Homebrewing</td>\n",
       "    </tr>\n",
       "    <tr>\n",
       "      <th>1</th>\n",
       "      <td>ktjmv4</td>\n",
       "      <td>1610165646</td>\n",
       "      <td>Pressure fermentation but bottling.. a never b...</td>\n",
       "      <td>So I'm pressure fermenting in a fermzilla with...</td>\n",
       "      <td>lwrightjs</td>\n",
       "      <td>1</td>\n",
       "      <td>0</td>\n",
       "      <td>Homebrewing</td>\n",
       "    </tr>\n",
       "    <tr>\n",
       "      <th>2</th>\n",
       "      <td>ktjf7w</td>\n",
       "      <td>1610164857</td>\n",
       "      <td>Experimental DME barley wine</td>\n",
       "      <td>I have some older dry malt extract (light, dar...</td>\n",
       "      <td>bridesign34</td>\n",
       "      <td>1</td>\n",
       "      <td>0</td>\n",
       "      <td>Homebrewing</td>\n",
       "    </tr>\n",
       "    <tr>\n",
       "      <th>3</th>\n",
       "      <td>ktj15w</td>\n",
       "      <td>1610163391</td>\n",
       "      <td>Priming solution question</td>\n",
       "      <td>This is my second extract batch from northern ...</td>\n",
       "      <td>therealown</td>\n",
       "      <td>1</td>\n",
       "      <td>0</td>\n",
       "      <td>Homebrewing</td>\n",
       "    </tr>\n",
       "    <tr>\n",
       "      <th>4</th>\n",
       "      <td>ktj093</td>\n",
       "      <td>1610163294</td>\n",
       "      <td>What is the name of this simple mixed drink I'...</td>\n",
       "      <td>I made a keg of nearly 3 liters Gin, 4 gallons...</td>\n",
       "      <td>night_runs_rule</td>\n",
       "      <td>1</td>\n",
       "      <td>0</td>\n",
       "      <td>Homebrewing</td>\n",
       "    </tr>\n",
       "  </tbody>\n",
       "</table>\n",
       "</div>"
      ],
      "text/plain": [
       "       id  created_utc                                              title  \\\n",
       "0  ktkamt   1610168220  Getting to the bottom of my keg and it is yeas...   \n",
       "1  ktjmv4   1610165646  Pressure fermentation but bottling.. a never b...   \n",
       "2  ktjf7w   1610164857                       Experimental DME barley wine   \n",
       "3  ktj15w   1610163391                          Priming solution question   \n",
       "4  ktj093   1610163294  What is the name of this simple mixed drink I'...   \n",
       "\n",
       "                                            selftext           author  score  \\\n",
       "0  As the title says, I usually get 2-3 pints fro...     DeusExHircus      1   \n",
       "1  So I'm pressure fermenting in a fermzilla with...        lwrightjs      1   \n",
       "2  I have some older dry malt extract (light, dar...      bridesign34      1   \n",
       "3  This is my second extract batch from northern ...       therealown      1   \n",
       "4  I made a keg of nearly 3 liters Gin, 4 gallons...  night_runs_rule      1   \n",
       "\n",
       "   num_comments    subreddit  \n",
       "0             0  Homebrewing  \n",
       "1             0  Homebrewing  \n",
       "2             0  Homebrewing  \n",
       "3             0  Homebrewing  \n",
       "4             0  Homebrewing  "
      ]
     },
     "execution_count": 16,
     "metadata": {},
     "output_type": "execute_result"
    }
   ],
   "source": [
    "beer_1.head()"
   ]
  },
  {
   "cell_type": "markdown",
   "metadata": {},
   "source": [
    "### Summary Info"
   ]
  },
  {
   "cell_type": "code",
   "execution_count": 17,
   "metadata": {},
   "outputs": [
    {
     "name": "stdout",
     "output_type": "stream",
     "text": [
      "<class 'pandas.core.frame.DataFrame'>\n",
      "RangeIndex: 3000 entries, 0 to 2999\n",
      "Data columns (total 8 columns):\n",
      " #   Column        Non-Null Count  Dtype \n",
      "---  ------        --------------  ----- \n",
      " 0   id            3000 non-null   object\n",
      " 1   created_utc   3000 non-null   int64 \n",
      " 2   title         3000 non-null   object\n",
      " 3   selftext      2991 non-null   object\n",
      " 4   author        3000 non-null   object\n",
      " 5   score         3000 non-null   int64 \n",
      " 6   num_comments  3000 non-null   int64 \n",
      " 7   subreddit     3000 non-null   object\n",
      "dtypes: int64(3), object(5)\n",
      "memory usage: 187.6+ KB\n"
     ]
    }
   ],
   "source": [
    "beer_1.info()"
   ]
  },
  {
   "cell_type": "markdown",
   "metadata": {},
   "source": [
    "### Checking for Duplicates\n",
    "* There are none according to .duplicated()\n",
    "* however, value_counts on 'selftext' reveal a few duplicated 'selftext' values. "
   ]
  },
  {
   "cell_type": "code",
   "execution_count": 18,
   "metadata": {},
   "outputs": [
    {
     "data": {
      "text/plain": [
       "False    3000\n",
       "dtype: int64"
      ]
     },
     "execution_count": 18,
     "metadata": {},
     "output_type": "execute_result"
    }
   ],
   "source": [
    "beer_1.duplicated().value_counts()"
   ]
  },
  {
   "cell_type": "markdown",
   "metadata": {},
   "source": [
    "But alot of removed and deleted values"
   ]
  },
  {
   "cell_type": "code",
   "execution_count": 19,
   "metadata": {},
   "outputs": [],
   "source": [
    "beer_1['selftext'].value_counts().head();\n"
   ]
  },
  {
   "cell_type": "markdown",
   "metadata": {},
   "source": [
    "### Eliminating 'removed' values"
   ]
  },
  {
   "cell_type": "code",
   "execution_count": 20,
   "metadata": {},
   "outputs": [
    {
     "name": "stdout",
     "output_type": "stream",
     "text": [
      "238\n"
     ]
    }
   ],
   "source": [
    "count = 0\n",
    "for item in beer_1['selftext']:\n",
    "    if item == '[removed]':\n",
    "        count += 1\n",
    "print(count)"
   ]
  },
  {
   "cell_type": "code",
   "execution_count": 21,
   "metadata": {},
   "outputs": [],
   "source": [
    "beer_1 = beer_1[beer_1['selftext'] != '[removed]']"
   ]
  },
  {
   "cell_type": "code",
   "execution_count": 22,
   "metadata": {},
   "outputs": [
    {
     "name": "stdout",
     "output_type": "stream",
     "text": [
      "0\n"
     ]
    }
   ],
   "source": [
    "count = 0\n",
    "for item in beer_1['selftext']:\n",
    "    if item == '[removed]':\n",
    "        count += 1\n",
    "print(count)"
   ]
  },
  {
   "cell_type": "markdown",
   "metadata": {},
   "source": [
    "### Eliminating 'deleted' values"
   ]
  },
  {
   "cell_type": "code",
   "execution_count": 23,
   "metadata": {},
   "outputs": [
    {
     "name": "stdout",
     "output_type": "stream",
     "text": [
      "14\n"
     ]
    }
   ],
   "source": [
    "count = 0\n",
    "for item in beer_1['selftext']:\n",
    "    if item == '[deleted]':\n",
    "        count += 1\n",
    "print(count)"
   ]
  },
  {
   "cell_type": "code",
   "execution_count": 24,
   "metadata": {},
   "outputs": [],
   "source": [
    "beer_1 = beer_1[beer_1['selftext'] != '[deleted]']"
   ]
  },
  {
   "cell_type": "code",
   "execution_count": 25,
   "metadata": {},
   "outputs": [
    {
     "name": "stdout",
     "output_type": "stream",
     "text": [
      "0\n"
     ]
    }
   ],
   "source": [
    "count = 0\n",
    "for item in beer_1['selftext']:\n",
    "    if item == '[deleted]':\n",
    "        count += 1\n",
    "print(count)"
   ]
  },
  {
   "cell_type": "markdown",
   "metadata": {},
   "source": [
    "Resetting index again to account for dropped values"
   ]
  },
  {
   "cell_type": "code",
   "execution_count": 26,
   "metadata": {},
   "outputs": [],
   "source": [
    "beer_1.reset_index(inplace = True)"
   ]
  },
  {
   "cell_type": "markdown",
   "metadata": {},
   "source": [
    "### Checking Null Values\n",
    "* 8 null values in selftext"
   ]
  },
  {
   "cell_type": "code",
   "execution_count": 27,
   "metadata": {},
   "outputs": [
    {
     "data": {
      "image/png": "[encoded data removed]",
      "text/plain": [
       "<Figure size 1728x720 with 3 Axes>"
      ]
     },
     "metadata": {
      "needs_background": "light"
     },
     "output_type": "display_data"
    }
   ],
   "source": [
    "msno.bar(beer_1);"
   ]
  },
  {
   "cell_type": "markdown",
   "metadata": {},
   "source": [
    "### Removing Null Values"
   ]
  },
  {
   "cell_type": "code",
   "execution_count": 28,
   "metadata": {},
   "outputs": [],
   "source": [
    "beer_1 = beer_1.dropna()"
   ]
  },
  {
   "cell_type": "code",
   "execution_count": 29,
   "metadata": {},
   "outputs": [
    {
     "data": {
      "image/png": "[encoded data removed]",
      "text/plain": [
       "<Figure size 1728x720 with 3 Axes>"
      ]
     },
     "metadata": {
      "needs_background": "light"
     },
     "output_type": "display_data"
    }
   ],
   "source": [
    "msno.bar(beer_1);"
   ]
  },
  {
   "cell_type": "markdown",
   "metadata": {},
   "source": [
    "### Checking Value Counts\n",
    "* [X] Looks like [removed] and [deleted] posts are taking up some of the values and reducing the percentage of unique values. \n",
    "* [X] There's a few other repeated values as well that need to be handle. The weekly Q&A is one. "
   ]
  },
  {
   "cell_type": "code",
   "execution_count": 30,
   "metadata": {},
   "outputs": [
    {
     "data": {
      "text/plain": [
       "                                                                                                                                                                                                                                                                                                                                                                                                                                                                                                                                                                                                                                                                                                                                                                                                                                                                                                                                                                                                                                                                                                                                                                                                                                                                                                                                                                                                                                                                                                                                                                                                                                                                                                                                                                                                                                                                                                                                                                                                                                                                                                                                                                                                                                                                                                                                                                                                                                           269\n",
       "Welcome to the daily Q &amp; A!\\n\\n* Have we been using some weird terms?\\n* Is there a technique you want to discuss?\\n* Just have a general question?\\n* Read the side bar and still confused?\\n* Pretty sure you've infected your first batch?\\n* Did you boil the hops for 17.923 minutes too long and are sure you've ruined your batch?\\n* Did you try to chill your wort in a snow bank?\\n* Are you making the next pumpkin gin?\\n\\nWell ask away! No question is too \"noob\" for this thread. No picture is too tomato to be evaluated for infection! Seriously though, take a good picture or two if you want someone to give a good visual check of your beer.\\n\\nAlso be sure to use upbeers to vote on answers in this thread. Upvote a reply that you know works from experience and don't feel the need to throw out \"thanks for answering!\" upvotes. That will help distinguish community trusted advice from hearsay... at least somewhat!                                                                                                                                                                                                                                                                                                                                                                                                                                                                                                                                                                                                                                                                                                                                                                                                                                                                                                                                                                                                                                                                                                                                                                                                                                                                                                                                                                                                                                                                                   50\n",
       "Welcome to our weekly flaunt your rig thread, if you want to show off your brewing setups this is the place to do it!                                                                                                                                                                                                                                                                                                                                                                                                                                                                                                                                                                                                                                                                                                                                                                                                                                                                                                                                                                                                                                                                                                                                                                                                                                                                                                                                                                                                                                                                                                                                                                                                                                                                                                                                                                                                                                                                                                                                                                                                                                                                                                                                                                                                                                                                                                                        9\n",
       "This weekly thread is for anyone who decides to brew through a recipe collection, like a book. Join in any time!\\n\\nYou don't have to brew only from your declared collection. nor brew more often than normal. You're not prohibited from just having your own threads if you prefer. Check out [past weekly threads](http://www.reddit.com/r/homebrewing/search?q=\"brew+the+book\"&amp;sort=new&amp;restrict_sr=on) if you're trying to catch up on what is going on. We also have a [community page for Brew the Book](http://www.reddit.com/r/homebrewing/community/BTB)!\\n\\nEvery recipe can generate at least four status updates: (1) recipe planning, (2) brew day, (3) packaging day, and (4) tasting. Maybe even more. You post those status updates in this thread. If you're participating in this thread for the first time this year (other than as a commenter), please declare the recipe collection you're working from here or contact a moderator.\\n\\nThis thread will help keep you on track with your goal and be informative for the rest of us. It's simple and fun!                                                                                                                                                                                                                                                                                                                                                                                                                                                                                                                                                                                                                                                                                                                                                                                                                                                                                                                                                                                                                                                                                                                                                                                                                                                                                                                                                   8\n",
       "Have the next best recipe since Pliny the Elder, but want reddit to check everything over one last time? Maybe your house beer recipe needs that final tweak, and you want to discuss. Well, this thread is just for that! All discussion for style and recipe formulation is welcome, along with, but not limited to:\\n\\n* Ingredient incorporation effects\\n* Hops flavor / aroma / bittering profiles\\n* Odd additive effects\\n* Fermentation / Yeast discussion\\n\\nIf it's about your recipe, and what you've got planned in your head - let's hear it!                                                                                                                                                                                                                                                                                                                                                                                                                                                                                                                                                                                                                                                                                                                                                                                                                                                                                                                                                                                                                                                                                                                                                                                                                                                                                                                                                                                                                                                                                                                                                                                                                                                                                                                                                                                                                                                                                  7\n",
       "You've had a week, what's your situation report? Feel free to include ~~drunken~~ recipes, ~~drunken~~ stories, or any other ~~drunken~~ information you'd like.\\n\\n___\\n\\n**Post your sitrep here!**\\n\\n\\*\\*What I Did Last Week:**  \\n\\*\\*Primary:**  \\n\\*\\*Secondary:**  \\n\\*\\*Bottle Conditioning/Force Carbonating:**  \\n\\*\\*Kegs/Bottles:**  \\n\\*\\*In Planning:**  \\n\\*\\*Active Projects:**  \\n\\*\\*Other:**\\n\\nInclude recipes, stories, or any other information you'd like.\\n\\n___\\n\\n**Tip for those who have a lot to post**: Click edit on your post from a [past Sitrep Monday!](http://www.reddit.com/r/Homebrewing/search?q=Sitrep+Monday+flair%3AWeekly%2BThread&amp;restrict_sr=on&amp;sort=new&amp;t=all).                                                                                                                                                                                                                                                                                                                                                                                                                                                                                                                                                                                                                                                                                                                                                                                                                                                                                                                                                                                                                                                                                                                                                                                                                                                                                                                                                                                                                                                                                                                                                                                                                                                                                                                  7\n",
       "The once a week thread where (just about) anything goes! Post pictures, stories, nonsense, or whatever you can come up with. Surely folks have a lot to talk about today.\\n\\nIf you want to get some ideas you can always check out a [past Free-For-All Friday](http://www.reddit.com/r/Homebrewing/search?q=Free+For+All+Friday+flair%3AWeekly%2BThread&amp;restrict_sr=on&amp;sort=new&amp;t=all).                                                                                                                                                                                                                                                                                                                                                                                                                                                                                                                                                                                                                                                                                                                                                                                                                                                                                                                                                                                                                                                                                                                                                                                                                                                                                                                                                                                                                                                                                                                                                                                                                                                                                                                                                                                                                                                                                                                                                                                                                                        6\n",
       "Welcome to the daily Q&amp;A!\\n\\n\\n\\n* Have we been using some weird terms?     \\n* Is there a technique you want to discuss?     \\n* Just have a general question?     \\n* Read the side bar and still confused?     \\n* Pretty sure you've infected your first batch?     \\n* Did you boil the hops for 17.923 minutes too long and are sure you've ruined your batch?     \\n* Did you try to chill your wort in a snow bank?     \\n* Are you making the next pumpkin gin?      \\n\\n&amp;#x200B;\\n\\nWell ask away! No question is too \"noob\" for this thread. No picture is too tomato to be evaluated for infection! Seriously though, take a good picture or two if you want someone to give a good visual check of your beer.      \\n\\nAlso, be sure to vote on answers in this thread. Upvote a reply that you know works from experience and don't feel the need to throw out \"thanks for answering!\" upvotes. That will help distinguish community trusted advice from hearsay... at least somewhat!                                                                                                                                                                                                                                                                                                                                                                                                                                                                                                                                                                                                                                                                                                                                                                                                                                                                                                                                                                                                                                                                                                                                                                                                                                                                                                                                                                                                                                 6\n",
       "Can you guess what language God Jul is?\\n\\nhttps://www.instagram.com/p/CJKbxHKlFtU/?igshid=j34ghr7dl4sg                                                                                                                                                                                                                                                                                                                                                                                                                                                                                                                                                                                                                                                                                                                                                                                                                                                                                                                                                                                                                                                                                                                                                                                                                                                                                                                                                                                                                                                                                                                                                                                                                                                                                                                                                                                                                                                                                                                                                                                                                                                                                                                                                                                                                                                                                                                                      2\n",
       "Since I started brewing, I avoided thinking about water chemistry despite all of the evidence that it's one of the most important parts of beer. Then yesterday I tasted the water profile series from Mikkelier: four pilsners brewed with four different water profiles. Not only was the difference immediately obvious, but one of the beers was downright disgusting (Pacific profile).\\n\\nWhat was really interesting about this test specifically is that it was a simple pale pilsner, so there was nothing else to mask how the water flavor influenced the beer. I highly recommend you get your hands on these or try to do a similar water profile taste test. It'll change how you brew forever.\\n\\nI've learned that I need to pay a lot more attention to water chemistry.                                                                                                                                                                                                                                                                                                                                                                                                                                                                                                                                                                                                                                                                                                                                                                                                                                                                                                                                                                                                                                                                                                                                                                                                                                                                                                                                                                                                                                                                                                                                                                                                                                                    2\n",
       "I recently purchased a Great Lakes Brewing Company Christmas Ale all grain clone kit from Adventures In Homebrewing. I like the actual beer, but have for years thought a little cranberry in it would be nice. Lo and behold, AiH just had some cranberry purée on sale for Black Friday, so I picked up a 49oz can. How much of this purée should I add to a 5 gallon recipe? When would be the best time to add to my fermenter and what would be a ballpark time to allow the sugars to ferment out before bottling? Anything else I should know about adding cranberry purée?                                                                                                                                                                                                                                                                                                                                                                                                                                                                                                                                                                                                                                                                                                                                                                                                                                                                                                                                                                                                                                                                                                                                                                                                                                                                                                                                                                                                                                                                                                                                                                                                                                                                                                                                                                                                                                                           2\n",
       "Who is into beer history? I would say I love history so I am very excited to share this episode with all of you. In this episode, I talked to Sara Toth Stub, a journalist. We talked about her article for Sapiens magazine about archeologists that recreated an ancient beer with yeasts discovered from clay pots.\\n\\n&amp;#x200B;\\n\\n[https://homebrewingdiy.beer/index.php/2020/12/26/episode-68-recreating-an-ancient-beer-with-sara-toth-stub/](https://homebrewingdiy.beer/index.php/2020/12/26/episode-68-recreating-an-ancient-beer-with-sara-toth-stub/)                                                                                                                                                                                                                                                                                                                                                                                                                                                                                                                                                                                                                                                                                                                                                                                                                                                                                                                                                                                                                                                                                                                                                                                                                                                                                                                                                                                                                                                                                                                                                                                                                                                                                                                                                                                                                                                                         2\n",
       "I got my cheap Home Depot fridge (Magic Chef 4.4 cubic ft fridge) set up as a kegerator. The door wouldn't quite close with 2 kegs, so I made a little grove where the protruding keg was by digging out some insulation and it was fine. I got both my taps on the door, the tubing all plugged in, so I was ready to go.\\n\\nI had one keg of beer. I had pressure fermented in the keg, and it held pressure fine, so I knew the keg was good. This was my very first time with kegs and co2, so I was a bit nervous. I had the regulator hooked up to the tank and then to a manifold and then the keg. The valves on The regulator and manifold all closed. I release the co2 from the tank. Regulator gauges go up. spray everything with starsan. Looks good. Open regulator valve. Spray again. Looks good. Open manifold valve to keg. Now there's a loud hissing from the keg. Not feeling good about the sound, but my research told me there would be noise when the keg is carbonating. Spray everything again. Seems okay. Pull some beer from the tap. Comes out fine, but the beer is, of course, kind if flat. Still worried about the hissing, but tell myself I'm just overthinking it. Make sure psi is set where I want, then I close the fridge and walk away.\\n\\nThat evening I go to check on it. No more hissing = good sign? Pull on the tap. Not a drop. regulator gauges at zero. Pull on keg release  valve and there is zero pressure in the keg. Nothing at all. Wherever the leak was, it has to be in the keg, and big enough to empty a 5lb tank in a few hours. Did I not put the disconnect on right? Until I get more co2 I won't know, but it's such a disheartening mishap, especially for a beginner. Maybe my starsan was old and not bubbly enough to indicate leaks. Should I use soapy water?\\n\\nWhat can I do to keep my second attempt from turning out the same way?                                                                                                                                                                                                                                                                                                                                                                                                                                                                                                                           2\n",
       "The once a week thread where (just about) anything goes! Post pictures, stories, nonsense, or whatever you can come up with. Surely folks have a lot to talk about today.      If you want to get some ideas you can always check out a \\[past Free-For-All Friday\\](http://www.reddit.com/r/Homebrewing/search?q=Free+For+All+Friday+flair%3AWeekly%2BThread&amp;restrict\\_sr=on&amp;sort=new&amp;t=all).                                                                                                                                                                                                                                                                                                                                                                                                                                                                                                                                                                                                                                                                                                                                                                                                                                                                                                                                                                                                                                                                                                                                                                                                                                                                                                                                                                                                                                                                                                                                                                                                                                                                                                                                                                                                                                                                                                                                                                                                                                   2\n",
       "This is more of a PSA than anything else. My bottle of Star San is useless now.  I opened it up and saw some black stuff floating inside the bottle.  Futher inspection revealed it was the black letters from the seal floating in the bottle.  Bummer because it was a 90% full bottle.  I just reached out to the company so I'll update if I hear back but save yourself the trouble!\\n\\nHas anyone else experienced this?                                                                                                                                                                                                                                                                                                                                                                                                                                                                                                                                                                                                                                                                                                                                                                                                                                                                                                                                                                                                                                                                                                                                                                                                                                                                                                                                                                                                                                                                                                                                                                                                                                                                                                                                                                                                                                                                                                                                                                                                               2\n",
       "Theres a Brewing TV episode were Dawson and Keeler brew different beers that the other doesn't know about all to test each other. \\n\\nDawson brews outside with propane and makes a Belgian beer with Pils and dark candi syrup.\\n\\nKeeler brews inside but I can't remember what he brews.\\n\\nEnd of the episode is them figuring out what the other brewed. \\n\\nI really want to watch this episode but I can't find it or remember the name.\\n\\nCheers and Happy New Years!                                                                                                                                                                                                                                                                                                                                                                                                                                                                                                                                                                                                                                                                                                                                                                                                                                                                                                                                                                                                                                                                                                                                                                                                                                                                                                                                                                                                                                                                                                                                                                                                                                                                                                                                                                                                                                                                                                                                                               1\n",
       "First off, Merry Christmas/Happy Holidays to all homebrewing brothers and sisters!\\n\\nI made a chocolate stout for the season for the first time. It tastes fantastic but there's a ton of suspended sediment in it. Wondering if that's just the cocoa or not?\\n\\nI put 4 oz cocoa nibs (forgot to roast them though) in a tincture of bourbon for about a week before adding the liquid, strained, into my primary. Let it sit for a couple days then cold crashed at 32F for 2 days, then it sat at 45F for 3 or 4 days before I closed transferred to a keg. \\n\\nThis process has served me well for other beers but as I said, this time the beer is very \"dirty\"? Is that harmful? Is it the cocoa? Should I leave it be and enjoy or try gelatin?\\n\\nThanks!                                                                                                                                                                                                                                                                                                                                                                                                                                                                                                                                                                                                                                                                                                                                                                                                                                                                                                                                                                                                                                                                                                                                                                                                                                                                                                                                                                                                                                                                                                                                                                                                                                                                          1\n",
       "All,\\n\\nI am new to this. I am wondering what the best kit to purchase is. Hoping to get brewing.\\n\\nLook forward to interacting with this community.                                                                                                                                                                                                                                                                                                                                                                                                                                                                                                                                                                                                                                                                                                                                                                                                                                                                                                                                                                                                                                                                                                                                                                                                                                                                                                                                                                                                                                                                                                                                                                                                                                                                                                                                                                                                                                                                                                                                                                                                                                                                                                                                                                                                                                                                                        1\n",
       "Saw something weird on the keg coming off the hose as it goes in, any ideas? Looks like an oil spill.. Left over sanitizer?  https://imgur.com/gallery/hKZ29od                                                                                                                                                                                                                                                                                                                                                                                                                                                                                                                                                                                                                                                                                                                                                                                                                                                                                                                                                                                                                                                                                                                                                                                                                                                                                                                                                                                                                                                                                                                                                                                                                                                                                                                                                                                                                                                                                                                                                                                                                                                                                                                                                                                                                                                                               1\n",
       "I've got a clone of Avery Old Jubilation Ale in the fermenter right now, and I'm wondering what a good carbonation for it would be. Never brewed this style before and it's been so long since I tried Old Jubilation that I can't remember much about what it's like                                                                                                                                                                                                                                                                                                                                                                                                                                                                                                                                                                                                                                                                                                                                                                                                                                                                                                                                                                                                                                                                                                                                                                                                                                                                                                                                                                                                                                                                                                                                                                                                                                                                                                                                                                                                                                                                                                                                                                                                                                                                                                                                                                        1\n",
       "I got belgian trippel mix: https://www.amazon.com/dp/B07YCP2F6K?ref=ppx_pop_mob_ap_share\\n\\nI wanted to doctor with some pears and stonefruit that is on its way out (typically just do then in the boil with the hops). This recipe basically just has me get the wort warm enough to dissolve some sugar water to up the ABV. Should I do a small boil anyway, or should I just put the fruit in the fermentation bucket? Or should I just do the instructions?\\n\\nThanks for helping a novice out, this is only gonna be my 3rd batch.                                                                                                                                                                                                                                                                                                                                                                                                                                                                                                                                                                                                                                                                                                                                                                                                                                                                                                                                                                                                                                                                                                                                                                                                                                                                                                                                                                                                                                                                                                                                                                                                                                                                                                                                                                                                                                                                                                    1\n",
       "Hello everyone, I was getting ready to make some mead when my sister asked if she could try making something and picked a recipe for cherry red ale from my book.  I've only done cider, mead, and one wine myself but did a beer with a local club a few months so decided to give it a try.  My conundrum is that for the stuff I've made in the past I can easily buy the ingredients for one gallon batches but for beer I've had a bit more trouble finding malt and hops in small enough quantities that I won't have a lot left over wasted.  Specifically I need like 1.25lbs of malt extract and only 5g total of hops.  Does anyone know where I can find ingredients in these quantities?  Otherwise does anyone know how best to store DME and hops?  I've the malt I need in the exact amount, the malt extract in 1lb and 1.125lbs, and hops in 1oz.  I'd be ok buying extra if I know I could store it for later but don't want to buy an oz of hops just to use 2g of one and 3g of another.                                                                                                                                                                                                                                                                                                                                                                                                                                                                                                                                                                                                                                                                                                                                                                                                                                                                                                                                                                                                                                                                                                                                                                                                                                                                                                                                                                                                                                 1\n",
       "Finished my quickest brew day ever yesterday. All grain 5 gallon started at 10:40 am and done including cleaning at 2:45 pm. Well, when I say cleaning I do mean my boil kettle sat in PBW over night but other than that, yeast pitched and workstation clean by 2:45 pm.                                                                                                                                                                                                                                                                                                                                                                                                                                                                                                                                                                                                                                                                                                                                                                                                                                                                                                                                                                                                                                                                                                                                                                                                                                                                                                                                                                                                                                                                                                                                                                                                                                                                                                                                                                                                                                                                                                                                                                                                                                                                                                                                                                   1\n",
       "I had a crazy idea last night - has anyone ever conditioned their beer in a seltzer bottle or a soda siphon? I don't mean to inject CO2 using a cartridge, necessarily, but if you just put your primed beer in there and let the pressure build up, would it actually result in carbonated beer or am I missing something?                                                                                                                                                                                                                                                                                                                                                                                                                                                                                                                                                                                                                                                                                                                                                                                                                                                                                                                                                                                                                                                                                                                                                                                                                                                                                                                                                                                                                                                                                                                                                                                                                                                                                                                                                                                                                                                                                                                                                                                                                                                                                                                  1\n",
       "As a (drunk) practitioner I just had a thought, if you have diabetes you will be excreting glucose in your urine because you don't have the insulin necessary to absorb glucose into your tissues. The normal range for specific gravity of urine is 1.005-1.030, so if you piss into your hydrometer + graduated cylinder and you get a gravity reading above 1.030, might want to go to the doc and get labs done. Yay homebrewing!!                                                                                                                                                                                                                                                                                                                                                                                                                                                                                                                                                                                                                                                                                                                                                                                                                                                                                                                                                                                                                                                                                                                                                                                                                                                                                                                                                                                                                                                                                                                                                                                                                                                                                                                                                                                                                                                                                                                                                                                                       1\n",
       "I am a lot of emotions right now.\\n\\nIs mash PH the most mythical concept in homebrewing that we're all afraid to address? I've been doing a lot of research and get some conflicting answers everywhere I look. I have an Apera Instruments digital PH meter with ATC (automatic temperature control). \\n\\nFrom what I understand, **mash PH is lower at true mash temps (152F) than our collected sample cooled to room temp (65F).** Meaning to truly understand our hot mash PH, we need to correct for temp REGARDLESS if our PH meter has ATC functionality built-in. John Palmer suggests we should subtract 0.35 from our room temp PH reading to get our TRUE mash PH.\\n\\nSo if my room temp mash PH (taken at 65F) is 5.7, we must subtract 0.35 to get our actual mash PH of 5.35. **This is the number we actually want.**\\n\\n**My process now is:**\\n\\n1. I take my first mash PH reading after a 10-minute rest after mashing in.\\n2. I draw off a sample and let it cool to 60-70 degrees F.\\n3. I take a PH reading and let's say it 5.7.\\n4. I subtract 0.35 and determine mash PH is actually 5.35.\\n5. I celebrate and or make any acid adjustments from here if needed.\\n\\nI'm assuming that ATC only helps us compensate for our room temp reading and it's not actually correcting for a true hot mash reading. If I were to take a direct PH reading in my hot mash with my digital meter I would 1. probably destroy the meter, and 2. get a truly accurate reading. Hooray.\\n\\nDoes this jive with what everyone else agrees on? Would love to argue about this.\\n\\n**PH RANGE CORRECTION**\\n\\n5.35-6.05 at room temp = 5-5.7 at mash temp                                                                                                                                                                                                                                                                                                                                                                                                                                                                                                                                                                                                                                                                                                                                                                          1\n",
       "Are you looking to buy your first pH meter? Upgrade your current pH meter? Interested in one of the best pH meters(IMO) on the market, for the price?\\n\\nI did a review on the Milwaukee MW102 pH meter. Been using it for 2 years, giving my honest feed back along with the pro/cons to it.\\n\\nHope you all enjoy and it helps you decide on the pH meter you purchase.\\n\\nhttps://youtu.be/2STMgDmSbvY                                                                                                                                                                                                                                                                                                                                                                                                                                                                                                                                                                                                                                                                                                                                                                                                                                                                                                                                                                                                                                                                                                                                                                                                                                                                                                                                                                                                                                                                                                                                                                                                                                                                                                                                                                                                                                                                                                                                                                                                                                    1\n",
       "I got [this bottle](https://imgur.com/a/3ahSSJd) from my mom, which was originally a vodka bottle. Is this safe for carbonation?                                                                                                                                                                                                                                                                                                                                                                                                                                                                                                                                                                                                                                                                                                                                                                                                                                                                                                                                                                                                                                                                                                                                                                                                                                                                                                                                                                                                                                                                                                                                                                                                                                                                                                                                                                                                                                                                                                                                                                                                                                                                                                                                                                                                                                                                                                             1\n",
       "How many of you have switched from 5 to 3 or less gallon batches? I’m at the point where I’m unmotivated to finish most kegs and always want to move onto something else. Any advice on downsizing? Does it make sense to buy some 3 gallon kegs?                                                                                                                                                                                                                                                                                                                                                                                                                                                                                                                                                                                                                                                                                                                                                                                                                                                                                                                                                                                                                                                                                                                                                                                                                                                                                                                                                                                                                                                                                                                                                                                                                                                                                                                                                                                                                                                                                                                                                                                                                                                                                                                                                                                            1\n",
       "So I want to make mead that is obvious , now i have some few questions.\\n\\nFirst this is what I am using , homemade honey , fresh spring water , star san hb (as a sterilizer) , wine yeast ( 18% - yes I want my honey wine real dry ) , 5 liter glass balloons , and few airlocks ( spiral ones ). For yeast nutrient I am using resins. \\n\\nI did all of my research and I know the 2 most important things how clean everything is and quality of  ingredients. So my main questions come in a way of some tips and trick from more experienced homebrewers and also few questions about safety.\\n\\nNow first if u have any tips and tricks for this process leave them in this thread.\\n\\nFor questions about safety main one can i get poisoned by my mead with methanol or some bacteria . Also how do i test quality of my mead and how do I know what it should taste like and what is bad with it ( I can't by mead in my country or my region it's really rare).                                                                                                                                                                                                                                                                                                                                                                                                                                                                                                                                                                                                                                                                                                                                                                                                                                                                                                                                                                                                                                                                                                                                                                                                                                                                                                                                                                                                                                                                  1\n",
       "Curious if anyone has any input on The Alchemist water profile. Brewing a Focal inspired beer tomorrow and all I'm seeing is pontification on the documented 750 hardness.                                                                                                                                                                                                                                                                                                                                                                                                                                                                                                                                                                                                                                                                                                                                                                                                                                                                                                                                                                                                                                                                                                                                                                                                                                                                                                                                                                                                                                                                                                                                                                                                                                                                                                                                                                                                                                                                                                                                                                                                                                                                                                                                                                                                                                                                   1\n",
       "Hey guys,\\nGoing a bit insane here but registered device, but it appears as offline with current mode: waiting.\\nIt seems I need to add ip but there is no way for me to do so\\nAny suggestions?                                                                                                                                                                                                                                                                                                                                                                                                                                                                                                                                                                                                                                                                                                                                                                                                                                                                                                                                                                                                                                                                                                                                                                                                                                                                                                                                                                                                                                                                                                                                                                                                                                                                                                                                                                                                                                                                                                                                                                                                                                                                                                                                                                                                                                             1\n",
       "Looking to get some feedback on Immersion Chillers. If there are any recommendations for a brand etc. I have been debating the route of an immersion Chiller for my 6.5 gal. Carboys vs. getting a chest freezer and retrofitting with a temperature controller for fermentation temperature control. \\n\\nJust looking for recommendations and any good/bad experience with using an immersion Chiller.                                                                                                                                                                                                                                                                                                                                                                                                                                                                                                                                                                                                                                                                                                                                                                                                                                                                                                                                                                                                                                                                                                                                                                                                                                                                                                                                                                                                                                                                                                                                                                                                                                                                                                                                                                                                                                                                                                                                                                                                                                      1\n",
       "I've been frustrated lately with my beers, either with low efficiency or not hitting the correct volumes. But today I was right on the money. I even checked the sparging gravity and was at 1.016, so I could have squeezed some more sugars out. If there's a moral, I guess it's keep going, though I know nobody here was really contemplating giving up!\\n\\nAnyways, today's beer is a stout that I'm also adding oak cubes that have been sitting on JB for a month. There's still a chance for a mishap, but I'm happy I got the brewhouse process today.\\n\\n 8 lbs pale\\n  \\n 5 lbs Munich\\n\\n 1 lb special B\\n \\n 1 lb choc\\n \\n .5 lb roasted barley for the last ten minutes of the mash\\n\\nOG was 1.071, yeast is S04. 43 IBU coming from .9 oz Simcoe with a 90 minute boil. I may have been able to boil a tad more, but I'd rather have a little extra in the kettle than be well under 5.5 gallons.  \\n\\nThe real science here is that I'm adding the 1.5 oz oak cubes with the yeast, and I'm going to give it about 2 weeks until I give it a taste. RDWHAHB.                                                                                                                                                                                                                                                                                                                                                                                                                                                                                                                                                                                                                                                                                                                                                                                                                                                                                                                                                                                                                                                                                                                                                                                                                                                                                                                                                              1\n",
       "Title says it- setting up my next Saison and I have a wild desire to use more rare bergamot orange peels, as opposed to the typical lemon or bitter orange peel. \\n\\nMost of the sources I’ve come across are essential oils or a mint family herb called bergamot. \\n\\nIf anyone has heard of it or where to find it, I would appreciate it 🍺                                                                                                                                                                                                                                                                                                                                                                                                                                                                                                                                                                                                                                                                                                                                                                                                                                                                                                                                                                                                                                                                                                                                                                                                                                                                                                                                                                                                                                                                                                                                                                                                                                                                                                                                                                                                                                                                                                                                                                                                                                                                                               1\n",
       "Trying my hand at making a Troeg's First Cut attempt because mango IPA's are delicious. [Found this brewersfriend recipe that someone had uploaded](https://www.brewersfriend.com/homebrew/recipe/view/619497/first-cut-ipa), and was wondering what you guys thought of it compared to a recipe that I had concocted based on my limited knowledge and the irresponsible amounts of First Cut I drank last spring. Here's my recipe, what do you guys think?\\n\\n\\*\\*\\*\\*\\*\\*\\*\\*\\*\\*\\*\\*\\*\\*\\*\\*\\*\\*\\*\\*\\*\\*\\*\\*\\*\\*\\*\\*\\*\\*\\*\\*\\*\\*\\*\\*\\*\\*\\*\\*\\*\\*\\*\\*\\*\\*\\*\\*\\*\\*\\*\\*\\*\\*\\*\\*\\*\\*\\*\\*\\*\\*\\*\\*\\*\\*\\*\\*\\*\\*\\*\\*\\*\\*\\*\\*\\*\\*\\*\\*\\*\\*\\*\\*\\*\\*\\*\\n\\n  \\n\\n**First Cut Attempt #1**\\n\\nMy take on Troeg’s First Cut. Doing two, one-hour BRIAB sessions for better attenuation. Aiming for at least 6.2% ABV and 45 IBU, but not opposed to a higher abv percent. \\n\\n**WHAT I KNOW ABOUT FIRST CUT:**\\n\\n\\- Uses Crystal, Pilsner and Munich malts\\n\\n\\- Official site claims that it uses just comet and simcoe hops, but past promotional material mentions mosaic as well. \\n\\n\\- Some Untappd entries for the scratch version of it mention only simcoe in secondary. Would I only use simcoe in secondary and just comet for boil and whirlpool? Maybe.\\n\\n\\- Mangoes used at some point. Probably a secondary edition (5 pounds a good starting point with dryhops?)\\n\\nTarget OG: 1.06-1.08 range, but not too picky if it tastes good.\\n\\nTarget FG: 1.01\\n\\n**DON’T FORGET TO ADD ONE TEASPOON OF LACTIC ACID 88% TO WATER**\\n\\n**BRIAB #1 (60 Minutes):**\\n\\nWeyermann - Pilsner  8 lb\\n\\nBriess - Caracrystal Wheat Malt 2 lb\\n\\nAvangard Malz - Premium Munich Malt Light 8L 2 lb\\n\\n**BRIAB #2 (60 Minutes):**\\n\\nWeyermann - Pilsner  8 lb\\n\\nBriess - Caracrystal Wheat Malt 2 lb\\n\\nAvangard Malz - Premium Munich Malt Light 8L 2 lb\\n\\n**ROUGHLY 24-25 LBS OF GRAIN ALTOGETHER.** \\n\\n**Hops/Fermentable:** **60 MINUTE BOIL**\\n\\n1 Oz Comet 30 Minute Boil (26-35 IBU)\\n\\n1 Oz Simcoe 5 Minute Boil (8-9.5 IBU)\\n\\n2 Oz Simcoe Whirlpool 10-15 mins (3-4 IBU)\\n\\n1 Oz Comet Whirlpool 10-15 mins (1-2 IBU)\\n\\n4 Oz Simcoe Dryhop 7-14 Days\\n\\n5 lb Sanitized/pureed mangoes. Secondary 7-14 Days with dryhops until stable gravity.\\n\\n**Overall IBU looking to be in the 38-50.5 IBU range. Depends on what Alpha Acids of hops I buy are at**\\n\\nUsing 23 Grams US-05 Safale again, If it ain’t broke don’t fix it.      1\n",
       "I'm looking at various methods of cooling down my fermenters- i live in south TX so even in winter Temps can get a little high. I don't have the funds to invest in a fridge or chest freezer anytime soon. What cooling systems do y'all like?                                                                                                                                                                                                                                                                                                                                                                                                                                                                                                                                                                                                                                                                                                                                                                                                                                                                                                                                                                                                                                                                                                                                                                                                                                                                                                                                                                                                                                                                                                                                                                                                                                                                                                                                                                                                                                                                                                                                                                                                                                                                                                                                                                                              1\n",
       "[https://imgur.com/a/DlnZ538](https://imgur.com/a/DlnZ538) \\n\\nI guess I'm finally getting OCD with how much I can extract out of my plastic fermenters/bottling bucket, and am getting tired of tipping them to get the last bits out... still with trub.  \\n\\nI probably *really* should have checked here first, but I bought a pair of these here: [https://www.ontariobeerkegs.com/S\\_S\\_2\\_Piece\\_Ball\\_Valve\\_With\\_Racking\\_Arm\\_1\\_2\\_NPT\\_p/2pc-ball-valve-racking-arm.htm](https://www.ontariobeerkegs.com/S_S_2_Piece_Ball_Valve_With_Racking_Arm_1_2_NPT_p/2pc-ball-valve-racking-arm.htm)\\n\\nBut, as I learned once I got them, the ports in my plastic fermenters is 1\" across, while the OD of these 1/2\" threads is (clearly) smaller: So gaps and leaks:  Had to pick up these washers from McMaster-Carr, and this sorted it: [https://www.mcmaster.com/99604A129/](https://www.mcmaster.com/99604A129/)\\n\\nThen plugged these into the end of them, since I use 1/2\" silicon tube for everything: [https://www.morebeer.com/products/brass-barb-12-mpt.html](https://www.morebeer.com/products/brass-barb-12-mpt.html)\\n\\nBrewing on sat, bottling two weeks after, we'll see how it goes. \\n\\nPer above : Anyone else have something similar for their plastic fermenters?  Maybe something... *plastic?*  I did a *lot* of searching and couldn't come up with anything.                                                                                                                                                                                                                                                                                                                                                                                                                                                                                                                                                                                                                                                                                                                                                                                                                                                                                                                                                                                                                                               1\n",
       "I recently acquired some used whiskey barrels and I would like to incorporate them on my next batch and could use some tips and advice on when and how to use them.  Any information would be greatly appreciated.                                                                                                                                                                                                                                                                                                                                                                                                                                                                                                                                                                                                                                                                                                                                                                                                                                                                                                                                                                                                                                                                                                                                                                                                                                                                                                                                                                                                                                                                                                                                                                                                                                                                                                                                                                                                                                                                                                                                                                                                                                                                                                                                                                                                                           1\n",
       "Would you say it’s super important to have separate equipment for souring?? What about for kettle souring, or even using the new Philly Sour? I have a glass carboy so I know some people who sour beers in buckets DEFINITELY have a separate souring bucket... but what about everything else? I know this is a complex question but man, one day I will sour a beer... one day.                                                                                                                                                                                                                                                                                                                                                                                                                                                                                                                                                                                                                                                                                                                                                                                                                                                                                                                                                                                                                                                                                                                                                                                                                                                                                                                                                                                                                                                                                                                                                                                                                                                                                                                                                                                                                                                                                                                                                                                                                                                           1\n",
       "I've already ask a question about this recipe but I have a last question : ( It's my first batch by myself, so I just want to be sure to do the right thing)\\n\\n[https://www.brewersfriend.com/homebrew/recipe/view/263557/easy-blonde-ale](https://www.brewersfriend.com/homebrew/recipe/view/263557/easy-blonde-ale)\\n\\n&amp;#x200B;\\n\\nIn  this recipe the starting mash thickness is 1.5 qt/lb. There is 9lb of Fermentable so the starting mash thickness would be 13,5 qt for the 9 lb. But the Pre Boiled size is 7.5 gallon. So do I add water to the 13,5 qt of mash so it will do a total of 7.5 gallon and then start the boiling ? Thanks !                                                                                                                                                                                                                                                                                                                                                                                                                                                                                                                                                                                                                                                                                                                                                                                                                                                                                                                                                                                                                                                                                                                                                                                                                                                                                                                                                                                                                                                                                                                                                                                                                                                                                                                                                                                      1\n",
       "Since my recent homebrew resurgence this year I’ve brewed around 12-15 times. Pretty much every time for the past few beers the gravity readings (SG and FG) are all about .015-.020 low. I mill my own grain but have tried both a fine milling and course. I have also tried using 100% LHBS milled grain.\\n\\nI am mashing in 2 11gal coolers from Northern Brewer. I mash in by slowly adding grain and water equally. My mash temps are 150-155 for 60 minutes, vorlauf 2-3 times about a gallon each, then fly sparge with 170deg water over about 10-15 minutes.\\n\\nThe finished beer always ferments down to target or better FG. The beer always tastes great and after a couple pours you can certainly feel a buzz.\\n\\nI cool the wort before taking readings. I also have 2 hydrometers and they read the same.\\n\\nLong story short I am done taking gravity readings, all it’s doing is pissing me off and leaving me scratching my head for what I’m doing wrong. I’m always open to suggestions but at this point, have to say fuck it.\\n\\nI have a pro-brewer buddy of mine coming to brew in January. Maybe he’ll be able to solve the problem.                                                                                                                                                                                                                                                                                                                                                                                                                                                                                                                                                                                                                                                                                                                                                                                                                                                                                                                                                                                                                                                                                                                                                                                                                                                                              1\n",
       "I'm hoping to see if anyone has any advice with London ale III or London Fog Ale from white labs. When I make beers that are in the 6% ABV range they do great for me, but when I try to do a double or 7.5-9% IPA they usually only do around 66% attenuation. I always do a 1L starter and ferment at 68F. I oxygenate my wort with an hose hooked to a 2 micron oxygenation stone for 30 minutes. \\n\\nAnyone else have these problems? Should I just let it sit on the yeast cake longer and hope that it \"chews\" through the additional sugar?                                                                                                                                                                                                                                                                                                                                                                                                                                                                                                                                                                                                                                                                                                                                                                                                                                                                                                                                                                                                                                                                                                                                                                                                                                                                                                                                                                                                                                                                                                                                                                                                                                                                                                                                                                                                                                                                                           1\n",
       "Hello fellow travellers,\\n\\nA mate of mine was kind enough to give me these kegs rather than get their deposit back because they know I’m moving from bottling to kegging.\\n\\nhttps://imgur.com/gallery/KUqHYiN\\n\\nI looked at some videos and clearly these are industry kegs and not your average home brewer as neither of the tops simply pop open.\\n\\nIf anyone has some links to resources I would appreciate and any advice on not having to move them would be great as one is still full of heinous garbage and is really heavy. \\n\\nOr should I just get the deposit back and use it to buy an different keg. One is Carlton United and the other I’ve never heard of, says Lion Nathan on the side. \\n\\nThanks lege’s.                                                                                                                                                                                                                                                                                                                                                                                                                                                                                                                                                                                                                                                                                                                                                                                                                                                                                                                                                                                                                                                                                                                                                                                                                                                                                                                                                                                                                                                                                                                                                                                                                                                                                                            1\n",
       "So I actually don't make beer, I make jam and jellies.  I burn myself constantly trying to ladle jam out of my big pots into a little funnel.  I keep seeing brew pots and soup pots  with integrated thermometer (bonus!) and a ball valve at the bottom.  This looks to me like the absolute perfect solution to my problem.  I do ninja my ingredients really small, but I also do want the tiny fruit bits to be able to pass through into my jam jars.  Am I crazy?  Would this work?\\n\\nI was looking at this specifically but I do see stuff like this all the time on home brewing posts so I thought you guys might have some insight :)\\n\\n[https://imgur.com/a/FEiTOip](https://imgur.com/a/FEiTOip)                                                                                                                                                                                                                                                                                                                                                                                                                                                                                                                                                                                                                                                                                                                                                                                                                                                                                                                                                                                                                                                                                                                                                                                                                                                                                                                                                                                                                                                                                                                                                                                                                                                                                                                              1\n",
       "Planning on brewing an IPA/NEIPA later today. While ordering online, I could only purchase in increments of 1lb. So I figured for the acid malt I’d just buy extra and measure about 1-2% of total grist. Yesterday I ordered my grains from my LHBS online, went to pick them up and the grain wasn’t milled upon arrival. So they ask if it was ok if it was all milled together, I said sure and didn’t think more of it until it finally hit me laying in bed last night. So now instead of 1-2%, there is 6%. This is my first time using acidulated malt. Been brewing for about a year and read from various sources these malts help drop ph of mash slightly to help with efficiency and bring out hop flavors etc.\\n\\nNow my question is this, should I go ahead with the brew day or scratch this batch for now and get new grain? What effects would having 6% acid malt have on flavor/efficiency in a  IPA?                                                                                                                                                                                                                                                                                                                                                                                                                                                                                                                                                                                                                                                                                                                                                                                                                                                                                                                                                                                                                                                                                                                                                                                                                                                                                                                                                                                                                                                                                                                    1\n",
       "Mead question: Could I get a fermentation vessel with a spigot at the bottom and continuously top up the vessel with a honey/water/yeast solution to get a sort of endless fermentation going? \\n\\nI understand you really don't want to open a fermentation vessel until you're ready to rack the contents, but has anyone tried this? Is it possible?\\n\\nThanks in advance!                                                                                                                                                                                                                                                                                                                                                                                                                                                                                                                                                                                                                                                                                                                                                                                                                                                                                                                                                                                                                                                                                                                                                                                                                                                                                                                                                                                                                                                                                                                                                                                                                                                                                                                                                                                                                                                                                                                                                                                                                                                                1\n",
       "A few weeks ago I pressed about 15 gallons of apple juice, 5 gallons of which I decided to naturally ferment (no heating/added yeast). This is my first time home brewing. Another 5 gallons I decided to ferment using more typical methods. Unfortunately the container with naturally occurring yeast is starting to smell a little bit like sulfur. I read online that a yeast nutrient may be able to save this brew. My question is will adding a nutrient work and if so when/how to I add it to my cider? Thanks in advance for everyone’s help.                                                                                                                                                                                                                                                                                                                                                                                                                                                                                                                                                                                                                                                                                                                                                                                                                                                                                                                                                                                                                                                                                                                                                                                                                                                                                                                                                                                                                                                                                                                                                                                                                                                                                                                                                                                                                                                                                     1\n",
       "https://www.mrbeer.com/diablo-ipa-complete-kit                                                                                                                                                                                                                                                                                                                                                                                                                                                                                                                                                                                                                                                                                                                                                                                                                                                                                                                                                                                                                                                                                                                                                                                                                                                                                                                                                                                                                                                                                                                                                                                                                                                                                                                                                                                                                                                                                                                                                                                                                                                                                                                                                                                                                                                                                                                                                                                               1\n",
       "I made a beer the other day and put in a Tilt and noticed [this](https://imgur.com/a/4UIPIW1) jump in SG. I was wondering what could have caused that because it was consistently rising up over the course of several hours. Also, I pitched it 48 hours ago at 1.064 and it’s now at 1.030 with an estimated FG of 1.014. That seems quick to me, not that I’m complaining.                                                                                                                                                                                                                                                                                                                                                                                                                                                                                                                                                                                                                                                                                                                                                                                                                                                                                                                                                                                                                                                                                                                                                                                                                                                                                                                                                                                                                                                                                                                                                                                                                                                                                                                                                                                                                                                                                                                                                                                                                                                                1\n",
       "Name: selftext, dtype: int64"
      ]
     },
     "execution_count": 30,
     "metadata": {},
     "output_type": "execute_result"
    }
   ],
   "source": [
    "beer_1['selftext'].value_counts().nlargest(50)"
   ]
  },
  {
   "cell_type": "markdown",
   "metadata": {},
   "source": [
    "### Eliminating all duplicates in 'selftext'\n",
    " * 219 weekly QA duplicates\n",
    " * 14 \"this weekly thread..\"\n",
    " * 8 \"Have the next best recipe...\"\n",
    " * 8 \"You've had a week, what's...\"\n",
    " * 8 \"The once a week thread...\"\n",
    " * 7 \"Turbo cider, first batch...\"\n",
    " * 3 \"This is the monthly thread on last...\"\n",
    " * and dozens of values with one duplicate. "
   ]
  },
  {
   "cell_type": "code",
   "execution_count": 31,
   "metadata": {},
   "outputs": [],
   "source": [
    "beer_1 = beer_1.drop_duplicates('selftext', keep = 'first').reset_index()"
   ]
  },
  {
   "cell_type": "markdown",
   "metadata": {},
   "source": [
    "Checking duplicates. No more exist"
   ]
  },
  {
   "cell_type": "code",
   "execution_count": 32,
   "metadata": {
    "scrolled": true
   },
   "outputs": [],
   "source": [
    "beer_1['selftext'].value_counts().nlargest();"
   ]
  },
  {
   "cell_type": "code",
   "execution_count": 33,
   "metadata": {
    "scrolled": true
   },
   "outputs": [
    {
     "data": {
      "text/plain": [
       "level_0         2378\n",
       "index           2378\n",
       "id              2378\n",
       "created_utc     2378\n",
       "title           2373\n",
       "selftext        2378\n",
       "author          1647\n",
       "score             32\n",
       "num_comments     111\n",
       "subreddit          1\n",
       "dtype: int64"
      ]
     },
     "execution_count": 33,
     "metadata": {},
     "output_type": "execute_result"
    }
   ],
   "source": [
    "beer_1.nunique()"
   ]
  },
  {
   "cell_type": "markdown",
   "metadata": {},
   "source": [
    "### Checking Post Lengths\n",
    "To ensure there is content in every post"
   ]
  },
  {
   "cell_type": "code",
   "execution_count": 34,
   "metadata": {},
   "outputs": [
    {
     "name": "stdout",
     "output_type": "stream",
     "text": [
      "\n"
     ]
    }
   ],
   "source": [
    "for post in beer_1['selftext']:\n",
    "    if len(post) < 10:\n",
    "        print(post)"
   ]
  },
  {
   "cell_type": "code",
   "execution_count": 35,
   "metadata": {},
   "outputs": [
    {
     "data": {
      "text/html": [
       "<div>\n",
       "<style scoped>\n",
       "    .dataframe tbody tr th:only-of-type {\n",
       "        vertical-align: middle;\n",
       "    }\n",
       "\n",
       "    .dataframe tbody tr th {\n",
       "        vertical-align: top;\n",
       "    }\n",
       "\n",
       "    .dataframe thead th {\n",
       "        text-align: right;\n",
       "    }\n",
       "</style>\n",
       "<table border=\"1\" class=\"dataframe\">\n",
       "  <thead>\n",
       "    <tr style=\"text-align: right;\">\n",
       "      <th></th>\n",
       "      <th>level_0</th>\n",
       "      <th>index</th>\n",
       "      <th>id</th>\n",
       "      <th>created_utc</th>\n",
       "      <th>title</th>\n",
       "      <th>selftext</th>\n",
       "      <th>author</th>\n",
       "      <th>score</th>\n",
       "      <th>num_comments</th>\n",
       "      <th>subreddit</th>\n",
       "    </tr>\n",
       "  </thead>\n",
       "  <tbody>\n",
       "  </tbody>\n",
       "</table>\n",
       "</div>"
      ],
      "text/plain": [
       "Empty DataFrame\n",
       "Columns: [level_0, index, id, created_utc, title, selftext, author, score, num_comments, subreddit]\n",
       "Index: []"
      ]
     },
     "execution_count": 35,
     "metadata": {},
     "output_type": "execute_result"
    }
   ],
   "source": [
    "beer_1[beer_1['selftext'] == 'L']"
   ]
  },
  {
   "cell_type": "markdown",
   "metadata": {},
   "source": [
    "Decided not to remove the above post because I am going to merge title and selftext together and it appears the title has some useful data. "
   ]
  },
  {
   "cell_type": "markdown",
   "metadata": {},
   "source": [
    "Creating a list of post lengths to add to a histogram"
   ]
  },
  {
   "cell_type": "code",
   "execution_count": 36,
   "metadata": {},
   "outputs": [
    {
     "data": {
      "text/plain": [
       "2378"
      ]
     },
     "execution_count": 36,
     "metadata": {},
     "output_type": "execute_result"
    }
   ],
   "source": [
    "post_lengths = []\n",
    "for post in beer_1['selftext']:\n",
    "    post_lengths.append(len(post))\n",
    "len(post_lengths) # ensuring I got all the values. "
   ]
  },
  {
   "cell_type": "code",
   "execution_count": 37,
   "metadata": {},
   "outputs": [
    {
     "data": {
      "image/png": "[encoded data removed]",
      "text/plain": [
       "<Figure size 432x288 with 1 Axes>"
      ]
     },
     "metadata": {
      "needs_background": "light"
     },
     "output_type": "display_data"
    }
   ],
   "source": [
    "sns.distplot(post_lengths).set_title('Post Length by Characters')\n",
    "\n",
    "plt.xlabel('Post Length')\n",
    "plt.ylabel('Frequency');"
   ]
  },
  {
   "cell_type": "markdown",
   "metadata": {},
   "source": [
    "______________________\n",
    "# Step 4  \n",
    "# Preliminary EDA\n",
    "* This Exploratory Data Analysis is being conducted for the purpose of getting to know the data that surrounds the target data and predictor variables. It is also being utulized to identify any useful and interesting statistics or relationships that exist outside of predictive modeling and the exploratory process that preceeds modeling. \n",
    "\n",
    "### Unique Author / Unique Post Analysis"
   ]
  },
  {
   "cell_type": "markdown",
   "metadata": {},
   "source": [
    "Unique Authors"
   ]
  },
  {
   "cell_type": "code",
   "execution_count": 38,
   "metadata": {},
   "outputs": [
    {
     "data": {
      "text/plain": [
       "1647"
      ]
     },
     "execution_count": 38,
     "metadata": {},
     "output_type": "execute_result"
    }
   ],
   "source": [
    "unique_authors = beer_1['author'].nunique()\n",
    "unique_authors"
   ]
  },
  {
   "cell_type": "markdown",
   "metadata": {},
   "source": [
    "Unique Posts"
   ]
  },
  {
   "cell_type": "code",
   "execution_count": 39,
   "metadata": {},
   "outputs": [
    {
     "data": {
      "text/plain": [
       "2378"
      ]
     },
     "execution_count": 39,
     "metadata": {},
     "output_type": "execute_result"
    }
   ],
   "source": [
    "unique_posts = beer_1['selftext'].nunique()\n",
    "unique_posts"
   ]
  },
  {
   "cell_type": "markdown",
   "metadata": {},
   "source": [
    "Authors of Multiple Posts\n",
    " \n",
    "* There are 389 repeat authors of the 1612 unique authors.\n",
    "* Almost 25% percent of authors are multiple posters. \n",
    "* As seen below that 25% accounts for almost half of all posts. "
   ]
  },
  {
   "cell_type": "code",
   "execution_count": 40,
   "metadata": {},
   "outputs": [],
   "source": [
    "author_multi = beer_1['author'].value_counts() > 1"
   ]
  },
  {
   "cell_type": "code",
   "execution_count": 41,
   "metadata": {},
   "outputs": [
    {
     "data": {
      "text/plain": [
       "False    1272\n",
       "True      375\n",
       "Name: author, dtype: int64"
      ]
     },
     "execution_count": 41,
     "metadata": {},
     "output_type": "execute_result"
    }
   ],
   "source": [
    "author_multi.value_counts()"
   ]
  },
  {
   "cell_type": "code",
   "execution_count": 42,
   "metadata": {},
   "outputs": [
    {
     "data": {
      "text/plain": [
       "0.2413151364764268"
      ]
     },
     "execution_count": 42,
     "metadata": {},
     "output_type": "execute_result"
    }
   ],
   "source": [
    "389/ 1612"
   ]
  },
  {
   "cell_type": "code",
   "execution_count": 43,
   "metadata": {
    "scrolled": true
   },
   "outputs": [],
   "source": [
    "total_multi_posts = beer_1['author'].value_counts().nlargest(389).sum()"
   ]
  },
  {
   "cell_type": "code",
   "execution_count": 44,
   "metadata": {},
   "outputs": [
    {
     "data": {
      "text/plain": [
       "0.47098402018502944"
      ]
     },
     "execution_count": 44,
     "metadata": {},
     "output_type": "execute_result"
    }
   ],
   "source": [
    "total_multi_posts / unique_posts"
   ]
  },
  {
   "cell_type": "markdown",
   "metadata": {},
   "source": [
    "### Analyzing Posts with Multiple Comments"
   ]
  },
  {
   "cell_type": "code",
   "execution_count": 45,
   "metadata": {
    "scrolled": true
   },
   "outputs": [
    {
     "data": {
      "text/plain": [
       "2240"
      ]
     },
     "execution_count": 45,
     "metadata": {},
     "output_type": "execute_result"
    }
   ],
   "source": [
    "multi_comment_count = beer_1['num_comments'][beer_1['num_comments'] > 1].count()\n",
    "multi_comment_count"
   ]
  },
  {
   "cell_type": "markdown",
   "metadata": {},
   "source": [
    "#### Boxplot for Number of Comments (Prior to Eliminating Outliers if Necessary)\n",
    "\n",
    "Box plot showing distribution of the comment counts within and outside of the interquartile range. \n",
    "\n",
    "The whisker for the max quartile is the vertical grey line. It is the 75 percentile plus 1.5 times the interquartile range. The black dots past that whisker are considered outliers. There are quite a few outliers there. \n",
    "\n",
    "As detailed below, the vast majority of posts receiving multiple comments are located closer to zero than they are to one hundred. "
   ]
  },
  {
   "cell_type": "code",
   "execution_count": 46,
   "metadata": {
    "scrolled": true
   },
   "outputs": [
    {
     "data": {
      "image/png": "[encoded data removed]",
      "text/plain": [
       "<Figure size 432x288 with 1 Axes>"
      ]
     },
     "metadata": {
      "needs_background": "light"
     },
     "output_type": "display_data"
    }
   ],
   "source": [
    "sns.boxplot(beer_1['num_comments'], width = .7, whis = 1.5).set_title('Number of Comments Per Post')\n",
    "\n",
    "plt.xlabel('Number of Comments');"
   ]
  },
  {
   "cell_type": "markdown",
   "metadata": {},
   "source": [
    "94 percent of posts had more than 1 comment. "
   ]
  },
  {
   "cell_type": "code",
   "execution_count": 47,
   "metadata": {
    "scrolled": true
   },
   "outputs": [
    {
     "data": {
      "text/plain": [
       "0.9419680403700589"
      ]
     },
     "execution_count": 47,
     "metadata": {},
     "output_type": "execute_result"
    }
   ],
   "source": [
    "multi_comment_count / unique_posts"
   ]
  },
  {
   "cell_type": "code",
   "execution_count": 48,
   "metadata": {},
   "outputs": [
    {
     "data": {
      "text/html": [
       "<div>\n",
       "<style scoped>\n",
       "    .dataframe tbody tr th:only-of-type {\n",
       "        vertical-align: middle;\n",
       "    }\n",
       "\n",
       "    .dataframe tbody tr th {\n",
       "        vertical-align: top;\n",
       "    }\n",
       "\n",
       "    .dataframe thead th {\n",
       "        text-align: right;\n",
       "    }\n",
       "</style>\n",
       "<table border=\"1\" class=\"dataframe\">\n",
       "  <thead>\n",
       "    <tr style=\"text-align: right;\">\n",
       "      <th></th>\n",
       "      <th>level_0</th>\n",
       "      <th>index</th>\n",
       "      <th>created_utc</th>\n",
       "      <th>score</th>\n",
       "      <th>num_comments</th>\n",
       "    </tr>\n",
       "  </thead>\n",
       "  <tbody>\n",
       "    <tr>\n",
       "      <th>count</th>\n",
       "      <td>2378.000000</td>\n",
       "      <td>2378.000000</td>\n",
       "      <td>2.378000e+03</td>\n",
       "      <td>2378.000000</td>\n",
       "      <td>2378.000000</td>\n",
       "    </tr>\n",
       "    <tr>\n",
       "      <th>mean</th>\n",
       "      <td>1370.091253</td>\n",
       "      <td>1510.687553</td>\n",
       "      <td>1.607465e+09</td>\n",
       "      <td>1.544575</td>\n",
       "      <td>14.778806</td>\n",
       "    </tr>\n",
       "    <tr>\n",
       "      <th>std</th>\n",
       "      <td>796.989125</td>\n",
       "      <td>865.238984</td>\n",
       "      <td>1.497032e+06</td>\n",
       "      <td>5.568927</td>\n",
       "      <td>23.131237</td>\n",
       "    </tr>\n",
       "    <tr>\n",
       "      <th>min</th>\n",
       "      <td>0.000000</td>\n",
       "      <td>0.000000</td>\n",
       "      <td>1.605019e+09</td>\n",
       "      <td>0.000000</td>\n",
       "      <td>0.000000</td>\n",
       "    </tr>\n",
       "    <tr>\n",
       "      <th>25%</th>\n",
       "      <td>671.250000</td>\n",
       "      <td>755.250000</td>\n",
       "      <td>1.606153e+09</td>\n",
       "      <td>1.000000</td>\n",
       "      <td>5.000000</td>\n",
       "    </tr>\n",
       "    <tr>\n",
       "      <th>50%</th>\n",
       "      <td>1379.500000</td>\n",
       "      <td>1523.500000</td>\n",
       "      <td>1.607393e+09</td>\n",
       "      <td>1.000000</td>\n",
       "      <td>9.000000</td>\n",
       "    </tr>\n",
       "    <tr>\n",
       "      <th>75%</th>\n",
       "      <td>2059.750000</td>\n",
       "      <td>2260.750000</td>\n",
       "      <td>1.608719e+09</td>\n",
       "      <td>1.000000</td>\n",
       "      <td>17.000000</td>\n",
       "    </tr>\n",
       "    <tr>\n",
       "      <th>max</th>\n",
       "      <td>2747.000000</td>\n",
       "      <td>2999.000000</td>\n",
       "      <td>1.610168e+09</td>\n",
       "      <td>198.000000</td>\n",
       "      <td>628.000000</td>\n",
       "    </tr>\n",
       "  </tbody>\n",
       "</table>\n",
       "</div>"
      ],
      "text/plain": [
       "           level_0        index   created_utc        score  num_comments\n",
       "count  2378.000000  2378.000000  2.378000e+03  2378.000000   2378.000000\n",
       "mean   1370.091253  1510.687553  1.607465e+09     1.544575     14.778806\n",
       "std     796.989125   865.238984  1.497032e+06     5.568927     23.131237\n",
       "min       0.000000     0.000000  1.605019e+09     0.000000      0.000000\n",
       "25%     671.250000   755.250000  1.606153e+09     1.000000      5.000000\n",
       "50%    1379.500000  1523.500000  1.607393e+09     1.000000      9.000000\n",
       "75%    2059.750000  2260.750000  1.608719e+09     1.000000     17.000000\n",
       "max    2747.000000  2999.000000  1.610168e+09   198.000000    628.000000"
      ]
     },
     "execution_count": 48,
     "metadata": {},
     "output_type": "execute_result"
    }
   ],
   "source": [
    "beer_1.describe()"
   ]
  },
  {
   "cell_type": "markdown",
   "metadata": {},
   "source": [
    "If a post received less than 5 comments it was in the bottom 25% in terms of number of comments. If it received over 16 comments then it was in the upper 25% in terms of number of comments. "
   ]
  },
  {
   "cell_type": "markdown",
   "metadata": {},
   "source": [
    "### Analyzing Five Largest Comment Achievers"
   ]
  },
  {
   "cell_type": "code",
   "execution_count": 49,
   "metadata": {},
   "outputs": [
    {
     "data": {
      "text/plain": [
       "963     628\n",
       "408     257\n",
       "2120    215\n",
       "1158    209\n",
       "314     177\n",
       "Name: num_comments, dtype: int64"
      ]
     },
     "execution_count": 49,
     "metadata": {},
     "output_type": "execute_result"
    }
   ],
   "source": [
    "beer_1['num_comments'].nlargest()"
   ]
  },
  {
   "cell_type": "markdown",
   "metadata": {},
   "source": [
    "Checking to see if anything odd may be causing drastic comment numbers. "
   ]
  },
  {
   "cell_type": "code",
   "execution_count": 50,
   "metadata": {},
   "outputs": [
    {
     "data": {
      "text/plain": [
       "486     Howdy,\\n\\nAs the title states, I have just bee...\n",
       "1949    I made this batch of apple and rasberry wine, ...\n",
       "1643    I bought some mangrove jack kveik dry yeast ab...\n",
       "681     I've got a kettle that already has welded TC f...\n",
       "1626    Real talk. What color tilt hydrometer should I...\n",
       "Name: selftext, dtype: object"
      ]
     },
     "execution_count": 50,
     "metadata": {},
     "output_type": "execute_result"
    }
   ],
   "source": [
    "beer_1.loc[[486, 1949, 1643, 681, 1626], 'selftext']"
   ]
  },
  {
   "cell_type": "markdown",
   "metadata": {},
   "source": [
    "The two Largest comment values seem to be an advertisement from a user named ink-bird. \n",
    "* [ ] Investigate ink-bird as an author. \n",
    "* [ ] Possibly delete all posts from ink-bird."
   ]
  },
  {
   "cell_type": "code",
   "execution_count": 51,
   "metadata": {},
   "outputs": [],
   "source": [
    "beer_1.loc[486, ['author', 'selftext']];"
   ]
  },
  {
   "cell_type": "code",
   "execution_count": 52,
   "metadata": {},
   "outputs": [],
   "source": [
    "beer_1.loc[1949, ['author', 'selftext']];"
   ]
  },
  {
   "cell_type": "code",
   "execution_count": 53,
   "metadata": {},
   "outputs": [],
   "source": [
    "beer_1.loc[1643, ['author', 'selftext']];"
   ]
  },
  {
   "cell_type": "code",
   "execution_count": 54,
   "metadata": {},
   "outputs": [],
   "source": [
    "beer_1.loc[1643, 'selftext'];"
   ]
  },
  {
   "cell_type": "code",
   "execution_count": 55,
   "metadata": {},
   "outputs": [],
   "source": [
    "beer_1.loc[681, ['author', 'selftext']];"
   ]
  },
  {
   "cell_type": "code",
   "execution_count": 56,
   "metadata": {},
   "outputs": [],
   "source": [
    "beer_1.loc[681, 'selftext'];"
   ]
  },
  {
   "cell_type": "code",
   "execution_count": 57,
   "metadata": {},
   "outputs": [],
   "source": [
    "beer_1.loc[1626, ['author','selftext']];"
   ]
  },
  {
   "cell_type": "markdown",
   "metadata": {},
   "source": [
    "These were the only two posts from ink-bird. I am going to eliminate them because I feel the adds may not be representative of the spirit of the overall corpus. "
   ]
  },
  {
   "cell_type": "code",
   "execution_count": 58,
   "metadata": {},
   "outputs": [
    {
     "data": {
      "text/html": [
       "<div>\n",
       "<style scoped>\n",
       "    .dataframe tbody tr th:only-of-type {\n",
       "        vertical-align: middle;\n",
       "    }\n",
       "\n",
       "    .dataframe tbody tr th {\n",
       "        vertical-align: top;\n",
       "    }\n",
       "\n",
       "    .dataframe thead th {\n",
       "        text-align: right;\n",
       "    }\n",
       "</style>\n",
       "<table border=\"1\" class=\"dataframe\">\n",
       "  <thead>\n",
       "    <tr style=\"text-align: right;\">\n",
       "      <th></th>\n",
       "      <th>level_0</th>\n",
       "      <th>index</th>\n",
       "      <th>id</th>\n",
       "      <th>created_utc</th>\n",
       "      <th>title</th>\n",
       "      <th>selftext</th>\n",
       "      <th>author</th>\n",
       "      <th>score</th>\n",
       "      <th>num_comments</th>\n",
       "      <th>subreddit</th>\n",
       "    </tr>\n",
       "  </thead>\n",
       "  <tbody>\n",
       "    <tr>\n",
       "      <th>963</th>\n",
       "      <td>1118</td>\n",
       "      <td>1243</td>\n",
       "      <td>kcboe5</td>\n",
       "      <td>1607870448</td>\n",
       "      <td>🎁🎄Christmas Giveaway for Inkbird Waterproof In...</td>\n",
       "      <td>🎁Inkbird would like to give away **TWO FREE** ...</td>\n",
       "      <td>ink-bird</td>\n",
       "      <td>1</td>\n",
       "      <td>628</td>\n",
       "      <td>Homebrewing</td>\n",
       "    </tr>\n",
       "  </tbody>\n",
       "</table>\n",
       "</div>"
      ],
      "text/plain": [
       "     level_0  index      id  created_utc  \\\n",
       "963     1118   1243  kcboe5   1607870448   \n",
       "\n",
       "                                                 title  \\\n",
       "963  🎁🎄Christmas Giveaway for Inkbird Waterproof In...   \n",
       "\n",
       "                                              selftext    author  score  \\\n",
       "963  🎁Inkbird would like to give away **TWO FREE** ...  ink-bird      1   \n",
       "\n",
       "     num_comments    subreddit  \n",
       "963           628  Homebrewing  "
      ]
     },
     "execution_count": 58,
     "metadata": {},
     "output_type": "execute_result"
    }
   ],
   "source": [
    "ink_bird = beer_1[beer_1['author'] == 'ink-bird']\n",
    "ink_bird"
   ]
  },
  {
   "cell_type": "markdown",
   "metadata": {},
   "source": [
    "Eliminating posts from author 'ink-bird'"
   ]
  },
  {
   "cell_type": "code",
   "execution_count": 59,
   "metadata": {},
   "outputs": [],
   "source": [
    "beer_1 = beer_1[beer_1['author'] != 'ink-bird']"
   ]
  },
  {
   "cell_type": "markdown",
   "metadata": {},
   "source": [
    "Checking to ensure they have been removed"
   ]
  },
  {
   "cell_type": "code",
   "execution_count": 60,
   "metadata": {},
   "outputs": [
    {
     "data": {
      "text/html": [
       "<div>\n",
       "<style scoped>\n",
       "    .dataframe tbody tr th:only-of-type {\n",
       "        vertical-align: middle;\n",
       "    }\n",
       "\n",
       "    .dataframe tbody tr th {\n",
       "        vertical-align: top;\n",
       "    }\n",
       "\n",
       "    .dataframe thead th {\n",
       "        text-align: right;\n",
       "    }\n",
       "</style>\n",
       "<table border=\"1\" class=\"dataframe\">\n",
       "  <thead>\n",
       "    <tr style=\"text-align: right;\">\n",
       "      <th></th>\n",
       "      <th>level_0</th>\n",
       "      <th>index</th>\n",
       "      <th>id</th>\n",
       "      <th>created_utc</th>\n",
       "      <th>title</th>\n",
       "      <th>selftext</th>\n",
       "      <th>author</th>\n",
       "      <th>score</th>\n",
       "      <th>num_comments</th>\n",
       "      <th>subreddit</th>\n",
       "    </tr>\n",
       "  </thead>\n",
       "  <tbody>\n",
       "  </tbody>\n",
       "</table>\n",
       "</div>"
      ],
      "text/plain": [
       "Empty DataFrame\n",
       "Columns: [level_0, index, id, created_utc, title, selftext, author, score, num_comments, subreddit]\n",
       "Index: []"
      ]
     },
     "execution_count": 60,
     "metadata": {},
     "output_type": "execute_result"
    }
   ],
   "source": [
    "ink_bird = beer_1[beer_1['author'] == 'ink-bird']\n",
    "ink_bird"
   ]
  },
  {
   "cell_type": "markdown",
   "metadata": {},
   "source": [
    "#### Boxplot for Multiple Posts (After Eliminating a Few Outliers)\n",
    "\n",
    "The boxplot is a bit more clear to understand but the overall trends remain the same. \n",
    "\n",
    "Most values are located closer to zero and almost all values have recieved less than 25 comments. There are still quite a few outliers but after inspect they all appear to be legitimate. \n",
    "\n",
    "One day I may come back and investigate what makes some of these posts so successful in regards to receiving comments. "
   ]
  },
  {
   "cell_type": "code",
   "execution_count": 61,
   "metadata": {},
   "outputs": [
    {
     "data": {
      "image/png": "[encoded data removed]",
      "text/plain": [
       "<Figure size 432x288 with 1 Axes>"
      ]
     },
     "metadata": {
      "needs_background": "light"
     },
     "output_type": "display_data"
    }
   ],
   "source": [
    "sns.boxplot(beer_1['num_comments'], width = .7, whis = 1.5).set_title('Number of Comments Per Post')\n",
    "\n",
    "plt.xlabel('Number of Comments');"
   ]
  },
  {
   "cell_type": "markdown",
   "metadata": {},
   "source": [
    "### Analyzing Score"
   ]
  },
  {
   "cell_type": "code",
   "execution_count": 62,
   "metadata": {},
   "outputs": [
    {
     "data": {
      "text/plain": [
       "2080    198\n",
       "2103    108\n",
       "2099     81\n",
       "2168     50\n",
       "2120     49\n",
       "Name: score, dtype: int64"
      ]
     },
     "execution_count": 62,
     "metadata": {},
     "output_type": "execute_result"
    }
   ],
   "source": [
    "beer_1['score'].nlargest()"
   ]
  },
  {
   "cell_type": "markdown",
   "metadata": {},
   "source": [
    "Posts that scored over 1 (the base score) accounted for just over 7 percent. "
   ]
  },
  {
   "cell_type": "code",
   "execution_count": 63,
   "metadata": {},
   "outputs": [
    {
     "data": {
      "text/plain": [
       "180"
      ]
     },
     "execution_count": 63,
     "metadata": {},
     "output_type": "execute_result"
    }
   ],
   "source": [
    "score_over_1_count = beer_1['score'][beer_1['score'] > 1].count()\n",
    "score_over_1_count"
   ]
  },
  {
   "cell_type": "code",
   "execution_count": 64,
   "metadata": {},
   "outputs": [
    {
     "data": {
      "text/plain": [
       "0.07569386038687972"
      ]
     },
     "execution_count": 64,
     "metadata": {},
     "output_type": "execute_result"
    }
   ],
   "source": [
    "score_over_1_count / unique_posts"
   ]
  },
  {
   "cell_type": "markdown",
   "metadata": {},
   "source": [
    "Analyzing the top 5 for score"
   ]
  },
  {
   "cell_type": "code",
   "execution_count": 65,
   "metadata": {},
   "outputs": [],
   "source": [
    "beer_1.loc[1603, 'selftext'];"
   ]
  },
  {
   "cell_type": "code",
   "execution_count": 66,
   "metadata": {},
   "outputs": [],
   "source": [
    "beer_1.loc[1626, 'selftext'];"
   ]
  },
  {
   "cell_type": "code",
   "execution_count": 67,
   "metadata": {},
   "outputs": [],
   "source": [
    "beer_1.loc[1622, 'selftext'];"
   ]
  },
  {
   "cell_type": "code",
   "execution_count": 68,
   "metadata": {},
   "outputs": [],
   "source": [
    "beer_1.loc[1691, 'selftext'];"
   ]
  },
  {
   "cell_type": "code",
   "execution_count": 69,
   "metadata": {},
   "outputs": [],
   "source": [
    "beer_1.loc[1643, 'selftext'];"
   ]
  },
  {
   "cell_type": "markdown",
   "metadata": {},
   "source": [
    "# Step 5 \n",
    "# Preparing DF for Text Analysis"
   ]
  },
  {
   "cell_type": "code",
   "execution_count": 70,
   "metadata": {},
   "outputs": [],
   "source": [
    "beer_1 = beer_1.drop(columns = ['level_0', 'index', 'id', 'created_utc', 'author', 'score', 'num_comments'])"
   ]
  },
  {
   "cell_type": "code",
   "execution_count": 71,
   "metadata": {},
   "outputs": [
    {
     "data": {
      "text/plain": [
       "Index(['title', 'selftext', 'subreddit'], dtype='object')"
      ]
     },
     "execution_count": 71,
     "metadata": {},
     "output_type": "execute_result"
    }
   ],
   "source": [
    "beer_1.columns"
   ]
  },
  {
   "cell_type": "markdown",
   "metadata": {},
   "source": [
    "### Adding title to self text for the purpose of text analysis. "
   ]
  },
  {
   "cell_type": "code",
   "execution_count": 72,
   "metadata": {},
   "outputs": [],
   "source": [
    "beer_1['selftext'] = beer_1['title'] + ' ' + beer_1['selftext']"
   ]
  },
  {
   "cell_type": "code",
   "execution_count": 73,
   "metadata": {},
   "outputs": [
    {
     "data": {
      "text/plain": [
       "0    Getting to the bottom of my keg and it is yeas...\n",
       "1    Pressure fermentation but bottling.. a never b...\n",
       "2    Experimental DME barley wine I have some older...\n",
       "3    Priming solution question This is my second ex...\n",
       "4    What is the name of this simple mixed drink I'...\n",
       "Name: selftext, dtype: object"
      ]
     },
     "execution_count": 73,
     "metadata": {},
     "output_type": "execute_result"
    }
   ],
   "source": [
    "beer_1['selftext'].head()"
   ]
  },
  {
   "cell_type": "code",
   "execution_count": 74,
   "metadata": {},
   "outputs": [],
   "source": [
    "beer_1.drop(columns = ['title'], inplace = True)"
   ]
  },
  {
   "cell_type": "markdown",
   "metadata": {},
   "source": [
    "# Saving new df to CSV"
   ]
  },
  {
   "cell_type": "code",
   "execution_count": 75,
   "metadata": {},
   "outputs": [],
   "source": [
    "beer_1.to_csv('../data/01_beer.csv', index = False)"
   ]
  },
  {
   "cell_type": "code",
   "execution_count": null,
   "metadata": {},
   "outputs": [],
   "source": []
  }
 ],
 "metadata": {
  "kernelspec": {
   "display_name": "Python 3",
   "language": "python",
   "name": "python3"
  },
  "language_info": {
   "codemirror_mode": {
    "name": "ipython",
    "version": 3
   },
   "file_extension": ".py",
   "mimetype": "text/x-python",
   "name": "python",
   "nbconvert_exporter": "python",
   "pygments_lexer": "ipython3",
   "version": "3.8.3"
  }
 },
 "nbformat": 4,
 "nbformat_minor": 4
}
