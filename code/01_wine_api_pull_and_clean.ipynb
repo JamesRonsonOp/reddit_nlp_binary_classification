{
 "cells": [
  {
   "cell_type": "markdown",
   "metadata": {},
   "source": [
    "# About This Notebook"
   ]
  },
  {
   "cell_type": "markdown",
   "metadata": {},
   "source": [
    "This notebook takes in data from https://www.reddit.com/r/winemaking/ via the Push Shift API found at www.pushshift.io\n",
    "\n",
    "This notebook consists of five steps of initial data retrieval and preprocessing for a Natural Language Processing Project. \n",
    "\n",
    "The project at large will intake data from two different subreddits (from www.Reddit.com), clean and process the data, explore the data for relationships, create and manipulate features and then model to produce a predictive classification model. \n",
    "\n",
    "This notebook will begin the process described above through the following steps: \n",
    "\n",
    "Step 1: Data Retrieval - Is the process of pulling the data from Reddit using the Pushshift API.\n",
    "\n",
    "Step 2: Initial Analysis for Cleaning - Which will analyze unique values, indexes and summary info. \n",
    "\n",
    "Step 3: Preprocessing / Cleaning - Will reduce the amount of features being processed, handle duplicate values, and eliminate null values. \n",
    "\n",
    "Step 4: Preliminary EDA - Will conduct an initial exploration of the data to analyze unique values in greater detail, initially explore the possibility of outliers in the data and look into features that may be interesting overall but that may not make it into the advanced EDA and modeling process. \n",
    "\n",
    "Step 5: Preparing DF for Text Analysis - This process will reduce feature columns to just those that will be used in advanced EDA and modeling. It will then save this file to CSV for the purpose of importing into another notebook focused on advanced EDA and feature creation. "
   ]
  },
  {
   "cell_type": "markdown",
   "metadata": {},
   "source": [
    "About r/winemaking subreddit:\n",
    "\n",
    "* Created in November of 2008 it is a community for people interested in viticulture, winemaking and other fermented beverages. \n",
    "* At the time of this project there are around 39,000 members. \n",
    "* You can find more information about this community on their Reddit Wiki https://www.reddit.com/r/winemaking/wiki/index\n",
    "* Here you will find information abou the moderators, links to winemaking tips and a list of places to source grapes. "
   ]
  },
  {
   "cell_type": "markdown",
   "metadata": {},
   "source": [
    "### Importing Libraries"
   ]
  },
  {
   "cell_type": "code",
   "execution_count": 1,
   "metadata": {},
   "outputs": [],
   "source": [
    "import requests\n",
    "import time\n",
    "import pandas as pd\n",
    "import numpy as np\n",
    "import missingno as msno\n",
    "\n",
    "import seaborn as sns\n",
    "import matplotlib.pyplot as plt\n",
    "\n",
    "%matplotlib inline"
   ]
  },
  {
   "cell_type": "markdown",
   "metadata": {},
   "source": [
    "# Step 1\n",
    "\n",
    "# Data Retrieval\n",
    "\n",
    "### Pulling in Data Using Pushift API"
   ]
  },
  {
   "cell_type": "code",
   "execution_count": 2,
   "metadata": {},
   "outputs": [
    {
     "name": "stdout",
     "output_type": "stream",
     "text": [
      "res 1 code:  200\n",
      "res 2 code:  200\n",
      "res 3 code:  200\n",
      "res 4 code:  200\n",
      "res 5 code:  200\n",
      "res 6 code:  200\n",
      "res 7 code:  200\n",
      "res 8 code:  200\n",
      "res 9 code:  200\n",
      "res 10 code:  200\n",
      "res 11 code:  200\n",
      "res 12 code:  200\n",
      "res 13 code:  200\n",
      "res 14 code:  200\n",
      "res 15 code:  200\n",
      "res 16 code:  200\n",
      "res 17 code:  200\n",
      "res 18 code:  200\n",
      "res 19 code:  200\n",
      "res 20 code:  200\n",
      "res 21 code:  200\n",
      "res 22 code:  200\n",
      "res 23 code:  200\n",
      "res 24 code:  200\n",
      "res 25 code:  200\n",
      "res 26 code:  200\n",
      "res 27 code:  200\n",
      "res 28 code:  200\n",
      "res 29 code:  200\n",
      "res 30 code:  200\n",
      "res 31 code:  200\n",
      "res 32 code:  200\n",
      "res 33 code:  200\n",
      "res 34 code:  200\n",
      "res 35 code:  200\n",
      "res 36 code:  200\n",
      "res 37 code:  200\n",
      "res 38 code:  200\n",
      "res 39 code:  200\n",
      "res 40 code:  200\n"
     ]
    }
   ],
   "source": [
    "# defining url for pushshift apo\n",
    "url = 'https://api.pushshift.io/reddit/submission/search'\n",
    "# creating an empty list to collect the dataframe lists\n",
    "dfs = []\n",
    "\n",
    "# number of loops that will be made. Each loop pulls a new set of posts.\n",
    "loops = 40\n",
    "\n",
    "params = {\n",
    "        'subreddit': 'winemaking', \n",
    "        'size': 100,\n",
    "#         'before' :\n",
    "        }\n",
    "\n",
    "\n",
    "#defining the time in which I start the loop.\n",
    "start_time = time.time()\n",
    "\n",
    "#create for loop that sets the current time for the sake of ensuring we are not scraping too fast or taking too many of the sites reasoureces. \n",
    "for i in range(loops):\n",
    "    \n",
    "    current_time = time.time()\n",
    "    #requesting data\n",
    "    res = requests.get(url, params) #getting request\n",
    "    print(f'res {i+1} code: ', res.status_code) #printing request status to ensure it went through securely\n",
    "    \n",
    "    data = res.json() #using json to read\n",
    "    posts = data['data'] #indexing into 'data' from json dictionary and list of dictionaries\n",
    "    posts_df = pd.DataFrame(posts)\n",
    "    dfs.append(posts_df) #create dataframe from 'data' dictionary\n",
    "        \n",
    "        \n",
    "    # get oldest post time and use as before parameter in next request\n",
    "    params['before'] = posts_df['created_utc'].min()#adding 'before' parameter to params dictionary\n",
    "        \n",
    "    #created lower limit of 1 second to ensure we are abiding by resource conventions.\n",
    "    time.sleep(3)\n",
    "\n",
    "# creating a dataframe by concatetinating all of the df lists created by the loop    \n",
    "reddit_posts = pd.concat(dfs)"
   ]
  },
  {
   "cell_type": "code",
   "execution_count": 3,
   "metadata": {},
   "outputs": [
    {
     "data": {
      "text/plain": [
       "(4000, 81)"
      ]
     },
     "execution_count": 3,
     "metadata": {},
     "output_type": "execute_result"
    }
   ],
   "source": [
    "reddit_posts.shape"
   ]
  },
  {
   "cell_type": "markdown",
   "metadata": {},
   "source": [
    "# Step 2\n",
    "# Initial Analysis for Cleaning\n",
    "\n",
    "### Initial Analysis of Unique Values (Prior to Cleaning)\n",
    "* Note, I had to scrape 1,000 more values from the wine subbreddit than I did the homebrewing subreddit just to get close to the amount of unique posts. Oddly I cam up with more unique authors but less unique posts. "
   ]
  },
  {
   "cell_type": "markdown",
   "metadata": {},
   "source": [
    "#### 4000 unique post id's "
   ]
  },
  {
   "cell_type": "code",
   "execution_count": 4,
   "metadata": {},
   "outputs": [
    {
     "data": {
      "text/plain": [
       "4000"
      ]
     },
     "execution_count": 4,
     "metadata": {},
     "output_type": "execute_result"
    }
   ],
   "source": [
    "unique_ids = reddit_posts['id'].nunique()\n",
    "unique_ids"
   ]
  },
  {
   "cell_type": "markdown",
   "metadata": {},
   "source": [
    "#### 2139 unique authors"
   ]
  },
  {
   "cell_type": "code",
   "execution_count": 5,
   "metadata": {},
   "outputs": [
    {
     "data": {
      "text/plain": [
       "2138"
      ]
     },
     "execution_count": 5,
     "metadata": {},
     "output_type": "execute_result"
    }
   ],
   "source": [
    "unique_authors = reddit_posts['author'].nunique()\n",
    "unique_authors"
   ]
  },
  {
   "cell_type": "markdown",
   "metadata": {},
   "source": [
    "#### 1943 unique posts"
   ]
  },
  {
   "cell_type": "code",
   "execution_count": 6,
   "metadata": {},
   "outputs": [
    {
     "data": {
      "text/plain": [
       "1937"
      ]
     },
     "execution_count": 6,
     "metadata": {},
     "output_type": "execute_result"
    }
   ],
   "source": [
    "unique_posts = reddit_posts['selftext'].nunique()\n",
    "unique_posts"
   ]
  },
  {
   "cell_type": "markdown",
   "metadata": {},
   "source": [
    "#### Percentage of Unique Posts to Unique IDs\n",
    "* The percentage of unique posts in winemaking is much smaller than the percentage of unique posts in homebrewing. "
   ]
  },
  {
   "cell_type": "code",
   "execution_count": 7,
   "metadata": {},
   "outputs": [
    {
     "data": {
      "text/plain": [
       "0.48425"
      ]
     },
     "execution_count": 7,
     "metadata": {},
     "output_type": "execute_result"
    }
   ],
   "source": [
    "unique_posts / unique_ids"
   ]
  },
  {
   "cell_type": "markdown",
   "metadata": {},
   "source": [
    "________________________\n",
    "## Column and Index Check"
   ]
  },
  {
   "cell_type": "markdown",
   "metadata": {},
   "source": [
    "### Checking column index"
   ]
  },
  {
   "cell_type": "code",
   "execution_count": 8,
   "metadata": {},
   "outputs": [],
   "source": [
    "reddit_posts.columns;"
   ]
  },
  {
   "cell_type": "markdown",
   "metadata": {},
   "source": [
    "### Checking row index\n",
    "* row index appears to be repeating similarly to how it was in the beer api_pull notebook. \n",
    "* It is due to the for-loop that I ran to pull from API. \n",
    "* going to reset index"
   ]
  },
  {
   "cell_type": "code",
   "execution_count": 9,
   "metadata": {},
   "outputs": [
    {
     "data": {
      "text/plain": [
       "Int64Index([ 0,  1,  2,  3,  4,  5,  6,  7,  8,  9,\n",
       "            ...\n",
       "            90, 91, 92, 93, 94, 95, 96, 97, 98, 99],\n",
       "           dtype='int64', length=4000)"
      ]
     },
     "execution_count": 9,
     "metadata": {},
     "output_type": "execute_result"
    }
   ],
   "source": [
    "reddit_posts.index"
   ]
  },
  {
   "cell_type": "code",
   "execution_count": 10,
   "metadata": {},
   "outputs": [],
   "source": [
    "reddit_posts.reset_index(inplace = True, drop = True)"
   ]
  },
  {
   "cell_type": "code",
   "execution_count": 11,
   "metadata": {},
   "outputs": [
    {
     "data": {
      "text/plain": [
       "RangeIndex(start=0, stop=4000, step=1)"
      ]
     },
     "execution_count": 11,
     "metadata": {},
     "output_type": "execute_result"
    }
   ],
   "source": [
    "reddit_posts.index"
   ]
  },
  {
   "cell_type": "markdown",
   "metadata": {},
   "source": [
    "______________________"
   ]
  },
  {
   "cell_type": "markdown",
   "metadata": {},
   "source": [
    "### Summary Info"
   ]
  },
  {
   "cell_type": "code",
   "execution_count": 12,
   "metadata": {},
   "outputs": [
    {
     "name": "stdout",
     "output_type": "stream",
     "text": [
      "<class 'pandas.core.frame.DataFrame'>\n",
      "RangeIndex: 4000 entries, 0 to 3999\n",
      "Data columns (total 81 columns):\n",
      " #   Column                         Non-Null Count  Dtype  \n",
      "---  ------                         --------------  -----  \n",
      " 0   all_awardings                  4000 non-null   object \n",
      " 1   allow_live_comments            4000 non-null   bool   \n",
      " 2   author                         4000 non-null   object \n",
      " 3   author_flair_css_class         0 non-null      object \n",
      " 4   author_flair_richtext          3969 non-null   object \n",
      " 5   author_flair_text              0 non-null      object \n",
      " 6   author_flair_type              3969 non-null   object \n",
      " 7   author_fullname                3969 non-null   object \n",
      " 8   author_patreon_flair           3969 non-null   object \n",
      " 9   author_premium                 3797 non-null   object \n",
      " 10  awarders                       4000 non-null   object \n",
      " 11  can_mod_post                   4000 non-null   bool   \n",
      " 12  contest_mode                   4000 non-null   bool   \n",
      " 13  created_utc                    4000 non-null   int64  \n",
      " 14  domain                         4000 non-null   object \n",
      " 15  full_link                      4000 non-null   object \n",
      " 16  gildings                       4000 non-null   object \n",
      " 17  id                             4000 non-null   object \n",
      " 18  is_crosspostable               4000 non-null   bool   \n",
      " 19  is_meta                        4000 non-null   bool   \n",
      " 20  is_original_content            4000 non-null   bool   \n",
      " 21  is_reddit_media_domain         4000 non-null   bool   \n",
      " 22  is_robot_indexable             4000 non-null   bool   \n",
      " 23  is_self                        4000 non-null   bool   \n",
      " 24  is_video                       4000 non-null   bool   \n",
      " 25  link_flair_background_color    4000 non-null   object \n",
      " 26  link_flair_richtext            4000 non-null   object \n",
      " 27  link_flair_text_color          4000 non-null   object \n",
      " 28  link_flair_type                4000 non-null   object \n",
      " 29  locked                         4000 non-null   bool   \n",
      " 30  media_only                     4000 non-null   bool   \n",
      " 31  no_follow                      4000 non-null   bool   \n",
      " 32  num_comments                   4000 non-null   int64  \n",
      " 33  num_crossposts                 4000 non-null   int64  \n",
      " 34  over_18                        4000 non-null   bool   \n",
      " 35  parent_whitelist_status        4000 non-null   object \n",
      " 36  permalink                      4000 non-null   object \n",
      " 37  pinned                         4000 non-null   bool   \n",
      " 38  post_hint                      1443 non-null   object \n",
      " 39  preview                        1443 non-null   object \n",
      " 40  pwls                           4000 non-null   int64  \n",
      " 41  retrieved_on                   4000 non-null   int64  \n",
      " 42  score                          4000 non-null   int64  \n",
      " 43  selftext                       3999 non-null   object \n",
      " 44  send_replies                   4000 non-null   bool   \n",
      " 45  spoiler                        4000 non-null   bool   \n",
      " 46  stickied                       4000 non-null   bool   \n",
      " 47  subreddit                      4000 non-null   object \n",
      " 48  subreddit_id                   4000 non-null   object \n",
      " 49  subreddit_subscribers          4000 non-null   int64  \n",
      " 50  subreddit_type                 4000 non-null   object \n",
      " 51  thumbnail                      4000 non-null   object \n",
      " 52  thumbnail_height               1480 non-null   float64\n",
      " 53  thumbnail_width                1480 non-null   float64\n",
      " 54  title                          4000 non-null   object \n",
      " 55  total_awards_received          4000 non-null   int64  \n",
      " 56  treatment_tags                 3035 non-null   object \n",
      " 57  upvote_ratio                   2846 non-null   float64\n",
      " 58  url                            4000 non-null   object \n",
      " 59  url_overridden_by_dest         1050 non-null   object \n",
      " 60  whitelist_status               4000 non-null   object \n",
      " 61  wls                            4000 non-null   int64  \n",
      " 62  crosspost_parent               80 non-null     object \n",
      " 63  crosspost_parent_list          80 non-null     object \n",
      " 64  gallery_data                   163 non-null    object \n",
      " 65  is_gallery                     164 non-null    object \n",
      " 66  media_metadata                 196 non-null    object \n",
      " 67  media                          168 non-null    object \n",
      " 68  secure_media                   168 non-null    object \n",
      " 69  removed_by_category            247 non-null    object \n",
      " 70  media_embed                    151 non-null    object \n",
      " 71  secure_media_embed             151 non-null    object \n",
      " 72  author_cakeday                 18 non-null     object \n",
      " 73  edited                         22 non-null     float64\n",
      " 74  author_flair_background_color  31 non-null     object \n",
      " 75  author_flair_text_color        31 non-null     object \n",
      " 76  banned_by                      1 non-null      object \n",
      " 77  poll_data                      7 non-null      object \n",
      " 78  steward_reports                447 non-null    object \n",
      " 79  removed_by                     5 non-null      object \n",
      " 80  updated_utc                    35 non-null     float64\n",
      "dtypes: bool(18), float64(5), int64(9), object(49)\n",
      "memory usage: 2.0+ MB\n"
     ]
    }
   ],
   "source": [
    "reddit_posts.info()"
   ]
  },
  {
   "cell_type": "markdown",
   "metadata": {},
   "source": [
    "# Step 3\n",
    "\n",
    "# Preprocessing / Cleaning\n",
    "\n",
    "## Create new Wine_1 dataframe with reduced columns"
   ]
  },
  {
   "cell_type": "code",
   "execution_count": 13,
   "metadata": {},
   "outputs": [],
   "source": [
    "wine_1 = reddit_posts[['id', 'created_utc', 'title', 'selftext', 'author', 'score', 'num_comments', 'subreddit']]"
   ]
  },
  {
   "cell_type": "code",
   "execution_count": 14,
   "metadata": {},
   "outputs": [
    {
     "data": {
      "text/html": [
       "<div>\n",
       "<style scoped>\n",
       "    .dataframe tbody tr th:only-of-type {\n",
       "        vertical-align: middle;\n",
       "    }\n",
       "\n",
       "    .dataframe tbody tr th {\n",
       "        vertical-align: top;\n",
       "    }\n",
       "\n",
       "    .dataframe thead th {\n",
       "        text-align: right;\n",
       "    }\n",
       "</style>\n",
       "<table border=\"1\" class=\"dataframe\">\n",
       "  <thead>\n",
       "    <tr style=\"text-align: right;\">\n",
       "      <th></th>\n",
       "      <th>id</th>\n",
       "      <th>created_utc</th>\n",
       "      <th>title</th>\n",
       "      <th>selftext</th>\n",
       "      <th>author</th>\n",
       "      <th>score</th>\n",
       "      <th>num_comments</th>\n",
       "      <th>subreddit</th>\n",
       "    </tr>\n",
       "  </thead>\n",
       "  <tbody>\n",
       "    <tr>\n",
       "      <th>0</th>\n",
       "      <td>ktkbti</td>\n",
       "      <td>1610168355</td>\n",
       "      <td>Multitasking- I know V8s are supposed to be he...</td>\n",
       "      <td></td>\n",
       "      <td>CounterReloj101</td>\n",
       "      <td>1</td>\n",
       "      <td>0</td>\n",
       "      <td>winemaking</td>\n",
       "    </tr>\n",
       "    <tr>\n",
       "      <th>1</th>\n",
       "      <td>ktitve</td>\n",
       "      <td>1610162643</td>\n",
       "      <td>What is the name of a convex plug like that ? ...</td>\n",
       "      <td></td>\n",
       "      <td>Crepeas</td>\n",
       "      <td>1</td>\n",
       "      <td>0</td>\n",
       "      <td>winemaking</td>\n",
       "    </tr>\n",
       "    <tr>\n",
       "      <th>2</th>\n",
       "      <td>ktfzsp</td>\n",
       "      <td>1610152734</td>\n",
       "      <td>Blackberry wine, now 1.5 years old. First brew...</td>\n",
       "      <td></td>\n",
       "      <td>Double_Criticism4900</td>\n",
       "      <td>2</td>\n",
       "      <td>2</td>\n",
       "      <td>winemaking</td>\n",
       "    </tr>\n",
       "    <tr>\n",
       "      <th>3</th>\n",
       "      <td>kt9m9f</td>\n",
       "      <td>1610133809</td>\n",
       "      <td>The oldest alcoholic drinks is displayed in th...</td>\n",
       "      <td></td>\n",
       "      <td>-Darttz-</td>\n",
       "      <td>2</td>\n",
       "      <td>0</td>\n",
       "      <td>winemaking</td>\n",
       "    </tr>\n",
       "    <tr>\n",
       "      <th>4</th>\n",
       "      <td>kt9l6i</td>\n",
       "      <td>1610133735</td>\n",
       "      <td>Rondo Port/Fortified wine?</td>\n",
       "      <td>Hey gang, I will be growing Rondo grapes in th...</td>\n",
       "      <td>AinslieBM</td>\n",
       "      <td>1</td>\n",
       "      <td>0</td>\n",
       "      <td>winemaking</td>\n",
       "    </tr>\n",
       "  </tbody>\n",
       "</table>\n",
       "</div>"
      ],
      "text/plain": [
       "       id  created_utc                                              title  \\\n",
       "0  ktkbti   1610168355  Multitasking- I know V8s are supposed to be he...   \n",
       "1  ktitve   1610162643  What is the name of a convex plug like that ? ...   \n",
       "2  ktfzsp   1610152734  Blackberry wine, now 1.5 years old. First brew...   \n",
       "3  kt9m9f   1610133809  The oldest alcoholic drinks is displayed in th...   \n",
       "4  kt9l6i   1610133735                         Rondo Port/Fortified wine?   \n",
       "\n",
       "                                            selftext                author  \\\n",
       "0                                                          CounterReloj101   \n",
       "1                                                                  Crepeas   \n",
       "2                                                     Double_Criticism4900   \n",
       "3                                                                 -Darttz-   \n",
       "4  Hey gang, I will be growing Rondo grapes in th...             AinslieBM   \n",
       "\n",
       "   score  num_comments   subreddit  \n",
       "0      1             0  winemaking  \n",
       "1      1             0  winemaking  \n",
       "2      2             2  winemaking  \n",
       "3      2             0  winemaking  \n",
       "4      1             0  winemaking  "
      ]
     },
     "execution_count": 14,
     "metadata": {},
     "output_type": "execute_result"
    }
   ],
   "source": [
    "wine_1.head()"
   ]
  },
  {
   "cell_type": "markdown",
   "metadata": {},
   "source": [
    "### Checking for Duplicates\n",
    "* There are none according to .duplicated()\n",
    "* however, value_counts on 'selftext' reveal a few duplicated 'selftext' values."
   ]
  },
  {
   "cell_type": "code",
   "execution_count": 15,
   "metadata": {},
   "outputs": [
    {
     "data": {
      "text/plain": [
       "False    4000\n",
       "dtype: int64"
      ]
     },
     "execution_count": 15,
     "metadata": {},
     "output_type": "execute_result"
    }
   ],
   "source": [
    "wine_1.duplicated().value_counts()"
   ]
  },
  {
   "cell_type": "markdown",
   "metadata": {},
   "source": [
    "There are a few removed and deleted values. Not as many as in the homebrewing data. "
   ]
  },
  {
   "cell_type": "code",
   "execution_count": 16,
   "metadata": {},
   "outputs": [
    {
     "data": {
      "text/plain": [
       "                                                                                                                                                                                                                                                                                                                                                                                                                                                                                                                                                                                                                                                                                                                                                                                                                                                                                                                                                 1943\n",
       "[removed]                                                                                                                                                                                                                                                                                                                                                                                                                                                                                                                                                                                                                                                                                                                                                                                                                                                                                                                                          76\n",
       "[deleted]                                                                                                                                                                                                                                                                                                                                                                                                                                                                                                                                                                                                                                                                                                                                                                                                                                                                                                                                          30\n",
       "I’m trying out making a minimalistic wine 100% out of things left over around the house. So I put together a starter today out of some apple peels, lemon juice, honey and water. I’m considering dropping some blueberries in the starter as I grow them in my yard, whereas the apple peels were from the grocery store and I washed them when I got them home. I also have frozen peaches. \\n\\n**But what I’m concerned about, is if I just haphazardly dump all this random stuff in and get it to ferment, is there a chance that I’ll make something that will hurt someone who drinks it? Like might I accidentally breed a harmful bacteria?**\\n\\nAgain, I’m doing this totally minimalistic style, even down to using a homemade airlock, so I know I should just buy brewers yeast and all the gear to do it right, but that defeats the point of my experiment doing it with just left over home resources. Thanks for any advice!       6\n",
       "Hello all. I'm relatively new to wine making; I've made a few successful (albeit unexciting) batches of cider over the last year. Due to space, I fell off the wagon and haven't touched my equipment in some time.\\n\\nI'm looking to jump back into making wines, ciders, meads, and melomels for the upcoming holidays.\\n\\nAnyone have a good recipe book so I'm not scouring the internet for subpar recipes? I'm a fast learner, so the book doesn't necessarily have to be beginner-friendly.\\n\\nThank you so much! Hope everyone is safe and well!                                                                                                                                                                                                                                                                                                                                                                                            2\n",
       "Name: selftext, dtype: int64"
      ]
     },
     "execution_count": 16,
     "metadata": {},
     "output_type": "execute_result"
    }
   ],
   "source": [
    "wine_1['selftext'].value_counts().head()"
   ]
  },
  {
   "cell_type": "markdown",
   "metadata": {},
   "source": [
    "### Eliminating 'removed' values"
   ]
  },
  {
   "cell_type": "code",
   "execution_count": 17,
   "metadata": {},
   "outputs": [
    {
     "name": "stdout",
     "output_type": "stream",
     "text": [
      "76\n"
     ]
    }
   ],
   "source": [
    "count = 0\n",
    "for item in wine_1['selftext']:\n",
    "    if item == '[removed]':\n",
    "        count += 1\n",
    "print(count)"
   ]
  },
  {
   "cell_type": "code",
   "execution_count": 18,
   "metadata": {},
   "outputs": [],
   "source": [
    "wine_1 = wine_1[wine_1['selftext'] != '[removed]']"
   ]
  },
  {
   "cell_type": "code",
   "execution_count": 19,
   "metadata": {},
   "outputs": [
    {
     "name": "stdout",
     "output_type": "stream",
     "text": [
      "0\n"
     ]
    }
   ],
   "source": [
    "count = 0\n",
    "for item in wine_1['selftext']:\n",
    "    if item == '[removed]':\n",
    "        count += 1\n",
    "print(count)"
   ]
  },
  {
   "cell_type": "markdown",
   "metadata": {},
   "source": [
    "### Eliminating 'deleted' values"
   ]
  },
  {
   "cell_type": "code",
   "execution_count": 20,
   "metadata": {},
   "outputs": [
    {
     "name": "stdout",
     "output_type": "stream",
     "text": [
      "30\n"
     ]
    }
   ],
   "source": [
    "count = 0\n",
    "for item in wine_1['selftext']:\n",
    "    if item == '[deleted]':\n",
    "        count += 1\n",
    "print(count)"
   ]
  },
  {
   "cell_type": "code",
   "execution_count": 21,
   "metadata": {},
   "outputs": [],
   "source": [
    "wine_1 = wine_1[wine_1['selftext'] != '[deleted]']"
   ]
  },
  {
   "cell_type": "code",
   "execution_count": 22,
   "metadata": {},
   "outputs": [
    {
     "name": "stdout",
     "output_type": "stream",
     "text": [
      "0\n"
     ]
    }
   ],
   "source": [
    "count = 0 \n",
    "for item in wine_1['selftext']:\n",
    "    if item == '[deleted]':\n",
    "        count += 1\n",
    "print(count)"
   ]
  },
  {
   "cell_type": "markdown",
   "metadata": {},
   "source": [
    "Resetting index again to account for dropped values"
   ]
  },
  {
   "cell_type": "code",
   "execution_count": 23,
   "metadata": {},
   "outputs": [],
   "source": [
    "wine_1.reset_index(inplace = True, drop = True)"
   ]
  },
  {
   "cell_type": "code",
   "execution_count": 24,
   "metadata": {},
   "outputs": [
    {
     "data": {
      "text/plain": [
       "RangeIndex(start=0, stop=3894, step=1)"
      ]
     },
     "execution_count": 24,
     "metadata": {},
     "output_type": "execute_result"
    }
   ],
   "source": [
    "wine_1.index"
   ]
  },
  {
   "cell_type": "code",
   "execution_count": 25,
   "metadata": {},
   "outputs": [
    {
     "data": {
      "text/plain": [
       "Index(['id', 'created_utc', 'title', 'selftext', 'author', 'score',\n",
       "       'num_comments', 'subreddit'],\n",
       "      dtype='object')"
      ]
     },
     "execution_count": 25,
     "metadata": {},
     "output_type": "execute_result"
    }
   ],
   "source": [
    "wine_1.columns"
   ]
  },
  {
   "cell_type": "markdown",
   "metadata": {},
   "source": [
    "### Eliminating duplicates\n",
    "* Not as many as in the homebrewing data but a few exist. "
   ]
  },
  {
   "cell_type": "code",
   "execution_count": 26,
   "metadata": {},
   "outputs": [],
   "source": [
    "wine_1 = wine_1.drop_duplicates('selftext', keep = 'first').reset_index(drop = True)"
   ]
  },
  {
   "cell_type": "code",
   "execution_count": 27,
   "metadata": {},
   "outputs": [
    {
     "data": {
      "text/plain": [
       "Index(['id', 'created_utc', 'title', 'selftext', 'author', 'score',\n",
       "       'num_comments', 'subreddit'],\n",
       "      dtype='object')"
      ]
     },
     "execution_count": 27,
     "metadata": {},
     "output_type": "execute_result"
    }
   ],
   "source": [
    "wine_1.columns"
   ]
  },
  {
   "cell_type": "markdown",
   "metadata": {},
   "source": [
    "Checking duplicates. No more exist"
   ]
  },
  {
   "cell_type": "code",
   "execution_count": 28,
   "metadata": {},
   "outputs": [],
   "source": [
    "wine_1['selftext'].value_counts().nlargest();"
   ]
  },
  {
   "cell_type": "code",
   "execution_count": 29,
   "metadata": {},
   "outputs": [
    {
     "data": {
      "text/plain": [
       "id              1936\n",
       "created_utc     1936\n",
       "title           1912\n",
       "selftext        1935\n",
       "author          1268\n",
       "score             21\n",
       "num_comments      49\n",
       "subreddit          1\n",
       "dtype: int64"
      ]
     },
     "execution_count": 29,
     "metadata": {},
     "output_type": "execute_result"
    }
   ],
   "source": [
    "wine_1.nunique()"
   ]
  },
  {
   "cell_type": "markdown",
   "metadata": {},
   "source": [
    "### Checking and Managing Null Values\n",
    "* 1 null value in selftext. I will drop the row.  "
   ]
  },
  {
   "cell_type": "code",
   "execution_count": 30,
   "metadata": {},
   "outputs": [
    {
     "data": {
      "image/png": "[encoded data removed]",
      "text/plain": [
       "<Figure size 1728x720 with 3 Axes>"
      ]
     },
     "metadata": {
      "needs_background": "light"
     },
     "output_type": "display_data"
    }
   ],
   "source": [
    "msno.bar(wine_1);"
   ]
  },
  {
   "cell_type": "code",
   "execution_count": 31,
   "metadata": {},
   "outputs": [],
   "source": [
    "wine_1 = wine_1.dropna()"
   ]
  },
  {
   "cell_type": "code",
   "execution_count": 32,
   "metadata": {},
   "outputs": [
    {
     "data": {
      "image/png": "[encoded data removed]",
      "text/plain": [
       "<Figure size 1728x720 with 3 Axes>"
      ]
     },
     "metadata": {
      "needs_background": "light"
     },
     "output_type": "display_data"
    }
   ],
   "source": [
    "msno.bar(wine_1);"
   ]
  },
  {
   "cell_type": "markdown",
   "metadata": {},
   "source": [
    "### Checking Post Lengths\n",
    "To ensure there is content in every post"
   ]
  },
  {
   "cell_type": "code",
   "execution_count": 33,
   "metadata": {},
   "outputs": [
    {
     "name": "stdout",
     "output_type": "stream",
     "text": [
      "\n"
     ]
    }
   ],
   "source": [
    "# There are no posts that have less than 5 characters\n",
    "for post in wine_1['selftext']:\n",
    "    if len(post) < 5:\n",
    "        print(post)"
   ]
  },
  {
   "cell_type": "markdown",
   "metadata": {},
   "source": [
    "Creating a list of post lengths to add to a histogram"
   ]
  },
  {
   "cell_type": "code",
   "execution_count": 34,
   "metadata": {},
   "outputs": [
    {
     "data": {
      "text/plain": [
       "1935"
      ]
     },
     "execution_count": 34,
     "metadata": {},
     "output_type": "execute_result"
    }
   ],
   "source": [
    "post_lengths = []\n",
    "for post in wine_1['selftext']:\n",
    "    post_lengths.append(len(post))\n",
    "len(post_lengths) # ensuring I got all the values. "
   ]
  },
  {
   "cell_type": "code",
   "execution_count": 35,
   "metadata": {},
   "outputs": [
    {
     "data": {
      "image/png": "[encoded data removed]",
      "text/plain": [
       "<Figure size 432x288 with 1 Axes>"
      ]
     },
     "metadata": {
      "needs_background": "light"
     },
     "output_type": "display_data"
    }
   ],
   "source": [
    "sns.distplot(post_lengths).set_title('Post Length by Characters')\n",
    "\n",
    "plt.xlabel('Post Length')\n",
    "plt.ylabel('Frequency');"
   ]
  },
  {
   "cell_type": "markdown",
   "metadata": {},
   "source": [
    "# Step 4\n",
    "# Preliminary EDA\n",
    "* This Exploratory Data Analysis is being conducted for the purpose of getting to know the data that surrounds the target data and predictor variables. It is also being utulized to identify any useful and interesting statistics or relationships that exist outside of predictive modeling and the exploratory process that preceeds modeling. \n",
    "\n",
    "### Unique Author / Unique Post Analysis"
   ]
  },
  {
   "cell_type": "markdown",
   "metadata": {},
   "source": [
    "Unique Authors"
   ]
  },
  {
   "cell_type": "code",
   "execution_count": 36,
   "metadata": {},
   "outputs": [
    {
     "data": {
      "text/plain": [
       "1267"
      ]
     },
     "execution_count": 36,
     "metadata": {},
     "output_type": "execute_result"
    }
   ],
   "source": [
    "unique_authors = wine_1['author'].nunique()\n",
    "unique_authors"
   ]
  },
  {
   "cell_type": "markdown",
   "metadata": {},
   "source": [
    "Unique Posts"
   ]
  },
  {
   "cell_type": "code",
   "execution_count": 37,
   "metadata": {},
   "outputs": [
    {
     "data": {
      "text/plain": [
       "1935"
      ]
     },
     "execution_count": 37,
     "metadata": {},
     "output_type": "execute_result"
    }
   ],
   "source": [
    "unique_posts = wine_1['selftext'].nunique()\n",
    "unique_posts"
   ]
  },
  {
   "cell_type": "markdown",
   "metadata": {},
   "source": [
    "Authors of Multiple Posts\n",
    "* There are 313 repeat authors of 1264 unique authors. \n",
    "* Almost 33% percent of authors are multiple posters. \n"
   ]
  },
  {
   "cell_type": "code",
   "execution_count": 38,
   "metadata": {},
   "outputs": [],
   "source": [
    "author_multi = wine_1['author'].value_counts() > 1"
   ]
  },
  {
   "cell_type": "code",
   "execution_count": 39,
   "metadata": {},
   "outputs": [
    {
     "data": {
      "text/plain": [
       "False    959\n",
       "True     308\n",
       "Name: author, dtype: int64"
      ]
     },
     "execution_count": 39,
     "metadata": {},
     "output_type": "execute_result"
    }
   ],
   "source": [
    "author_multi.value_counts()"
   ]
  },
  {
   "cell_type": "code",
   "execution_count": 40,
   "metadata": {},
   "outputs": [
    {
     "data": {
      "text/plain": [
       "0.3291272344900105"
      ]
     },
     "execution_count": 40,
     "metadata": {},
     "output_type": "execute_result"
    }
   ],
   "source": [
    "313 / 951"
   ]
  },
  {
   "cell_type": "code",
   "execution_count": 41,
   "metadata": {},
   "outputs": [
    {
     "data": {
      "text/plain": [
       "981"
      ]
     },
     "execution_count": 41,
     "metadata": {},
     "output_type": "execute_result"
    }
   ],
   "source": [
    "total_multi_posts = wine_1['author'].value_counts().nlargest(313).sum()\n",
    "total_multi_posts"
   ]
  },
  {
   "cell_type": "code",
   "execution_count": 42,
   "metadata": {},
   "outputs": [
    {
     "data": {
      "text/plain": [
       "0.5069767441860465"
      ]
     },
     "execution_count": 42,
     "metadata": {},
     "output_type": "execute_result"
    }
   ],
   "source": [
    "total_multi_posts / unique_posts"
   ]
  },
  {
   "cell_type": "markdown",
   "metadata": {},
   "source": [
    "_________________________________________________"
   ]
  },
  {
   "cell_type": "markdown",
   "metadata": {},
   "source": [
    "#### Analyzing Posts with Multiple Comments"
   ]
  },
  {
   "cell_type": "code",
   "execution_count": 43,
   "metadata": {},
   "outputs": [
    {
     "data": {
      "text/plain": [
       "1613"
      ]
     },
     "execution_count": 43,
     "metadata": {},
     "output_type": "execute_result"
    }
   ],
   "source": [
    "multi_comment_count = wine_1['num_comments'][wine_1['num_comments'] > 1].count()\n",
    "multi_comment_count"
   ]
  },
  {
   "cell_type": "markdown",
   "metadata": {},
   "source": [
    "#### Boxplot for Number of Comments (Prior to Eliminating Outliers if Necessary)\n",
    "\n",
    "Box plot showing distribution of the comment counts within and outside of the interquartile range. \n",
    "\n",
    "The whisker for the quartile is the vertical grey line. It is the 75 percentile plus 1.5 times the interquartile range. The black dots past that whisker are considered outliers. There a few outliers here but the variance and number is much smaller than what existed in the Homebrew data. Further data cleaning may not be needed. \n",
    "\n",
    "That being said, in alignment with the Homebrew data, the vast majority of posts receiving multiple comments are located closer to zero. The entire IQR is located below 10.  "
   ]
  },
  {
   "cell_type": "code",
   "execution_count": 44,
   "metadata": {},
   "outputs": [
    {
     "data": {
      "image/png": "[encoded data removed]",
      "text/plain": [
       "<Figure size 432x288 with 1 Axes>"
      ]
     },
     "metadata": {
      "needs_background": "light"
     },
     "output_type": "display_data"
    }
   ],
   "source": [
    "sns.boxplot(wine_1['num_comments'], width = .7, whis = 1.5).set_title('Number of Comments Per Post')\n",
    "\n",
    "plt.xlabel('Number of Comments');"
   ]
  },
  {
   "cell_type": "markdown",
   "metadata": {},
   "source": [
    "83 percent of posts had more than 1 comment. \n",
    "* This is slightly more discerning than homebrewing subreddit which had 94%. "
   ]
  },
  {
   "cell_type": "code",
   "execution_count": 45,
   "metadata": {},
   "outputs": [
    {
     "data": {
      "text/plain": [
       "0.8335917312661498"
      ]
     },
     "execution_count": 45,
     "metadata": {},
     "output_type": "execute_result"
    }
   ],
   "source": [
    "multi_comment_count / unique_posts"
   ]
  },
  {
   "cell_type": "code",
   "execution_count": 46,
   "metadata": {},
   "outputs": [
    {
     "data": {
      "text/html": [
       "<div>\n",
       "<style scoped>\n",
       "    .dataframe tbody tr th:only-of-type {\n",
       "        vertical-align: middle;\n",
       "    }\n",
       "\n",
       "    .dataframe tbody tr th {\n",
       "        vertical-align: top;\n",
       "    }\n",
       "\n",
       "    .dataframe thead th {\n",
       "        text-align: right;\n",
       "    }\n",
       "</style>\n",
       "<table border=\"1\" class=\"dataframe\">\n",
       "  <thead>\n",
       "    <tr style=\"text-align: right;\">\n",
       "      <th></th>\n",
       "      <th>created_utc</th>\n",
       "      <th>score</th>\n",
       "      <th>num_comments</th>\n",
       "    </tr>\n",
       "  </thead>\n",
       "  <tbody>\n",
       "    <tr>\n",
       "      <th>count</th>\n",
       "      <td>1.935000e+03</td>\n",
       "      <td>1935.000000</td>\n",
       "      <td>1935.000000</td>\n",
       "    </tr>\n",
       "    <tr>\n",
       "      <th>mean</th>\n",
       "      <td>1.593243e+09</td>\n",
       "      <td>1.280103</td>\n",
       "      <td>6.587080</td>\n",
       "    </tr>\n",
       "    <tr>\n",
       "      <th>std</th>\n",
       "      <td>9.855658e+06</td>\n",
       "      <td>2.097690</td>\n",
       "      <td>7.100588</td>\n",
       "    </tr>\n",
       "    <tr>\n",
       "      <th>min</th>\n",
       "      <td>1.572659e+09</td>\n",
       "      <td>0.000000</td>\n",
       "      <td>0.000000</td>\n",
       "    </tr>\n",
       "    <tr>\n",
       "      <th>25%</th>\n",
       "      <td>1.586071e+09</td>\n",
       "      <td>1.000000</td>\n",
       "      <td>2.000000</td>\n",
       "    </tr>\n",
       "    <tr>\n",
       "      <th>50%</th>\n",
       "      <td>1.594349e+09</td>\n",
       "      <td>1.000000</td>\n",
       "      <td>5.000000</td>\n",
       "    </tr>\n",
       "    <tr>\n",
       "      <th>75%</th>\n",
       "      <td>1.601217e+09</td>\n",
       "      <td>1.000000</td>\n",
       "      <td>9.000000</td>\n",
       "    </tr>\n",
       "    <tr>\n",
       "      <th>max</th>\n",
       "      <td>1.610168e+09</td>\n",
       "      <td>52.000000</td>\n",
       "      <td>78.000000</td>\n",
       "    </tr>\n",
       "  </tbody>\n",
       "</table>\n",
       "</div>"
      ],
      "text/plain": [
       "        created_utc        score  num_comments\n",
       "count  1.935000e+03  1935.000000   1935.000000\n",
       "mean   1.593243e+09     1.280103      6.587080\n",
       "std    9.855658e+06     2.097690      7.100588\n",
       "min    1.572659e+09     0.000000      0.000000\n",
       "25%    1.586071e+09     1.000000      2.000000\n",
       "50%    1.594349e+09     1.000000      5.000000\n",
       "75%    1.601217e+09     1.000000      9.000000\n",
       "max    1.610168e+09    52.000000     78.000000"
      ]
     },
     "execution_count": 46,
     "metadata": {},
     "output_type": "execute_result"
    }
   ],
   "source": [
    "wine_1.describe()"
   ]
  },
  {
   "cell_type": "markdown",
   "metadata": {},
   "source": [
    "If a post received less than 2 comments it was in the bottom 25% in terms of number of comments. The Homebrew data had a larger threshold for Q1 at 5 comments. If you received over 9 comments you were in the highest 25% of comment receivers. Again, this is lower than threshold the Homebrew data which saw a Q3 threshold of 16. "
   ]
  },
  {
   "cell_type": "markdown",
   "metadata": {},
   "source": [
    "### Analyzing Five Largest Comment Achievers"
   ]
  },
  {
   "cell_type": "code",
   "execution_count": 47,
   "metadata": {},
   "outputs": [
    {
     "data": {
      "text/plain": [
       "258     78\n",
       "224     70\n",
       "1320    67\n",
       "1725    62\n",
       "1913    57\n",
       "Name: num_comments, dtype: int64"
      ]
     },
     "execution_count": 47,
     "metadata": {},
     "output_type": "execute_result"
    }
   ],
   "source": [
    "wine_1['num_comments'].nlargest()"
   ]
  },
  {
   "cell_type": "markdown",
   "metadata": {},
   "source": [
    "Checking to see if anything odd exists in top give comment values. "
   ]
  },
  {
   "cell_type": "code",
   "execution_count": 48,
   "metadata": {},
   "outputs": [
    {
     "data": {
      "text/plain": [
       "215     Anyone like to recommend filtering equipment f...\n",
       "181     Hello everyone, I have a wine question since I...\n",
       "1277    Just starting to making my own wine for the ve...\n",
       "1682    I can't seem to find Montrachet, K1-V1116 or Q...\n",
       "1870    im poor and have crap tons of oranges that are...\n",
       "Name: selftext, dtype: object"
      ]
     },
     "execution_count": 48,
     "metadata": {},
     "output_type": "execute_result"
    }
   ],
   "source": [
    "wine_1.loc[[215, 181, 1277, 1682, 1870], 'selftext']"
   ]
  },
  {
   "cell_type": "markdown",
   "metadata": {},
   "source": [
    "Nothing seems unusal. I will leave comments the way they are. "
   ]
  },
  {
   "cell_type": "markdown",
   "metadata": {},
   "source": [
    "### Analyzing Score"
   ]
  },
  {
   "cell_type": "code",
   "execution_count": 49,
   "metadata": {},
   "outputs": [
    {
     "data": {
      "text/plain": [
       "1409    52\n",
       "906     46\n",
       "948     21\n",
       "1416    20\n",
       "1762    19\n",
       "Name: score, dtype: int64"
      ]
     },
     "execution_count": 49,
     "metadata": {},
     "output_type": "execute_result"
    }
   ],
   "source": [
    "wine_1['score'].nlargest()"
   ]
  },
  {
   "cell_type": "markdown",
   "metadata": {},
   "source": [
    "Posts that score over 1 (the base score) account for nearly 9 percent of posts. A fairly small fraction of posts actually get scored. This is inline with the Homebrew data which received a score in about 7 percent of posts. "
   ]
  },
  {
   "cell_type": "code",
   "execution_count": 50,
   "metadata": {},
   "outputs": [
    {
     "data": {
      "text/plain": [
       "140"
      ]
     },
     "execution_count": 50,
     "metadata": {},
     "output_type": "execute_result"
    }
   ],
   "source": [
    "score_over_1_count = wine_1['score'][wine_1['score'] > 1].count()\n",
    "score_over_1_count"
   ]
  },
  {
   "cell_type": "markdown",
   "metadata": {},
   "source": [
    "None of the top five scores (below) seem out of the ordinary. "
   ]
  },
  {
   "cell_type": "code",
   "execution_count": 51,
   "metadata": {},
   "outputs": [
    {
     "data": {
      "text/plain": [
       "1366    Hi all, I’m new to this sub and this is my fir...\n",
       "863     Hello all, my gallon batch of blueberry ginger...\n",
       "905     Hi! I have a question. I have tried to make wi...\n",
       "1373    I just bought a 1 gallon wine making kit, but ...\n",
       "1719    Hey everyone! I just wanted to start a thread ...\n",
       "Name: selftext, dtype: object"
      ]
     },
     "execution_count": 51,
     "metadata": {},
     "output_type": "execute_result"
    }
   ],
   "source": [
    "wine_1.loc[[1366, 863, 905, 1373, 1719], 'selftext']"
   ]
  },
  {
   "cell_type": "code",
   "execution_count": 52,
   "metadata": {},
   "outputs": [
    {
     "data": {
      "text/plain": [
       "0.07235142118863049"
      ]
     },
     "execution_count": 52,
     "metadata": {},
     "output_type": "execute_result"
    }
   ],
   "source": [
    "score_over_1_count / unique_posts"
   ]
  },
  {
   "cell_type": "markdown",
   "metadata": {},
   "source": [
    "# Step 5\n",
    "# Preparing DF for Text Analysis"
   ]
  },
  {
   "cell_type": "code",
   "execution_count": 53,
   "metadata": {},
   "outputs": [
    {
     "data": {
      "text/plain": [
       "Index(['id', 'created_utc', 'title', 'selftext', 'author', 'score',\n",
       "       'num_comments', 'subreddit'],\n",
       "      dtype='object')"
      ]
     },
     "execution_count": 53,
     "metadata": {},
     "output_type": "execute_result"
    }
   ],
   "source": [
    "wine_1.columns"
   ]
  },
  {
   "cell_type": "code",
   "execution_count": 54,
   "metadata": {},
   "outputs": [],
   "source": [
    "wine_1 = wine_1.drop(columns = ['id', 'created_utc', 'author', 'score', 'num_comments'])"
   ]
  },
  {
   "cell_type": "code",
   "execution_count": 55,
   "metadata": {},
   "outputs": [
    {
     "data": {
      "text/plain": [
       "Index(['title', 'selftext', 'subreddit'], dtype='object')"
      ]
     },
     "execution_count": 55,
     "metadata": {},
     "output_type": "execute_result"
    }
   ],
   "source": [
    "wine_1.columns"
   ]
  },
  {
   "cell_type": "markdown",
   "metadata": {},
   "source": [
    "### Adding title to self text for the purpose of text analysis"
   ]
  },
  {
   "cell_type": "code",
   "execution_count": 56,
   "metadata": {},
   "outputs": [],
   "source": [
    "wine_1['selftext'] = wine_1['title'] + ' ' + wine_1['selftext']"
   ]
  },
  {
   "cell_type": "code",
   "execution_count": 57,
   "metadata": {
    "scrolled": true
   },
   "outputs": [
    {
     "data": {
      "text/plain": [
       "0    Multitasking- I know V8s are supposed to be he...\n",
       "1    Rondo Port/Fortified wine? Hey gang, I will be...\n",
       "2    How much water should I use? I know this is su...\n",
       "3    using oak chips i am going to try again at a b...\n",
       "4    Snow in Rousset les Vignes (Rhône Valley, AOC)...\n",
       "Name: selftext, dtype: object"
      ]
     },
     "execution_count": 57,
     "metadata": {},
     "output_type": "execute_result"
    }
   ],
   "source": [
    "wine_1['selftext'].head()"
   ]
  },
  {
   "cell_type": "code",
   "execution_count": 58,
   "metadata": {},
   "outputs": [
    {
     "data": {
      "text/html": [
       "<div>\n",
       "<style scoped>\n",
       "    .dataframe tbody tr th:only-of-type {\n",
       "        vertical-align: middle;\n",
       "    }\n",
       "\n",
       "    .dataframe tbody tr th {\n",
       "        vertical-align: top;\n",
       "    }\n",
       "\n",
       "    .dataframe thead th {\n",
       "        text-align: right;\n",
       "    }\n",
       "</style>\n",
       "<table border=\"1\" class=\"dataframe\">\n",
       "  <thead>\n",
       "    <tr style=\"text-align: right;\">\n",
       "      <th></th>\n",
       "      <th>title</th>\n",
       "      <th>selftext</th>\n",
       "      <th>subreddit</th>\n",
       "    </tr>\n",
       "  </thead>\n",
       "  <tbody>\n",
       "    <tr>\n",
       "      <th>0</th>\n",
       "      <td>Multitasking- I know V8s are supposed to be he...</td>\n",
       "      <td>Multitasking- I know V8s are supposed to be he...</td>\n",
       "      <td>winemaking</td>\n",
       "    </tr>\n",
       "    <tr>\n",
       "      <th>1</th>\n",
       "      <td>Rondo Port/Fortified wine?</td>\n",
       "      <td>Rondo Port/Fortified wine? Hey gang, I will be...</td>\n",
       "      <td>winemaking</td>\n",
       "    </tr>\n",
       "    <tr>\n",
       "      <th>2</th>\n",
       "      <td>How much water should I use?</td>\n",
       "      <td>How much water should I use? I know this is su...</td>\n",
       "      <td>winemaking</td>\n",
       "    </tr>\n",
       "    <tr>\n",
       "      <th>3</th>\n",
       "      <td>using oak chips</td>\n",
       "      <td>using oak chips i am going to try again at a b...</td>\n",
       "      <td>winemaking</td>\n",
       "    </tr>\n",
       "    <tr>\n",
       "      <th>4</th>\n",
       "      <td>Snow in Rousset les Vignes (Rhône Valley, AOC)</td>\n",
       "      <td>Snow in Rousset les Vignes (Rhône Valley, AOC)...</td>\n",
       "      <td>winemaking</td>\n",
       "    </tr>\n",
       "    <tr>\n",
       "      <th>...</th>\n",
       "      <td>...</td>\n",
       "      <td>...</td>\n",
       "      <td>...</td>\n",
       "    </tr>\n",
       "    <tr>\n",
       "      <th>1931</th>\n",
       "      <td>Refractometer Gift Recommendations please?</td>\n",
       "      <td>Refractometer Gift Recommendations please? Hi ...</td>\n",
       "      <td>winemaking</td>\n",
       "    </tr>\n",
       "    <tr>\n",
       "      <th>1932</th>\n",
       "      <td>Wine, Wine Making, Storage and Transport in a ...</td>\n",
       "      <td>Wine, Wine Making, Storage and Transport in a ...</td>\n",
       "      <td>winemaking</td>\n",
       "    </tr>\n",
       "    <tr>\n",
       "      <th>1933</th>\n",
       "      <td>Can I cold crash in a chest freezer?</td>\n",
       "      <td>Can I cold crash in a chest freezer? I still h...</td>\n",
       "      <td>winemaking</td>\n",
       "    </tr>\n",
       "    <tr>\n",
       "      <th>1934</th>\n",
       "      <td>Wine finishes fine but initial taste is watery</td>\n",
       "      <td>Wine finishes fine but initial taste is watery...</td>\n",
       "      <td>winemaking</td>\n",
       "    </tr>\n",
       "    <tr>\n",
       "      <th>1935</th>\n",
       "      <td>Camden Tablets leave floating white particles</td>\n",
       "      <td>Camden Tablets leave floating white particles ...</td>\n",
       "      <td>winemaking</td>\n",
       "    </tr>\n",
       "  </tbody>\n",
       "</table>\n",
       "<p>1935 rows × 3 columns</p>\n",
       "</div>"
      ],
      "text/plain": [
       "                                                  title  \\\n",
       "0     Multitasking- I know V8s are supposed to be he...   \n",
       "1                            Rondo Port/Fortified wine?   \n",
       "2                          How much water should I use?   \n",
       "3                                       using oak chips   \n",
       "4        Snow in Rousset les Vignes (Rhône Valley, AOC)   \n",
       "...                                                 ...   \n",
       "1931         Refractometer Gift Recommendations please?   \n",
       "1932  Wine, Wine Making, Storage and Transport in a ...   \n",
       "1933               Can I cold crash in a chest freezer?   \n",
       "1934     Wine finishes fine but initial taste is watery   \n",
       "1935      Camden Tablets leave floating white particles   \n",
       "\n",
       "                                               selftext   subreddit  \n",
       "0     Multitasking- I know V8s are supposed to be he...  winemaking  \n",
       "1     Rondo Port/Fortified wine? Hey gang, I will be...  winemaking  \n",
       "2     How much water should I use? I know this is su...  winemaking  \n",
       "3     using oak chips i am going to try again at a b...  winemaking  \n",
       "4     Snow in Rousset les Vignes (Rhône Valley, AOC)...  winemaking  \n",
       "...                                                 ...         ...  \n",
       "1931  Refractometer Gift Recommendations please? Hi ...  winemaking  \n",
       "1932  Wine, Wine Making, Storage and Transport in a ...  winemaking  \n",
       "1933  Can I cold crash in a chest freezer? I still h...  winemaking  \n",
       "1934  Wine finishes fine but initial taste is watery...  winemaking  \n",
       "1935  Camden Tablets leave floating white particles ...  winemaking  \n",
       "\n",
       "[1935 rows x 3 columns]"
      ]
     },
     "execution_count": 58,
     "metadata": {},
     "output_type": "execute_result"
    }
   ],
   "source": [
    "wine_1"
   ]
  },
  {
   "cell_type": "code",
   "execution_count": 59,
   "metadata": {
    "scrolled": true
   },
   "outputs": [],
   "source": [
    "# found a marketing add above that I didn't find previously. I am going to remove it. \n",
    "wine_1.drop(1, inplace = True)"
   ]
  },
  {
   "cell_type": "code",
   "execution_count": 60,
   "metadata": {},
   "outputs": [],
   "source": [
    "wine_1.reset_index(inplace = True, drop = True)"
   ]
  },
  {
   "cell_type": "code",
   "execution_count": 61,
   "metadata": {},
   "outputs": [
    {
     "data": {
      "text/html": [
       "<div>\n",
       "<style scoped>\n",
       "    .dataframe tbody tr th:only-of-type {\n",
       "        vertical-align: middle;\n",
       "    }\n",
       "\n",
       "    .dataframe tbody tr th {\n",
       "        vertical-align: top;\n",
       "    }\n",
       "\n",
       "    .dataframe thead th {\n",
       "        text-align: right;\n",
       "    }\n",
       "</style>\n",
       "<table border=\"1\" class=\"dataframe\">\n",
       "  <thead>\n",
       "    <tr style=\"text-align: right;\">\n",
       "      <th></th>\n",
       "      <th>title</th>\n",
       "      <th>selftext</th>\n",
       "      <th>subreddit</th>\n",
       "    </tr>\n",
       "  </thead>\n",
       "  <tbody>\n",
       "    <tr>\n",
       "      <th>0</th>\n",
       "      <td>Multitasking- I know V8s are supposed to be he...</td>\n",
       "      <td>Multitasking- I know V8s are supposed to be he...</td>\n",
       "      <td>winemaking</td>\n",
       "    </tr>\n",
       "    <tr>\n",
       "      <th>1</th>\n",
       "      <td>How much water should I use?</td>\n",
       "      <td>How much water should I use? I know this is su...</td>\n",
       "      <td>winemaking</td>\n",
       "    </tr>\n",
       "    <tr>\n",
       "      <th>2</th>\n",
       "      <td>using oak chips</td>\n",
       "      <td>using oak chips i am going to try again at a b...</td>\n",
       "      <td>winemaking</td>\n",
       "    </tr>\n",
       "    <tr>\n",
       "      <th>3</th>\n",
       "      <td>Snow in Rousset les Vignes (Rhône Valley, AOC)</td>\n",
       "      <td>Snow in Rousset les Vignes (Rhône Valley, AOC)...</td>\n",
       "      <td>winemaking</td>\n",
       "    </tr>\n",
       "    <tr>\n",
       "      <th>4</th>\n",
       "      <td>Managing sulphur in filled barrels</td>\n",
       "      <td>Managing sulphur in filled barrels Is there an...</td>\n",
       "      <td>winemaking</td>\n",
       "    </tr>\n",
       "    <tr>\n",
       "      <th>...</th>\n",
       "      <td>...</td>\n",
       "      <td>...</td>\n",
       "      <td>...</td>\n",
       "    </tr>\n",
       "    <tr>\n",
       "      <th>1929</th>\n",
       "      <td>Refractometer Gift Recommendations please?</td>\n",
       "      <td>Refractometer Gift Recommendations please? Hi ...</td>\n",
       "      <td>winemaking</td>\n",
       "    </tr>\n",
       "    <tr>\n",
       "      <th>1930</th>\n",
       "      <td>Wine, Wine Making, Storage and Transport in a ...</td>\n",
       "      <td>Wine, Wine Making, Storage and Transport in a ...</td>\n",
       "      <td>winemaking</td>\n",
       "    </tr>\n",
       "    <tr>\n",
       "      <th>1931</th>\n",
       "      <td>Can I cold crash in a chest freezer?</td>\n",
       "      <td>Can I cold crash in a chest freezer? I still h...</td>\n",
       "      <td>winemaking</td>\n",
       "    </tr>\n",
       "    <tr>\n",
       "      <th>1932</th>\n",
       "      <td>Wine finishes fine but initial taste is watery</td>\n",
       "      <td>Wine finishes fine but initial taste is watery...</td>\n",
       "      <td>winemaking</td>\n",
       "    </tr>\n",
       "    <tr>\n",
       "      <th>1933</th>\n",
       "      <td>Camden Tablets leave floating white particles</td>\n",
       "      <td>Camden Tablets leave floating white particles ...</td>\n",
       "      <td>winemaking</td>\n",
       "    </tr>\n",
       "  </tbody>\n",
       "</table>\n",
       "<p>1934 rows × 3 columns</p>\n",
       "</div>"
      ],
      "text/plain": [
       "                                                  title  \\\n",
       "0     Multitasking- I know V8s are supposed to be he...   \n",
       "1                          How much water should I use?   \n",
       "2                                       using oak chips   \n",
       "3        Snow in Rousset les Vignes (Rhône Valley, AOC)   \n",
       "4                    Managing sulphur in filled barrels   \n",
       "...                                                 ...   \n",
       "1929         Refractometer Gift Recommendations please?   \n",
       "1930  Wine, Wine Making, Storage and Transport in a ...   \n",
       "1931               Can I cold crash in a chest freezer?   \n",
       "1932     Wine finishes fine but initial taste is watery   \n",
       "1933      Camden Tablets leave floating white particles   \n",
       "\n",
       "                                               selftext   subreddit  \n",
       "0     Multitasking- I know V8s are supposed to be he...  winemaking  \n",
       "1     How much water should I use? I know this is su...  winemaking  \n",
       "2     using oak chips i am going to try again at a b...  winemaking  \n",
       "3     Snow in Rousset les Vignes (Rhône Valley, AOC)...  winemaking  \n",
       "4     Managing sulphur in filled barrels Is there an...  winemaking  \n",
       "...                                                 ...         ...  \n",
       "1929  Refractometer Gift Recommendations please? Hi ...  winemaking  \n",
       "1930  Wine, Wine Making, Storage and Transport in a ...  winemaking  \n",
       "1931  Can I cold crash in a chest freezer? I still h...  winemaking  \n",
       "1932  Wine finishes fine but initial taste is watery...  winemaking  \n",
       "1933  Camden Tablets leave floating white particles ...  winemaking  \n",
       "\n",
       "[1934 rows x 3 columns]"
      ]
     },
     "execution_count": 61,
     "metadata": {},
     "output_type": "execute_result"
    }
   ],
   "source": [
    "wine_1"
   ]
  },
  {
   "cell_type": "markdown",
   "metadata": {},
   "source": [
    "# Saving new df to CSV"
   ]
  },
  {
   "cell_type": "code",
   "execution_count": 62,
   "metadata": {},
   "outputs": [],
   "source": [
    "wine_1.to_csv('../data/01_wine.csv', index = False)"
   ]
  },
  {
   "cell_type": "code",
   "execution_count": null,
   "metadata": {},
   "outputs": [],
   "source": []
  }
 ],
 "metadata": {
  "kernelspec": {
   "display_name": "Python 3",
   "language": "python",
   "name": "python3"
  },
  "language_info": {
   "codemirror_mode": {
    "name": "ipython",
    "version": 3
   },
   "file_extension": ".py",
   "mimetype": "text/x-python",
   "name": "python",
   "nbconvert_exporter": "python",
   "pygments_lexer": "ipython3",
   "version": "3.8.3"
  }
 },
 "nbformat": 4,
 "nbformat_minor": 4
}
