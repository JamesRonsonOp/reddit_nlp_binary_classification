{
 "cells": [
  {
   "cell_type": "markdown",
   "metadata": {},
   "source": [
    "# About This Notebook"
   ]
  },
  {
   "cell_type": "markdown",
   "metadata": {},
   "source": [
    "This notebook takes in data from https://www.reddit.com/r/Homebrewing/  via the Push Shift API found at www.pushshift.io\n",
    "\n",
    "This notebook consists of five steps of initial data retrieval and preprocessing for a Natural Language Processing Project. \n",
    "\n",
    "The project at large will intake data from two different subreddits (from www.Reddit.com), clean and process the data, explore the data for relationships, create and manipulate features and then model to produce a predictive classification model. \n",
    "\n",
    "This notebook will begin the process described above through the following steps: \n",
    "\n",
    "Step 1: Data Retrieval - Is the process of pulling the data from Reddit using the Pushshift API.\n",
    "\n",
    "Step 2: Initial Analysis for Cleaning - Which will analyze unique values, indexes and summary info. \n",
    "\n",
    "Step 3: Preprocessing / Cleaning - Will reduce the amount of features being processed, handle duplicate values, and eliminate null values. \n",
    "\n",
    "Step 4: Preliminary EDA - Will conduct an initial exploration of the data to analyze unique values in greater detail, initially explore the possibility of outliers in the data and look into features that may be interesting overall but that may not make it into the advanced EDA and modeling process. \n",
    "\n",
    "Step 5: Preparing DF for Text Analysis - This process will reduce feature columns to just those that will be used in advanced EDA and modeling. It will then save this file to CSV for the purpose of importing into another notebook focused on advanced EDA and feature creation. "
   ]
  },
  {
   "cell_type": "markdown",
   "metadata": {},
   "source": [
    "About r/Homebrewing subreddit:\n",
    "\n",
    "* Created in June of 2008 it is a community of brewers, mazers, vitners and cider makers. \n",
    "* There are at time of this project over 1 million members. \n",
    "* You can find more information about this community on thier Reddit Wiki https://www.reddit.com/r/Homebrewing/comments/ix1yd0/wiki_updates_new_wiki_editor/ where you will find introductions to the moderators and dedicated content creators, links to helpful Homebrewing information as well as links to their Slack and IRC channels. \n",
    "* One reason I chose this blog is because of their rule #3, 'Image only posts are not allowed.'"
   ]
  },
  {
   "cell_type": "markdown",
   "metadata": {},
   "source": [
    "### Importing Libraries"
   ]
  },
  {
   "cell_type": "code",
   "execution_count": 8,
   "metadata": {},
   "outputs": [],
   "source": [
    "import time\n",
    "import requests\n",
    "import pandas as pd\n",
    "import numpy as np\n",
    "import missingno as msno\n",
    "\n",
    "import matplotlib.pyplot as plt\n",
    "import seaborn as sns\n",
    "\n",
    "%matplotlib inline"
   ]
  },
  {
   "cell_type": "markdown",
   "metadata": {},
   "source": [
    "# Step 1 \n",
    "# Data Retrieval \n",
    "### Pulling in Data Using Pushshift API"
   ]
  },
  {
   "cell_type": "code",
   "execution_count": 10,
   "metadata": {},
   "outputs": [
    {
     "name": "stdout",
     "output_type": "stream",
     "text": [
      "res 1 code:  200\n",
      "res 2 code:  200\n",
      "res 3 code:  200\n",
      "res 4 code:  200\n",
      "res 5 code:  200\n",
      "res 6 code:  200\n",
      "res 7 code:  200\n",
      "res 8 code:  200\n",
      "res 9 code:  200\n",
      "res 10 code:  200\n",
      "res 11 code:  200\n",
      "res 12 code:  200\n",
      "res 13 code:  200\n",
      "res 14 code:  200\n",
      "res 15 code:  200\n",
      "res 16 code:  200\n",
      "res 17 code:  200\n",
      "res 18 code:  200\n",
      "res 19 code:  200\n",
      "res 20 code:  200\n",
      "res 21 code:  200\n",
      "res 22 code:  200\n",
      "res 23 code:  200\n",
      "res 24 code:  200\n",
      "res 25 code:  200\n",
      "res 26 code:  200\n",
      "res 27 code:  200\n",
      "res 28 code:  200\n",
      "res 29 code:  200\n",
      "res 30 code:  200\n"
     ]
    }
   ],
   "source": [
    "# defining url for pushshift apo\n",
    "url = 'https://api.pushshift.io/reddit/submission/search'\n",
    "# creating an empty list to collect the dataframe lists\n",
    "dfs = []\n",
    "\n",
    "# number of loops that will be made. Each loop pulls a new set of posts.\n",
    "loops = 30\n",
    "\n",
    "params = {\n",
    "        'subreddit': 'homebrewing', \n",
    "        'size': 100,\n",
    "#         'before' :\n",
    "        }\n",
    "\n",
    "\n",
    "#defining the time in which I start the loop.\n",
    "start_time = time.time()\n",
    "\n",
    "#create for loop that sets the current time for the sake of ensuring we are not scraping too fast or taking too many of the sites reasoureces. \n",
    "for i in range(loops):\n",
    "    \n",
    "    current_time = time.time()\n",
    "    #requesting data\n",
    "    res = requests.get(url, params) #getting request\n",
    "    print(f'res {i+1} code: ', res.status_code) #printing request status to ensure it went through securely\n",
    "    \n",
    "    data = res.json() #using json to read\n",
    "    posts = data['data'] #indexing into 'data' from json dictionary and list of dictionaries\n",
    "    posts_df = pd.DataFrame(posts)\n",
    "    dfs.append(posts_df) #create dataframe from 'data' dictionary\n",
    "        \n",
    "        \n",
    "    # get oldest post time and use as before parameter in next request\n",
    "    params['before'] = posts_df['created_utc'].min()#adding 'before' parameter to params dictionary\n",
    "        \n",
    "    #created lower limit of 1 second to ensure we are abiding by resource conventions.\n",
    "    time.sleep(3)\n",
    "\n",
    "# creating a dataframe by concatetinating all of the df lists created by the loop    \n",
    "reddit_posts = pd.concat(dfs)"
   ]
  },
  {
   "cell_type": "markdown",
   "metadata": {},
   "source": [
    "___________________\n",
    "# Step 2 \n",
    "# Initial Analysis for Cleaning\n",
    "\n",
    "###  Initial Analysis of Unique Values (Prior to Cleaning)"
   ]
  },
  {
   "cell_type": "code",
   "execution_count": 11,
   "metadata": {},
   "outputs": [
    {
     "data": {
      "text/plain": [
       "(3000, 79)"
      ]
     },
     "execution_count": 11,
     "metadata": {},
     "output_type": "execute_result"
    }
   ],
   "source": [
    "reddit_posts.shape"
   ]
  },
  {
   "cell_type": "markdown",
   "metadata": {},
   "source": [
    "#### 3000 unique id's"
   ]
  },
  {
   "cell_type": "code",
   "execution_count": 12,
   "metadata": {},
   "outputs": [
    {
     "data": {
      "text/plain": [
       "3000"
      ]
     },
     "execution_count": 12,
     "metadata": {},
     "output_type": "execute_result"
    }
   ],
   "source": [
    "unique_ids = reddit_posts['id'].nunique()\n",
    "unique_ids"
   ]
  },
  {
   "cell_type": "markdown",
   "metadata": {},
   "source": [
    "#### 1893 unique authors"
   ]
  },
  {
   "cell_type": "code",
   "execution_count": 13,
   "metadata": {},
   "outputs": [
    {
     "data": {
      "text/plain": [
       "1914"
      ]
     },
     "execution_count": 13,
     "metadata": {},
     "output_type": "execute_result"
    }
   ],
   "source": [
    "reddit_posts['author'].nunique()"
   ]
  },
  {
   "cell_type": "markdown",
   "metadata": {},
   "source": [
    "#### 2378 unique posts"
   ]
  },
  {
   "cell_type": "code",
   "execution_count": 14,
   "metadata": {},
   "outputs": [
    {
     "data": {
      "text/plain": [
       "2369"
      ]
     },
     "execution_count": 14,
     "metadata": {},
     "output_type": "execute_result"
    }
   ],
   "source": [
    "unique_posts = reddit_posts['selftext'].nunique()\n",
    "unique_posts"
   ]
  },
  {
   "cell_type": "markdown",
   "metadata": {},
   "source": [
    "\n",
    "\n",
    "#### Percentage of Unique Posts to Unique IDs"
   ]
  },
  {
   "cell_type": "code",
   "execution_count": 15,
   "metadata": {},
   "outputs": [
    {
     "data": {
      "text/plain": [
       "0.7896666666666666"
      ]
     },
     "execution_count": 15,
     "metadata": {},
     "output_type": "execute_result"
    }
   ],
   "source": [
    "unique_posts / unique_ids"
   ]
  },
  {
   "cell_type": "markdown",
   "metadata": {},
   "source": [
    "_______________\n",
    "\n",
    "## Column and Index Check\n",
    "\n",
    "### Checking column index"
   ]
  },
  {
   "cell_type": "code",
   "execution_count": 16,
   "metadata": {},
   "outputs": [],
   "source": [
    "reddit_posts.columns;"
   ]
  },
  {
   "cell_type": "markdown",
   "metadata": {},
   "source": [
    "### Checking row index\n",
    "* index appears to be repeating (0-100) due to for loop that pulled in posts. \n",
    "* It does not appear that the values are being repeated based on unique posts, id and author values above. \n",
    "* going to reset the index."
   ]
  },
  {
   "cell_type": "code",
   "execution_count": 17,
   "metadata": {},
   "outputs": [
    {
     "data": {
      "text/plain": [
       "Int64Index([ 0,  1,  2,  3,  4,  5,  6,  7,  8,  9,\n",
       "            ...\n",
       "            90, 91, 92, 93, 94, 95, 96, 97, 98, 99],\n",
       "           dtype='int64', length=3000)"
      ]
     },
     "execution_count": 17,
     "metadata": {},
     "output_type": "execute_result"
    }
   ],
   "source": [
    "reddit_posts.index"
   ]
  },
  {
   "cell_type": "code",
   "execution_count": 18,
   "metadata": {},
   "outputs": [],
   "source": [
    "reddit_posts.reset_index(inplace = True, drop = True)"
   ]
  },
  {
   "cell_type": "code",
   "execution_count": 19,
   "metadata": {},
   "outputs": [
    {
     "data": {
      "text/plain": [
       "RangeIndex(start=0, stop=3000, step=1)"
      ]
     },
     "execution_count": 19,
     "metadata": {},
     "output_type": "execute_result"
    }
   ],
   "source": [
    "reddit_posts.index"
   ]
  },
  {
   "cell_type": "code",
   "execution_count": 20,
   "metadata": {},
   "outputs": [
    {
     "data": {
      "text/plain": [
       "Index(['all_awardings', 'allow_live_comments', 'author',\n",
       "       'author_flair_css_class', 'author_flair_richtext', 'author_flair_text',\n",
       "       'author_flair_type', 'author_fullname', 'author_patreon_flair',\n",
       "       'author_premium', 'awarders', 'can_mod_post', 'contest_mode',\n",
       "       'created_utc', 'domain', 'full_link', 'gildings', 'id',\n",
       "       'is_crosspostable', 'is_meta', 'is_original_content',\n",
       "       'is_reddit_media_domain', 'is_robot_indexable', 'is_self', 'is_video',\n",
       "       'link_flair_background_color', 'link_flair_richtext',\n",
       "       'link_flair_text_color', 'link_flair_type', 'locked', 'media_only',\n",
       "       'no_follow', 'num_comments', 'num_crossposts', 'over_18',\n",
       "       'parent_whitelist_status', 'permalink', 'pinned', 'pwls',\n",
       "       'retrieved_on', 'score', 'selftext', 'send_replies', 'spoiler',\n",
       "       'stickied', 'subreddit', 'subreddit_id', 'subreddit_subscribers',\n",
       "       'subreddit_type', 'thumbnail', 'title', 'total_awards_received',\n",
       "       'treatment_tags', 'upvote_ratio', 'url', 'whitelist_status', 'wls',\n",
       "       'link_flair_template_id', 'link_flair_text', 'post_hint', 'preview',\n",
       "       'removed_by_category', 'author_flair_background_color',\n",
       "       'author_flair_template_id', 'author_flair_text_color', 'distinguished',\n",
       "       'suggested_sort', 'thumbnail_height', 'thumbnail_width',\n",
       "       'url_overridden_by_dest', 'crosspost_parent', 'crosspost_parent_list',\n",
       "       'media', 'media_embed', 'secure_media', 'secure_media_embed',\n",
       "       'author_cakeday', 'edited', 'banned_by'],\n",
       "      dtype='object')"
      ]
     },
     "execution_count": 20,
     "metadata": {},
     "output_type": "execute_result"
    }
   ],
   "source": [
    "reddit_posts.columns"
   ]
  },
  {
   "cell_type": "markdown",
   "metadata": {},
   "source": [
    "# Step 3 \n",
    "# Preprocessing / Cleaning"
   ]
  },
  {
   "cell_type": "markdown",
   "metadata": {},
   "source": [
    "## Create New Beer_1 dataframe with reduced columns"
   ]
  },
  {
   "cell_type": "code",
   "execution_count": 21,
   "metadata": {},
   "outputs": [],
   "source": [
    "beer_1 = reddit_posts[['id', 'created_utc', 'title', 'selftext', 'author', 'score', 'num_comments', 'subreddit']]"
   ]
  },
  {
   "cell_type": "code",
   "execution_count": 22,
   "metadata": {},
   "outputs": [
    {
     "data": {
      "text/html": [
       "<div>\n",
       "<style scoped>\n",
       "    .dataframe tbody tr th:only-of-type {\n",
       "        vertical-align: middle;\n",
       "    }\n",
       "\n",
       "    .dataframe tbody tr th {\n",
       "        vertical-align: top;\n",
       "    }\n",
       "\n",
       "    .dataframe thead th {\n",
       "        text-align: right;\n",
       "    }\n",
       "</style>\n",
       "<table border=\"1\" class=\"dataframe\">\n",
       "  <thead>\n",
       "    <tr style=\"text-align: right;\">\n",
       "      <th></th>\n",
       "      <th>id</th>\n",
       "      <th>created_utc</th>\n",
       "      <th>title</th>\n",
       "      <th>selftext</th>\n",
       "      <th>author</th>\n",
       "      <th>score</th>\n",
       "      <th>num_comments</th>\n",
       "      <th>subreddit</th>\n",
       "    </tr>\n",
       "  </thead>\n",
       "  <tbody>\n",
       "    <tr>\n",
       "      <th>0</th>\n",
       "      <td>kmkoht</td>\n",
       "      <td>1609269019</td>\n",
       "      <td>Im trying to make a hard seltzer. I inverted 8...</td>\n",
       "      <td></td>\n",
       "      <td>OopsMd</td>\n",
       "      <td>1</td>\n",
       "      <td>0</td>\n",
       "      <td>Homebrewing</td>\n",
       "    </tr>\n",
       "    <tr>\n",
       "      <th>1</th>\n",
       "      <td>kmknfa</td>\n",
       "      <td>1609268926</td>\n",
       "      <td>Doubling a recipe</td>\n",
       "      <td>I am about to move up from 2.5 gallon batches ...</td>\n",
       "      <td>Waazzzup</td>\n",
       "      <td>1</td>\n",
       "      <td>0</td>\n",
       "      <td>Homebrewing</td>\n",
       "    </tr>\n",
       "    <tr>\n",
       "      <th>2</th>\n",
       "      <td>kmkj8l</td>\n",
       "      <td>1609268576</td>\n",
       "      <td>Today is a good day</td>\n",
       "      <td>First proper brew in over a year now. Been pre...</td>\n",
       "      <td>vincentalphapsi</td>\n",
       "      <td>1</td>\n",
       "      <td>0</td>\n",
       "      <td>Homebrewing</td>\n",
       "    </tr>\n",
       "    <tr>\n",
       "      <th>3</th>\n",
       "      <td>kmkb0k</td>\n",
       "      <td>1609267907</td>\n",
       "      <td>Do I need to grab new yeast?</td>\n",
       "      <td>I recently (December 23rd) did a double brew d...</td>\n",
       "      <td>Felklaw</td>\n",
       "      <td>1</td>\n",
       "      <td>0</td>\n",
       "      <td>Homebrewing</td>\n",
       "    </tr>\n",
       "    <tr>\n",
       "      <th>4</th>\n",
       "      <td>kmjmhk</td>\n",
       "      <td>1609265792</td>\n",
       "      <td>No activity (not just airlock) 36 hours after ...</td>\n",
       "      <td>As the title says, I pitched Sunday evening. I...</td>\n",
       "      <td>Hiitstyty</td>\n",
       "      <td>1</td>\n",
       "      <td>3</td>\n",
       "      <td>Homebrewing</td>\n",
       "    </tr>\n",
       "  </tbody>\n",
       "</table>\n",
       "</div>"
      ],
      "text/plain": [
       "       id  created_utc                                              title  \\\n",
       "0  kmkoht   1609269019  Im trying to make a hard seltzer. I inverted 8...   \n",
       "1  kmknfa   1609268926                                  Doubling a recipe   \n",
       "2  kmkj8l   1609268576                                Today is a good day   \n",
       "3  kmkb0k   1609267907                       Do I need to grab new yeast?   \n",
       "4  kmjmhk   1609265792  No activity (not just airlock) 36 hours after ...   \n",
       "\n",
       "                                            selftext           author  score  \\\n",
       "0                                                              OopsMd      1   \n",
       "1  I am about to move up from 2.5 gallon batches ...         Waazzzup      1   \n",
       "2  First proper brew in over a year now. Been pre...  vincentalphapsi      1   \n",
       "3  I recently (December 23rd) did a double brew d...          Felklaw      1   \n",
       "4  As the title says, I pitched Sunday evening. I...        Hiitstyty      1   \n",
       "\n",
       "   num_comments    subreddit  \n",
       "0             0  Homebrewing  \n",
       "1             0  Homebrewing  \n",
       "2             0  Homebrewing  \n",
       "3             0  Homebrewing  \n",
       "4             3  Homebrewing  "
      ]
     },
     "execution_count": 22,
     "metadata": {},
     "output_type": "execute_result"
    }
   ],
   "source": [
    "beer_1.head()"
   ]
  },
  {
   "cell_type": "markdown",
   "metadata": {},
   "source": [
    "### Summary Info"
   ]
  },
  {
   "cell_type": "code",
   "execution_count": 23,
   "metadata": {},
   "outputs": [
    {
     "name": "stdout",
     "output_type": "stream",
     "text": [
      "<class 'pandas.core.frame.DataFrame'>\n",
      "RangeIndex: 3000 entries, 0 to 2999\n",
      "Data columns (total 8 columns):\n",
      " #   Column        Non-Null Count  Dtype \n",
      "---  ------        --------------  ----- \n",
      " 0   id            3000 non-null   object\n",
      " 1   created_utc   3000 non-null   int64 \n",
      " 2   title         3000 non-null   object\n",
      " 3   selftext      2992 non-null   object\n",
      " 4   author        3000 non-null   object\n",
      " 5   score         3000 non-null   int64 \n",
      " 6   num_comments  3000 non-null   int64 \n",
      " 7   subreddit     3000 non-null   object\n",
      "dtypes: int64(3), object(5)\n",
      "memory usage: 187.6+ KB\n"
     ]
    }
   ],
   "source": [
    "beer_1.info()"
   ]
  },
  {
   "cell_type": "markdown",
   "metadata": {},
   "source": [
    "### Checking for Duplicates\n",
    "* There are none according to .duplicated()\n",
    "* however, value_counts on 'selftext' reveal a few duplicated 'selftext' values. "
   ]
  },
  {
   "cell_type": "code",
   "execution_count": 24,
   "metadata": {},
   "outputs": [
    {
     "data": {
      "text/plain": [
       "False    3000\n",
       "dtype: int64"
      ]
     },
     "execution_count": 24,
     "metadata": {},
     "output_type": "execute_result"
    }
   ],
   "source": [
    "beer_1.duplicated().value_counts()"
   ]
  },
  {
   "cell_type": "markdown",
   "metadata": {},
   "source": [
    "But alot of removed and deleted values"
   ]
  },
  {
   "cell_type": "code",
   "execution_count": 25,
   "metadata": {},
   "outputs": [],
   "source": [
    "beer_1['selftext'].value_counts().head();\n"
   ]
  },
  {
   "cell_type": "markdown",
   "metadata": {},
   "source": [
    "### Eliminating 'removed' values"
   ]
  },
  {
   "cell_type": "code",
   "execution_count": 26,
   "metadata": {},
   "outputs": [
    {
     "name": "stdout",
     "output_type": "stream",
     "text": [
      "230\n"
     ]
    }
   ],
   "source": [
    "count = 0\n",
    "for item in beer_1['selftext']:\n",
    "    if item == '[removed]':\n",
    "        count += 1\n",
    "print(count)"
   ]
  },
  {
   "cell_type": "code",
   "execution_count": 27,
   "metadata": {},
   "outputs": [],
   "source": [
    "beer_1 = beer_1[beer_1['selftext'] != '[removed]']"
   ]
  },
  {
   "cell_type": "code",
   "execution_count": 28,
   "metadata": {},
   "outputs": [
    {
     "name": "stdout",
     "output_type": "stream",
     "text": [
      "0\n"
     ]
    }
   ],
   "source": [
    "count = 0\n",
    "for item in beer_1['selftext']:\n",
    "    if item == '[removed]':\n",
    "        count += 1\n",
    "print(count)"
   ]
  },
  {
   "cell_type": "markdown",
   "metadata": {},
   "source": [
    "### Eliminating 'deleted' values"
   ]
  },
  {
   "cell_type": "code",
   "execution_count": 29,
   "metadata": {},
   "outputs": [
    {
     "name": "stdout",
     "output_type": "stream",
     "text": [
      "14\n"
     ]
    }
   ],
   "source": [
    "count = 0\n",
    "for item in beer_1['selftext']:\n",
    "    if item == '[deleted]':\n",
    "        count += 1\n",
    "print(count)"
   ]
  },
  {
   "cell_type": "code",
   "execution_count": 30,
   "metadata": {},
   "outputs": [],
   "source": [
    "beer_1 = beer_1[beer_1['selftext'] != '[deleted]']"
   ]
  },
  {
   "cell_type": "code",
   "execution_count": 31,
   "metadata": {},
   "outputs": [
    {
     "name": "stdout",
     "output_type": "stream",
     "text": [
      "0\n"
     ]
    }
   ],
   "source": [
    "count = 0\n",
    "for item in beer_1['selftext']:\n",
    "    if item == '[deleted]':\n",
    "        count += 1\n",
    "print(count)"
   ]
  },
  {
   "cell_type": "markdown",
   "metadata": {},
   "source": [
    "Resetting index again to account for dropped values"
   ]
  },
  {
   "cell_type": "code",
   "execution_count": 32,
   "metadata": {},
   "outputs": [],
   "source": [
    "beer_1.reset_index(inplace = True)"
   ]
  },
  {
   "cell_type": "markdown",
   "metadata": {},
   "source": [
    "### Checking Null Values\n",
    "* 8 null values in selftext"
   ]
  },
  {
   "cell_type": "code",
   "execution_count": 33,
   "metadata": {},
   "outputs": [
    {
     "data": {
      "image/png": "[encoded data removed]",
      "text/plain": [
       "<Figure size 1728x720 with 3 Axes>"
      ]
     },
     "metadata": {
      "needs_background": "light"
     },
     "output_type": "display_data"
    }
   ],
   "source": [
    "msno.bar(beer_1);"
   ]
  },
  {
   "cell_type": "markdown",
   "metadata": {},
   "source": [
    "### Removing Null Values"
   ]
  },
  {
   "cell_type": "code",
   "execution_count": 34,
   "metadata": {},
   "outputs": [],
   "source": [
    "beer_1 = beer_1.dropna()"
   ]
  },
  {
   "cell_type": "code",
   "execution_count": 35,
   "metadata": {},
   "outputs": [
    {
     "data": {
      "image/png": "[encoded data removed]",
      "text/plain": [
       "<Figure size 1728x720 with 3 Axes>"
      ]
     },
     "metadata": {
      "needs_background": "light"
     },
     "output_type": "display_data"
    }
   ],
   "source": [
    "msno.bar(beer_1);"
   ]
  },
  {
   "cell_type": "markdown",
   "metadata": {},
   "source": [
    "### Checking Value Counts\n",
    "* [X] Looks like [removed] and [deleted] posts are taking up some of the values and reducing the percentage of unique values. \n",
    "* [X] There's a few other repeated values as well that need to be handle. The weekly Q&A is one. "
   ]
  },
  {
   "cell_type": "code",
   "execution_count": 36,
   "metadata": {},
   "outputs": [
    {
     "data": {
      "text/plain": [
       "                                                                                                                                                                                                                                                                                                                                                                                                                                                                                                                                                                                                                                                                                                                                                                                                                                                                                                                                                                                                                                                                                                                                                                                                                                                                                                                                                                                                                                                                                                                                                                                                                                                                                                                                                                                                                                                                                                                               283\n",
       "Welcome to the daily Q &amp; A!\\n\\n* Have we been using some weird terms?\\n* Is there a technique you want to discuss?\\n* Just have a general question?\\n* Read the side bar and still confused?\\n* Pretty sure you've infected your first batch?\\n* Did you boil the hops for 17.923 minutes too long and are sure you've ruined your batch?\\n* Did you try to chill your wort in a snow bank?\\n* Are you making the next pumpkin gin?\\n\\nWell ask away! No question is too \"noob\" for this thread. No picture is too tomato to be evaluated for infection! Seriously though, take a good picture or two if you want someone to give a good visual check of your beer.\\n\\nAlso be sure to use upbeers to vote on answers in this thread. Upvote a reply that you know works from experience and don't feel the need to throw out \"thanks for answering!\" upvotes. That will help distinguish community trusted advice from hearsay... at least somewhat!                                                                                                                                                                                                                                                                                                                                                                                                                                                                                                                                                                                                                                                                                                                                                                                                                                                                                                                                                                       58\n",
       "Have the next best recipe since Pliny the Elder, but want reddit to check everything over one last time? Maybe your house beer recipe needs that final tweak, and you want to discuss. Well, this thread is just for that! All discussion for style and recipe formulation is welcome, along with, but not limited to:\\n\\n* Ingredient incorporation effects\\n* Hops flavor / aroma / bittering profiles\\n* Odd additive effects\\n* Fermentation / Yeast discussion\\n\\nIf it's about your recipe, and what you've got planned in your head - let's hear it!                                                                                                                                                                                                                                                                                                                                                                                                                                                                                                                                                                                                                                                                                                                                                                                                                                                                                                                                                                                                                                                                                                                                                                                                                                                                                                                                                                      9\n",
       "You've had a week, what's your situation report? Feel free to include ~~drunken~~ recipes, ~~drunken~~ stories, or any other ~~drunken~~ information you'd like.\\n\\n___\\n\\n**Post your sitrep here!**\\n\\n\\*\\*What I Did Last Week:**  \\n\\*\\*Primary:**  \\n\\*\\*Secondary:**  \\n\\*\\*Bottle Conditioning/Force Carbonating:**  \\n\\*\\*Kegs/Bottles:**  \\n\\*\\*In Planning:**  \\n\\*\\*Active Projects:**  \\n\\*\\*Other:**\\n\\nInclude recipes, stories, or any other information you'd like.\\n\\n___\\n\\n**Tip for those who have a lot to post**: Click edit on your post from a [past Sitrep Monday!](http://www.reddit.com/r/Homebrewing/search?q=Sitrep+Monday+flair%3AWeekly%2BThread&amp;restrict_sr=on&amp;sort=new&amp;t=all).                                                                                                                                                                                                                                                                                                                                                                                                                                                                                                                                                                                                                                                                                                                                                                                                                                                                                                                                                                                                                                                                                                                                                                                                      9\n",
       "This weekly thread is for anyone who decides to brew through a recipe collection, like a book. Join in any time!\\n\\nYou don't have to brew only from your declared collection. nor brew more often than normal. You're not prohibited from just having your own threads if you prefer. Check out [past weekly threads](http://www.reddit.com/r/homebrewing/search?q=\"brew+the+book\"&amp;sort=new&amp;restrict_sr=on) if you're trying to catch up on what is going on. We also have a [community page for Brew the Book](http://www.reddit.com/r/homebrewing/community/BTB)!\\n\\nEvery recipe can generate at least four status updates: (1) recipe planning, (2) brew day, (3) packaging day, and (4) tasting. Maybe even more. You post those status updates in this thread. If you're participating in this thread for the first time this year (other than as a commenter), please declare the recipe collection you're working from here or contact a moderator.\\n\\nThis thread will help keep you on track with your goal and be informative for the rest of us. It's simple and fun!                                                                                                                                                                                                                                                                                                                                                                                                                                                                                                                                                                                                                                                                                                                                                                                                                                       8\n",
       "The once a week thread where (just about) anything goes! Post pictures, stories, nonsense, or whatever you can come up with. Surely folks have a lot to talk about today.\\n\\nIf you want to get some ideas you can always check out a [past Free-For-All Friday](http://www.reddit.com/r/Homebrewing/search?q=Free+For+All+Friday+flair%3AWeekly%2BThread&amp;restrict_sr=on&amp;sort=new&amp;t=all).                                                                                                                                                                                                                                                                                                                                                                                                                                                                                                                                                                                                                                                                                                                                                                                                                                                                                                                                                                                                                                                                                                                                                                                                                                                                                                                                                                                                                                                                                                                            7\n",
       "Welcome to our weekly flaunt your rig thread, if you want to show off your brewing setups this is the place to do it!                                                                                                                                                                                                                                                                                                                                                                                                                                                                                                                                                                                                                                                                                                                                                                                                                                                                                                                                                                                                                                                                                                                                                                                                                                                                                                                                                                                                                                                                                                                                                                                                                                                                                                                                                                                                            7\n",
       "Turbo Cider, first batch https://imgur.com/gallery/N0YCfib                                                                                                                                                                                                                                                                                                                                                                                                                                                                                                                                                                                                                                                                                                                                                                                                                                                                                                                                                                                                                                                                                                                                                                                                                                                                                                                                                                                                                                                                                                                                                                                                                                                                                                                                                                                                                                                                       3\n",
       "Since I started brewing, I avoided thinking about water chemistry despite all of the evidence that it's one of the most important parts of beer. Then yesterday I tasted the water profile series from Mikkelier: four pilsners brewed with four different water profiles. Not only was the difference immediately obvious, but one of the beers was downright disgusting (Pacific profile).\\n\\nWhat was really interesting about this test specifically is that it was a simple pale pilsner, so there was nothing else to mask how the water flavor influenced the beer. I highly recommend you get your hands on these or try to do a similar water profile taste test. It'll change how you brew forever.\\n\\nI've learned that I need to pay a lot more attention to water chemistry.                                                                                                                                                                                                                                                                                                                                                                                                                                                                                                                                                                                                                                                                                                                                                                                                                                                                                                                                                                                                                                                                                                                                        2\n",
       "Can you guess what language God Jul is?\\n\\nhttps://www.instagram.com/p/CJKbxHKlFtU/?igshid=j34ghr7dl4sg                                                                                                                                                                                                                                                                                                                                                                                                                                                                                                                                                                                                                                                                                                                                                                                                                                                                                                                                                                                                                                                                                                                                                                                                                                                                                                                                                                                                                                                                                                                                                                                                                                                                                                                                                                                                                          2\n",
       "Who is into beer history? I would say I love history so I am very excited to share this episode with all of you. In this episode, I talked to Sara Toth Stub, a journalist. We talked about her article for Sapiens magazine about archeologists that recreated an ancient beer with yeasts discovered from clay pots.\\n\\n&amp;#x200B;\\n\\n[https://homebrewingdiy.beer/index.php/2020/12/26/episode-68-recreating-an-ancient-beer-with-sara-toth-stub/](https://homebrewingdiy.beer/index.php/2020/12/26/episode-68-recreating-an-ancient-beer-with-sara-toth-stub/)                                                                                                                                                                                                                                                                                                                                                                                                                                                                                                                                                                                                                                                                                                                                                                                                                                                                                                                                                                                                                                                                                                                                                                                                                                                                                                                                                             2\n",
       "I got my cheap Home Depot fridge (Magic Chef 4.4 cubic ft fridge) set up as a kegerator. The door wouldn't quite close with 2 kegs, so I made a little grove where the protruding keg was by digging out some insulation and it was fine. I got both my taps on the door, the tubing all plugged in, so I was ready to go.\\n\\nI had one keg of beer. I had pressure fermented in the keg, and it held pressure fine, so I knew the keg was good. This was my very first time with kegs and co2, so I was a bit nervous. I had the regulator hooked up to the tank and then to a manifold and then the keg. The valves on The regulator and manifold all closed. I release the co2 from the tank. Regulator gauges go up. spray everything with starsan. Looks good. Open regulator valve. Spray again. Looks good. Open manifold valve to keg. Now there's a loud hissing from the keg. Not feeling good about the sound, but my research told me there would be noise when the keg is carbonating. Spray everything again. Seems okay. Pull some beer from the tap. Comes out fine, but the beer is, of course, kind if flat. Still worried about the hissing, but tell myself I'm just overthinking it. Make sure psi is set where I want, then I close the fridge and walk away.\\n\\nThat evening I go to check on it. No more hissing = good sign? Pull on the tap. Not a drop. regulator gauges at zero. Pull on keg release  valve and there is zero pressure in the keg. Nothing at all. Wherever the leak was, it has to be in the keg, and big enough to empty a 5lb tank in a few hours. Did I not put the disconnect on right? Until I get more co2 I won't know, but it's such a disheartening mishap, especially for a beginner. Maybe my starsan was old and not bubbly enough to indicate leaks. Should I use soapy water?\\n\\nWhat can I do to keep my second attempt from turning out the same way?               2\n",
       "I recently purchased a Great Lakes Brewing Company Christmas Ale all grain clone kit from Adventures In Homebrewing. I like the actual beer, but have for years thought a little cranberry in it would be nice. Lo and behold, AiH just had some cranberry purée on sale for Black Friday, so I picked up a 49oz can. How much of this purée should I add to a 5 gallon recipe? When would be the best time to add to my fermenter and what would be a ballpark time to allow the sugars to ferment out before bottling? Anything else I should know about adding cranberry purée?                                                                                                                                                                                                                                                                                                                                                                                                                                                                                                                                                                                                                                                                                                                                                                                                                                                                                                                                                                                                                                                                                                                                                                                                                                                                                                                                               2\n",
       "Hey folks,\\n\\nJust tasted my ordinary bitter I brewed 3 weeks ago. Great flavors, really nice crisp finish with intense baked bread and malty flavors. Only thing is, I dint detect any bitterness at all. Usually you're supposed to get some bitterness in the finish.\\n\\n5 gallon batch, used 20g Wilmette at 60m and another 20g at 15m. This seems to be similar to many recipes I've seen. \\n\\nWhy isnt it bitter?                                                                                                                                                                                                                                                                                                                                                                                                                                                                                                                                                                                                                                                                                                                                                                                                                                                                                                                                                                                                                                                                                                                                                                                                                                                                                                                                                                                                                                                                                                         1\n",
       "I currently brew 3 gal batches and use a combination of 3 gallon plastic Fermonsters with [this](https://ballandkeg.com/temperature-control-loop.php) and a cooler with ice water as my temp control solution. I'm pricing out what I'd need for 5 gallon batches (an electric boil kettle is going to be fucking expensive and I can't use propane in my current place. God damnit.) and obviously stainless doesn't come cheap. Right now I'm looking at either an SS Brewtech Brew Bucket, Anvil Bucket, or Spike Flex all with their unique temp control coils, or just buying a 7 gallon Fermonster and using the chill coils + inkbirds I already have. Obviously the Fermonster is going to be a shit ton cheaper than any of the stainless solutions\\n\\nIs stainless worth anything more than just looking beautiful? Those expensive fermenters worth the money? Should I be looking at plastic conicals or are those just a novelty? I don't pressure ferment, but I do close transfers to kegs and haven't had any issues with my fermonster with over pressurizing, and I'd like to be able to purge my fermenters after dry hopping and switching from blowoff to airlock. Tri-clamp is nice, but seems overkill at 5 gallons. But man, those rotating racking arms on the stainless fermenters seem amazing.\\n\\nI'm trying to buy once, cry once so if it's worth spending the money up front I will. What's everyone's thoughts?                                                                                                                                                                                                                                                                                                                                                                                                                                                                                  1\n",
       "Have I screwed up? Not sure if this is right or common it was a spurr of the moment choice. I was going to purge the head space with CO2. But decided that Argon is much heavier and less reactive then co2... I purged the headroom I have with argon for about a min at 4l/m. Nice and slow. Slow enough yo just fill up the carboy. \\n\\nI don't have Glass beads. My 5g carboy is busy. All I have it a 6g to rack my pumpkin ale into. \\n\\nThis is secondary with caramelized and roasted pie pumpkins. Primary was with 3 cans of toasted and lightly spiced pumpkin puree. I had a taste. It's so good!!!! I have no clue what the Abv is, but tastes like it's in the high 8-10%. The beer itself would have finished off at 6%, I pitched in pectin enzyme with the puree to break it down a bit more. It's been chugging along for 3 weeks now. S04 yeast used. \\n\\nI also have nitrogen, argon/co2 mix and medical pure co2. Not sure what the BEST gas woukd be to prevent oxidation for secondary. \\n\\nTaking up carboy headroom with pure argon https://imgur.com/gallery/8ScMcjr                                                                                                                                                                                                                                                                                                                                                                                                                                                                                                                                                                                                                                                                                                                                                                                                                                   1\n",
       "Everything I've read about K-97 is a clean 4-5 day fermentation. I'm on day 9 and it's still a couple burps a minute. I'm actually impressed as heck but did not anticipate this at all. I just pitched a lutra kveik oktoberfest 2 days ago thinking I'd do a double bottle day this weekend and I don't think that's going to happen now. Here's what I brewed @ about 60% efficiency:\\n\\n**Grain Bill:** \\n\\n9 lbs 2 row \\n\\n1 lbs caramel 60L \\n\\n1 lbs flaked rye \\n\\n**Hop Bill:** \\n\\n2 oz strisselspalt \\n\\n**Hop Schedule:** \\n\\n1 oz @ 30 \\n\\n1 oz @ 10 \\n\\n**Target OG: 1.049** \\n\\n**Target FG: 1.009** \\n\\n**Target ABV: 5.17** \\n\\n**Actual OG:  1.049**                                                                                                                                                                                                                                                                                                                                                                                                                                                                                                                                                                                                                                                                                                                                                                                                                                                                                                                                                                                                                                                                                                                                                                                                                                                           1\n",
       "Just drank my 2nd homemade beer.\\n\\nOG = 1050\\nFG = 1020\\n\\n(1050-1020) * 0.13125 = 3.94% =~ 4%\\n\\n2 bottles of it gets me drunk. I don't get drunk with, per example, way more amount o heineken, that has a 5% alcohol rate. Is there a reason for that? The same amount of alcohol from a fresh beer is stronger?                                                                                                                                                                                                                                                                                                                                                                                                                                                                                                                                                                                                                                                                                                                                                                                                                                                                                                                                                                                                                                                                                                                                                                                                                                                                                                                                                                                                                                                                                                                                                                                                             1\n",
       "Hey everyone - unfortunately, I haven't brewed in awhile, and this stuff is taking up space in my garage.  The all-grain set up has sat longer than some of the other stuff I've used for extract brewing.  Looking to pass this on to someone looking to get further into brewing but might not be able to afford to take the leap.  All I ask is you take it all and use it. :)  \\n\\nhttps://ibb.co/SP9J0M4\\nhttps://ibb.co/T8MgvVB\\nhttps://ibb.co/SwpxJG8\\nhttps://ibb.co/gmcPNxY                                                                                                                                                                                                                                                                                                                                                                                                                                                                                                                                                                                                                                                                                                                                                                                                                                                                                                                                                                                                                                                                                                                                                                                                                                                                                                                                                                                                                                            1\n",
       "Unfortunately that’s all I have at the moment and want to ferment the most beer I can.                                                                                                                                                                                                                                                                                                                                                                                                                                                                                                                                                                                                                                                                                                                                                                                                                                                                                                                                                                                                                                                                                                                                                                                                                                                                                                                                                                                                                                                                                                                                                                                                                                                                                                                                                                                                                                           1\n",
       "I brewed an Ipa last Friday 12/11, and the recipe says to transfer to secondary and add dry hops after 5 days. Idk why but 5 days just doesn't feel like long enough. What are the dangers of removing the beer from the yeast too early or is 5 days long enough? And is there any reason leaving it in primary for a full 7 days would be bad?                                                                                                                                                                                                                                                                                                                                                                                                                                                                                                                                                                                                                                                                                                                                                                                                                                                                                                                                                                                                                                                                                                                                                                                                                                                                                                                                                                                                                                                                                                                                                                                 1\n",
       "I just bought a tank. Bought new keg lids new co2 line. New fittings\\n\\nIt still leaked. \\n\\nI'm seriously considering selling all my stuff and giving up on brewing I can't catch a break between beers turing out bad my keg set up not working its just not worth it to me. I just wanna sit it and forget it. I'm sick of spending 25$ on co2 for it to all leak out in 3 days                                                                                                                                                                                                                                                                                                                                                                                                                                                                                                                                                                                                                                                                                                                                                                                                                                                                                                                                                                                                                                                                                                                                                                                                                                                                                                                                                                                                                                                                                                                                               1\n",
       "So, a couple weeks ago, I brewed up a cider, where I pasteurised the apples to extract the juice, and then took my readings, pitched the yeast, yada yada yada. It worked out great 👍 \\nBut a couple days ago, I tried juicing a bunch of oranges and pomegranates I had lying around, but just juiced them and didn’t pasteurise it, but otherwise went through the same process as the cider, with one other exception. This time, the morning after I pitched my yeast, I stirred all the foamy stuff and bits of pulp that rose up and stuck to the walls of the fermenter, back into the mash. All seemed to be going well, with the airlock bubbling away all day and night. Then this morning, after I woke up, I stirred it all up again, cuz the pulp had settled at the bottom, and I wanted to make sure the yeast had all their nutrients and the flavour of the fruit would continue to blend. But after I sealed it back up, it stopped fermenting entirely. No pressure showing at the airlock. Should I not have stirred it? Do the yeast just need their alone time, once they get started? Or did they actually completely finish? I find the latter option a bit hard to believe, since the apple batch was bubbling for about a week, but this one was only 2 nights and a day. I used the same yeast each time, and it’s almost the same quantity of liquid, though a little less sugar in this batch (1080 for the cider, and 1070 for this one). Granted, it’s also a liter or two less liquid, and it’s a turbo yeast, but the difference of 5 days of bubbling seems too big to ignore. I have not yet checked the gravity reading since it stopped, as I want to leave it until morning, just in case, so I will check to see the sugar content tomorrow.\\nBut in the meantime, does anyone have any input/thoughts?\\nIt would suck if this batch was bad, cuz all that juicing was a lot of work      1\n",
       "So, I have some non-standard packaging that I want to use for some bottling and Im worried that the opening diameter of these bottles might be too small for a blichmann -- can anyone get me a measurement of the size of the tip of the beer gun? I can't find any actual numbers online. \\n\\nThanks!                                                                                                                                                                                                                                                                                                                                                                                                                                                                                                                                                                                                                                                                                                                                                                                                                                                                                                                                                                                                                                                                                                                                                                                                                                                                                                                                                                                                                                                                                                                                                                                                                          1\n",
       "I just finished brewing my third batch, and the OG is higher than I expected, so I'm trying to figure out a) whether it should be that high and b) what final gravity to expect. \\n\\nI ordered a Milk Chocolate Stout extract kit from Northern Brewer, and decided with a friend to modify it into a s'mores stout by adding 2 sleeves (\\~10 oz) of graham crackers to the grain bag and 1 tsp of pure vanilla extract (not imitation) late in the boil. The OG listed in the kit said 1.051, but my measurement is 1.070. \\n\\nDo the graham crackers (and vanilla?) explain the extra .2 in gravity? And how do I know appx what my FG will be?\\n\\nThank you kindly, fellow brewers!                                                                                                                                                                                                                                                                                                                                                                                                                                                                                                                                                                                                                                                                                                                                                                                                                                                                                                                                                                                                                                                                                                                                                                                                                                           1\n",
       "So I'm having trouble finding the time to brew anymore. I'm a service tech that travels to hospital labs to fix the blood test machines. My job used to have me home on the weeknights and weekends 75% of the time and on call once every six weeks. It's changed for the foreseeable future where I'm on call 24/7/365 and away from home a lot. This has impacted my brewing time, mostly because I don't brew when I'm on call because I could get called off at any minute and need to leave home and I don't have anyone who can take over my brew for me. Is there anyone else out there that has a situation like this? If so how do you deal with it?                                                                                                                                                                                                                                                                                                                                                                                                                                                                                                                                                                                                                                                                                                                                                                                                                                                                                                                                                                                                                                                                                                                                                                                                                                                                   1\n",
       "A few weeks ago (maybe a few months?) I saw a post from some people who were making a game/simulator about beer brewing.  You started with brewing in a cooler, and eventually bought stuff to make your dream home brewery.  At one point, they even posted a video.  They were shooting for really good realism for ingredients, fermentation, etc.\\n\\nTry as I might, I have scoured the web and reddit for this game (that I can't remember what they were calling it) and can't find it!  Can anyone here help me find this thing??                                                                                                                                                                                                                                                                                                                                                                                                                                                                                                                                                                                                                                                                                                                                                                                                                                                                                                                                                                                                                                                                                                                                                                                                                                                                                                                                                                                         1\n",
       "Hi all, I'm relatively new to homebrewing. a co worker who grows hops gave me 4 massive Ziploc bags crammed full of nugget hops he grew this year. I was hoping to do a brew with just nugget hops to use them up, but I can't find any recipes that call for only nugget hops. Could I possibly just take another recipe and just sub out the recommend hops for my nuggets? Any help would be appreciated as I'm not 100% sure what to look for as this will be only my second brew and it's all uncharted territory for me.                                                                                                                                                                                                                                                                                                                                                                                                                                                                                                                                                                                                                                                                                                                                                                                                                                                                                                                                                                                                                                                                                                                                                                                                                                                                                                                                                                                                   1\n",
       "I was looking into brewing a beer but I don't really have space in my house. \\n\\n I then moved on to to rice wine recipes and ordered some Chinese yeast from Amazon. However, I soon discovered that is it's being shipped from walkern and it's going to take a few weeks until arrives.\\n\\n So I thought to myself 'I gotta get something done, like an easy thag doesn't require a lot of equipment'. This is how I arrived at Turbo Cider recipes.\\n\\nThe recipe is simple:\\n\\n4 L of 100% apple juice \\n\\nPut them in a 5 L demijohn\\n\\n1kg of brewing sugar \\n\\n22 g of Turbo yeast\\n\\n\\nInitial gravity was 1.120 and 4 days later 1.010 for a total of 14.4% Abv\\n\\nI then syphoned it into a clean demijohn to let it settle and it's [still bubbling](https://streamable.com/gtyfmm) so I'm going to wait a few days until I bottle it.                                                                                                                                                                                                                                                                                                                                                                                                                                                                                                                                                                                                                                                                                                                                                                                                                                                                                                                                                                                                                                                                               1\n",
       "A month ago I brewed 26L of dry irish stout, split into 2 13L batches and after fermentation I kegged one while I added some habanero and cacao nibs to the other still in primary. I've drunk maybe 3/4 of the batch I kegged and it's decent albeit not perfect. The chilli beer has just a tad more bite than I wanted and am wondering if since the current keg doesn't appear to have any infection/is sterile, whether there is any issue just racking straight on top of the beer already in there and if there are any methods that would assist in making sure the process stays sanitary?                                                                                                                                                                                                                                                                                                                                                                                                                                                                                                                                                                                                                                                                                                                                                                                                                                                                                                                                                                                                                                                                                                                                                                                                                                                                                                                              1\n",
       "Is it normal to have a very slight sulfur smell (might be something else entirely because I wouldn’t say it smells like rotten eggs or rhino farts) towards the end of fermentation of a hard cider?  I started it a week ago today and it smelled great and tasted awesome up until it hit about 6.5% ABV.\\n\\nUsing EC1118, added 2 lbs of brown sugar.  SG was 1.063. I added about half as much nutrient and energizer as I would have with a mead given the difference in potential ABV (my meads are normally around 12-14%) and the fact that I understand that there is some nutritional value for the yeast in the apple juice. \\n\\nDid I go wrong somewhere or is this normal? \\n\\nThanks!!                                                                                                                                                                                                                                                                                                                                                                                                                                                                                                                                                                                                                                                                                                                                                                                                                                                                                                                                                                                                                                                                                                                                                                                                                             1\n",
       "I built a keezer recently and I'm trying to figure out how to and a drip tray with out drilling into the keezer. The shelf is a floating slelf that weighs about 5 pounds. And ideas? \\n\\nhttp://imgur.com/gallery/YVdSgkO                                                                                                                                                                                                                                                                                                                                                                                                                                                                                                                                                                                                                                                                                                                                                                                                                                                                                                                                                                                                                                                                                                                                                                                                                                                                                                                                                                                                                                                                                                                                                                                                                                                                                                       1\n",
       "I tried to find Nuruk to brew makgeolli at a local Asian supermarket. The staff pointed me to [this yeast](https://imgur.com/bqrfWdn). I bought some but forgot to ask what it is or what to do with it.\\n\\nDoes anyone know what type of yeast this is? Can I brew makgeolli with it?                                                                                                                                                                                                                                                                                                                                                                                                                                                                                                                                                                                                                                                                                                                                                                                                                                                                                                                                                                                                                                                                                                                                                                                                                                                                                                                                                                                                                                                                                                                                                                                                                                           1\n",
       "Please let me know if this isn't the right place to ask - but I figured someone here might have an idea.  \\n\\nI have a bar built in my basement, but I built it prior to getting into homebrewing.  Now that I am into HB, I would like to take the next step and install a Keezer which bring me to my issue.  My Bar is fully finished.  I can fit a Freezer under the bar, but not with a collar on it.  Secondly, I would like the taps on my bar,  not sticking out of a keezer.  Is there a way to run tap lines?  What is the +/- ; I am guessing beer in the tap lines will go bad quickly and will get warm fast.\\n\\nAre their quick release beer lines?  How does that all work?\\n\\nThanks much.                                                                                                                                                                                                                                                                                                                                                                                                                                                                                                                                                                                                                                                                                                                                                                                                                                                                                                                                                                                                                                                                                                                                                                                                                       1\n",
       "Hi all,\\n\\nI'm planning on doing my first kettle sour and was wondering if this would work: (Also how much for a 5g batch?)\\n\\nhttps://www.amazon.ca/Jamieson-Essentials-billion-Probiotic-Count/dp/B0789TC629/ref=mp_s_a_1_6?dchild=1&amp;keywords=now+probiotic+10+25+billion&amp;qid=1605680234&amp;sprefix=now+pro&amp;sr=8-6\\n\\nIt seems like everyone has their own recipe, from yogurt, to goodbelly, to probiotic pills, to Omega/white labs strain etc. And a lot of varying pitch rates too.\\n\\nI know lacto plantarum is my best bet, but so far I haven't seen pure plantarum on amazon.ca for a reasonable price. I could get goodbelly shots as well, but clicking a button is to order from Amazon is the path of least resistance. \\n\\nAny insight from the kettle sour community would be awesome, thanks in advance!!                                                                                                                                                                                                                                                                                                                                                                                                                                                                                                                                                                                                                                                                                                                                                                                                                                                                                                                                                                                                                                                                                          1\n",
       "I salvaged a motor of my dead clothes dryer thinking I can motorize my MM3 mill. The mill has the 1/2\" shaft with three flats made for a drill chuck. The motor is 1725 rpm with a 1/2\" sheave for a 2L  (1/4\") belt press fit to the output shaft. Ideally, I would like an 8-10\" sheave on the mill but can only find a 6\" that matches that belt size. \\n\\nShould I attempt to replace the output sheave to allow a wider belt to get a larger sheave on the mill?\\n\\nWill I be able to securely fix a sheave to the mill with a set screw? Is it crazy to weld one on?\\n\\nAm I correct in assuming this motor will have enough torque to start up even with a full hopper? (Because I'll forget to start it before dumping)\\n\\nAny tips or considerations? \\n\\nBefore purchasing the parts to put this together I was hoping to learn if I'm barking up the wrong tree or making this more difficult than it needs to be just because I want to use a 'free' motor. Thanks!                                                                                                                                                                                                                                                                                                                                                                                                                                                                                                                                                                                                                                                                                                                                                                                                                                                                                                                                                  1\n",
       "Any of you members of local homebrew clubs?\\n\\nWhat's everyone doing to keep their membership engaged? \\n\\nAny online activities, recipe sharing, beer shares?                                                                                                                                                                                                                                                                                                                                                                                                                                                                                                                                                                                                                                                                                                                                                                                                                                                                                                                                                                                                                                                                                                                                                                                                                                                                                                                                                                                                                                                                                                                                                                                                                                                                                                                                                                   1\n",
       "Hello everyone,\\n\\nI got myself a 1 gallon brewing kit a few years back, really wanting to get into brewing. I used it a few times (most turned out really well) but I just found brewing on an electric stove in my apartment to be a ton of work for very little product, and got a little dishearted.\\n\\nI'm looking for suggestions for brewing in tight spaces. What do people use to brewing in an apartment? I'm also not trying to break the bank. I've seen these $1500 brewing systems that seem great, but financially aren't really feasible. \\n\\nWould love suggestions and to see what others do.                                                                                                                                                                                                                                                                                                                                                                                                                                                                                                                                                                                                                                                                                                                                                                                                                                                                                                                                                                                                                                                                                                                                                                                                                                                                                                                  1\n",
       "So I'm in the process of brewing my first few batches of beer. I'm about a week or two away from from my first bottling experience. Even though the bottles are reusable I thought it would be fun to make some custom labels for each batch. Is there good place to buy some cheap labels that i could print and put onto the bottles?                                                                                                                                                                                                                                                                                                                                                                                                                                                                                                                                                                                                                                                                                                                                                                                                                                                                                                                                                                                                                                                                                                                                                                                                                                                                                                                                                                                                                                                                                                                                                                                          1\n",
       "Priceless! You know you have brewed something you want to drink.. you chose it over a regular beer..                                                                                                                                                                                                                                                                                                                                                                                                                                                                                                                                                                                                                                                                                                                                                                                                                                                                                                                                                                                                                                                                                                                                                                                                                                                                                                                                                                                                                                                                                                                                                                                                                                                                                                                                                                                                                             1\n",
       "I accidently bought this off amazon and just read that its not food grade.   of course this after I made a 8 gallon batch and used about 4 - 5 grams of the stuff to adjust the mash from ph 4 to 5.4 .   I'm gonna toss the batch anyways,  but curious of how much of a biohazard did i just accidently create?     Is that stuff much stronger than food grade slacked lime?    the amount it took to adjust ph seemed correct by my brief reading on the use of calcium hydroxide on homebrewtalk.com forum.     I even spilt a little on my hand,  it was 10g of calcium hydroxide   mixed in like 200 g of water.   it did not hurt and i did flush with cold water, no ill effects but feeling kinda dumb about the whole thing.\\n\\n\\nhttps://www.amazon.com/gp/product/B01BXZOSLM/                                                                                                                                                                                                                                                                                                                                                                                                                                                                                                                                                                                                                                                                                                                                                                                                                                                                                                                                                                                                                                                                                                                                       1\n",
       "I’ve made a few batches of mead and cider which have been super successful so far, just plain honey/water and apple juice/sugar respectively. Now i want to try experimenting with different flavours. \\n\\nI was thinking of adding some cinnamon and possibly some apple juice to my mead. \\nI’m assuming i put the apple juice in at the beginning, but what about the cinnamon? I don’t want an overpowering taste, so also need to decide how much of both (especially cinnamon, never used it before) i make batches of about 8 litres so is one stick enough for a good flavour?                                                                                                                                                                                                                                                                                                                                                                                                                                                                                                                                                                                                                                                                                                                                                                                                                                                                                                                                                                                                                                                                                                                                                                                                                                                                                                                                           1\n",
       "I've been reading various articles about cacao nibs as I prepare for my annual winter imperial stout, in which I plan to feature chocolate this year in the form of cacao nibs. However, I am seeing a large range of recommended dosage rates for this adjunct. For example, in this [one article from BYO magazine](https://byo.com/article/brewing-with-chocolate-tips-from-the-pros/), the first brewer (Wayne Wambles from Cigar City) recommends about 1 to 3 oz per 5 gallon batch, but the last person interviewed (John Nanci from the Chocolate Alchemy) recommends at least 8 oz per 5 gallons. So even within one article there is a difference of orders of magnitude in the recommended dosage. I see this repeated all over the place. \\n\\nJust wondering if people can comment on their experiences with cacao nibs, in terms of timing (boil, secondary), contact time, amounts, etc.                                                                                                                                                                                                                                                                                                                                                                                                                                                                                                                                                                                                                                                                                                                                                                                                                                                                                                                                                                                                                           1\n",
       "Edit: Live in Ireland btw, budget maybe €500. Don’t know is that a lot or little...                                                                                                                                                                                                                                                                                                                                                                                                                                                                                                                                                                                                                                                                                                                                                                                                                                                                                                                                                                                                                                                                                                                                                                                                                                                                                                                                                                                                                                                                                                                                                                                                                                                                                                                                                                                                                                              1\n",
       "I was thinking of experimenting with some hop varieties.\\nI’m going to guess that there are categories of hops. Which varieties are the best example of its related category?\\n\\nCat a - hop x\\n\\nCatb - hop v\\n\\nEtc\\n\\nThank you in advance.                                                                                                                                                                                                                                                                                                                                                                                                                                                                                                                                                                                                                                                                                                                                                                                                                                                                                                                                                                                                                                                                                                                                                                                                                                                                                                                                                                                                                                                                                                                                                                                                                                                                                   1\n",
       "Brewed using BIAB (NEIPA) for the first time a few months ago (taken me a while to post this), and the finished product came out grassy/astringent. Had to dump it. Tasted like a 3-4 month of NEIPA (recently accidentally bought a 3 month old NEIPA and it tasted exactly the same as my beer).\\n\\nAnyone have any idea what went wrong? I have been doing extract/mini mash for 10 years and this was my first venture into all grain so I was very excited until I tasted the final product (others have told me it is drinkable but I could not drink it). I also have done pretty much the same recipe but mini mash/extract many times before.\\n\\nRecipe (3 gallons):\\n-6 lb 2 row\\n-2 lb flaked oats\\n-1 lb white wheat\\n-1 lb light munich\\n-4 oz lactose\\n-Yeast: London Ale III\\n-1.5 oz Sabro/Galaxy in whirlpool\\n-1.9 oz Sabro/Galaxy dry hop at day 4\\n-1.9 oz Sabro/Galaxy dry hop at day 7\\n\\nMash at 154 degrees for 30 minutes and then cold sparged.\\n\\nAt day 9 I racked it to a secondary to clear sediment (can't cold crash so I have found this helps).\\nAt day 14 I bottled.\\n\\nI've read around but nothing is sticking out as far as mistakes I made.\\n\\nAny help would be appreciated, tahnks!                                                                                                                                                                                                                                                                                                                                                                                                                                                                                                                                                                                                                                                                                                     1\n",
       "I can't make up my mind. What do y'all like to drink in January/February?                                                                                                                                                                                                                                                                                                                                                                                                                                                                                                                                                                                                                                                                                                                                                                                                                                                                                                                                                                                                                                                                                                                                                                                                                                                                                                                                                                                                                                                                                                                                                                                                                                                                                                                                                                                                                                                        1\n",
       "[corny keg ](https://imgur.com/gallery/EHDiuM2)\\nNeed help with how to connect this....                                                                                                                                                                                                                                                                                                                                                                                                                                                                                                                                                                                                                                                                                                                                                                                                                                                                                                                                                                                                                                                                                                                                                                                                                                                                                                                                                                                                                                                                                                                                                                                                                                                                                                                                                                                                                                          1\n",
       "Well, it happened, I bottled up a batch of ginger beer on the first of August, woke up to a rather loud bang, so far I've had 2 bottles pop In the cooler I've been using for storage, these guys have been sitting silent for the last nearly 4 months, they were all bottled in a mixture of old beer bottles, and the 2 bombs were both the same brand, any ideas what's happening?                                                                                                                                                                                                                                                                                                                                                                                                                                                                                                                                                                                                                                                                                                                                                                                                                                                                                                                                                                                                                                                                                                                                                                                                                                                                                                                                                                                                                                                                                                                                           1\n",
       "Hi!\\n\\nI am curious as to what kind of fermentation times you guys are getting. Whether you've been making wine, beer or something entirely else, share your gravity logs and yeast type!\\n\\nHere are some of mine (although I didn't keep track underway the process)\\n\\nAssorted dried fruits-wine: \\~1.090 to 0.995 in 9 days\\n\\nTerrible apple wine using \"turbo yeast\": \\~1.220 to 0.400 in 5 days (This was **not** tasty)\\n\\nStrawberry wine: \\~1.090 to 1.000 in 13 days                                                                                                                                                                                                                                                                                                                                                                                                                                                                                                                                                                                                                                                                                                                                                                                                                                                                                                                                                                                                                                                                                                                                                                                                                                                                                                                                                                                                                                                 1\n",
       "Name: selftext, dtype: int64"
      ]
     },
     "execution_count": 36,
     "metadata": {},
     "output_type": "execute_result"
    }
   ],
   "source": [
    "beer_1['selftext'].value_counts().nlargest(50)"
   ]
  },
  {
   "cell_type": "markdown",
   "metadata": {},
   "source": [
    "### Eliminating all duplicates in 'selftext'\n",
    " * 219 weekly QA duplicates\n",
    " * 14 \"this weekly thread..\"\n",
    " * 8 \"Have the next best recipe...\"\n",
    " * 8 \"You've had a week, what's...\"\n",
    " * 8 \"The once a week thread...\"\n",
    " * 7 \"Turbo cider, first batch...\"\n",
    " * 3 \"This is the monthly thread on last...\"\n",
    " * and dozens of values with one duplicate. "
   ]
  },
  {
   "cell_type": "code",
   "execution_count": 37,
   "metadata": {},
   "outputs": [],
   "source": [
    "beer_1 = beer_1.drop_duplicates('selftext', keep = 'first').reset_index()"
   ]
  },
  {
   "cell_type": "markdown",
   "metadata": {},
   "source": [
    "Checking duplicates. No more exist"
   ]
  },
  {
   "cell_type": "code",
   "execution_count": 38,
   "metadata": {
    "scrolled": true
   },
   "outputs": [],
   "source": [
    "beer_1['selftext'].value_counts().nlargest();"
   ]
  },
  {
   "cell_type": "code",
   "execution_count": 39,
   "metadata": {
    "scrolled": true
   },
   "outputs": [
    {
     "data": {
      "text/plain": [
       "level_0         2367\n",
       "index           2367\n",
       "id              2367\n",
       "created_utc     2367\n",
       "title           2363\n",
       "selftext        2367\n",
       "author          1618\n",
       "score             32\n",
       "num_comments     108\n",
       "subreddit          1\n",
       "dtype: int64"
      ]
     },
     "execution_count": 39,
     "metadata": {},
     "output_type": "execute_result"
    }
   ],
   "source": [
    "beer_1.nunique()"
   ]
  },
  {
   "cell_type": "markdown",
   "metadata": {},
   "source": [
    "### Checking Post Lengths\n",
    "To ensure there is content in every post"
   ]
  },
  {
   "cell_type": "code",
   "execution_count": 43,
   "metadata": {},
   "outputs": [
    {
     "name": "stdout",
     "output_type": "stream",
     "text": [
      "\n",
      "L\n"
     ]
    }
   ],
   "source": [
    "for post in beer_1['selftext']:\n",
    "    if len(post) < 10:\n",
    "        print(post)"
   ]
  },
  {
   "cell_type": "code",
   "execution_count": 46,
   "metadata": {},
   "outputs": [
    {
     "data": {
      "text/html": [
       "<div>\n",
       "<style scoped>\n",
       "    .dataframe tbody tr th:only-of-type {\n",
       "        vertical-align: middle;\n",
       "    }\n",
       "\n",
       "    .dataframe tbody tr th {\n",
       "        vertical-align: top;\n",
       "    }\n",
       "\n",
       "    .dataframe thead th {\n",
       "        text-align: right;\n",
       "    }\n",
       "</style>\n",
       "<table border=\"1\" class=\"dataframe\">\n",
       "  <thead>\n",
       "    <tr style=\"text-align: right;\">\n",
       "      <th></th>\n",
       "      <th>level_0</th>\n",
       "      <th>index</th>\n",
       "      <th>id</th>\n",
       "      <th>created_utc</th>\n",
       "      <th>title</th>\n",
       "      <th>selftext</th>\n",
       "      <th>author</th>\n",
       "      <th>score</th>\n",
       "      <th>num_comments</th>\n",
       "      <th>subreddit</th>\n",
       "    </tr>\n",
       "  </thead>\n",
       "  <tbody>\n",
       "    <tr>\n",
       "      <th>2165</th>\n",
       "      <td>2523</td>\n",
       "      <td>2743</td>\n",
       "      <td>jnp1rc</td>\n",
       "      <td>1604459522</td>\n",
       "      <td>What can you guys tell me about aging in cold ...</td>\n",
       "      <td>L</td>\n",
       "      <td>Mobile_Reward_5181</td>\n",
       "      <td>1</td>\n",
       "      <td>6</td>\n",
       "      <td>Homebrewing</td>\n",
       "    </tr>\n",
       "  </tbody>\n",
       "</table>\n",
       "</div>"
      ],
      "text/plain": [
       "      level_0  index      id  created_utc  \\\n",
       "2165     2523   2743  jnp1rc   1604459522   \n",
       "\n",
       "                                                  title selftext  \\\n",
       "2165  What can you guys tell me about aging in cold ...        L   \n",
       "\n",
       "                  author  score  num_comments    subreddit  \n",
       "2165  Mobile_Reward_5181      1             6  Homebrewing  "
      ]
     },
     "execution_count": 46,
     "metadata": {},
     "output_type": "execute_result"
    }
   ],
   "source": [
    "beer_1[beer_1['selftext'] == 'L']"
   ]
  },
  {
   "cell_type": "markdown",
   "metadata": {},
   "source": [
    "Decided not to remove the above post because I am going to merge title and selftext together and it appears the title has some useful data. "
   ]
  },
  {
   "cell_type": "markdown",
   "metadata": {},
   "source": [
    "Creating a list of post lengths to add to a histogram"
   ]
  },
  {
   "cell_type": "code",
   "execution_count": 47,
   "metadata": {},
   "outputs": [
    {
     "data": {
      "text/plain": [
       "2367"
      ]
     },
     "execution_count": 47,
     "metadata": {},
     "output_type": "execute_result"
    }
   ],
   "source": [
    "post_lengths = []\n",
    "for post in beer_1['selftext']:\n",
    "    post_lengths.append(len(post))\n",
    "len(post_lengths) # ensuring I got all the values. "
   ]
  },
  {
   "cell_type": "code",
   "execution_count": 48,
   "metadata": {},
   "outputs": [
    {
     "data": {
      "image/png": "[encoded data removed]",
      "text/plain": [
       "<Figure size 432x288 with 1 Axes>"
      ]
     },
     "metadata": {
      "needs_background": "light"
     },
     "output_type": "display_data"
    }
   ],
   "source": [
    "sns.distplot(post_lengths).set_title('Post Length by Characters')\n",
    "\n",
    "plt.xlabel('Post Length')\n",
    "plt.ylabel('Frequency');"
   ]
  },
  {
   "cell_type": "markdown",
   "metadata": {},
   "source": [
    "______________________\n",
    "# Step 4  \n",
    "# Preliminary EDA\n",
    "* This Exploratory Data Analysis is being conducted for the purpose of getting to know the data that surrounds the target data and predictor variables. It is also being utulized to identify any useful and interesting statistics or relationships that exist outside of predictive modeling and the exploratory process that preceeds modeling. \n",
    "\n",
    "### Unique Author / Unique Post Analysis"
   ]
  },
  {
   "cell_type": "markdown",
   "metadata": {},
   "source": [
    "Unique Authors"
   ]
  },
  {
   "cell_type": "code",
   "execution_count": 49,
   "metadata": {},
   "outputs": [
    {
     "data": {
      "text/plain": [
       "1618"
      ]
     },
     "execution_count": 49,
     "metadata": {},
     "output_type": "execute_result"
    }
   ],
   "source": [
    "unique_authors = beer_1['author'].nunique()\n",
    "unique_authors"
   ]
  },
  {
   "cell_type": "markdown",
   "metadata": {},
   "source": [
    "Unique Posts"
   ]
  },
  {
   "cell_type": "code",
   "execution_count": 50,
   "metadata": {},
   "outputs": [
    {
     "data": {
      "text/plain": [
       "2367"
      ]
     },
     "execution_count": 50,
     "metadata": {},
     "output_type": "execute_result"
    }
   ],
   "source": [
    "unique_posts = beer_1['selftext'].nunique()\n",
    "unique_posts"
   ]
  },
  {
   "cell_type": "markdown",
   "metadata": {},
   "source": [
    "Authors of Multiple Posts\n",
    " \n",
    "* There are 389 repeat authors of the 1612 unique authors.\n",
    "* Almost 25% percent of authors are multiple posters. \n",
    "* As seen below that 25% accounts for almost half of all posts. "
   ]
  },
  {
   "cell_type": "code",
   "execution_count": 51,
   "metadata": {},
   "outputs": [],
   "source": [
    "author_multi = beer_1['author'].value_counts() > 1"
   ]
  },
  {
   "cell_type": "code",
   "execution_count": 52,
   "metadata": {},
   "outputs": [
    {
     "data": {
      "text/plain": [
       "False    1227\n",
       "True      391\n",
       "Name: author, dtype: int64"
      ]
     },
     "execution_count": 52,
     "metadata": {},
     "output_type": "execute_result"
    }
   ],
   "source": [
    "author_multi.value_counts()"
   ]
  },
  {
   "cell_type": "code",
   "execution_count": 53,
   "metadata": {},
   "outputs": [
    {
     "data": {
      "text/plain": [
       "0.2413151364764268"
      ]
     },
     "execution_count": 53,
     "metadata": {},
     "output_type": "execute_result"
    }
   ],
   "source": [
    "389/ 1612"
   ]
  },
  {
   "cell_type": "code",
   "execution_count": 54,
   "metadata": {
    "scrolled": true
   },
   "outputs": [],
   "source": [
    "total_multi_posts = beer_1['author'].value_counts().nlargest(389).sum()"
   ]
  },
  {
   "cell_type": "code",
   "execution_count": 55,
   "metadata": {},
   "outputs": [
    {
     "data": {
      "text/plain": [
       "0.4799324038867765"
      ]
     },
     "execution_count": 55,
     "metadata": {},
     "output_type": "execute_result"
    }
   ],
   "source": [
    "total_multi_posts / unique_posts"
   ]
  },
  {
   "cell_type": "markdown",
   "metadata": {},
   "source": [
    "### Analyzing Posts with Multiple Comments"
   ]
  },
  {
   "cell_type": "code",
   "execution_count": 56,
   "metadata": {
    "scrolled": true
   },
   "outputs": [
    {
     "data": {
      "text/plain": [
       "2223"
      ]
     },
     "execution_count": 56,
     "metadata": {},
     "output_type": "execute_result"
    }
   ],
   "source": [
    "multi_comment_count = beer_1['num_comments'][beer_1['num_comments'] > 1].count()\n",
    "multi_comment_count"
   ]
  },
  {
   "cell_type": "markdown",
   "metadata": {},
   "source": [
    "#### Boxplot for Number of Comments (Prior to Eliminating Outliers if Necessary)\n",
    "\n",
    "Box plot showing distribution of the comment counts within and outside of the interquartile range. \n",
    "\n",
    "The whisker for the max quartile is the vertical grey line. It is the 75 percentile plus 1.5 times the interquartile range. The black dots past that whisker are considered outliers. There are quite a few outliers there. \n",
    "\n",
    "As detailed below, the vast majority of posts receiving multiple comments are located closer to zero than they are to one hundred. "
   ]
  },
  {
   "cell_type": "code",
   "execution_count": 57,
   "metadata": {
    "scrolled": true
   },
   "outputs": [
    {
     "data": {
      "image/png": "[encoded data removed]",
      "text/plain": [
       "<Figure size 432x288 with 1 Axes>"
      ]
     },
     "metadata": {
      "needs_background": "light"
     },
     "output_type": "display_data"
    }
   ],
   "source": [
    "sns.boxplot(beer_1['num_comments'], width = .7, whis = 1.5).set_title('Number of Comments Per Post')\n",
    "\n",
    "plt.xlabel('Number of Comments');"
   ]
  },
  {
   "cell_type": "markdown",
   "metadata": {},
   "source": [
    "94 percent of posts had more than 1 comment. "
   ]
  },
  {
   "cell_type": "code",
   "execution_count": 58,
   "metadata": {
    "scrolled": true
   },
   "outputs": [
    {
     "data": {
      "text/plain": [
       "0.9391634980988594"
      ]
     },
     "execution_count": 58,
     "metadata": {},
     "output_type": "execute_result"
    }
   ],
   "source": [
    "multi_comment_count / unique_posts"
   ]
  },
  {
   "cell_type": "code",
   "execution_count": 59,
   "metadata": {},
   "outputs": [
    {
     "data": {
      "text/html": [
       "<div>\n",
       "<style scoped>\n",
       "    .dataframe tbody tr th:only-of-type {\n",
       "        vertical-align: middle;\n",
       "    }\n",
       "\n",
       "    .dataframe tbody tr th {\n",
       "        vertical-align: top;\n",
       "    }\n",
       "\n",
       "    .dataframe thead th {\n",
       "        text-align: right;\n",
       "    }\n",
       "</style>\n",
       "<table border=\"1\" class=\"dataframe\">\n",
       "  <thead>\n",
       "    <tr style=\"text-align: right;\">\n",
       "      <th></th>\n",
       "      <th>level_0</th>\n",
       "      <th>index</th>\n",
       "      <th>created_utc</th>\n",
       "      <th>score</th>\n",
       "      <th>num_comments</th>\n",
       "    </tr>\n",
       "  </thead>\n",
       "  <tbody>\n",
       "    <tr>\n",
       "      <th>count</th>\n",
       "      <td>2367.000000</td>\n",
       "      <td>2367.000000</td>\n",
       "      <td>2.367000e+03</td>\n",
       "      <td>2367.000000</td>\n",
       "      <td>2367.000000</td>\n",
       "    </tr>\n",
       "    <tr>\n",
       "      <th>mean</th>\n",
       "      <td>1378.824673</td>\n",
       "      <td>1501.023659</td>\n",
       "      <td>1.606618e+09</td>\n",
       "      <td>1.545839</td>\n",
       "      <td>14.517533</td>\n",
       "    </tr>\n",
       "    <tr>\n",
       "      <th>std</th>\n",
       "      <td>793.305187</td>\n",
       "      <td>858.782003</td>\n",
       "      <td>1.451716e+06</td>\n",
       "      <td>5.580078</td>\n",
       "      <td>23.334687</td>\n",
       "    </tr>\n",
       "    <tr>\n",
       "      <th>min</th>\n",
       "      <td>0.000000</td>\n",
       "      <td>0.000000</td>\n",
       "      <td>1.603993e+09</td>\n",
       "      <td>0.000000</td>\n",
       "      <td>0.000000</td>\n",
       "    </tr>\n",
       "    <tr>\n",
       "      <th>25%</th>\n",
       "      <td>702.500000</td>\n",
       "      <td>772.500000</td>\n",
       "      <td>1.605463e+09</td>\n",
       "      <td>1.000000</td>\n",
       "      <td>5.000000</td>\n",
       "    </tr>\n",
       "    <tr>\n",
       "      <th>50%</th>\n",
       "      <td>1373.000000</td>\n",
       "      <td>1490.000000</td>\n",
       "      <td>1.606556e+09</td>\n",
       "      <td>1.000000</td>\n",
       "      <td>9.000000</td>\n",
       "    </tr>\n",
       "    <tr>\n",
       "      <th>75%</th>\n",
       "      <td>2063.500000</td>\n",
       "      <td>2240.500000</td>\n",
       "      <td>1.607818e+09</td>\n",
       "      <td>1.000000</td>\n",
       "      <td>16.000000</td>\n",
       "    </tr>\n",
       "    <tr>\n",
       "      <th>max</th>\n",
       "      <td>2755.000000</td>\n",
       "      <td>2999.000000</td>\n",
       "      <td>1.609269e+09</td>\n",
       "      <td>198.000000</td>\n",
       "      <td>628.000000</td>\n",
       "    </tr>\n",
       "  </tbody>\n",
       "</table>\n",
       "</div>"
      ],
      "text/plain": [
       "           level_0        index   created_utc        score  num_comments\n",
       "count  2367.000000  2367.000000  2.367000e+03  2367.000000   2367.000000\n",
       "mean   1378.824673  1501.023659  1.606618e+09     1.545839     14.517533\n",
       "std     793.305187   858.782003  1.451716e+06     5.580078     23.334687\n",
       "min       0.000000     0.000000  1.603993e+09     0.000000      0.000000\n",
       "25%     702.500000   772.500000  1.605463e+09     1.000000      5.000000\n",
       "50%    1373.000000  1490.000000  1.606556e+09     1.000000      9.000000\n",
       "75%    2063.500000  2240.500000  1.607818e+09     1.000000     16.000000\n",
       "max    2755.000000  2999.000000  1.609269e+09   198.000000    628.000000"
      ]
     },
     "execution_count": 59,
     "metadata": {},
     "output_type": "execute_result"
    }
   ],
   "source": [
    "beer_1.describe()"
   ]
  },
  {
   "cell_type": "markdown",
   "metadata": {},
   "source": [
    "If a post received less than 5 comments it was in the bottom 25% in terms of number of comments. If it received over 16 comments then it was in the upper 25% in terms of number of comments. "
   ]
  },
  {
   "cell_type": "markdown",
   "metadata": {},
   "source": [
    "### Analyzing Five Largest Comment Achievers"
   ]
  },
  {
   "cell_type": "code",
   "execution_count": 60,
   "metadata": {},
   "outputs": [
    {
     "data": {
      "text/plain": [
       "574     628\n",
       "2037    298\n",
       "1731    215\n",
       "769     209\n",
       "1714    174\n",
       "Name: num_comments, dtype: int64"
      ]
     },
     "execution_count": 60,
     "metadata": {},
     "output_type": "execute_result"
    }
   ],
   "source": [
    "beer_1['num_comments'].nlargest()"
   ]
  },
  {
   "cell_type": "markdown",
   "metadata": {},
   "source": [
    "Checking to see if anything odd may be causing drastic comment numbers. "
   ]
  },
  {
   "cell_type": "code",
   "execution_count": 61,
   "metadata": {},
   "outputs": [
    {
     "data": {
      "text/plain": [
       "486     I'm currently cold crashing my first NEIPA (al...\n",
       "1949    Would you be able to just lift out all the coa...\n",
       "1643    Anyone know of any places that sells homebrewi...\n",
       "681     Hey my dudes. I'm back with another NEIPA, sim...\n",
       "1626    I have a Grainfather and the Grainfather sparg...\n",
       "Name: selftext, dtype: object"
      ]
     },
     "execution_count": 61,
     "metadata": {},
     "output_type": "execute_result"
    }
   ],
   "source": [
    "beer_1.loc[[486, 1949, 1643, 681, 1626], 'selftext']"
   ]
  },
  {
   "cell_type": "markdown",
   "metadata": {},
   "source": [
    "The two Largest comment values seem to be an advertisement from a user named ink-bird. \n",
    "* [ ] Investigate ink-bird as an author. \n",
    "* [ ] Possibly delete all posts from ink-bird."
   ]
  },
  {
   "cell_type": "code",
   "execution_count": 62,
   "metadata": {},
   "outputs": [],
   "source": [
    "beer_1.loc[486, ['author', 'selftext']];"
   ]
  },
  {
   "cell_type": "code",
   "execution_count": 63,
   "metadata": {},
   "outputs": [],
   "source": [
    "beer_1.loc[1949, ['author', 'selftext']];"
   ]
  },
  {
   "cell_type": "code",
   "execution_count": 64,
   "metadata": {},
   "outputs": [],
   "source": [
    "beer_1.loc[1643, ['author', 'selftext']];"
   ]
  },
  {
   "cell_type": "code",
   "execution_count": 65,
   "metadata": {},
   "outputs": [],
   "source": [
    "beer_1.loc[1643, 'selftext'];"
   ]
  },
  {
   "cell_type": "code",
   "execution_count": 66,
   "metadata": {},
   "outputs": [],
   "source": [
    "beer_1.loc[681, ['author', 'selftext']];"
   ]
  },
  {
   "cell_type": "code",
   "execution_count": 67,
   "metadata": {},
   "outputs": [],
   "source": [
    "beer_1.loc[681, 'selftext'];"
   ]
  },
  {
   "cell_type": "code",
   "execution_count": 68,
   "metadata": {},
   "outputs": [],
   "source": [
    "beer_1.loc[1626, ['author','selftext']];"
   ]
  },
  {
   "cell_type": "markdown",
   "metadata": {},
   "source": [
    "These were the only two posts from ink-bird. I am going to eliminate them because I feel the adds may not be representative of the spirit of the overall corpus. "
   ]
  },
  {
   "cell_type": "code",
   "execution_count": 69,
   "metadata": {},
   "outputs": [
    {
     "data": {
      "text/html": [
       "<div>\n",
       "<style scoped>\n",
       "    .dataframe tbody tr th:only-of-type {\n",
       "        vertical-align: middle;\n",
       "    }\n",
       "\n",
       "    .dataframe tbody tr th {\n",
       "        vertical-align: top;\n",
       "    }\n",
       "\n",
       "    .dataframe thead th {\n",
       "        text-align: right;\n",
       "    }\n",
       "</style>\n",
       "<table border=\"1\" class=\"dataframe\">\n",
       "  <thead>\n",
       "    <tr style=\"text-align: right;\">\n",
       "      <th></th>\n",
       "      <th>level_0</th>\n",
       "      <th>index</th>\n",
       "      <th>id</th>\n",
       "      <th>created_utc</th>\n",
       "      <th>title</th>\n",
       "      <th>selftext</th>\n",
       "      <th>author</th>\n",
       "      <th>score</th>\n",
       "      <th>num_comments</th>\n",
       "      <th>subreddit</th>\n",
       "    </tr>\n",
       "  </thead>\n",
       "  <tbody>\n",
       "    <tr>\n",
       "      <th>574</th>\n",
       "      <td>681</td>\n",
       "      <td>748</td>\n",
       "      <td>kcboe5</td>\n",
       "      <td>1607870448</td>\n",
       "      <td>🎁🎄Christmas Giveaway for Inkbird Waterproof In...</td>\n",
       "      <td>🎁Inkbird would like to give away **TWO FREE** ...</td>\n",
       "      <td>ink-bird</td>\n",
       "      <td>1</td>\n",
       "      <td>628</td>\n",
       "      <td>Homebrewing</td>\n",
       "    </tr>\n",
       "    <tr>\n",
       "      <th>2037</th>\n",
       "      <td>2368</td>\n",
       "      <td>2570</td>\n",
       "      <td>jqw9ky</td>\n",
       "      <td>1604922746</td>\n",
       "      <td>🔥50% OFF Amazon Discount for Inkbird Waterproo...</td>\n",
       "      <td>Hi friends good news for you **🔥** **🔥** **🔥**...</td>\n",
       "      <td>ink-bird</td>\n",
       "      <td>1</td>\n",
       "      <td>298</td>\n",
       "      <td>Homebrewing</td>\n",
       "    </tr>\n",
       "  </tbody>\n",
       "</table>\n",
       "</div>"
      ],
      "text/plain": [
       "      level_0  index      id  created_utc  \\\n",
       "574       681    748  kcboe5   1607870448   \n",
       "2037     2368   2570  jqw9ky   1604922746   \n",
       "\n",
       "                                                  title  \\\n",
       "574   🎁🎄Christmas Giveaway for Inkbird Waterproof In...   \n",
       "2037  🔥50% OFF Amazon Discount for Inkbird Waterproo...   \n",
       "\n",
       "                                               selftext    author  score  \\\n",
       "574   🎁Inkbird would like to give away **TWO FREE** ...  ink-bird      1   \n",
       "2037  Hi friends good news for you **🔥** **🔥** **🔥**...  ink-bird      1   \n",
       "\n",
       "      num_comments    subreddit  \n",
       "574            628  Homebrewing  \n",
       "2037           298  Homebrewing  "
      ]
     },
     "execution_count": 69,
     "metadata": {},
     "output_type": "execute_result"
    }
   ],
   "source": [
    "ink_bird = beer_1[beer_1['author'] == 'ink-bird']\n",
    "ink_bird"
   ]
  },
  {
   "cell_type": "markdown",
   "metadata": {},
   "source": [
    "Eliminating posts from author 'ink-bird'"
   ]
  },
  {
   "cell_type": "code",
   "execution_count": 70,
   "metadata": {},
   "outputs": [],
   "source": [
    "beer_1 = beer_1[beer_1['author'] != 'ink-bird']"
   ]
  },
  {
   "cell_type": "markdown",
   "metadata": {},
   "source": [
    "Checking to ensure they have been removed"
   ]
  },
  {
   "cell_type": "code",
   "execution_count": 71,
   "metadata": {},
   "outputs": [
    {
     "data": {
      "text/html": [
       "<div>\n",
       "<style scoped>\n",
       "    .dataframe tbody tr th:only-of-type {\n",
       "        vertical-align: middle;\n",
       "    }\n",
       "\n",
       "    .dataframe tbody tr th {\n",
       "        vertical-align: top;\n",
       "    }\n",
       "\n",
       "    .dataframe thead th {\n",
       "        text-align: right;\n",
       "    }\n",
       "</style>\n",
       "<table border=\"1\" class=\"dataframe\">\n",
       "  <thead>\n",
       "    <tr style=\"text-align: right;\">\n",
       "      <th></th>\n",
       "      <th>level_0</th>\n",
       "      <th>index</th>\n",
       "      <th>id</th>\n",
       "      <th>created_utc</th>\n",
       "      <th>title</th>\n",
       "      <th>selftext</th>\n",
       "      <th>author</th>\n",
       "      <th>score</th>\n",
       "      <th>num_comments</th>\n",
       "      <th>subreddit</th>\n",
       "    </tr>\n",
       "  </thead>\n",
       "  <tbody>\n",
       "  </tbody>\n",
       "</table>\n",
       "</div>"
      ],
      "text/plain": [
       "Empty DataFrame\n",
       "Columns: [level_0, index, id, created_utc, title, selftext, author, score, num_comments, subreddit]\n",
       "Index: []"
      ]
     },
     "execution_count": 71,
     "metadata": {},
     "output_type": "execute_result"
    }
   ],
   "source": [
    "ink_bird = beer_1[beer_1['author'] == 'ink-bird']\n",
    "ink_bird"
   ]
  },
  {
   "cell_type": "markdown",
   "metadata": {},
   "source": [
    "#### Boxplot for Multiple Posts (After Eliminating a Few Outliers)\n",
    "\n",
    "The boxplot is a bit more clear to understand but the overall trends remain the same. \n",
    "\n",
    "Most values are located closer to zero and almost all values have recieved less than 25 comments. There are still quite a few outliers but after inspect they all appear to be legitimate. \n",
    "\n",
    "One day I may come back and investigate what makes some of these posts so successful in regards to receiving comments. "
   ]
  },
  {
   "cell_type": "code",
   "execution_count": 72,
   "metadata": {},
   "outputs": [
    {
     "data": {
      "image/png": "[encoded data removed]",
      "text/plain": [
       "<Figure size 432x288 with 1 Axes>"
      ]
     },
     "metadata": {
      "needs_background": "light"
     },
     "output_type": "display_data"
    }
   ],
   "source": [
    "sns.boxplot(beer_1['num_comments'], width = .7, whis = 1.5).set_title('Number of Comments Per Post')\n",
    "\n",
    "plt.xlabel('Number of Comments');"
   ]
  },
  {
   "cell_type": "markdown",
   "metadata": {},
   "source": [
    "### Analyzing Score"
   ]
  },
  {
   "cell_type": "code",
   "execution_count": 73,
   "metadata": {},
   "outputs": [
    {
     "data": {
      "text/plain": [
       "1691    198\n",
       "1714    108\n",
       "1710     81\n",
       "1779     50\n",
       "1731     49\n",
       "Name: score, dtype: int64"
      ]
     },
     "execution_count": 73,
     "metadata": {},
     "output_type": "execute_result"
    }
   ],
   "source": [
    "beer_1['score'].nlargest()"
   ]
  },
  {
   "cell_type": "markdown",
   "metadata": {},
   "source": [
    "Posts that scored over 1 (the base score) accounted for just over 7 percent. "
   ]
  },
  {
   "cell_type": "code",
   "execution_count": 74,
   "metadata": {},
   "outputs": [
    {
     "data": {
      "text/plain": [
       "177"
      ]
     },
     "execution_count": 74,
     "metadata": {},
     "output_type": "execute_result"
    }
   ],
   "source": [
    "score_over_1_count = beer_1['score'][beer_1['score'] > 1].count()\n",
    "score_over_1_count"
   ]
  },
  {
   "cell_type": "code",
   "execution_count": 75,
   "metadata": {},
   "outputs": [
    {
     "data": {
      "text/plain": [
       "0.07477820025348543"
      ]
     },
     "execution_count": 75,
     "metadata": {},
     "output_type": "execute_result"
    }
   ],
   "source": [
    "score_over_1_count / unique_posts"
   ]
  },
  {
   "cell_type": "markdown",
   "metadata": {},
   "source": [
    "Analyzing the top 5 for score"
   ]
  },
  {
   "cell_type": "code",
   "execution_count": 76,
   "metadata": {},
   "outputs": [],
   "source": [
    "beer_1.loc[1603, 'selftext'];"
   ]
  },
  {
   "cell_type": "code",
   "execution_count": 77,
   "metadata": {},
   "outputs": [],
   "source": [
    "beer_1.loc[1626, 'selftext'];"
   ]
  },
  {
   "cell_type": "code",
   "execution_count": 78,
   "metadata": {},
   "outputs": [],
   "source": [
    "beer_1.loc[1622, 'selftext'];"
   ]
  },
  {
   "cell_type": "code",
   "execution_count": 79,
   "metadata": {},
   "outputs": [],
   "source": [
    "beer_1.loc[1691, 'selftext'];"
   ]
  },
  {
   "cell_type": "code",
   "execution_count": 80,
   "metadata": {},
   "outputs": [],
   "source": [
    "beer_1.loc[1643, 'selftext'];"
   ]
  },
  {
   "cell_type": "markdown",
   "metadata": {},
   "source": [
    "# Step 5 \n",
    "# Preparing DF for Text Analysis"
   ]
  },
  {
   "cell_type": "code",
   "execution_count": 81,
   "metadata": {},
   "outputs": [],
   "source": [
    "beer_1 = beer_1.drop(columns = ['level_0', 'index', 'id', 'created_utc', 'author', 'score', 'num_comments'])"
   ]
  },
  {
   "cell_type": "code",
   "execution_count": 82,
   "metadata": {},
   "outputs": [
    {
     "data": {
      "text/plain": [
       "Index(['title', 'selftext', 'subreddit'], dtype='object')"
      ]
     },
     "execution_count": 82,
     "metadata": {},
     "output_type": "execute_result"
    }
   ],
   "source": [
    "beer_1.columns"
   ]
  },
  {
   "cell_type": "markdown",
   "metadata": {},
   "source": [
    "### Adding title to self text for the purpose of text analysis. "
   ]
  },
  {
   "cell_type": "code",
   "execution_count": 83,
   "metadata": {},
   "outputs": [],
   "source": [
    "beer_1['selftext'] = beer_1['title'] + ' ' + beer_1['selftext']"
   ]
  },
  {
   "cell_type": "code",
   "execution_count": 84,
   "metadata": {},
   "outputs": [
    {
     "data": {
      "text/plain": [
       "0    Im trying to make a hard seltzer. I inverted 8...\n",
       "1    Doubling a recipe I am about to move up from 2...\n",
       "2    Today is a good day First proper brew in over ...\n",
       "3    Do I need to grab new yeast? I recently (Decem...\n",
       "4    No activity (not just airlock) 36 hours after ...\n",
       "Name: selftext, dtype: object"
      ]
     },
     "execution_count": 84,
     "metadata": {},
     "output_type": "execute_result"
    }
   ],
   "source": [
    "beer_1['selftext'].head()"
   ]
  },
  {
   "cell_type": "code",
   "execution_count": 85,
   "metadata": {},
   "outputs": [],
   "source": [
    "beer_1.drop(columns = ['title'], inplace = True)"
   ]
  },
  {
   "cell_type": "markdown",
   "metadata": {},
   "source": [
    "# Saving new df to CSV"
   ]
  },
  {
   "cell_type": "code",
   "execution_count": 784,
   "metadata": {},
   "outputs": [],
   "source": [
    "beer_1.to_csv('../data/beer.csv', index = False)"
   ]
  }
 ],
 "metadata": {
  "kernelspec": {
   "display_name": "Python 3",
   "language": "python",
   "name": "python3"
  },
  "language_info": {
   "codemirror_mode": {
    "name": "ipython",
    "version": 3
   },
   "file_extension": ".py",
   "mimetype": "text/x-python",
   "name": "python",
   "nbconvert_exporter": "python",
   "pygments_lexer": "ipython3",
   "version": "3.8.3"
  }
 },
 "nbformat": 4,
 "nbformat_minor": 4
}
