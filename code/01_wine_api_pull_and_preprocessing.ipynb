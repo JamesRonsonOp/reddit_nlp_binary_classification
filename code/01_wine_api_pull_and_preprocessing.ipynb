{
 "cells": [
  {
   "cell_type": "markdown",
   "metadata": {},
   "source": [
    "# About This Notebook"
   ]
  },
  {
   "cell_type": "markdown",
   "metadata": {},
   "source": [
    "This notebook takes in data from https://www.reddit.com/r/winemaking/ via the Push Shift API found at www.pushshift.io\n",
    "\n",
    "This notebook consists of five steps of initial data retrieval and preprocessing for a Natural Language Processing Project. \n",
    "\n",
    "The project at large will intake data from two different subreddits (from www.Reddit.com), clean and process the data, explore the data for relationships, create and manipulate features and then model to produce a predictive classification model. \n",
    "\n",
    "This notebook will begin the process described above through the following steps: \n",
    "\n",
    "Step 1: Data Retrieval - Is the process of pulling the data from Reddit using the Pushshift API.\n",
    "\n",
    "Step 2: Initial Analysis for Cleaning - Which will analyze unique values, indexes and summary info. \n",
    "\n",
    "Step 3: Preprocessing / Cleaning - Will reduce the amount of features being processed, handle duplicate values, and eliminate null values. \n",
    "\n",
    "Step 4: Preliminary EDA - Will conduct an initial exploration of the data to analyze unique values in greater detail, initially explore the possibility of outliers in the data and look into features that may be interesting overall but that may not make it into the advanced EDA and modeling process. \n",
    "\n",
    "Step 5: Preparing DF for Text Analysis - This process will reduce feature columns to just those that will be used in advanced EDA and modeling. It will then save this file to CSV for the purpose of importing into another notebook focused on advanced EDA and feature creation. "
   ]
  },
  {
   "cell_type": "markdown",
   "metadata": {},
   "source": [
    "About r/winemaking subreddit:\n",
    "\n",
    "* Created in November of 2008 it is a community for people interested in viticulture, winemaking and other fermented beverages. \n",
    "* At the time of this project there are around 39,000 members. \n",
    "* You can find more information about this community on their Reddit Wiki https://www.reddit.com/r/winemaking/wiki/index\n",
    "* Here you will find information abou the moderators, links to winemaking tips and a list of places to source grapes. "
   ]
  },
  {
   "cell_type": "markdown",
   "metadata": {},
   "source": [
    "### Importing Libraries"
   ]
  },
  {
   "cell_type": "code",
   "execution_count": 1,
   "metadata": {},
   "outputs": [],
   "source": [
    "import requests\n",
    "import time\n",
    "import pandas as pd\n",
    "import numpy as np\n",
    "import missingno as msno\n",
    "\n",
    "import seaborn as sns\n",
    "import matplotlib.pyplot as plt\n",
    "\n",
    "%matplotlib inline"
   ]
  },
  {
   "cell_type": "markdown",
   "metadata": {},
   "source": [
    "# Step 1\n",
    "\n",
    "# Data Retrieval\n",
    "\n",
    "### Pulling in Data Using Pushift API"
   ]
  },
  {
   "cell_type": "code",
   "execution_count": 2,
   "metadata": {},
   "outputs": [
    {
     "name": "stdout",
     "output_type": "stream",
     "text": [
      "res 1 code:  200\n",
      "res 2 code:  200\n",
      "res 3 code:  502\n"
     ]
    },
    {
     "ename": "JSONDecodeError",
     "evalue": "Expecting value: line 1 column 1 (char 0)",
     "output_type": "error",
     "traceback": [
      "\u001b[0;31m---------------------------------------------------------------------------\u001b[0m",
      "\u001b[0;31mJSONDecodeError\u001b[0m                           Traceback (most recent call last)",
      "\u001b[0;32m<ipython-input-2-3ecae92376fe>\u001b[0m in \u001b[0;36m<module>\u001b[0;34m\u001b[0m\n\u001b[1;32m     25\u001b[0m     \u001b[0mprint\u001b[0m\u001b[0;34m(\u001b[0m\u001b[0;34mf'res {i+1} code: '\u001b[0m\u001b[0;34m,\u001b[0m \u001b[0mres\u001b[0m\u001b[0;34m.\u001b[0m\u001b[0mstatus_code\u001b[0m\u001b[0;34m)\u001b[0m \u001b[0;31m#printing request status to ensure it went through securely\u001b[0m\u001b[0;34m\u001b[0m\u001b[0;34m\u001b[0m\u001b[0m\n\u001b[1;32m     26\u001b[0m \u001b[0;34m\u001b[0m\u001b[0m\n\u001b[0;32m---> 27\u001b[0;31m     \u001b[0mdata\u001b[0m \u001b[0;34m=\u001b[0m \u001b[0mres\u001b[0m\u001b[0;34m.\u001b[0m\u001b[0mjson\u001b[0m\u001b[0;34m(\u001b[0m\u001b[0;34m)\u001b[0m \u001b[0;31m#using json to read\u001b[0m\u001b[0;34m\u001b[0m\u001b[0;34m\u001b[0m\u001b[0m\n\u001b[0m\u001b[1;32m     28\u001b[0m     \u001b[0mposts\u001b[0m \u001b[0;34m=\u001b[0m \u001b[0mdata\u001b[0m\u001b[0;34m[\u001b[0m\u001b[0;34m'data'\u001b[0m\u001b[0;34m]\u001b[0m \u001b[0;31m#indexing into 'data' from json dictionary and list of dictionaries\u001b[0m\u001b[0;34m\u001b[0m\u001b[0;34m\u001b[0m\u001b[0m\n\u001b[1;32m     29\u001b[0m     \u001b[0mposts_df\u001b[0m \u001b[0;34m=\u001b[0m \u001b[0mpd\u001b[0m\u001b[0;34m.\u001b[0m\u001b[0mDataFrame\u001b[0m\u001b[0;34m(\u001b[0m\u001b[0mposts\u001b[0m\u001b[0;34m)\u001b[0m\u001b[0;34m\u001b[0m\u001b[0;34m\u001b[0m\u001b[0m\n",
      "\u001b[0;32m~/opt/anaconda3/lib/python3.8/site-packages/requests/models.py\u001b[0m in \u001b[0;36mjson\u001b[0;34m(self, **kwargs)\u001b[0m\n\u001b[1;32m    896\u001b[0m                     \u001b[0;31m# used.\u001b[0m\u001b[0;34m\u001b[0m\u001b[0;34m\u001b[0m\u001b[0;34m\u001b[0m\u001b[0m\n\u001b[1;32m    897\u001b[0m                     \u001b[0;32mpass\u001b[0m\u001b[0;34m\u001b[0m\u001b[0;34m\u001b[0m\u001b[0m\n\u001b[0;32m--> 898\u001b[0;31m         \u001b[0;32mreturn\u001b[0m \u001b[0mcomplexjson\u001b[0m\u001b[0;34m.\u001b[0m\u001b[0mloads\u001b[0m\u001b[0;34m(\u001b[0m\u001b[0mself\u001b[0m\u001b[0;34m.\u001b[0m\u001b[0mtext\u001b[0m\u001b[0;34m,\u001b[0m \u001b[0;34m**\u001b[0m\u001b[0mkwargs\u001b[0m\u001b[0;34m)\u001b[0m\u001b[0;34m\u001b[0m\u001b[0;34m\u001b[0m\u001b[0m\n\u001b[0m\u001b[1;32m    899\u001b[0m \u001b[0;34m\u001b[0m\u001b[0m\n\u001b[1;32m    900\u001b[0m     \u001b[0;34m@\u001b[0m\u001b[0mproperty\u001b[0m\u001b[0;34m\u001b[0m\u001b[0;34m\u001b[0m\u001b[0m\n",
      "\u001b[0;32m~/opt/anaconda3/lib/python3.8/json/__init__.py\u001b[0m in \u001b[0;36mloads\u001b[0;34m(s, cls, object_hook, parse_float, parse_int, parse_constant, object_pairs_hook, **kw)\u001b[0m\n\u001b[1;32m    355\u001b[0m             \u001b[0mparse_int\u001b[0m \u001b[0;32mis\u001b[0m \u001b[0;32mNone\u001b[0m \u001b[0;32mand\u001b[0m \u001b[0mparse_float\u001b[0m \u001b[0;32mis\u001b[0m \u001b[0;32mNone\u001b[0m \u001b[0;32mand\u001b[0m\u001b[0;34m\u001b[0m\u001b[0;34m\u001b[0m\u001b[0m\n\u001b[1;32m    356\u001b[0m             parse_constant is None and object_pairs_hook is None and not kw):\n\u001b[0;32m--> 357\u001b[0;31m         \u001b[0;32mreturn\u001b[0m \u001b[0m_default_decoder\u001b[0m\u001b[0;34m.\u001b[0m\u001b[0mdecode\u001b[0m\u001b[0;34m(\u001b[0m\u001b[0ms\u001b[0m\u001b[0;34m)\u001b[0m\u001b[0;34m\u001b[0m\u001b[0;34m\u001b[0m\u001b[0m\n\u001b[0m\u001b[1;32m    358\u001b[0m     \u001b[0;32mif\u001b[0m \u001b[0mcls\u001b[0m \u001b[0;32mis\u001b[0m \u001b[0;32mNone\u001b[0m\u001b[0;34m:\u001b[0m\u001b[0;34m\u001b[0m\u001b[0;34m\u001b[0m\u001b[0m\n\u001b[1;32m    359\u001b[0m         \u001b[0mcls\u001b[0m \u001b[0;34m=\u001b[0m \u001b[0mJSONDecoder\u001b[0m\u001b[0;34m\u001b[0m\u001b[0;34m\u001b[0m\u001b[0m\n",
      "\u001b[0;32m~/opt/anaconda3/lib/python3.8/json/decoder.py\u001b[0m in \u001b[0;36mdecode\u001b[0;34m(self, s, _w)\u001b[0m\n\u001b[1;32m    335\u001b[0m \u001b[0;34m\u001b[0m\u001b[0m\n\u001b[1;32m    336\u001b[0m         \"\"\"\n\u001b[0;32m--> 337\u001b[0;31m         \u001b[0mobj\u001b[0m\u001b[0;34m,\u001b[0m \u001b[0mend\u001b[0m \u001b[0;34m=\u001b[0m \u001b[0mself\u001b[0m\u001b[0;34m.\u001b[0m\u001b[0mraw_decode\u001b[0m\u001b[0;34m(\u001b[0m\u001b[0ms\u001b[0m\u001b[0;34m,\u001b[0m \u001b[0midx\u001b[0m\u001b[0;34m=\u001b[0m\u001b[0m_w\u001b[0m\u001b[0;34m(\u001b[0m\u001b[0ms\u001b[0m\u001b[0;34m,\u001b[0m \u001b[0;36m0\u001b[0m\u001b[0;34m)\u001b[0m\u001b[0;34m.\u001b[0m\u001b[0mend\u001b[0m\u001b[0;34m(\u001b[0m\u001b[0;34m)\u001b[0m\u001b[0;34m)\u001b[0m\u001b[0;34m\u001b[0m\u001b[0;34m\u001b[0m\u001b[0m\n\u001b[0m\u001b[1;32m    338\u001b[0m         \u001b[0mend\u001b[0m \u001b[0;34m=\u001b[0m \u001b[0m_w\u001b[0m\u001b[0;34m(\u001b[0m\u001b[0ms\u001b[0m\u001b[0;34m,\u001b[0m \u001b[0mend\u001b[0m\u001b[0;34m)\u001b[0m\u001b[0;34m.\u001b[0m\u001b[0mend\u001b[0m\u001b[0;34m(\u001b[0m\u001b[0;34m)\u001b[0m\u001b[0;34m\u001b[0m\u001b[0;34m\u001b[0m\u001b[0m\n\u001b[1;32m    339\u001b[0m         \u001b[0;32mif\u001b[0m \u001b[0mend\u001b[0m \u001b[0;34m!=\u001b[0m \u001b[0mlen\u001b[0m\u001b[0;34m(\u001b[0m\u001b[0ms\u001b[0m\u001b[0;34m)\u001b[0m\u001b[0;34m:\u001b[0m\u001b[0;34m\u001b[0m\u001b[0;34m\u001b[0m\u001b[0m\n",
      "\u001b[0;32m~/opt/anaconda3/lib/python3.8/json/decoder.py\u001b[0m in \u001b[0;36mraw_decode\u001b[0;34m(self, s, idx)\u001b[0m\n\u001b[1;32m    353\u001b[0m             \u001b[0mobj\u001b[0m\u001b[0;34m,\u001b[0m \u001b[0mend\u001b[0m \u001b[0;34m=\u001b[0m \u001b[0mself\u001b[0m\u001b[0;34m.\u001b[0m\u001b[0mscan_once\u001b[0m\u001b[0;34m(\u001b[0m\u001b[0ms\u001b[0m\u001b[0;34m,\u001b[0m \u001b[0midx\u001b[0m\u001b[0;34m)\u001b[0m\u001b[0;34m\u001b[0m\u001b[0;34m\u001b[0m\u001b[0m\n\u001b[1;32m    354\u001b[0m         \u001b[0;32mexcept\u001b[0m \u001b[0mStopIteration\u001b[0m \u001b[0;32mas\u001b[0m \u001b[0merr\u001b[0m\u001b[0;34m:\u001b[0m\u001b[0;34m\u001b[0m\u001b[0;34m\u001b[0m\u001b[0m\n\u001b[0;32m--> 355\u001b[0;31m             \u001b[0;32mraise\u001b[0m \u001b[0mJSONDecodeError\u001b[0m\u001b[0;34m(\u001b[0m\u001b[0;34m\"Expecting value\"\u001b[0m\u001b[0;34m,\u001b[0m \u001b[0ms\u001b[0m\u001b[0;34m,\u001b[0m \u001b[0merr\u001b[0m\u001b[0;34m.\u001b[0m\u001b[0mvalue\u001b[0m\u001b[0;34m)\u001b[0m \u001b[0;32mfrom\u001b[0m \u001b[0;32mNone\u001b[0m\u001b[0;34m\u001b[0m\u001b[0;34m\u001b[0m\u001b[0m\n\u001b[0m\u001b[1;32m    356\u001b[0m         \u001b[0;32mreturn\u001b[0m \u001b[0mobj\u001b[0m\u001b[0;34m,\u001b[0m \u001b[0mend\u001b[0m\u001b[0;34m\u001b[0m\u001b[0;34m\u001b[0m\u001b[0m\n",
      "\u001b[0;31mJSONDecodeError\u001b[0m: Expecting value: line 1 column 1 (char 0)"
     ]
    }
   ],
   "source": [
    "# defining url for pushshift apo\n",
    "url = 'https://api.pushshift.io/reddit/submission/search'\n",
    "# creating an empty list to collect the dataframe lists\n",
    "dfs = []\n",
    "\n",
    "# number of loops that will be made. Each loop pulls a new set of posts.\n",
    "loops = 40\n",
    "\n",
    "params = {\n",
    "        'subreddit': 'winemaking', \n",
    "        'size': 100,\n",
    "#         'before' :\n",
    "        }\n",
    "\n",
    "\n",
    "#defining the time in which I start the loop.\n",
    "start_time = time.time()\n",
    "\n",
    "#create for loop that sets the current time for the sake of ensuring we are not scraping too fast or taking too many of the sites reasoureces. \n",
    "for i in range(loops):\n",
    "    \n",
    "    current_time = time.time()\n",
    "    #requesting data\n",
    "    res = requests.get(url, params) #getting request\n",
    "    print(f'res {i+1} code: ', res.status_code) #printing request status to ensure it went through securely\n",
    "    \n",
    "    data = res.json() #using json to read\n",
    "    posts = data['data'] #indexing into 'data' from json dictionary and list of dictionaries\n",
    "    posts_df = pd.DataFrame(posts)\n",
    "    dfs.append(posts_df) #create dataframe from 'data' dictionary\n",
    "        \n",
    "        \n",
    "    # get oldest post time and use as before parameter in next request\n",
    "    params['before'] = posts_df['created_utc'].min()#adding 'before' parameter to params dictionary\n",
    "        \n",
    "    #created lower limit of 1 second to ensure we are abiding by resource conventions.\n",
    "    time.sleep(3)\n",
    "\n",
    "# creating a dataframe by concatetinating all of the df lists created by the loop    \n",
    "reddit_posts = pd.concat(dfs)"
   ]
  },
  {
   "cell_type": "code",
   "execution_count": 345,
   "metadata": {},
   "outputs": [
    {
     "data": {
      "text/plain": [
       "(4000, 83)"
      ]
     },
     "execution_count": 345,
     "metadata": {},
     "output_type": "execute_result"
    }
   ],
   "source": [
    "reddit_posts.shape"
   ]
  },
  {
   "cell_type": "markdown",
   "metadata": {},
   "source": [
    "# Step 2\n",
    "# Initial Analysis for Cleaning\n",
    "\n",
    "### Initial Analysis of Unique Values (Prior to Cleaning)\n",
    "* Note, I had to scrape 1,000 more values from the wine subbreddit than I did the homebrewing subreddit just to get close to the amount of unique posts. Oddly I cam up with more unique authors but less unique posts. "
   ]
  },
  {
   "cell_type": "markdown",
   "metadata": {},
   "source": [
    "#### 4000 unique post id's "
   ]
  },
  {
   "cell_type": "code",
   "execution_count": 382,
   "metadata": {},
   "outputs": [
    {
     "data": {
      "text/plain": [
       "4000"
      ]
     },
     "execution_count": 382,
     "metadata": {},
     "output_type": "execute_result"
    }
   ],
   "source": [
    "unique_ids = reddit_posts['id'].nunique()\n",
    "unique_ids"
   ]
  },
  {
   "cell_type": "markdown",
   "metadata": {},
   "source": [
    "#### 2139 unique authors"
   ]
  },
  {
   "cell_type": "code",
   "execution_count": 383,
   "metadata": {},
   "outputs": [
    {
     "data": {
      "text/plain": [
       "2140"
      ]
     },
     "execution_count": 383,
     "metadata": {},
     "output_type": "execute_result"
    }
   ],
   "source": [
    "unique_authors = reddit_posts['author'].nunique()\n",
    "unique_authors"
   ]
  },
  {
   "cell_type": "markdown",
   "metadata": {},
   "source": [
    "#### 1943 unique posts"
   ]
  },
  {
   "cell_type": "code",
   "execution_count": 384,
   "metadata": {},
   "outputs": [
    {
     "data": {
      "text/plain": [
       "1938"
      ]
     },
     "execution_count": 384,
     "metadata": {},
     "output_type": "execute_result"
    }
   ],
   "source": [
    "unique_posts = reddit_posts['selftext'].nunique()\n",
    "unique_posts"
   ]
  },
  {
   "cell_type": "markdown",
   "metadata": {},
   "source": [
    "#### Percentage of Unique Posts to Unique IDs\n",
    "* The percentage of unique posts in winemaking is much smaller than the percentage of unique posts in homebrewing. "
   ]
  },
  {
   "cell_type": "code",
   "execution_count": 385,
   "metadata": {},
   "outputs": [
    {
     "data": {
      "text/plain": [
       "0.4845"
      ]
     },
     "execution_count": 385,
     "metadata": {},
     "output_type": "execute_result"
    }
   ],
   "source": [
    "unique_posts / unique_ids"
   ]
  },
  {
   "cell_type": "markdown",
   "metadata": {},
   "source": [
    "________________________\n",
    "## Column and Index Check"
   ]
  },
  {
   "cell_type": "markdown",
   "metadata": {},
   "source": [
    "### Checking column index"
   ]
  },
  {
   "cell_type": "code",
   "execution_count": 386,
   "metadata": {},
   "outputs": [],
   "source": [
    "reddit_posts.columns;"
   ]
  },
  {
   "cell_type": "markdown",
   "metadata": {},
   "source": [
    "### Checking row index\n",
    "* row index appears to be repeating similarly to how it was in the beer api_pull notebook. \n",
    "* It is due to the for-loop that I ran to pull from API. \n",
    "* going to reset index"
   ]
  },
  {
   "cell_type": "code",
   "execution_count": 387,
   "metadata": {},
   "outputs": [
    {
     "data": {
      "text/plain": [
       "RangeIndex(start=0, stop=4000, step=1)"
      ]
     },
     "execution_count": 387,
     "metadata": {},
     "output_type": "execute_result"
    }
   ],
   "source": [
    "reddit_posts.index"
   ]
  },
  {
   "cell_type": "code",
   "execution_count": 388,
   "metadata": {},
   "outputs": [],
   "source": [
    "reddit_posts.reset_index(inplace = True, drop = True)"
   ]
  },
  {
   "cell_type": "code",
   "execution_count": 389,
   "metadata": {},
   "outputs": [
    {
     "data": {
      "text/plain": [
       "RangeIndex(start=0, stop=4000, step=1)"
      ]
     },
     "execution_count": 389,
     "metadata": {},
     "output_type": "execute_result"
    }
   ],
   "source": [
    "reddit_posts.index"
   ]
  },
  {
   "cell_type": "markdown",
   "metadata": {},
   "source": [
    "______________________"
   ]
  },
  {
   "cell_type": "markdown",
   "metadata": {},
   "source": [
    "### Summary Info"
   ]
  },
  {
   "cell_type": "code",
   "execution_count": 390,
   "metadata": {},
   "outputs": [
    {
     "name": "stdout",
     "output_type": "stream",
     "text": [
      "<class 'pandas.core.frame.DataFrame'>\n",
      "RangeIndex: 4000 entries, 0 to 3999\n",
      "Data columns (total 83 columns):\n",
      " #   Column                         Non-Null Count  Dtype  \n",
      "---  ------                         --------------  -----  \n",
      " 0   all_awardings                  4000 non-null   object \n",
      " 1   allow_live_comments            4000 non-null   bool   \n",
      " 2   author                         4000 non-null   object \n",
      " 3   author_flair_css_class         0 non-null      object \n",
      " 4   author_flair_richtext          3969 non-null   object \n",
      " 5   author_flair_text              0 non-null      object \n",
      " 6   author_flair_type              3969 non-null   object \n",
      " 7   author_fullname                3969 non-null   object \n",
      " 8   author_patreon_flair           3969 non-null   object \n",
      " 9   author_premium                 3713 non-null   object \n",
      " 10  awarders                       4000 non-null   object \n",
      " 11  can_mod_post                   4000 non-null   bool   \n",
      " 12  contest_mode                   4000 non-null   bool   \n",
      " 13  created_utc                    4000 non-null   int64  \n",
      " 14  domain                         4000 non-null   object \n",
      " 15  full_link                      4000 non-null   object \n",
      " 16  gildings                       4000 non-null   object \n",
      " 17  id                             4000 non-null   object \n",
      " 18  is_crosspostable               4000 non-null   bool   \n",
      " 19  is_meta                        4000 non-null   bool   \n",
      " 20  is_original_content            4000 non-null   bool   \n",
      " 21  is_reddit_media_domain         4000 non-null   bool   \n",
      " 22  is_robot_indexable             4000 non-null   bool   \n",
      " 23  is_self                        4000 non-null   bool   \n",
      " 24  is_video                       4000 non-null   bool   \n",
      " 25  link_flair_background_color    4000 non-null   object \n",
      " 26  link_flair_richtext            4000 non-null   object \n",
      " 27  link_flair_text_color          4000 non-null   object \n",
      " 28  link_flair_type                4000 non-null   object \n",
      " 29  locked                         4000 non-null   bool   \n",
      " 30  media_only                     4000 non-null   bool   \n",
      " 31  no_follow                      4000 non-null   bool   \n",
      " 32  num_comments                   4000 non-null   int64  \n",
      " 33  num_crossposts                 4000 non-null   int64  \n",
      " 34  over_18                        4000 non-null   bool   \n",
      " 35  parent_whitelist_status        4000 non-null   object \n",
      " 36  permalink                      4000 non-null   object \n",
      " 37  pinned                         4000 non-null   bool   \n",
      " 38  pwls                           4000 non-null   int64  \n",
      " 39  retrieved_on                   4000 non-null   int64  \n",
      " 40  score                          4000 non-null   int64  \n",
      " 41  selftext                       3999 non-null   object \n",
      " 42  send_replies                   4000 non-null   bool   \n",
      " 43  spoiler                        4000 non-null   bool   \n",
      " 44  stickied                       4000 non-null   bool   \n",
      " 45  subreddit                      4000 non-null   object \n",
      " 46  subreddit_id                   4000 non-null   object \n",
      " 47  subreddit_subscribers          4000 non-null   int64  \n",
      " 48  subreddit_type                 4000 non-null   object \n",
      " 49  thumbnail                      4000 non-null   object \n",
      " 50  title                          4000 non-null   object \n",
      " 51  total_awards_received          4000 non-null   int64  \n",
      " 52  treatment_tags                 2951 non-null   object \n",
      " 53  upvote_ratio                   2762 non-null   float64\n",
      " 54  url                            4000 non-null   object \n",
      " 55  whitelist_status               4000 non-null   object \n",
      " 56  wls                            4000 non-null   int64  \n",
      " 57  post_hint                      1417 non-null   object \n",
      " 58  preview                        1417 non-null   object \n",
      " 59  removed_by_category            244 non-null    object \n",
      " 60  thumbnail_height               1450 non-null   float64\n",
      " 61  thumbnail_width                1450 non-null   float64\n",
      " 62  url_overridden_by_dest         1008 non-null   object \n",
      " 63  crosspost_parent               77 non-null     object \n",
      " 64  crosspost_parent_list          77 non-null     object \n",
      " 65  gallery_data                   149 non-null    object \n",
      " 66  is_gallery                     150 non-null    object \n",
      " 67  media_metadata                 183 non-null    object \n",
      " 68  media                          166 non-null    object \n",
      " 69  media_embed                    150 non-null    object \n",
      " 70  secure_media                   166 non-null    object \n",
      " 71  secure_media_embed             150 non-null    object \n",
      " 72  author_cakeday                 18 non-null     object \n",
      " 73  edited                         22 non-null     float64\n",
      " 74  author_flair_background_color  31 non-null     object \n",
      " 75  author_flair_text_color        31 non-null     object \n",
      " 76  banned_by                      1 non-null      object \n",
      " 77  poll_data                      7 non-null      object \n",
      " 78  steward_reports                531 non-null    object \n",
      " 79  removed_by                     5 non-null      object \n",
      " 80  updated_utc                    119 non-null    float64\n",
      " 81  og_description                 31 non-null     object \n",
      " 82  og_title                       31 non-null     object \n",
      "dtypes: bool(18), float64(5), int64(9), object(51)\n",
      "memory usage: 2.1+ MB\n"
     ]
    }
   ],
   "source": [
    "reddit_posts.info()"
   ]
  },
  {
   "cell_type": "markdown",
   "metadata": {},
   "source": [
    "# Step 3\n",
    "\n",
    "# Preprocessing / Cleaning\n",
    "\n",
    "## Create new Wine_1 dataframe with reduced columns"
   ]
  },
  {
   "cell_type": "code",
   "execution_count": 636,
   "metadata": {},
   "outputs": [],
   "source": [
    "wine_1 = reddit_posts[['id', 'created_utc', 'title', 'selftext', 'author', 'score', 'num_comments', 'subreddit']]"
   ]
  },
  {
   "cell_type": "code",
   "execution_count": 637,
   "metadata": {},
   "outputs": [
    {
     "data": {
      "text/html": [
       "<div>\n",
       "<style scoped>\n",
       "    .dataframe tbody tr th:only-of-type {\n",
       "        vertical-align: middle;\n",
       "    }\n",
       "\n",
       "    .dataframe tbody tr th {\n",
       "        vertical-align: top;\n",
       "    }\n",
       "\n",
       "    .dataframe thead th {\n",
       "        text-align: right;\n",
       "    }\n",
       "</style>\n",
       "<table border=\"1\" class=\"dataframe\">\n",
       "  <thead>\n",
       "    <tr style=\"text-align: right;\">\n",
       "      <th></th>\n",
       "      <th>id</th>\n",
       "      <th>created_utc</th>\n",
       "      <th>title</th>\n",
       "      <th>selftext</th>\n",
       "      <th>author</th>\n",
       "      <th>score</th>\n",
       "      <th>num_comments</th>\n",
       "      <th>subreddit</th>\n",
       "    </tr>\n",
       "  </thead>\n",
       "  <tbody>\n",
       "    <tr>\n",
       "      <th>0</th>\n",
       "      <td>kllhvo</td>\n",
       "      <td>1609138953</td>\n",
       "      <td>Resources for a newbie home winemaker</td>\n",
       "      <td>I want to find a comprehensive resource (book,...</td>\n",
       "      <td>rooks-and-queens</td>\n",
       "      <td>1</td>\n",
       "      <td>4</td>\n",
       "      <td>winemaking</td>\n",
       "    </tr>\n",
       "    <tr>\n",
       "      <th>1</th>\n",
       "      <td>klhoel</td>\n",
       "      <td>1609124124</td>\n",
       "      <td>Marvel Marketing | #1 Growing Internet Marketi...</td>\n",
       "      <td></td>\n",
       "      <td>PortiaPennr688</td>\n",
       "      <td>1</td>\n",
       "      <td>0</td>\n",
       "      <td>winemaking</td>\n",
       "    </tr>\n",
       "    <tr>\n",
       "      <th>2</th>\n",
       "      <td>klgc1s</td>\n",
       "      <td>1609119301</td>\n",
       "      <td>A question about kit wine</td>\n",
       "      <td>I’ve made quite a few batches that have all co...</td>\n",
       "      <td>drunkboater</td>\n",
       "      <td>1</td>\n",
       "      <td>7</td>\n",
       "      <td>winemaking</td>\n",
       "    </tr>\n",
       "    <tr>\n",
       "      <th>3</th>\n",
       "      <td>kldeal</td>\n",
       "      <td>1609109450</td>\n",
       "      <td>Riesling - My First Wine</td>\n",
       "      <td>Hi Everyone,\\n\\nI am going to make some riesli...</td>\n",
       "      <td>ITSDSME</td>\n",
       "      <td>1</td>\n",
       "      <td>0</td>\n",
       "      <td>winemaking</td>\n",
       "    </tr>\n",
       "    <tr>\n",
       "      <th>4</th>\n",
       "      <td>kl86p7</td>\n",
       "      <td>1609092401</td>\n",
       "      <td>Carrot Wine Questions?</td>\n",
       "      <td></td>\n",
       "      <td>mattstuff09</td>\n",
       "      <td>1</td>\n",
       "      <td>10</td>\n",
       "      <td>winemaking</td>\n",
       "    </tr>\n",
       "  </tbody>\n",
       "</table>\n",
       "</div>"
      ],
      "text/plain": [
       "       id  created_utc                                              title  \\\n",
       "0  kllhvo   1609138953              Resources for a newbie home winemaker   \n",
       "1  klhoel   1609124124  Marvel Marketing | #1 Growing Internet Marketi...   \n",
       "2  klgc1s   1609119301                          A question about kit wine   \n",
       "3  kldeal   1609109450                           Riesling - My First Wine   \n",
       "4  kl86p7   1609092401                             Carrot Wine Questions?   \n",
       "\n",
       "                                            selftext            author  score  \\\n",
       "0  I want to find a comprehensive resource (book,...  rooks-and-queens      1   \n",
       "1                                                       PortiaPennr688      1   \n",
       "2  I’ve made quite a few batches that have all co...       drunkboater      1   \n",
       "3  Hi Everyone,\\n\\nI am going to make some riesli...           ITSDSME      1   \n",
       "4                                                          mattstuff09      1   \n",
       "\n",
       "   num_comments   subreddit  \n",
       "0             4  winemaking  \n",
       "1             0  winemaking  \n",
       "2             7  winemaking  \n",
       "3             0  winemaking  \n",
       "4            10  winemaking  "
      ]
     },
     "execution_count": 637,
     "metadata": {},
     "output_type": "execute_result"
    }
   ],
   "source": [
    "wine_1.head()"
   ]
  },
  {
   "cell_type": "markdown",
   "metadata": {},
   "source": [
    "### Checking for Duplicates\n",
    "* There are none according to .duplicated()\n",
    "* however, value_counts on 'selftext' reveal a few duplicated 'selftext' values."
   ]
  },
  {
   "cell_type": "code",
   "execution_count": 638,
   "metadata": {},
   "outputs": [
    {
     "data": {
      "text/plain": [
       "False    4000\n",
       "dtype: int64"
      ]
     },
     "execution_count": 638,
     "metadata": {},
     "output_type": "execute_result"
    }
   ],
   "source": [
    "wine_1.duplicated().value_counts()"
   ]
  },
  {
   "cell_type": "markdown",
   "metadata": {},
   "source": [
    "There are a few removed and deleted values. Not as many as in the homebrewing data. "
   ]
  },
  {
   "cell_type": "code",
   "execution_count": 639,
   "metadata": {},
   "outputs": [
    {
     "data": {
      "text/plain": [
       "                                                                                                                                                                                                                                                                                                                                                                                                                                                                                                                                                                                                                                                                                                                                                                                                                                                                                                                                                 1942\n",
       "[removed]                                                                                                                                                                                                                                                                                                                                                                                                                                                                                                                                                                                                                                                                                                                                                                                                                                                                                                                                          76\n",
       "[deleted]                                                                                                                                                                                                                                                                                                                                                                                                                                                                                                                                                                                                                                                                                                                                                                                                                                                                                                                                          30\n",
       "I’m trying out making a minimalistic wine 100% out of things left over around the house. So I put together a starter today out of some apple peels, lemon juice, honey and water. I’m considering dropping some blueberries in the starter as I grow them in my yard, whereas the apple peels were from the grocery store and I washed them when I got them home. I also have frozen peaches. \\n\\n**But what I’m concerned about, is if I just haphazardly dump all this random stuff in and get it to ferment, is there a chance that I’ll make something that will hurt someone who drinks it? Like might I accidentally breed a harmful bacteria?**\\n\\nAgain, I’m doing this totally minimalistic style, even down to using a homemade airlock, so I know I should just buy brewers yeast and all the gear to do it right, but that defeats the point of my experiment doing it with just left over home resources. Thanks for any advice!       6\n",
       "https://imgur.com/gallery/phRrKtb                                                                                                                                                                                                                                                                                                                                                                                                                                                                                                                                                                                                                                                                                                                                                                                                                                                                                                                   2\n",
       "Name: selftext, dtype: int64"
      ]
     },
     "execution_count": 639,
     "metadata": {},
     "output_type": "execute_result"
    }
   ],
   "source": [
    "wine_1['selftext'].value_counts().head()"
   ]
  },
  {
   "cell_type": "markdown",
   "metadata": {},
   "source": [
    "### Eliminating 'removed' values"
   ]
  },
  {
   "cell_type": "code",
   "execution_count": 640,
   "metadata": {},
   "outputs": [
    {
     "name": "stdout",
     "output_type": "stream",
     "text": [
      "76\n"
     ]
    }
   ],
   "source": [
    "count = 0\n",
    "for item in wine_1['selftext']:\n",
    "    if item == '[removed]':\n",
    "        count += 1\n",
    "print(count)"
   ]
  },
  {
   "cell_type": "code",
   "execution_count": 641,
   "metadata": {},
   "outputs": [],
   "source": [
    "wine_1 = wine_1[wine_1['selftext'] != '[removed]']"
   ]
  },
  {
   "cell_type": "code",
   "execution_count": 642,
   "metadata": {},
   "outputs": [
    {
     "name": "stdout",
     "output_type": "stream",
     "text": [
      "0\n"
     ]
    }
   ],
   "source": [
    "count = 0\n",
    "for item in wine_1['selftext']:\n",
    "    if item == '[removed]':\n",
    "        count += 1\n",
    "print(count)"
   ]
  },
  {
   "cell_type": "markdown",
   "metadata": {},
   "source": [
    "### Eliminating 'deleted' values"
   ]
  },
  {
   "cell_type": "code",
   "execution_count": 643,
   "metadata": {},
   "outputs": [
    {
     "name": "stdout",
     "output_type": "stream",
     "text": [
      "30\n"
     ]
    }
   ],
   "source": [
    "count = 0\n",
    "for item in wine_1['selftext']:\n",
    "    if item == '[deleted]':\n",
    "        count += 1\n",
    "print(count)"
   ]
  },
  {
   "cell_type": "code",
   "execution_count": 644,
   "metadata": {},
   "outputs": [],
   "source": [
    "wine_1 = wine_1[wine_1['selftext'] != '[deleted]']"
   ]
  },
  {
   "cell_type": "code",
   "execution_count": 645,
   "metadata": {},
   "outputs": [
    {
     "name": "stdout",
     "output_type": "stream",
     "text": [
      "0\n"
     ]
    }
   ],
   "source": [
    "count = 0 \n",
    "for item in wine_1['selftext']:\n",
    "    if item == '[deleted]':\n",
    "        count += 1\n",
    "print(count)"
   ]
  },
  {
   "cell_type": "markdown",
   "metadata": {},
   "source": [
    "Resetting index again to account for dropped values"
   ]
  },
  {
   "cell_type": "code",
   "execution_count": 646,
   "metadata": {},
   "outputs": [],
   "source": [
    "wine_1.reset_index(inplace = True, drop = True)"
   ]
  },
  {
   "cell_type": "code",
   "execution_count": 647,
   "metadata": {},
   "outputs": [
    {
     "data": {
      "text/plain": [
       "RangeIndex(start=0, stop=3894, step=1)"
      ]
     },
     "execution_count": 647,
     "metadata": {},
     "output_type": "execute_result"
    }
   ],
   "source": [
    "wine_1.index"
   ]
  },
  {
   "cell_type": "code",
   "execution_count": 648,
   "metadata": {},
   "outputs": [
    {
     "data": {
      "text/plain": [
       "Index(['id', 'created_utc', 'title', 'selftext', 'author', 'score',\n",
       "       'num_comments', 'subreddit'],\n",
       "      dtype='object')"
      ]
     },
     "execution_count": 648,
     "metadata": {},
     "output_type": "execute_result"
    }
   ],
   "source": [
    "wine_1.columns"
   ]
  },
  {
   "cell_type": "markdown",
   "metadata": {},
   "source": [
    "### Eliminating duplicates\n",
    "* Not as many as in the homebrewing data but a few exist. "
   ]
  },
  {
   "cell_type": "code",
   "execution_count": 649,
   "metadata": {},
   "outputs": [],
   "source": [
    "wine_1 = wine_1.drop_duplicates('selftext', keep = 'first').reset_index(drop = True)"
   ]
  },
  {
   "cell_type": "code",
   "execution_count": 650,
   "metadata": {},
   "outputs": [
    {
     "data": {
      "text/plain": [
       "Index(['id', 'created_utc', 'title', 'selftext', 'author', 'score',\n",
       "       'num_comments', 'subreddit'],\n",
       "      dtype='object')"
      ]
     },
     "execution_count": 650,
     "metadata": {},
     "output_type": "execute_result"
    }
   ],
   "source": [
    "wine_1.columns"
   ]
  },
  {
   "cell_type": "markdown",
   "metadata": {},
   "source": [
    "Checking duplicates. No more exist"
   ]
  },
  {
   "cell_type": "code",
   "execution_count": 651,
   "metadata": {},
   "outputs": [],
   "source": [
    "wine_1['selftext'].value_counts().nlargest();"
   ]
  },
  {
   "cell_type": "code",
   "execution_count": 652,
   "metadata": {},
   "outputs": [
    {
     "data": {
      "text/plain": [
       "id              1937\n",
       "created_utc     1937\n",
       "title           1912\n",
       "selftext        1936\n",
       "author          1267\n",
       "score             22\n",
       "num_comments      49\n",
       "subreddit          1\n",
       "dtype: int64"
      ]
     },
     "execution_count": 652,
     "metadata": {},
     "output_type": "execute_result"
    }
   ],
   "source": [
    "wine_1.nunique()"
   ]
  },
  {
   "cell_type": "markdown",
   "metadata": {},
   "source": [
    "### Checking and Managing Null Values\n",
    "* 1 null value in selftext. I will drop the row.  "
   ]
  },
  {
   "cell_type": "code",
   "execution_count": 653,
   "metadata": {},
   "outputs": [
    {
     "data": {
      "image/png": "[encoded data removed]",
      "text/plain": [
       "<Figure size 1728x720 with 3 Axes>"
      ]
     },
     "metadata": {
      "needs_background": "light"
     },
     "output_type": "display_data"
    }
   ],
   "source": [
    "msno.bar(wine_1);"
   ]
  },
  {
   "cell_type": "code",
   "execution_count": 654,
   "metadata": {},
   "outputs": [],
   "source": [
    "wine_1 = wine_1.dropna()"
   ]
  },
  {
   "cell_type": "code",
   "execution_count": 655,
   "metadata": {},
   "outputs": [
    {
     "data": {
      "image/png": "[encoded data removed]",
      "text/plain": [
       "<Figure size 1728x720 with 3 Axes>"
      ]
     },
     "metadata": {
      "needs_background": "light"
     },
     "output_type": "display_data"
    }
   ],
   "source": [
    "msno.bar(wine_1);"
   ]
  },
  {
   "cell_type": "markdown",
   "metadata": {},
   "source": [
    "### Checking Post Lengths\n",
    "To ensure there is content in every post"
   ]
  },
  {
   "cell_type": "code",
   "execution_count": 656,
   "metadata": {},
   "outputs": [
    {
     "name": "stdout",
     "output_type": "stream",
     "text": [
      "\n"
     ]
    }
   ],
   "source": [
    "# There are no posts that have less than 5 characters\n",
    "for post in wine_1['selftext']:\n",
    "    if len(post) < 5:\n",
    "        print(post)"
   ]
  },
  {
   "cell_type": "markdown",
   "metadata": {},
   "source": [
    "Creating a list of post lengths to add to a histogram"
   ]
  },
  {
   "cell_type": "code",
   "execution_count": 657,
   "metadata": {},
   "outputs": [
    {
     "data": {
      "text/plain": [
       "1936"
      ]
     },
     "execution_count": 657,
     "metadata": {},
     "output_type": "execute_result"
    }
   ],
   "source": [
    "post_lengths = []\n",
    "for post in wine_1['selftext']:\n",
    "    post_lengths.append(len(post))\n",
    "len(post_lengths) # ensuring I got all the values. "
   ]
  },
  {
   "cell_type": "code",
   "execution_count": 658,
   "metadata": {},
   "outputs": [
    {
     "data": {
      "image/png": "[encoded data removed]",
      "text/plain": [
       "<Figure size 432x288 with 1 Axes>"
      ]
     },
     "metadata": {
      "needs_background": "light"
     },
     "output_type": "display_data"
    }
   ],
   "source": [
    "sns.distplot(post_lengths).set_title('Post Length by Characters')\n",
    "\n",
    "plt.xlabel('Post Length')\n",
    "plt.ylabel('Frequency');"
   ]
  },
  {
   "cell_type": "markdown",
   "metadata": {},
   "source": [
    "# Step 4\n",
    "# Preliminary EDA\n",
    "* This Exploratory Data Analysis is being conducted for the purpose of getting to know the data that surrounds the target data and predictor variables. It is also being utulized to identify any useful and interesting statistics or relationships that exist outside of predictive modeling and the exploratory process that preceeds modeling. \n",
    "\n",
    "### Unique Author / Unique Post Analysis"
   ]
  },
  {
   "cell_type": "markdown",
   "metadata": {},
   "source": [
    "Unique Authors"
   ]
  },
  {
   "cell_type": "code",
   "execution_count": 659,
   "metadata": {},
   "outputs": [
    {
     "data": {
      "text/plain": [
       "1266"
      ]
     },
     "execution_count": 659,
     "metadata": {},
     "output_type": "execute_result"
    }
   ],
   "source": [
    "unique_authors = wine_1['author'].nunique()\n",
    "unique_authors"
   ]
  },
  {
   "cell_type": "markdown",
   "metadata": {},
   "source": [
    "Unique Posts"
   ]
  },
  {
   "cell_type": "code",
   "execution_count": 660,
   "metadata": {},
   "outputs": [
    {
     "data": {
      "text/plain": [
       "1936"
      ]
     },
     "execution_count": 660,
     "metadata": {},
     "output_type": "execute_result"
    }
   ],
   "source": [
    "unique_posts = wine_1['selftext'].nunique()\n",
    "unique_posts"
   ]
  },
  {
   "cell_type": "markdown",
   "metadata": {},
   "source": [
    "Authors of Multiple Posts\n",
    "* There are 313 repeat authors of 1264 unique authors. \n",
    "* Almost 33% percent of authors are multiple posters. \n"
   ]
  },
  {
   "cell_type": "code",
   "execution_count": 661,
   "metadata": {},
   "outputs": [],
   "source": [
    "author_multi = wine_1['author'].value_counts() > 1"
   ]
  },
  {
   "cell_type": "code",
   "execution_count": 662,
   "metadata": {},
   "outputs": [
    {
     "data": {
      "text/plain": [
       "False    954\n",
       "True     312\n",
       "Name: author, dtype: int64"
      ]
     },
     "execution_count": 662,
     "metadata": {},
     "output_type": "execute_result"
    }
   ],
   "source": [
    "author_multi.value_counts()"
   ]
  },
  {
   "cell_type": "code",
   "execution_count": 663,
   "metadata": {},
   "outputs": [
    {
     "data": {
      "text/plain": [
       "0.3291272344900105"
      ]
     },
     "execution_count": 663,
     "metadata": {},
     "output_type": "execute_result"
    }
   ],
   "source": [
    "313 / 951"
   ]
  },
  {
   "cell_type": "code",
   "execution_count": 664,
   "metadata": {},
   "outputs": [
    {
     "data": {
      "text/plain": [
       "983"
      ]
     },
     "execution_count": 664,
     "metadata": {},
     "output_type": "execute_result"
    }
   ],
   "source": [
    "total_multi_posts = wine_1['author'].value_counts().nlargest(313).sum()\n",
    "total_multi_posts"
   ]
  },
  {
   "cell_type": "code",
   "execution_count": 665,
   "metadata": {},
   "outputs": [
    {
     "data": {
      "text/plain": [
       "0.5077479338842975"
      ]
     },
     "execution_count": 665,
     "metadata": {},
     "output_type": "execute_result"
    }
   ],
   "source": [
    "total_multi_posts / unique_posts"
   ]
  },
  {
   "cell_type": "markdown",
   "metadata": {},
   "source": [
    "_________________________________________________"
   ]
  },
  {
   "cell_type": "markdown",
   "metadata": {},
   "source": [
    "#### Analyzing Posts with Multiple Comments"
   ]
  },
  {
   "cell_type": "code",
   "execution_count": 666,
   "metadata": {},
   "outputs": [
    {
     "data": {
      "text/plain": [
       "1614"
      ]
     },
     "execution_count": 666,
     "metadata": {},
     "output_type": "execute_result"
    }
   ],
   "source": [
    "multi_comment_count = wine_1['num_comments'][wine_1['num_comments'] > 1].count()\n",
    "multi_comment_count"
   ]
  },
  {
   "cell_type": "markdown",
   "metadata": {},
   "source": [
    "#### Boxplot for Number of Comments (Prior to Eliminating Outliers if Necessary)\n",
    "\n",
    "Box plot showing distribution of the comment counts within and outside of the interquartile range. \n",
    "\n",
    "The whisker for the quartile is the vertical grey line. It is the 75 percentile plus 1.5 times the interquartile range. The black dots past that whisker are considered outliers. There a few outliers here but the variance and number is much smaller than what existed in the Homebrew data. Further data cleaning may not be needed. \n",
    "\n",
    "That being said, in alignment with the Homebrew data, the vast majority of posts receiving multiple comments are located closer to zero. The entire IQR is located below 10.  "
   ]
  },
  {
   "cell_type": "code",
   "execution_count": 667,
   "metadata": {},
   "outputs": [
    {
     "data": {
      "image/png": "[encoded data removed]",
      "text/plain": [
       "<Figure size 432x288 with 1 Axes>"
      ]
     },
     "metadata": {
      "needs_background": "light"
     },
     "output_type": "display_data"
    }
   ],
   "source": [
    "sns.boxplot(wine_1['num_comments'], width = .7, whis = 1.5).set_title('Number of Comments Per Post')\n",
    "\n",
    "plt.xlabel('Number of Comments');"
   ]
  },
  {
   "cell_type": "markdown",
   "metadata": {},
   "source": [
    "83 percent of posts had more than 1 comment. \n",
    "* This is slightly more discerning than homebrewing subreddit which had 94%. "
   ]
  },
  {
   "cell_type": "code",
   "execution_count": 668,
   "metadata": {},
   "outputs": [
    {
     "data": {
      "text/plain": [
       "0.8336776859504132"
      ]
     },
     "execution_count": 668,
     "metadata": {},
     "output_type": "execute_result"
    }
   ],
   "source": [
    "multi_comment_count / unique_posts"
   ]
  },
  {
   "cell_type": "code",
   "execution_count": 669,
   "metadata": {},
   "outputs": [
    {
     "data": {
      "text/html": [
       "<div>\n",
       "<style scoped>\n",
       "    .dataframe tbody tr th:only-of-type {\n",
       "        vertical-align: middle;\n",
       "    }\n",
       "\n",
       "    .dataframe tbody tr th {\n",
       "        vertical-align: top;\n",
       "    }\n",
       "\n",
       "    .dataframe thead th {\n",
       "        text-align: right;\n",
       "    }\n",
       "</style>\n",
       "<table border=\"1\" class=\"dataframe\">\n",
       "  <thead>\n",
       "    <tr style=\"text-align: right;\">\n",
       "      <th></th>\n",
       "      <th>created_utc</th>\n",
       "      <th>score</th>\n",
       "      <th>num_comments</th>\n",
       "    </tr>\n",
       "  </thead>\n",
       "  <tbody>\n",
       "    <tr>\n",
       "      <th>count</th>\n",
       "      <td>1.936000e+03</td>\n",
       "      <td>1936.000000</td>\n",
       "      <td>1936.000000</td>\n",
       "    </tr>\n",
       "    <tr>\n",
       "      <th>mean</th>\n",
       "      <td>1.592434e+09</td>\n",
       "      <td>1.346591</td>\n",
       "      <td>6.566632</td>\n",
       "    </tr>\n",
       "    <tr>\n",
       "      <th>std</th>\n",
       "      <td>1.001876e+07</td>\n",
       "      <td>2.198947</td>\n",
       "      <td>7.023453</td>\n",
       "    </tr>\n",
       "    <tr>\n",
       "      <th>min</th>\n",
       "      <td>1.571503e+09</td>\n",
       "      <td>0.000000</td>\n",
       "      <td>0.000000</td>\n",
       "    </tr>\n",
       "    <tr>\n",
       "      <th>25%</th>\n",
       "      <td>1.585082e+09</td>\n",
       "      <td>1.000000</td>\n",
       "      <td>2.000000</td>\n",
       "    </tr>\n",
       "    <tr>\n",
       "      <th>50%</th>\n",
       "      <td>1.593501e+09</td>\n",
       "      <td>1.000000</td>\n",
       "      <td>5.000000</td>\n",
       "    </tr>\n",
       "    <tr>\n",
       "      <th>75%</th>\n",
       "      <td>1.600580e+09</td>\n",
       "      <td>1.000000</td>\n",
       "      <td>9.000000</td>\n",
       "    </tr>\n",
       "    <tr>\n",
       "      <th>max</th>\n",
       "      <td>1.609139e+09</td>\n",
       "      <td>52.000000</td>\n",
       "      <td>78.000000</td>\n",
       "    </tr>\n",
       "  </tbody>\n",
       "</table>\n",
       "</div>"
      ],
      "text/plain": [
       "        created_utc        score  num_comments\n",
       "count  1.936000e+03  1936.000000   1936.000000\n",
       "mean   1.592434e+09     1.346591      6.566632\n",
       "std    1.001876e+07     2.198947      7.023453\n",
       "min    1.571503e+09     0.000000      0.000000\n",
       "25%    1.585082e+09     1.000000      2.000000\n",
       "50%    1.593501e+09     1.000000      5.000000\n",
       "75%    1.600580e+09     1.000000      9.000000\n",
       "max    1.609139e+09    52.000000     78.000000"
      ]
     },
     "execution_count": 669,
     "metadata": {},
     "output_type": "execute_result"
    }
   ],
   "source": [
    "wine_1.describe()"
   ]
  },
  {
   "cell_type": "markdown",
   "metadata": {},
   "source": [
    "If a post received less than 2 comments it was in the bottom 25% in terms of number of comments. The Homebrew data had a larger threshold for Q1 at 5 comments. If you received over 9 comments you were in the highest 25% of comment receivers. Again, this is lower than threshold the Homebrew data which saw a Q3 threshold of 16. "
   ]
  },
  {
   "cell_type": "markdown",
   "metadata": {},
   "source": [
    "### Analyzing Five Largest Comment Achievers"
   ]
  },
  {
   "cell_type": "code",
   "execution_count": 670,
   "metadata": {},
   "outputs": [
    {
     "data": {
      "text/plain": [
       "217     78\n",
       "183     70\n",
       "1279    67\n",
       "1684    62\n",
       "1872    57\n",
       "Name: num_comments, dtype: int64"
      ]
     },
     "execution_count": 670,
     "metadata": {},
     "output_type": "execute_result"
    }
   ],
   "source": [
    "wine_1['num_comments'].nlargest()"
   ]
  },
  {
   "cell_type": "markdown",
   "metadata": {},
   "source": [
    "Checking to see if anything odd exists in top give comment values. "
   ]
  },
  {
   "cell_type": "code",
   "execution_count": 671,
   "metadata": {},
   "outputs": [
    {
     "data": {
      "text/plain": [
       "215     I'm bottling and sealing a small run of bottle...\n",
       "181     Hey all\\n\\nI'm doing a little research on what...\n",
       "1277    Hello, so I am planning to age my mead in a sa...\n",
       "1682                                I sound greedy i know\n",
       "1870    Hi everyone,\\n\\nI hope someone here can advise...\n",
       "Name: selftext, dtype: object"
      ]
     },
     "execution_count": 671,
     "metadata": {},
     "output_type": "execute_result"
    }
   ],
   "source": [
    "wine_1.loc[[215, 181, 1277, 1682, 1870], 'selftext']"
   ]
  },
  {
   "cell_type": "markdown",
   "metadata": {},
   "source": [
    "Nothing seems unusal. I will leave comments the way they are. "
   ]
  },
  {
   "cell_type": "markdown",
   "metadata": {},
   "source": [
    "### Analyzing Score"
   ]
  },
  {
   "cell_type": "code",
   "execution_count": 672,
   "metadata": {},
   "outputs": [
    {
     "data": {
      "text/plain": [
       "1368    52\n",
       "865     46\n",
       "907     21\n",
       "1375    20\n",
       "1721    19\n",
       "Name: score, dtype: int64"
      ]
     },
     "execution_count": 672,
     "metadata": {},
     "output_type": "execute_result"
    }
   ],
   "source": [
    "wine_1['score'].nlargest()"
   ]
  },
  {
   "cell_type": "markdown",
   "metadata": {},
   "source": [
    "Posts that score over 1 (the base score) account for nearly 9 percent of posts. A fairly small fraction of posts actually get scored. This is inline with the Homebrew data which received a score in about 7 percent of posts. "
   ]
  },
  {
   "cell_type": "code",
   "execution_count": 673,
   "metadata": {},
   "outputs": [
    {
     "data": {
      "text/plain": [
       "168"
      ]
     },
     "execution_count": 673,
     "metadata": {},
     "output_type": "execute_result"
    }
   ],
   "source": [
    "score_over_1_count = wine_1['score'][wine_1['score'] > 1].count()\n",
    "score_over_1_count"
   ]
  },
  {
   "cell_type": "markdown",
   "metadata": {},
   "source": [
    "None of the top five scores (below) seem out of the ordinary. "
   ]
  },
  {
   "cell_type": "code",
   "execution_count": 674,
   "metadata": {},
   "outputs": [
    {
     "data": {
      "text/plain": [
       "1366    Today I noticed there was retentate (the dirty...\n",
       "863     My skeeter pee has been actively bubbling for ...\n",
       "905     [The Grapes(last pics are the best)](https://i...\n",
       "1373    Does anyone have any advice for progressing ho...\n",
       "1719    Tl;dr my extremely frugal friend drank lees fr...\n",
       "Name: selftext, dtype: object"
      ]
     },
     "execution_count": 674,
     "metadata": {},
     "output_type": "execute_result"
    }
   ],
   "source": [
    "wine_1.loc[[1366, 863, 905, 1373, 1719], 'selftext']"
   ]
  },
  {
   "cell_type": "code",
   "execution_count": 675,
   "metadata": {},
   "outputs": [
    {
     "data": {
      "text/plain": [
       "0.08677685950413223"
      ]
     },
     "execution_count": 675,
     "metadata": {},
     "output_type": "execute_result"
    }
   ],
   "source": [
    "score_over_1_count / unique_posts"
   ]
  },
  {
   "cell_type": "markdown",
   "metadata": {},
   "source": [
    "# Step 5\n",
    "# Preparing DF for Text Analysis"
   ]
  },
  {
   "cell_type": "code",
   "execution_count": 676,
   "metadata": {},
   "outputs": [
    {
     "data": {
      "text/plain": [
       "Index(['id', 'created_utc', 'title', 'selftext', 'author', 'score',\n",
       "       'num_comments', 'subreddit'],\n",
       "      dtype='object')"
      ]
     },
     "execution_count": 676,
     "metadata": {},
     "output_type": "execute_result"
    }
   ],
   "source": [
    "wine_1.columns"
   ]
  },
  {
   "cell_type": "code",
   "execution_count": 677,
   "metadata": {},
   "outputs": [],
   "source": [
    "wine_1 = wine_1.drop(columns = ['id', 'created_utc', 'author', 'score', 'num_comments'])"
   ]
  },
  {
   "cell_type": "code",
   "execution_count": 678,
   "metadata": {},
   "outputs": [
    {
     "data": {
      "text/plain": [
       "Index(['title', 'selftext', 'subreddit'], dtype='object')"
      ]
     },
     "execution_count": 678,
     "metadata": {},
     "output_type": "execute_result"
    }
   ],
   "source": [
    "wine_1.columns"
   ]
  },
  {
   "cell_type": "markdown",
   "metadata": {},
   "source": [
    "### Adding title to self text for the purpose of text analysis"
   ]
  },
  {
   "cell_type": "code",
   "execution_count": 679,
   "metadata": {},
   "outputs": [],
   "source": [
    "wine_1['selftext'] = wine_1['title'] + ' ' + wine_1['selftext']"
   ]
  },
  {
   "cell_type": "code",
   "execution_count": 680,
   "metadata": {
    "scrolled": true
   },
   "outputs": [
    {
     "data": {
      "text/plain": [
       "0    Resources for a newbie home winemaker I want t...\n",
       "1    Marvel Marketing | #1 Growing Internet Marketi...\n",
       "2    A question about kit wine I’ve made quite a fe...\n",
       "3    Riesling - My First Wine Hi Everyone,\\n\\nI am ...\n",
       "4    Persimmon Wine Straining? Hello! This is my fi...\n",
       "Name: selftext, dtype: object"
      ]
     },
     "execution_count": 680,
     "metadata": {},
     "output_type": "execute_result"
    }
   ],
   "source": [
    "wine_1['selftext'].head()"
   ]
  },
  {
   "cell_type": "code",
   "execution_count": 681,
   "metadata": {},
   "outputs": [
    {
     "data": {
      "text/html": [
       "<div>\n",
       "<style scoped>\n",
       "    .dataframe tbody tr th:only-of-type {\n",
       "        vertical-align: middle;\n",
       "    }\n",
       "\n",
       "    .dataframe tbody tr th {\n",
       "        vertical-align: top;\n",
       "    }\n",
       "\n",
       "    .dataframe thead th {\n",
       "        text-align: right;\n",
       "    }\n",
       "</style>\n",
       "<table border=\"1\" class=\"dataframe\">\n",
       "  <thead>\n",
       "    <tr style=\"text-align: right;\">\n",
       "      <th></th>\n",
       "      <th>title</th>\n",
       "      <th>selftext</th>\n",
       "      <th>subreddit</th>\n",
       "    </tr>\n",
       "  </thead>\n",
       "  <tbody>\n",
       "    <tr>\n",
       "      <th>0</th>\n",
       "      <td>Resources for a newbie home winemaker</td>\n",
       "      <td>Resources for a newbie home winemaker I want t...</td>\n",
       "      <td>winemaking</td>\n",
       "    </tr>\n",
       "    <tr>\n",
       "      <th>1</th>\n",
       "      <td>Marvel Marketing | #1 Growing Internet Marketi...</td>\n",
       "      <td>Marvel Marketing | #1 Growing Internet Marketi...</td>\n",
       "      <td>winemaking</td>\n",
       "    </tr>\n",
       "    <tr>\n",
       "      <th>2</th>\n",
       "      <td>A question about kit wine</td>\n",
       "      <td>A question about kit wine I’ve made quite a fe...</td>\n",
       "      <td>winemaking</td>\n",
       "    </tr>\n",
       "    <tr>\n",
       "      <th>3</th>\n",
       "      <td>Riesling - My First Wine</td>\n",
       "      <td>Riesling - My First Wine Hi Everyone,\\n\\nI am ...</td>\n",
       "      <td>winemaking</td>\n",
       "    </tr>\n",
       "    <tr>\n",
       "      <th>4</th>\n",
       "      <td>Persimmon Wine Straining?</td>\n",
       "      <td>Persimmon Wine Straining? Hello! This is my fi...</td>\n",
       "      <td>winemaking</td>\n",
       "    </tr>\n",
       "    <tr>\n",
       "      <th>...</th>\n",
       "      <td>...</td>\n",
       "      <td>...</td>\n",
       "      <td>...</td>\n",
       "    </tr>\n",
       "    <tr>\n",
       "      <th>1932</th>\n",
       "      <td>Pistachio Wine</td>\n",
       "      <td>Pistachio Wine [Pistachio Wine](https://imgur....</td>\n",
       "      <td>winemaking</td>\n",
       "    </tr>\n",
       "    <tr>\n",
       "      <th>1933</th>\n",
       "      <td>New Labels</td>\n",
       "      <td>New Labels Made new labels ready for bottling ...</td>\n",
       "      <td>winemaking</td>\n",
       "    </tr>\n",
       "    <tr>\n",
       "      <th>1934</th>\n",
       "      <td>Must pump</td>\n",
       "      <td>Must pump I know this is a shot in the dark bu...</td>\n",
       "      <td>winemaking</td>\n",
       "    </tr>\n",
       "    <tr>\n",
       "      <th>1935</th>\n",
       "      <td>Graphic designer for the wine industry</td>\n",
       "      <td>Graphic designer for the wine industry Hello d...</td>\n",
       "      <td>winemaking</td>\n",
       "    </tr>\n",
       "    <tr>\n",
       "      <th>1936</th>\n",
       "      <td>Home wine making and bottle ageing</td>\n",
       "      <td>Home wine making and bottle ageing I have been...</td>\n",
       "      <td>winemaking</td>\n",
       "    </tr>\n",
       "  </tbody>\n",
       "</table>\n",
       "<p>1936 rows × 3 columns</p>\n",
       "</div>"
      ],
      "text/plain": [
       "                                                  title  \\\n",
       "0                 Resources for a newbie home winemaker   \n",
       "1     Marvel Marketing | #1 Growing Internet Marketi...   \n",
       "2                             A question about kit wine   \n",
       "3                              Riesling - My First Wine   \n",
       "4                             Persimmon Wine Straining?   \n",
       "...                                                 ...   \n",
       "1932                                     Pistachio Wine   \n",
       "1933                                         New Labels   \n",
       "1934                                          Must pump   \n",
       "1935             Graphic designer for the wine industry   \n",
       "1936                 Home wine making and bottle ageing   \n",
       "\n",
       "                                               selftext   subreddit  \n",
       "0     Resources for a newbie home winemaker I want t...  winemaking  \n",
       "1     Marvel Marketing | #1 Growing Internet Marketi...  winemaking  \n",
       "2     A question about kit wine I’ve made quite a fe...  winemaking  \n",
       "3     Riesling - My First Wine Hi Everyone,\\n\\nI am ...  winemaking  \n",
       "4     Persimmon Wine Straining? Hello! This is my fi...  winemaking  \n",
       "...                                                 ...         ...  \n",
       "1932  Pistachio Wine [Pistachio Wine](https://imgur....  winemaking  \n",
       "1933  New Labels Made new labels ready for bottling ...  winemaking  \n",
       "1934  Must pump I know this is a shot in the dark bu...  winemaking  \n",
       "1935  Graphic designer for the wine industry Hello d...  winemaking  \n",
       "1936  Home wine making and bottle ageing I have been...  winemaking  \n",
       "\n",
       "[1936 rows x 3 columns]"
      ]
     },
     "execution_count": 681,
     "metadata": {},
     "output_type": "execute_result"
    }
   ],
   "source": [
    "wine_1"
   ]
  },
  {
   "cell_type": "code",
   "execution_count": 682,
   "metadata": {
    "scrolled": true
   },
   "outputs": [],
   "source": [
    "# found a marketing add above that I didn't find previously. I am going to remove it. \n",
    "wine_1.drop(1, inplace = True)"
   ]
  },
  {
   "cell_type": "code",
   "execution_count": 684,
   "metadata": {},
   "outputs": [],
   "source": [
    "wine_1.reset_index(inplace = True, drop = True)"
   ]
  },
  {
   "cell_type": "code",
   "execution_count": 685,
   "metadata": {},
   "outputs": [
    {
     "data": {
      "text/html": [
       "<div>\n",
       "<style scoped>\n",
       "    .dataframe tbody tr th:only-of-type {\n",
       "        vertical-align: middle;\n",
       "    }\n",
       "\n",
       "    .dataframe tbody tr th {\n",
       "        vertical-align: top;\n",
       "    }\n",
       "\n",
       "    .dataframe thead th {\n",
       "        text-align: right;\n",
       "    }\n",
       "</style>\n",
       "<table border=\"1\" class=\"dataframe\">\n",
       "  <thead>\n",
       "    <tr style=\"text-align: right;\">\n",
       "      <th></th>\n",
       "      <th>title</th>\n",
       "      <th>selftext</th>\n",
       "      <th>subreddit</th>\n",
       "    </tr>\n",
       "  </thead>\n",
       "  <tbody>\n",
       "    <tr>\n",
       "      <th>0</th>\n",
       "      <td>Resources for a newbie home winemaker</td>\n",
       "      <td>Resources for a newbie home winemaker I want t...</td>\n",
       "      <td>winemaking</td>\n",
       "    </tr>\n",
       "    <tr>\n",
       "      <th>1</th>\n",
       "      <td>A question about kit wine</td>\n",
       "      <td>A question about kit wine I’ve made quite a fe...</td>\n",
       "      <td>winemaking</td>\n",
       "    </tr>\n",
       "    <tr>\n",
       "      <th>2</th>\n",
       "      <td>Riesling - My First Wine</td>\n",
       "      <td>Riesling - My First Wine Hi Everyone,\\n\\nI am ...</td>\n",
       "      <td>winemaking</td>\n",
       "    </tr>\n",
       "    <tr>\n",
       "      <th>3</th>\n",
       "      <td>Persimmon Wine Straining?</td>\n",
       "      <td>Persimmon Wine Straining? Hello! This is my fi...</td>\n",
       "      <td>winemaking</td>\n",
       "    </tr>\n",
       "    <tr>\n",
       "      <th>4</th>\n",
       "      <td>Wire used for Trellis</td>\n",
       "      <td>Wire used for Trellis Hey all - I'm planting s...</td>\n",
       "      <td>winemaking</td>\n",
       "    </tr>\n",
       "    <tr>\n",
       "      <th>...</th>\n",
       "      <td>...</td>\n",
       "      <td>...</td>\n",
       "      <td>...</td>\n",
       "    </tr>\n",
       "    <tr>\n",
       "      <th>1930</th>\n",
       "      <td>Pistachio Wine</td>\n",
       "      <td>Pistachio Wine [Pistachio Wine](https://imgur....</td>\n",
       "      <td>winemaking</td>\n",
       "    </tr>\n",
       "    <tr>\n",
       "      <th>1931</th>\n",
       "      <td>New Labels</td>\n",
       "      <td>New Labels Made new labels ready for bottling ...</td>\n",
       "      <td>winemaking</td>\n",
       "    </tr>\n",
       "    <tr>\n",
       "      <th>1932</th>\n",
       "      <td>Must pump</td>\n",
       "      <td>Must pump I know this is a shot in the dark bu...</td>\n",
       "      <td>winemaking</td>\n",
       "    </tr>\n",
       "    <tr>\n",
       "      <th>1933</th>\n",
       "      <td>Graphic designer for the wine industry</td>\n",
       "      <td>Graphic designer for the wine industry Hello d...</td>\n",
       "      <td>winemaking</td>\n",
       "    </tr>\n",
       "    <tr>\n",
       "      <th>1934</th>\n",
       "      <td>Home wine making and bottle ageing</td>\n",
       "      <td>Home wine making and bottle ageing I have been...</td>\n",
       "      <td>winemaking</td>\n",
       "    </tr>\n",
       "  </tbody>\n",
       "</table>\n",
       "<p>1935 rows × 3 columns</p>\n",
       "</div>"
      ],
      "text/plain": [
       "                                       title  \\\n",
       "0      Resources for a newbie home winemaker   \n",
       "1                  A question about kit wine   \n",
       "2                   Riesling - My First Wine   \n",
       "3                  Persimmon Wine Straining?   \n",
       "4                      Wire used for Trellis   \n",
       "...                                      ...   \n",
       "1930                          Pistachio Wine   \n",
       "1931                              New Labels   \n",
       "1932                               Must pump   \n",
       "1933  Graphic designer for the wine industry   \n",
       "1934      Home wine making and bottle ageing   \n",
       "\n",
       "                                               selftext   subreddit  \n",
       "0     Resources for a newbie home winemaker I want t...  winemaking  \n",
       "1     A question about kit wine I’ve made quite a fe...  winemaking  \n",
       "2     Riesling - My First Wine Hi Everyone,\\n\\nI am ...  winemaking  \n",
       "3     Persimmon Wine Straining? Hello! This is my fi...  winemaking  \n",
       "4     Wire used for Trellis Hey all - I'm planting s...  winemaking  \n",
       "...                                                 ...         ...  \n",
       "1930  Pistachio Wine [Pistachio Wine](https://imgur....  winemaking  \n",
       "1931  New Labels Made new labels ready for bottling ...  winemaking  \n",
       "1932  Must pump I know this is a shot in the dark bu...  winemaking  \n",
       "1933  Graphic designer for the wine industry Hello d...  winemaking  \n",
       "1934  Home wine making and bottle ageing I have been...  winemaking  \n",
       "\n",
       "[1935 rows x 3 columns]"
      ]
     },
     "execution_count": 685,
     "metadata": {},
     "output_type": "execute_result"
    }
   ],
   "source": [
    "wine_1"
   ]
  },
  {
   "cell_type": "markdown",
   "metadata": {},
   "source": [
    "# Saving new df to CSV"
   ]
  },
  {
   "cell_type": "code",
   "execution_count": 686,
   "metadata": {},
   "outputs": [],
   "source": [
    "wine_1.to_csv('../data/wine.csv', index = False)"
   ]
  }
 ],
 "metadata": {
  "kernelspec": {
   "display_name": "Python 3",
   "language": "python",
   "name": "python3"
  },
  "language_info": {
   "codemirror_mode": {
    "name": "ipython",
    "version": 3
   },
   "file_extension": ".py",
   "mimetype": "text/x-python",
   "name": "python",
   "nbconvert_exporter": "python",
   "pygments_lexer": "ipython3",
   "version": "3.8.3"
  }
 },
 "nbformat": 4,
 "nbformat_minor": 4
}
