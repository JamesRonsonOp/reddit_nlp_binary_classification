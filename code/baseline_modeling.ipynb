{
 "cells": [
  {
   "cell_type": "markdown",
   "metadata": {},
   "source": [
    "# About This Notebook"
   ]
  },
  {
   "cell_type": "code",
   "execution_count": null,
   "metadata": {},
   "outputs": [],
   "source": []
  },
  {
   "cell_type": "markdown",
   "metadata": {},
   "source": [
    "### Import Libraries"
   ]
  },
  {
   "cell_type": "code",
   "execution_count": 297,
   "metadata": {},
   "outputs": [],
   "source": [
    "import pandas as pd\n",
    "import numpy as np\n",
    "\n",
    "# Importing Visualization Libraries\n",
    "import matplotlib.pyplot as plt\n",
    "import seaborn as sns\n",
    "\n",
    "# SKLearn Libraries\n",
    "from sklearn.feature_extraction.text import CountVectorizer, TfidfVectorizer\n",
    "from sklearn.model_selection import train_test_split, GridSearchCV\n",
    "from sklearn.pipeline import Pipeline\n",
    "\n",
    "# SKLearn Model Libraries\n",
    "from sklearn.naive_bayes import MultinomialNB\n",
    "from sklearn.svm import SVC\n",
    "from sklearn.linear_model import LogisticRegression\n",
    "from sklearn.neighbors import KNeighborsClassifier\n",
    "from sklearn.ensemble import RandomForestClassifier\n",
    "\n",
    "# SKLearn Metric Libraries\n",
    "from sklearn.metrics import confusion_matrix, plot_confusion_matrix, accuracy_score\n",
    "from sklearn.metrics import precision_score, recall_score, classification_report\n",
    "from sklearn.metrics import roc_curve, plot_roc_curve, auc, f1_score\n",
    "from sklearn import metrics"
   ]
  },
  {
   "cell_type": "markdown",
   "metadata": {},
   "source": [
    "### Read in Data\n",
    "* Reading in data from EDA and preprocessing notebook. It has been cleaned from stop words, symbols, numbers and contractions. "
   ]
  },
  {
   "cell_type": "code",
   "execution_count": 235,
   "metadata": {},
   "outputs": [],
   "source": [
    "posts_df = pd.read_csv('../data/preprocessed_df.csv')"
   ]
  },
  {
   "cell_type": "code",
   "execution_count": 236,
   "metadata": {
    "scrolled": true
   },
   "outputs": [
    {
     "data": {
      "text/html": [
       "<div>\n",
       "<style scoped>\n",
       "    .dataframe tbody tr th:only-of-type {\n",
       "        vertical-align: middle;\n",
       "    }\n",
       "\n",
       "    .dataframe tbody tr th {\n",
       "        vertical-align: top;\n",
       "    }\n",
       "\n",
       "    .dataframe thead th {\n",
       "        text-align: right;\n",
       "    }\n",
       "</style>\n",
       "<table border=\"1\" class=\"dataframe\">\n",
       "  <thead>\n",
       "    <tr style=\"text-align: right;\">\n",
       "      <th></th>\n",
       "      <th>selftext</th>\n",
       "      <th>subreddit</th>\n",
       "    </tr>\n",
       "  </thead>\n",
       "  <tbody>\n",
       "    <tr>\n",
       "      <th>0</th>\n",
       "      <td>resources newbie home winemaker comprehensive ...</td>\n",
       "      <td>winemaking</td>\n",
       "    </tr>\n",
       "  </tbody>\n",
       "</table>\n",
       "</div>"
      ],
      "text/plain": [
       "                                            selftext   subreddit\n",
       "0  resources newbie home winemaker comprehensive ...  winemaking"
      ]
     },
     "execution_count": 236,
     "metadata": {},
     "output_type": "execute_result"
    }
   ],
   "source": [
    "posts_df.head(1)"
   ]
  },
  {
   "cell_type": "markdown",
   "metadata": {},
   "source": [
    "### Creating Target and Predictor variables. \n",
    "* X is the 'selftext' (posts) column\n",
    "* Count Vectorizer expects a series object and not a dataframe object to be passed into X. \n",
    "* y is the binarized 'subreddit' column"
   ]
  },
  {
   "cell_type": "code",
   "execution_count": 237,
   "metadata": {},
   "outputs": [],
   "source": [
    "X = posts_df['selftext']\n",
    "y = posts_df['subreddit']"
   ]
  },
  {
   "cell_type": "code",
   "execution_count": 238,
   "metadata": {},
   "outputs": [],
   "source": [
    "y = y.map({'winemaking': 1, 'Homebrewing' : 0})"
   ]
  },
  {
   "cell_type": "code",
   "execution_count": 239,
   "metadata": {},
   "outputs": [
    {
     "data": {
      "text/plain": [
       "(4302,)"
      ]
     },
     "execution_count": 239,
     "metadata": {},
     "output_type": "execute_result"
    }
   ],
   "source": [
    "X.shape"
   ]
  },
  {
   "cell_type": "code",
   "execution_count": 240,
   "metadata": {},
   "outputs": [
    {
     "data": {
      "text/plain": [
       "(4302,)"
      ]
     },
     "execution_count": 240,
     "metadata": {},
     "output_type": "execute_result"
    }
   ],
   "source": [
    "y.shape"
   ]
  },
  {
   "cell_type": "markdown",
   "metadata": {},
   "source": [
    "### Train/Test/Split"
   ]
  },
  {
   "cell_type": "code",
   "execution_count": 241,
   "metadata": {},
   "outputs": [],
   "source": [
    "X_train, X_test, y_train, y_test = train_test_split(X, y, \n",
    "                                                   test_size = .30, \n",
    "                                                   stratify = y, \n",
    "                                                   random_state = 42)"
   ]
  },
  {
   "cell_type": "markdown",
   "metadata": {},
   "source": [
    "### Checking Mean Baseline Accuracy\n",
    "#### Interpretation of baseline (below)\n",
    "* Randomly guessing that a post is from Homebrewing would be right about 55% of the time. \n"
   ]
  },
  {
   "cell_type": "code",
   "execution_count": 242,
   "metadata": {
    "scrolled": true
   },
   "outputs": [
    {
     "data": {
      "text/plain": [
       "0    0.549961\n",
       "1    0.450039\n",
       "Name: subreddit, dtype: float64"
      ]
     },
     "execution_count": 242,
     "metadata": {},
     "output_type": "execute_result"
    }
   ],
   "source": [
    "y_test.value_counts(normalize = True)"
   ]
  },
  {
   "cell_type": "markdown",
   "metadata": {},
   "source": [
    "**Notes on Baseline Hyperparameters**\n",
    "* Kept min_df because I was having a problem with foreign language and couldn't get Google Translate to work so I set min_df to 2 to hopefully eliminate most, if not all, foreign words from the corpus. "
   ]
  },
  {
   "cell_type": "code",
   "execution_count": 243,
   "metadata": {},
   "outputs": [],
   "source": [
    "# Instantiate a CountVectorizer\n",
    "cvec = CountVectorizer(stop_words = 'english', min_df = 2)"
   ]
  },
  {
   "cell_type": "code",
   "execution_count": 244,
   "metadata": {},
   "outputs": [
    {
     "data": {
      "text/plain": [
       "CountVectorizer(min_df=2, stop_words='english')"
      ]
     },
     "execution_count": 244,
     "metadata": {},
     "output_type": "execute_result"
    }
   ],
   "source": [
    "# Fit the vectorizer on our corpus Train Data. \n",
    "cvec.fit(X_train)"
   ]
  },
  {
   "cell_type": "markdown",
   "metadata": {},
   "source": [
    "**Transforming Train and Test**\n",
    "\n",
    "Notes on understanding fit_transform and transform\n",
    "https://towardsdatascience.com/what-and-why-behind-fit-transform-vs-transform-in-scikit-learn-78f915cf96fe"
   ]
  },
  {
   "cell_type": "code",
   "execution_count": 245,
   "metadata": {},
   "outputs": [],
   "source": [
    "# Transform the corpus.\n",
    "Z_train = cvec.transform(X_train)"
   ]
  },
  {
   "cell_type": "code",
   "execution_count": 246,
   "metadata": {
    "scrolled": true
   },
   "outputs": [],
   "source": [
    "#Transform but do not fit test data\n",
    "Z_test = cvec.transform(X_test)"
   ]
  },
  {
   "cell_type": "markdown",
   "metadata": {},
   "source": [
    "# Creating a Baseline Model\n",
    "**Using Logistic Regression Classifier**"
   ]
  },
  {
   "cell_type": "code",
   "execution_count": 247,
   "metadata": {},
   "outputs": [],
   "source": [
    "# Instantiate Log Reg\n",
    "logr = LogisticRegression()"
   ]
  },
  {
   "cell_type": "code",
   "execution_count": 248,
   "metadata": {},
   "outputs": [
    {
     "data": {
      "text/plain": [
       "LogisticRegression()"
      ]
     },
     "execution_count": 248,
     "metadata": {},
     "output_type": "execute_result"
    }
   ],
   "source": [
    "# Fit Log Reg\n",
    "logr.fit(Z_train, y_train)"
   ]
  },
  {
   "cell_type": "code",
   "execution_count": 249,
   "metadata": {},
   "outputs": [
    {
     "name": "stdout",
     "output_type": "stream",
     "text": [
      " Score on Training Set: 99.8%\n",
      " Score on Test Set: 92.5%\n"
     ]
    }
   ],
   "source": [
    "# Score model on training set\n",
    "baseline_training_score = round((logr.score(Z_train, y_train) * 100), ndigits = 1)\n",
    "print(f' Score on Training Set: {baseline_training_score}%')\n",
    "\n",
    "# Score model on testing set\n",
    "baseline_test_score = round((logr.score(Z_test, y_test) * 100), ndigits = 1)\n",
    "print(f' Score on Test Set: {baseline_test_score}%')"
   ]
  },
  {
   "cell_type": "code",
   "execution_count": 250,
   "metadata": {},
   "outputs": [],
   "source": [
    "y_pred_logr = logr.predict(Z_test)"
   ]
  },
  {
   "cell_type": "code",
   "execution_count": 251,
   "metadata": {},
   "outputs": [
    {
     "data": {
      "text/plain": [
       "(1291,)"
      ]
     },
     "execution_count": 251,
     "metadata": {},
     "output_type": "execute_result"
    }
   ],
   "source": [
    "y_pred_logr.shape"
   ]
  },
  {
   "cell_type": "code",
   "execution_count": 252,
   "metadata": {},
   "outputs": [],
   "source": [
    "y_pred_proba_logr = logr.predict_proba(Z_test)"
   ]
  },
  {
   "cell_type": "code",
   "execution_count": 253,
   "metadata": {},
   "outputs": [
    {
     "data": {
      "text/plain": [
       "(1291, 2)"
      ]
     },
     "execution_count": 253,
     "metadata": {},
     "output_type": "execute_result"
    }
   ],
   "source": [
    "y_pred_proba_logr.shape"
   ]
  },
  {
   "cell_type": "code",
   "execution_count": 254,
   "metadata": {},
   "outputs": [
    {
     "data": {
      "text/plain": [
       "(1291, 6554)"
      ]
     },
     "execution_count": 254,
     "metadata": {},
     "output_type": "execute_result"
    }
   ],
   "source": [
    "Z_test.shape"
   ]
  },
  {
   "cell_type": "markdown",
   "metadata": {},
   "source": [
    "# Baseline Confusion Matrix"
   ]
  },
  {
   "cell_type": "code",
   "execution_count": 255,
   "metadata": {},
   "outputs": [
    {
     "data": {
      "text/plain": [
       "array([[658,  52],\n",
       "       [ 45, 536]])"
      ]
     },
     "execution_count": 255,
     "metadata": {},
     "output_type": "execute_result"
    }
   ],
   "source": [
    "confusion_matrix(y_test, y_pred_logr)"
   ]
  },
  {
   "cell_type": "code",
   "execution_count": 256,
   "metadata": {},
   "outputs": [
    {
     "data": {
      "image/png": "[encoded data removed]",
      "text/plain": [
       "<Figure size 432x288 with 2 Axes>"
      ]
     },
     "metadata": {
      "needs_background": "light"
     },
     "output_type": "display_data"
    }
   ],
   "source": [
    "plot_confusion_matrix(logr, Z_test, y_test);"
   ]
  },
  {
   "cell_type": "code",
   "execution_count": 257,
   "metadata": {},
   "outputs": [],
   "source": [
    "log_tn, log_fp, log_fn, log_tp = confusion_matrix(y_test, y_pred_logr).ravel()"
   ]
  },
  {
   "cell_type": "code",
   "execution_count": 258,
   "metadata": {},
   "outputs": [
    {
     "name": "stdout",
     "output_type": "stream",
     "text": [
      " True Negative = 658\n",
      " False Positive = 52\n",
      " False Negative = 45\n",
      " True Positive = 536\n"
     ]
    }
   ],
   "source": [
    "print(f' True Negative = {log_tn}')\n",
    "print(f' False Positive = {log_fp}')\n",
    "print(f' False Negative = {log_fn}')\n",
    "print(f' True Positive = {log_tp}')"
   ]
  },
  {
   "cell_type": "markdown",
   "metadata": {},
   "source": [
    "# Baseline Classification Metrics"
   ]
  },
  {
   "cell_type": "markdown",
   "metadata": {},
   "source": [
    "**Baseline Accuracy Score**: What percentage of observations did I correctly predict?"
   ]
  },
  {
   "cell_type": "code",
   "execution_count": 259,
   "metadata": {
    "scrolled": true
   },
   "outputs": [
    {
     "name": "stdout",
     "output_type": "stream",
     "text": [
      "Accuracy Score: 92.5%\n"
     ]
    }
   ],
   "source": [
    "accuracy = round((accuracy_score(y_test, y_pred_logr) * 100), ndigits = 1)\n",
    "print(f'Accuracy Score: {accuracy}%')"
   ]
  },
  {
   "cell_type": "markdown",
   "metadata": {},
   "source": [
    "**Baseline Misclassification Rate:** What percentage of observations did I incorrectly prdict?"
   ]
  },
  {
   "cell_type": "code",
   "execution_count": 260,
   "metadata": {},
   "outputs": [
    {
     "name": "stdout",
     "output_type": "stream",
     "text": [
      "Misclassification Rate: 7.5%\n"
     ]
    }
   ],
   "source": [
    "# I used 100 - accuracy because I multiplied up accuracy score above to convert to percentage. \n",
    "misclass_rate = round((100 - accuracy), ndigits = 3)\n",
    "print(f'Misclassification Rate: {misclass_rate}%')"
   ]
  },
  {
   "cell_type": "markdown",
   "metadata": {},
   "source": [
    "**Baseline Sensitivity/Recall (True Positive Rate):** Among all winemaking class, how many did I get right?"
   ]
  },
  {
   "cell_type": "code",
   "execution_count": 261,
   "metadata": {
    "scrolled": true
   },
   "outputs": [],
   "source": [
    "recall_score = round((log_tp / (log_fn + log_tp) * 100) , ndigits = 1)"
   ]
  },
  {
   "cell_type": "code",
   "execution_count": 262,
   "metadata": {},
   "outputs": [
    {
     "name": "stdout",
     "output_type": "stream",
     "text": [
      "Recall Score: 92.3%\n"
     ]
    }
   ],
   "source": [
    "print(f'Recall Score: {recall_score}%')"
   ]
  },
  {
   "cell_type": "markdown",
   "metadata": {},
   "source": [
    "**Baseline Specificity(True Negative Rate):** Among all homebrewing class, how many did I get right?"
   ]
  },
  {
   "cell_type": "code",
   "execution_count": 263,
   "metadata": {},
   "outputs": [
    {
     "name": "stdout",
     "output_type": "stream",
     "text": [
      "Specificity Score: 93.6%\n"
     ]
    }
   ],
   "source": [
    "specificity = round((log_tn / (log_tn + log_fn) * 100), ndigits= 1)\n",
    "print(f'Specificity Score: {specificity}%')"
   ]
  },
  {
   "cell_type": "markdown",
   "metadata": {},
   "source": [
    "**Baseline False Positive Rate (FPR):** the ratio of negative instances that are incorrectly classified as positive. (1 - TNR)"
   ]
  },
  {
   "cell_type": "code",
   "execution_count": 264,
   "metadata": {},
   "outputs": [
    {
     "name": "stdout",
     "output_type": "stream",
     "text": [
      " False Positive Rate: 7.3%\n"
     ]
    }
   ],
   "source": [
    "fpr = round((log_fp / (log_fp + log_tn) * 100), ndigits = 1)\n",
    "print(f' False Positive Rate: {fpr}%')"
   ]
  },
  {
   "cell_type": "markdown",
   "metadata": {},
   "source": [
    "**Baseline Precision (Positive Predictive Value):** Among those that were predicted to be winemaking, how many were correct? This is the accuracy of the positive predictions, the percentage of correctness. This metric is typically used along with recall/sensitivity. "
   ]
  },
  {
   "cell_type": "code",
   "execution_count": 265,
   "metadata": {},
   "outputs": [
    {
     "name": "stdout",
     "output_type": "stream",
     "text": [
      "Precision Score: 91.2\n"
     ]
    }
   ],
   "source": [
    "precision = round((precision_score(y_test, y_pred_logr, pos_label = 1) * 100), ndigits = 1)\n",
    "print(f'Precision Score: {precision}')"
   ]
  },
  {
   "cell_type": "markdown",
   "metadata": {},
   "source": [
    "**Baseline Balanced Accuracy Score:** Average of TPR and TNR (Sensitivity / Specificity / 2"
   ]
  },
  {
   "cell_type": "code",
   "execution_count": 266,
   "metadata": {},
   "outputs": [
    {
     "name": "stdout",
     "output_type": "stream",
     "text": [
      "Balanced Accuracy Score: 98.6%\n"
     ]
    }
   ],
   "source": [
    "balanced_acc = round(((recall_score / specificity) * 100), ndigits = 1)\n",
    "print(f'Balanced Accuracy Score: {balanced_acc}%')"
   ]
  },
  {
   "cell_type": "markdown",
   "metadata": {},
   "source": [
    "**Baseline F1 Score:** "
   ]
  },
  {
   "cell_type": "code",
   "execution_count": 267,
   "metadata": {},
   "outputs": [
    {
     "name": "stdout",
     "output_type": "stream",
     "text": [
      "F1 Score: 91.75\n"
     ]
    }
   ],
   "source": [
    "baseline_f1_score = round(2*((precision*recall_score)/(precision+recall_score)), ndigits = 2)\n",
    "print(f'F1 Score: {baseline_f1_score}')"
   ]
  },
  {
   "cell_type": "markdown",
   "metadata": {},
   "source": [
    "**Baseline Classification Report:** The reported averages include macro average (averaging the unweighted mean per label), weighted average (averaging the support-weighted mean per label), and sample average (only for multilabel classification). Micro average (averaging the total true positives, false negatives and false positives) is only shown for multi-label or multi-class with a subset of classes, because it corresponds to accuracy otherwise and would be the same for all metrics. See also precision_recall_fscore_support for more details on averages.\n",
    "\n",
    "Note that **in binary classification, recall of the positive class is also known as “sensitivity”**; **recall of the negative class is “specificity”**.\n",
    "\n",
    "In this case the positive class is winemaking and negative class is Homebrewing. \n",
    "\n",
    "**F1 score** is precision and recall combined into a single metric. It is the harmonic mean of precision and recall. The classifier will only get a high F1 score if precision and recall are high. ff"
   ]
  },
  {
   "cell_type": "code",
   "execution_count": 268,
   "metadata": {},
   "outputs": [
    {
     "name": "stdout",
     "output_type": "stream",
     "text": [
      "              precision    recall  f1-score   support\n",
      "\n",
      "  winemaking       0.94      0.93      0.93       710\n",
      " Homebrewing       0.91      0.92      0.92       581\n",
      "\n",
      "    accuracy                           0.92      1291\n",
      "   macro avg       0.92      0.92      0.92      1291\n",
      "weighted avg       0.92      0.92      0.92      1291\n",
      "\n"
     ]
    }
   ],
   "source": [
    "class_report = classification_report(y_test, y_pred_logr, target_names = ['winemaking', 'Homebrewing'])\n",
    "print(class_report)"
   ]
  },
  {
   "cell_type": "markdown",
   "metadata": {},
   "source": [
    "# Baseline ROC/AUC"
   ]
  },
  {
   "cell_type": "code",
   "execution_count": 269,
   "metadata": {},
   "outputs": [],
   "source": [
    "fpr_logr,# Baseline ROC/AUC\n",
    "\n",
    "fpr_logr, tpr_logr, threshold = roc_curve(y_test, y_pred_logr, pos_label = 1)"
   ]
  },
  {
   "cell_type": "markdown",
   "metadata": {},
   "source": [
    "**Baseline Area Under the Curve (AUC)**"
   ]
  },
  {
   "cell_type": "code",
   "execution_count": 270,
   "metadata": {},
   "outputs": [
    {
     "name": "stdout",
     "output_type": "stream",
     "text": [
      "Baseline Area Under the Curve: 92.5\n"
     ]
    }
   ],
   "source": [
    "auc1 = round((auc(fpr_logr, tpr_logr) * 100), ndigits = 1)\n",
    "print(f'Baseline Area Under the Curve: {auc1}')"
   ]
  },
  {
   "cell_type": "markdown",
   "metadata": {},
   "source": [
    "### Baseline ROC AUC Curve Using Multinomial Naive Bayes/Grid Search\n",
    "Winemaking is the target variable with value = 1"
   ]
  },
  {
   "cell_type": "code",
   "execution_count": 271,
   "metadata": {},
   "outputs": [
    {
     "data": {
      "image/png": "[encoded data removed]",
      "text/plain": [
       "<Figure size 432x288 with 1 Axes>"
      ]
     },
     "metadata": {
      "needs_background": "light"
     },
     "output_type": "display_data"
    }
   ],
   "source": [
    "plot_roc_curve(logr, Z_test, y_test)\n",
    "plt.plot([0,1], [0,1], 'k--')\n",
    "plt.title('ROC AUC using MNB Model');"
   ]
  },
  {
   "cell_type": "markdown",
   "metadata": {},
   "source": [
    "# Running other models with default parameters to measure against the baseline. "
   ]
  },
  {
   "cell_type": "code",
   "execution_count": 272,
   "metadata": {},
   "outputs": [],
   "source": [
    "forest_clf = RandomForestClassifier(random_state=42)\n",
    "svc_clf = SVC()\n",
    "knn_clf = KNeighborsClassifier(n_neighbors=5)\n",
    "mnb_clf = MultinomialNB()"
   ]
  },
  {
   "cell_type": "code",
   "execution_count": 273,
   "metadata": {},
   "outputs": [],
   "source": [
    "classifiers = [forest_clf, svc_clf, knn_clf, mnb_clf]"
   ]
  },
  {
   "cell_type": "code",
   "execution_count": 274,
   "metadata": {},
   "outputs": [
    {
     "name": "stdout",
     "output_type": "stream",
     "text": [
      " Random Forest Score on Training Set: 99.9%\n",
      " Random Forest Score on Testing Set: 92.7%\n",
      " SVC Score on Training Set: 96.3%\n",
      " SVC Score on Testing Set: 89.9%\n",
      " Nearest Neighbors Score on Training Set: 85.9%\n",
      " Nearest Neighbors Score on Testing Set: 76.7%\n",
      " Naive Bayes Score on Training Set: 95.2%\n",
      " Naive Bayes Score on Testing Set: 91.7%\n",
      " Baseline Score on Training Set: 99.8\n",
      "Baseline Score on Testing Set: 92.5\n"
     ]
    }
   ],
   "source": [
    "for clf in classifiers:\n",
    "    clf.fit(Z_train, y_train)\n",
    "    \n",
    "    # Score model on training set\n",
    "    \n",
    "    training_score = round((clf.score(Z_train, y_train) * 100), ndigits = 1)\n",
    "        \n",
    "    if clf == forest_clf:\n",
    "        print(f' Random Forest Score on Training Set: {training_score}%')\n",
    "    if clf == svc_clf:\n",
    "        print(f' SVC Score on Training Set: {training_score}%')\n",
    "    if clf == knn_clf:\n",
    "        print(f' Nearest Neighbors Score on Training Set: {training_score}%')\n",
    "    if clf == mnb_clf:\n",
    "        print(f' Naive Bayes Score on Training Set: {training_score}%')\n",
    "        \n",
    "        \n",
    "\n",
    "    # Score model on testing set\n",
    "    test_score = round((clf.score(Z_test, y_test) * 100), ndigits = 1)\n",
    "        \n",
    "    if clf == forest_clf:\n",
    "        print(f' Random Forest Score on Testing Set: {test_score}%')\n",
    "    if clf == svc_clf:\n",
    "        print(f' SVC Score on Testing Set: {test_score}%')\n",
    "    if clf == knn_clf:\n",
    "        print(f' Nearest Neighbors Score on Testing Set: {test_score}%')\n",
    "    if clf == mnb_clf:\n",
    "        print(f' Naive Bayes Score on Testing Set: {test_score}%')\n",
    "        print(f' Baseline Score on Training Set: {baseline_training_score}')\n",
    "        print(f'Baseline Score on Testing Set: {baseline_test_score}')\n"
   ]
  },
  {
   "cell_type": "markdown",
   "metadata": {},
   "source": [
    "**Create Y Preds**"
   ]
  },
  {
   "cell_type": "code",
   "execution_count": 275,
   "metadata": {},
   "outputs": [],
   "source": [
    "y_pred_forest = forest_clf.predict(Z_test)\n",
    "y_pred_svc = svc_clf.predict(Z_test)\n",
    "y_pred_knn = knn_clf.predict(Z_test)\n",
    "y_pred_mnb = mnb_clf.predict(Z_test)"
   ]
  },
  {
   "cell_type": "code",
   "execution_count": 276,
   "metadata": {},
   "outputs": [],
   "source": [
    "preds_list = [y_pred_forest, y_pred_svc, y_pred_knn, y_pred_mnb]"
   ]
  },
  {
   "cell_type": "code",
   "execution_count": 307,
   "metadata": {},
   "outputs": [
    {
     "data": {
      "image/png": "[encoded data removed]",
      "text/plain": [
       "<Figure size 432x288 with 2 Axes>"
      ]
     },
     "metadata": {
      "needs_background": "light"
     },
     "output_type": "display_data"
    },
    {
     "data": {
      "image/png": "[encoded data removed]",
      "text/plain": [
       "<Figure size 432x288 with 2 Axes>"
      ]
     },
     "metadata": {
      "needs_background": "light"
     },
     "output_type": "display_data"
    },
    {
     "data": {
      "image/png": "[encoded data removed]",
      "text/plain": [
       "<Figure size 432x288 with 2 Axes>"
      ]
     },
     "metadata": {
      "needs_background": "light"
     },
     "output_type": "display_data"
    },
    {
     "data": {
      "image/png": "[encoded data removed]",
      "text/plain": [
       "<Figure size 432x288 with 2 Axes>"
      ]
     },
     "metadata": {
      "needs_background": "light"
     },
     "output_type": "display_data"
    }
   ],
   "source": [
    "for clf in classifiers:\n",
    "    title = f'{clf} Confusion Matrix'\n",
    "    plot_confusion_matrix(clf, Z_test, y_test)\n",
    "    plt.title(title);"
   ]
  },
  {
   "cell_type": "code",
   "execution_count": 278,
   "metadata": {},
   "outputs": [],
   "source": [
    "def clf_metric_scorer(clf_list):\n",
    "    \n",
    "    ## Creating Lists to Populate with Scores\n",
    "    classifier_list = []\n",
    "    tn_list = []\n",
    "    fp_list = []\n",
    "    fn_list = []\n",
    "    tp_list = []\n",
    "    acc_list = []\n",
    "    miss_list = []\n",
    "    recall_list = []\n",
    "    spec_list = []\n",
    "    fpr_list = []\n",
    "    prec_list = []\n",
    "    bal_acc_list = []\n",
    "    f1_score_list = []\n",
    "\n",
    "\n",
    "    \n",
    "    for clf in clf_list:\n",
    "        \n",
    "        ## for classifier identification column in new DF ##\n",
    "        classifier_list.append(str(clf))\n",
    "        \n",
    "        ## Fit Classifiers ##\n",
    "        clf.fit(Z_train, y_train)\n",
    "        \n",
    "        ## Create Predictions ##\n",
    "        preds = clf.predict(Z_test)\n",
    "        \n",
    "        ## Confusion Matrix ##\n",
    "        tn, fp, fn, tp = confusion_matrix(y_test, preds).ravel()\n",
    "            \n",
    "        tn_list.append(tn)\n",
    "        fp_list.append(fp)\n",
    "        fn_list.append(fn)\n",
    "        tp_list.append(tp)\n",
    "             \n",
    "        ## Accuracy ##\n",
    "        accuracy = round((accuracy_score(y_test, preds) * 100), ndigits = 1)\n",
    "            \n",
    "        acc_list.append(accuracy)\n",
    "            \n",
    "        ## Misclassification rate ##\n",
    "        misclass_rate = round((100 - accuracy), ndigits = 3)\n",
    "            \n",
    "        miss_list.append(misclass_rate)\n",
    "            \n",
    "        ## Recall ##\n",
    "        recall_score = round((tp / (fn + tp) * 100) , ndigits = 1)\n",
    "            \n",
    "        recall_list.append(recall_score)\n",
    "            \n",
    "        ## Specificity ##\n",
    "        specificity = round((tn / (tn + fn) * 100), ndigits= 1)\n",
    "            \n",
    "        spec_list.append(specificity)\n",
    "            \n",
    "        ## False Positive Rate ##\n",
    "        fpr = round((fp / (fp + tn) * 100), ndigits = 1)\n",
    "            \n",
    "        fpr_list.append(fpr)\n",
    "            \n",
    "        ## Precision ##\n",
    "        precision = round((precision_score(y_test, preds, pos_label = 1) * 100), ndigits = 1)\n",
    "            \n",
    "        prec_list.append(precision)\n",
    "            \n",
    "        ## Balanced Accuracy Score ##\n",
    "        balanced_acc = round((recall_score / specificity), ndigits = 3)\n",
    "            \n",
    "        bal_acc_list.append(balanced_acc)\n",
    "        \n",
    "        ## F1 Score ##\n",
    "        f1_score = round(2*((precision*recall_score)/(precision+recall_score)), ndigits = 2)\n",
    "        \n",
    "        f1_score_list.append(f1_score)\n",
    "    \n",
    "    ### Create a Dictionary to be turned into a DF ###\n",
    "    score_dict = {'clf': classifier_list, 'tn' : tn_list , 'fp' : fp_list, 'fn' : fn_list, \n",
    "              'tp' : tp_list , 'accuracy' : acc_list , 'misclass' : miss_list ,\n",
    "              'recall' : recall_list , 'specificity' : spec_list , 'fpr' : fpr_list, \n",
    "              'precision' : prec_list, 'balanced_acc' : bal_acc_list, 'f1_score': f1_score_list}\n",
    "    \n",
    "    ### DataFrame Instantiation ###\n",
    "    metric_df = pd.DataFrame(score_dict)\n",
    "    \n",
    "    return metric_df"
   ]
  },
  {
   "cell_type": "markdown",
   "metadata": {},
   "source": [
    "**Call clf_metric_scorer fuction and name the resulting DF**"
   ]
  },
  {
   "cell_type": "code",
   "execution_count": 279,
   "metadata": {},
   "outputs": [],
   "source": [
    "clf_metric_scores = clf_metric_scorer(classifiers)"
   ]
  },
  {
   "cell_type": "code",
   "execution_count": 280,
   "metadata": {},
   "outputs": [
    {
     "data": {
      "text/html": [
       "<div>\n",
       "<style scoped>\n",
       "    .dataframe tbody tr th:only-of-type {\n",
       "        vertical-align: middle;\n",
       "    }\n",
       "\n",
       "    .dataframe tbody tr th {\n",
       "        vertical-align: top;\n",
       "    }\n",
       "\n",
       "    .dataframe thead th {\n",
       "        text-align: right;\n",
       "    }\n",
       "</style>\n",
       "<table border=\"1\" class=\"dataframe\">\n",
       "  <thead>\n",
       "    <tr style=\"text-align: right;\">\n",
       "      <th></th>\n",
       "      <th>clf</th>\n",
       "      <th>tn</th>\n",
       "      <th>fp</th>\n",
       "      <th>fn</th>\n",
       "      <th>tp</th>\n",
       "      <th>accuracy</th>\n",
       "      <th>misclass</th>\n",
       "      <th>recall</th>\n",
       "      <th>specificity</th>\n",
       "      <th>fpr</th>\n",
       "      <th>precision</th>\n",
       "      <th>balanced_acc</th>\n",
       "      <th>f1_score</th>\n",
       "    </tr>\n",
       "  </thead>\n",
       "  <tbody>\n",
       "    <tr>\n",
       "      <th>0</th>\n",
       "      <td>RandomForestClassifier(random_state=42)</td>\n",
       "      <td>659</td>\n",
       "      <td>51</td>\n",
       "      <td>43</td>\n",
       "      <td>538</td>\n",
       "      <td>92.7</td>\n",
       "      <td>7.3</td>\n",
       "      <td>92.6</td>\n",
       "      <td>93.9</td>\n",
       "      <td>7.2</td>\n",
       "      <td>91.3</td>\n",
       "      <td>0.986</td>\n",
       "      <td>91.95</td>\n",
       "    </tr>\n",
       "    <tr>\n",
       "      <th>1</th>\n",
       "      <td>SVC()</td>\n",
       "      <td>685</td>\n",
       "      <td>25</td>\n",
       "      <td>105</td>\n",
       "      <td>476</td>\n",
       "      <td>89.9</td>\n",
       "      <td>10.1</td>\n",
       "      <td>81.9</td>\n",
       "      <td>86.7</td>\n",
       "      <td>3.5</td>\n",
       "      <td>95.0</td>\n",
       "      <td>0.945</td>\n",
       "      <td>87.96</td>\n",
       "    </tr>\n",
       "    <tr>\n",
       "      <th>2</th>\n",
       "      <td>KNeighborsClassifier()</td>\n",
       "      <td>427</td>\n",
       "      <td>283</td>\n",
       "      <td>18</td>\n",
       "      <td>563</td>\n",
       "      <td>76.7</td>\n",
       "      <td>23.3</td>\n",
       "      <td>96.9</td>\n",
       "      <td>96.0</td>\n",
       "      <td>39.9</td>\n",
       "      <td>66.5</td>\n",
       "      <td>1.009</td>\n",
       "      <td>78.87</td>\n",
       "    </tr>\n",
       "    <tr>\n",
       "      <th>3</th>\n",
       "      <td>MultinomialNB()</td>\n",
       "      <td>622</td>\n",
       "      <td>88</td>\n",
       "      <td>19</td>\n",
       "      <td>562</td>\n",
       "      <td>91.7</td>\n",
       "      <td>8.3</td>\n",
       "      <td>96.7</td>\n",
       "      <td>97.0</td>\n",
       "      <td>12.4</td>\n",
       "      <td>86.5</td>\n",
       "      <td>0.997</td>\n",
       "      <td>91.32</td>\n",
       "    </tr>\n",
       "  </tbody>\n",
       "</table>\n",
       "</div>"
      ],
      "text/plain": [
       "                                       clf   tn   fp   fn   tp  accuracy  \\\n",
       "0  RandomForestClassifier(random_state=42)  659   51   43  538      92.7   \n",
       "1                                    SVC()  685   25  105  476      89.9   \n",
       "2                   KNeighborsClassifier()  427  283   18  563      76.7   \n",
       "3                          MultinomialNB()  622   88   19  562      91.7   \n",
       "\n",
       "   misclass  recall  specificity   fpr  precision  balanced_acc  f1_score  \n",
       "0       7.3    92.6         93.9   7.2       91.3         0.986     91.95  \n",
       "1      10.1    81.9         86.7   3.5       95.0         0.945     87.96  \n",
       "2      23.3    96.9         96.0  39.9       66.5         1.009     78.87  \n",
       "3       8.3    96.7         97.0  12.4       86.5         0.997     91.32  "
      ]
     },
     "execution_count": 280,
     "metadata": {},
     "output_type": "execute_result"
    }
   ],
   "source": [
    "clf_metric_scores"
   ]
  },
  {
   "cell_type": "markdown",
   "metadata": {},
   "source": [
    "**ADDING BASELINE METRICS TO METRIC SCORES DF**"
   ]
  },
  {
   "cell_type": "code",
   "execution_count": 281,
   "metadata": {},
   "outputs": [],
   "source": [
    "baseline_metrics = {'clf': 'Baseline Log Reg', 'tn' : log_tn , 'fp' : log_fp, 'fn' : log_fn, \n",
    "              'tp' : log_tp , 'accuracy' : accuracy , 'misclass' : misclass_rate,\n",
    "              'recall' : recall_score , 'specificity' : specificity , 'fpr' : fpr, \n",
    "              'precision' : precision, 'balanced_acc' : balanced_acc, 'f1_score': baseline_f1_score}"
   ]
  },
  {
   "cell_type": "code",
   "execution_count": 282,
   "metadata": {},
   "outputs": [],
   "source": [
    "clf_metric_scores = clf_metric_scores.append(baseline_metrics, ignore_index = True)"
   ]
  },
  {
   "cell_type": "markdown",
   "metadata": {},
   "source": [
    "**Cleaning Up Clf Column Labels**"
   ]
  },
  {
   "cell_type": "code",
   "execution_count": 283,
   "metadata": {},
   "outputs": [],
   "source": [
    "clf_values = ['Random Forest', 'SVC', 'KNN', 'Naive Bayes', 'Baseline Log Reg']\n",
    "clf_metric_scores['clf'] = clf_values"
   ]
  },
  {
   "cell_type": "markdown",
   "metadata": {},
   "source": [
    "**Setting clf column as index**"
   ]
  },
  {
   "cell_type": "code",
   "execution_count": 284,
   "metadata": {},
   "outputs": [],
   "source": [
    "clf_metric_scores.set_index('clf', inplace = True)"
   ]
  },
  {
   "cell_type": "code",
   "execution_count": 285,
   "metadata": {},
   "outputs": [
    {
     "data": {
      "text/html": [
       "<div>\n",
       "<style scoped>\n",
       "    .dataframe tbody tr th:only-of-type {\n",
       "        vertical-align: middle;\n",
       "    }\n",
       "\n",
       "    .dataframe tbody tr th {\n",
       "        vertical-align: top;\n",
       "    }\n",
       "\n",
       "    .dataframe thead th {\n",
       "        text-align: right;\n",
       "    }\n",
       "</style>\n",
       "<table border=\"1\" class=\"dataframe\">\n",
       "  <thead>\n",
       "    <tr style=\"text-align: right;\">\n",
       "      <th></th>\n",
       "      <th>tn</th>\n",
       "      <th>fp</th>\n",
       "      <th>fn</th>\n",
       "      <th>tp</th>\n",
       "      <th>accuracy</th>\n",
       "      <th>misclass</th>\n",
       "      <th>recall</th>\n",
       "      <th>specificity</th>\n",
       "      <th>fpr</th>\n",
       "      <th>precision</th>\n",
       "      <th>balanced_acc</th>\n",
       "      <th>f1_score</th>\n",
       "    </tr>\n",
       "    <tr>\n",
       "      <th>clf</th>\n",
       "      <th></th>\n",
       "      <th></th>\n",
       "      <th></th>\n",
       "      <th></th>\n",
       "      <th></th>\n",
       "      <th></th>\n",
       "      <th></th>\n",
       "      <th></th>\n",
       "      <th></th>\n",
       "      <th></th>\n",
       "      <th></th>\n",
       "      <th></th>\n",
       "    </tr>\n",
       "  </thead>\n",
       "  <tbody>\n",
       "    <tr>\n",
       "      <th>Random Forest</th>\n",
       "      <td>659</td>\n",
       "      <td>51</td>\n",
       "      <td>43</td>\n",
       "      <td>538</td>\n",
       "      <td>92.7</td>\n",
       "      <td>7.3</td>\n",
       "      <td>92.6</td>\n",
       "      <td>93.9</td>\n",
       "      <td>7.2</td>\n",
       "      <td>91.3</td>\n",
       "      <td>0.986</td>\n",
       "      <td>91.95</td>\n",
       "    </tr>\n",
       "    <tr>\n",
       "      <th>SVC</th>\n",
       "      <td>685</td>\n",
       "      <td>25</td>\n",
       "      <td>105</td>\n",
       "      <td>476</td>\n",
       "      <td>89.9</td>\n",
       "      <td>10.1</td>\n",
       "      <td>81.9</td>\n",
       "      <td>86.7</td>\n",
       "      <td>3.5</td>\n",
       "      <td>95.0</td>\n",
       "      <td>0.945</td>\n",
       "      <td>87.96</td>\n",
       "    </tr>\n",
       "    <tr>\n",
       "      <th>KNN</th>\n",
       "      <td>427</td>\n",
       "      <td>283</td>\n",
       "      <td>18</td>\n",
       "      <td>563</td>\n",
       "      <td>76.7</td>\n",
       "      <td>23.3</td>\n",
       "      <td>96.9</td>\n",
       "      <td>96.0</td>\n",
       "      <td>39.9</td>\n",
       "      <td>66.5</td>\n",
       "      <td>1.009</td>\n",
       "      <td>78.87</td>\n",
       "    </tr>\n",
       "    <tr>\n",
       "      <th>Naive Bayes</th>\n",
       "      <td>622</td>\n",
       "      <td>88</td>\n",
       "      <td>19</td>\n",
       "      <td>562</td>\n",
       "      <td>91.7</td>\n",
       "      <td>8.3</td>\n",
       "      <td>96.7</td>\n",
       "      <td>97.0</td>\n",
       "      <td>12.4</td>\n",
       "      <td>86.5</td>\n",
       "      <td>0.997</td>\n",
       "      <td>91.32</td>\n",
       "    </tr>\n",
       "    <tr>\n",
       "      <th>Baseline Log Reg</th>\n",
       "      <td>658</td>\n",
       "      <td>52</td>\n",
       "      <td>45</td>\n",
       "      <td>536</td>\n",
       "      <td>92.5</td>\n",
       "      <td>7.5</td>\n",
       "      <td>92.3</td>\n",
       "      <td>93.6</td>\n",
       "      <td>7.3</td>\n",
       "      <td>91.2</td>\n",
       "      <td>98.600</td>\n",
       "      <td>91.75</td>\n",
       "    </tr>\n",
       "  </tbody>\n",
       "</table>\n",
       "</div>"
      ],
      "text/plain": [
       "                   tn   fp   fn   tp  accuracy  misclass  recall  specificity  \\\n",
       "clf                                                                             \n",
       "Random Forest     659   51   43  538      92.7       7.3    92.6         93.9   \n",
       "SVC               685   25  105  476      89.9      10.1    81.9         86.7   \n",
       "KNN               427  283   18  563      76.7      23.3    96.9         96.0   \n",
       "Naive Bayes       622   88   19  562      91.7       8.3    96.7         97.0   \n",
       "Baseline Log Reg  658   52   45  536      92.5       7.5    92.3         93.6   \n",
       "\n",
       "                   fpr  precision  balanced_acc  f1_score  \n",
       "clf                                                        \n",
       "Random Forest      7.2       91.3         0.986     91.95  \n",
       "SVC                3.5       95.0         0.945     87.96  \n",
       "KNN               39.9       66.5         1.009     78.87  \n",
       "Naive Bayes       12.4       86.5         0.997     91.32  \n",
       "Baseline Log Reg   7.3       91.2        98.600     91.75  "
      ]
     },
     "execution_count": 285,
     "metadata": {},
     "output_type": "execute_result"
    }
   ],
   "source": [
    "clf_metric_scores"
   ]
  },
  {
   "cell_type": "markdown",
   "metadata": {},
   "source": [
    "# Comparing ROC/AUC"
   ]
  },
  {
   "cell_type": "code",
   "execution_count": 306,
   "metadata": {},
   "outputs": [
    {
     "name": "stdout",
     "output_type": "stream",
     "text": [
      "                                              AUC\n",
      "RandomForestClassifier(random_state=42)  0.927079\n",
      "SVC()                                    0.892033\n",
      "KNeighborsClassifier()                   0.785214\n",
      "MultinomialNB()                          0.921677\n"
     ]
    },
    {
     "data": {
      "image/png": "[encoded data removed]",
      "text/plain": [
       "<Figure size 432x288 with 1 Axes>"
      ]
     },
     "metadata": {
      "needs_background": "light"
     },
     "output_type": "display_data"
    },
    {
     "data": {
      "image/png": "[encoded data removed]",
      "text/plain": [
       "<Figure size 432x288 with 1 Axes>"
      ]
     },
     "metadata": {
      "needs_background": "light"
     },
     "output_type": "display_data"
    },
    {
     "data": {
      "image/png": "[encoded data removed]",
      "text/plain": [
       "<Figure size 432x288 with 1 Axes>"
      ]
     },
     "metadata": {
      "needs_background": "light"
     },
     "output_type": "display_data"
    },
    {
     "data": {
      "image/png": "[encoded data removed]",
      "text/plain": [
       "<Figure size 432x288 with 1 Axes>"
      ]
     },
     "metadata": {
      "needs_background": "light"
     },
     "output_type": "display_data"
    }
   ],
   "source": [
    "auc_list = []\n",
    "classifier_list = []\n",
    "\n",
    "for clf in classifiers:\n",
    "    \n",
    "    ## for classifier identification column in new DF ##\n",
    "    classifier_list.append(str(clf))\n",
    "    \n",
    "    ## Fit Classifiers ##\n",
    "    clf.fit(Z_train, y_train)\n",
    "        \n",
    "    ## Create Predictions ##\n",
    "    pred = clf.predict(Z_test)\n",
    "        \n",
    "    fpr, tpr, threshold = roc_curve(y_test, pred, pos_label = 1)\n",
    "        \n",
    "    auc = metrics.auc(fpr, tpr)\n",
    "    auc_list.append(auc)\n",
    "        \n",
    "    plot_roc_curve(clf, Z_test, y_test)\n",
    "    plt.plot([0,1], [0,1], 'k--')\n",
    "    plt.title(f'ROC AUC using {clf}')\n",
    "    \n",
    "\n",
    "auc_df = pd.DataFrame(auc_list, index = classifier_list, columns = ['AUC'])\n",
    "print(auc_df)"
   ]
  },
  {
   "cell_type": "markdown",
   "metadata": {},
   "source": [
    "The ideal ROC curve hugs the top left corner, indicating a high true positive\n",
    "rate and a low false positive rate. The dotted line represents the “no information”\n",
    "classifier; this is what we would expect if student status and credit card balance\n",
    "are not associated with probability of default. (from page 148 Statistical Learning)\n",
    "* http://www.ime.unicamp.br/~dias/Intoduction%20to%20Statistical%20Learning.pdf\n",
    "    "
   ]
  }
 ],
 "metadata": {
  "kernelspec": {
   "display_name": "Python 3",
   "language": "python",
   "name": "python3"
  },
  "language_info": {
   "codemirror_mode": {
    "name": "ipython",
    "version": 3
   },
   "file_extension": ".py",
   "mimetype": "text/x-python",
   "name": "python",
   "nbconvert_exporter": "python",
   "pygments_lexer": "ipython3",
   "version": "3.8.3"
  }
 },
 "nbformat": 4,
 "nbformat_minor": 4
}
