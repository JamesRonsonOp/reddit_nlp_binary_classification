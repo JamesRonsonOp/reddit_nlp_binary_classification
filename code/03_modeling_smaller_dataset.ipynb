{
 "cells": [
  {
   "cell_type": "markdown",
   "metadata": {},
   "source": [
    "# About This Notebook"
   ]
  },
  {
   "cell_type": "markdown",
   "metadata": {},
   "source": [
    "importing cleaned and preprocessed data and outputting production model "
   ]
  },
  {
   "cell_type": "markdown",
   "metadata": {},
   "source": [
    "### Import Libraries"
   ]
  },
  {
   "cell_type": "code",
   "execution_count": 2,
   "metadata": {},
   "outputs": [],
   "source": [
    "import pandas as pd\n",
    "import numpy as np\n",
    "\n",
    "# Importing Visualization Libraries\n",
    "import matplotlib.pyplot as plt\n",
    "import seaborn as sns\n",
    "\n",
    "# SKLearn Libraries\n",
    "from sklearn.feature_extraction.text import CountVectorizer, TfidfVectorizer\n",
    "from sklearn.model_selection import train_test_split, GridSearchCV\n",
    "from sklearn.pipeline import Pipeline\n",
    "\n",
    "# SKLearn Model Libraries\n",
    "from sklearn.naive_bayes import MultinomialNB\n",
    "from sklearn.svm import SVC\n",
    "from sklearn.linear_model import LogisticRegression\n",
    "from sklearn.neighbors import KNeighborsClassifier\n",
    "from sklearn.ensemble import RandomForestClassifier, AdaBoostClassifier\n",
    "from sklearn.ensemble import VotingClassifier\n",
    "\n",
    "# SKLearn Metric Libraries\n",
    "from sklearn.metrics import confusion_matrix, plot_confusion_matrix, accuracy_score\n",
    "from sklearn.metrics import precision_score, recall_score, classification_report\n",
    "from sklearn.metrics import roc_curve, plot_roc_curve, auc, f1_score\n",
    "from sklearn import metrics"
   ]
  },
  {
   "cell_type": "markdown",
   "metadata": {},
   "source": [
    "### Read in Data\n",
    "* Reading in data from EDA and preprocessing notebook. It has been cleaned from stop words, symbols, numbers and contractions. "
   ]
  },
  {
   "cell_type": "code",
   "execution_count": 3,
   "metadata": {},
   "outputs": [],
   "source": [
    "posts_df = pd.read_csv('../data/03_preprocessed_df.csv')"
   ]
  },
  {
   "cell_type": "code",
   "execution_count": 4,
   "metadata": {
    "scrolled": true
   },
   "outputs": [
    {
     "data": {
      "text/html": [
       "<div>\n",
       "<style scoped>\n",
       "    .dataframe tbody tr th:only-of-type {\n",
       "        vertical-align: middle;\n",
       "    }\n",
       "\n",
       "    .dataframe tbody tr th {\n",
       "        vertical-align: top;\n",
       "    }\n",
       "\n",
       "    .dataframe thead th {\n",
       "        text-align: right;\n",
       "    }\n",
       "</style>\n",
       "<table border=\"1\" class=\"dataframe\">\n",
       "  <thead>\n",
       "    <tr style=\"text-align: right;\">\n",
       "      <th></th>\n",
       "      <th>selftext</th>\n",
       "      <th>subreddit</th>\n",
       "    </tr>\n",
       "  </thead>\n",
       "  <tbody>\n",
       "    <tr>\n",
       "      <th>0</th>\n",
       "      <td>resources newbie home winemaker comprehensive ...</td>\n",
       "      <td>winemaking</td>\n",
       "    </tr>\n",
       "  </tbody>\n",
       "</table>\n",
       "</div>"
      ],
      "text/plain": [
       "                                            selftext   subreddit\n",
       "0  resources newbie home winemaker comprehensive ...  winemaking"
      ]
     },
     "execution_count": 4,
     "metadata": {},
     "output_type": "execute_result"
    }
   ],
   "source": [
    "posts_df.head(1)"
   ]
  },
  {
   "cell_type": "markdown",
   "metadata": {},
   "source": [
    "### Creating Target and Predictor variables. \n",
    "* X is the 'selftext' (posts) column\n",
    "* Count Vectorizer expects a series object and not a dataframe object to be passed into X. \n",
    "* y is the binarized 'subreddit' column"
   ]
  },
  {
   "cell_type": "code",
   "execution_count": 5,
   "metadata": {},
   "outputs": [],
   "source": [
    "X = posts_df['selftext']\n",
    "y = posts_df['subreddit']"
   ]
  },
  {
   "cell_type": "code",
   "execution_count": 6,
   "metadata": {},
   "outputs": [],
   "source": [
    "y = y.map({'winemaking': 0, 'Homebrewing' : 1})"
   ]
  },
  {
   "cell_type": "code",
   "execution_count": 7,
   "metadata": {},
   "outputs": [
    {
     "data": {
      "text/plain": [
       "(4302,)"
      ]
     },
     "execution_count": 7,
     "metadata": {},
     "output_type": "execute_result"
    }
   ],
   "source": [
    "X.shape"
   ]
  },
  {
   "cell_type": "code",
   "execution_count": 8,
   "metadata": {},
   "outputs": [
    {
     "data": {
      "text/plain": [
       "(4302,)"
      ]
     },
     "execution_count": 8,
     "metadata": {},
     "output_type": "execute_result"
    }
   ],
   "source": [
    "y.shape"
   ]
  },
  {
   "cell_type": "markdown",
   "metadata": {},
   "source": [
    "### Train/Test/Split"
   ]
  },
  {
   "cell_type": "code",
   "execution_count": 9,
   "metadata": {},
   "outputs": [],
   "source": [
    "X_train, X_test, y_train, y_test = train_test_split(X, y, \n",
    "                                                   test_size = .30, \n",
    "                                                   stratify = y, \n",
    "                                                   random_state = 42)"
   ]
  },
  {
   "cell_type": "markdown",
   "metadata": {},
   "source": [
    "### Checking Mean Baseline Accuracy\n",
    "#### Interpretation of Baseline Accuracy Score (below)\n",
    "* Randomly guessing that a post is from Homebrewing would be right about 55% of the time.\n",
    "\n",
    "#### Interpretation of Baseline Balanced Accuracy Score\n",
    "* Randomly guessing that a post is from Homebrewing would make correct guesses 27.5% of the time. "
   ]
  },
  {
   "cell_type": "code",
   "execution_count": 10,
   "metadata": {
    "scrolled": true
   },
   "outputs": [
    {
     "data": {
      "text/plain": [
       "1    0.549961\n",
       "0    0.450039\n",
       "Name: subreddit, dtype: float64"
      ]
     },
     "execution_count": 10,
     "metadata": {},
     "output_type": "execute_result"
    }
   ],
   "source": [
    "baseline = y_test.value_counts(normalize = True)\n",
    "baseline"
   ]
  },
  {
   "cell_type": "code",
   "execution_count": 11,
   "metadata": {},
   "outputs": [],
   "source": [
    "def baseline_balanced_accuracy(tn, tp, fn, fp):\n",
    "    \n",
    "    # function that takes in the true p, n and false p,n and returns balanced accuracy score\n",
    "    total_pred = tn + tp + fn + fp\n",
    "    recall_score = round((tp / (fn + tp) * 100) , ndigits = 1)\n",
    "    balanced_accuracy = 1/2* (recall_score + (tn/total_pred))\n",
    "    print(f'Baseline Balanced Accuracy Score: {balanced_accuracy}%')"
   ]
  },
  {
   "cell_type": "markdown",
   "metadata": {},
   "source": [
    "* Function created by me but formula came from post below. \n",
    "*https://datascience.stackexchange.com/questions/73974/balanced-accuracy-vs-f1-score#:~:text=One%20major%20difference%20is%20that,many%20negatives%20you%20labeled%20correctly.\n"
   ]
  },
  {
   "cell_type": "code",
   "execution_count": 12,
   "metadata": {},
   "outputs": [
    {
     "name": "stdout",
     "output_type": "stream",
     "text": [
      "Baseline Balanced Accuracy Score: 27.5%\n"
     ]
    }
   ],
   "source": [
    "# See interpretation above\n",
    "baseline_balanced_accuracy(tn = 0, tp = 55, fn = 45, fp = 0)"
   ]
  },
  {
   "cell_type": "code",
   "execution_count": 13,
   "metadata": {},
   "outputs": [],
   "source": [
    "# Fit the vectorizer on our corpus Train Data\n",
    "cvec = CountVectorizer(stop_words = 'english', min_df = 2)"
   ]
  },
  {
   "cell_type": "code",
   "execution_count": 14,
   "metadata": {},
   "outputs": [
    {
     "data": {
      "text/plain": [
       "CountVectorizer(min_df=2, stop_words='english')"
      ]
     },
     "execution_count": 14,
     "metadata": {},
     "output_type": "execute_result"
    }
   ],
   "source": [
    "# Transform the corpus\n",
    "cvec.fit(X_train)"
   ]
  },
  {
   "cell_type": "code",
   "execution_count": 15,
   "metadata": {},
   "outputs": [],
   "source": [
    "Z_train = cvec.transform(X_train)"
   ]
  },
  {
   "cell_type": "code",
   "execution_count": 16,
   "metadata": {},
   "outputs": [],
   "source": [
    "# Transform but do not fit test data\n",
    "Z_test = cvec.transform(X_test)"
   ]
  },
  {
   "cell_type": "code",
   "execution_count": null,
   "metadata": {},
   "outputs": [],
   "source": []
  },
  {
   "cell_type": "raw",
   "metadata": {},
   "source": [
    "# class_report = classification_report(y_test, y_pred_logr, target_names = ['winemaking', 'Homebrewing'])\n",
    "# print(class_report)"
   ]
  },
  {
   "cell_type": "markdown",
   "metadata": {},
   "source": [
    "# Running other models with default parameters to measure against the baseline. "
   ]
  },
  {
   "cell_type": "code",
   "execution_count": 17,
   "metadata": {},
   "outputs": [],
   "source": [
    "logr_clf = LogisticRegression(max_iter = 10_000)\n",
    "forest_clf = RandomForestClassifier(random_state=42)\n",
    "svc_clf = SVC()\n",
    "knn_clf = KNeighborsClassifier(n_neighbors=5)\n",
    "mnb_clf = MultinomialNB()\n",
    "ada_clf = AdaBoostClassifier()"
   ]
  },
  {
   "cell_type": "code",
   "execution_count": 18,
   "metadata": {},
   "outputs": [],
   "source": [
    "classifiers = [logr_clf, forest_clf, svc_clf, knn_clf, mnb_clf, ada_clf]"
   ]
  },
  {
   "cell_type": "code",
   "execution_count": 19,
   "metadata": {},
   "outputs": [
    {
     "name": "stdout",
     "output_type": "stream",
     "text": [
      " Logistic Regression Score on Training Set: 99.8%\n",
      " Logistic Regression Score on Test Set: 89.0%\n",
      " Random Forest Score on Training Set: 100.0%\n",
      " Random Forest Score on Testing Set: 87.7%\n",
      " SVC Score on Training Set: 97.2%\n",
      " SVC Score on Testing Set: 86.8%\n",
      " Nearest Neighbors Score on Training Set: 72.4%\n",
      " Nearest Neighbors Score on Testing Set: 61.8%\n",
      " Naive Bayes Score on Training Set: 94.2%\n",
      " Naive Bayes Score on Testing Set: 88.7%\n",
      " Ada Boost Score on Training Set: 87.4%\n",
      " Ada Boost Score on Testing Set: 85.4%\n"
     ]
    }
   ],
   "source": [
    "for clf in classifiers:\n",
    "    clf.fit(Z_train, y_train)\n",
    "    \n",
    "    y_pred = clf.predict(Z_train)\n",
    "    \n",
    "    # Score model on training set\n",
    "    \n",
    "    training_score = round((clf.score(Z_train, y_train) * 100), ndigits = 1)\n",
    "        \n",
    "    if clf == forest_clf:\n",
    "        print(f' Random Forest Score on Training Set: {training_score}%')\n",
    "    if clf == svc_clf:\n",
    "        print(f' SVC Score on Training Set: {training_score}%')\n",
    "    if clf == knn_clf:\n",
    "        print(f' Nearest Neighbors Score on Training Set: {training_score}%')\n",
    "    if clf == mnb_clf:\n",
    "        print(f' Naive Bayes Score on Training Set: {training_score}%')\n",
    "    if clf == ada_clf:\n",
    "        print(f' Ada Boost Score on Training Set: {training_score}%')\n",
    "    if clf == logr_clf:\n",
    "        print(f' Logistic Regression Score on Training Set: {training_score}%')\n",
    "        \n",
    "\n",
    "    # Score model on testing set\n",
    "    test_score = round((clf.score(Z_test, y_test) * 100), ndigits = 1)\n",
    "        \n",
    "    if clf == forest_clf:\n",
    "        print(f' Random Forest Score on Testing Set: {test_score}%')\n",
    "    if clf == svc_clf:\n",
    "        print(f' SVC Score on Testing Set: {test_score}%')\n",
    "    if clf == knn_clf:\n",
    "        print(f' Nearest Neighbors Score on Testing Set: {test_score}%')\n",
    "    if clf == mnb_clf:\n",
    "        print(f' Naive Bayes Score on Testing Set: {test_score}%')\n",
    "    if clf == ada_clf:\n",
    "        print(f' Ada Boost Score on Testing Set: {test_score}%')\n",
    "    if clf == logr_clf:\n",
    "        print(f' Logistic Regression Score on Test Set: {test_score}%')\n",
    "#         print(f' Baseline Score on Test Set: {}%')"
   ]
  },
  {
   "cell_type": "markdown",
   "metadata": {},
   "source": [
    "Analysis of Accuracy Scores:\n",
    "\n",
    "Scoring first on accuracy in order to get an idea on whether or not these models are in danger of easily overfitting on the data. It appears that all of them are overfitting on training data. Nearest Neighbors is overfitting significantly. \n",
    "\n",
    "I am going to run this through all scoring methods on the test data to see what else I can determine. "
   ]
  },
  {
   "cell_type": "markdown",
   "metadata": {},
   "source": [
    "**Create Y Preds**"
   ]
  },
  {
   "cell_type": "code",
   "execution_count": 20,
   "metadata": {},
   "outputs": [],
   "source": [
    "y_pred_logr = logr_clf.predict(Z_test)\n",
    "y_pred_forest = forest_clf.predict(Z_test)\n",
    "y_pred_svc = svc_clf.predict(Z_test)\n",
    "y_pred_knn = knn_clf.predict(Z_test)\n",
    "y_pred_mnb = mnb_clf.predict(Z_test)"
   ]
  },
  {
   "cell_type": "code",
   "execution_count": 21,
   "metadata": {},
   "outputs": [],
   "source": [
    "preds_list = [y_pred_forest, y_pred_svc, y_pred_knn, y_pred_mnb]"
   ]
  },
  {
   "cell_type": "code",
   "execution_count": 23,
   "metadata": {},
   "outputs": [],
   "source": [
    "def clf_metric_scorer(clf_list):\n",
    "    \n",
    "    ## Creating Lists to Populate with Scores\n",
    "    classifier_list = []\n",
    "    tn_list = []\n",
    "    fp_list = []\n",
    "    fn_list = []\n",
    "    tp_list = []\n",
    "    acc_list = []\n",
    "    miss_list = []\n",
    "    recall_list = []\n",
    "    spec_list = []\n",
    "    fpr_list = []\n",
    "    prec_list = []\n",
    "    bal_acc_list = []\n",
    "    f1_score_list = []\n",
    "\n",
    "\n",
    "    \n",
    "    for clf in clf_list:\n",
    "        \n",
    "        ## for classifier identification column in new DF ##\n",
    "        classifier_list.append(str(clf))\n",
    "        \n",
    "        ## Fit Classifiers ##\n",
    "        clf.fit(Z_train, y_train)\n",
    "        \n",
    "        ## Create Predictions ##\n",
    "        preds = clf.predict(Z_test)\n",
    "        \n",
    "        ## Confusion Matrix ##\n",
    "        tn, fp, fn, tp = confusion_matrix(y_test, preds).ravel()\n",
    "            \n",
    "        tn_list.append(tn)\n",
    "        fp_list.append(fp)\n",
    "        fn_list.append(fn)\n",
    "        tp_list.append(tp)\n",
    "             \n",
    "        ## Accuracy ##\n",
    "        accuracy = round((accuracy_score(y_test, preds) * 100), ndigits = 1)\n",
    "            \n",
    "        acc_list.append(accuracy)\n",
    "            \n",
    "        ## Misclassification rate ##\n",
    "        misclass_rate = round((100 - accuracy), ndigits = 3)\n",
    "            \n",
    "        miss_list.append(misclass_rate)\n",
    "            \n",
    "        ## Recall ##\n",
    "        recall_score = round((tp / (fn + tp) * 100) , ndigits = 1)\n",
    "            \n",
    "        recall_list.append(recall_score)\n",
    "            \n",
    "        ## Specificity ##\n",
    "        specificity = round((tn / (tn + fn) * 100), ndigits= 1)\n",
    "            \n",
    "        spec_list.append(specificity)\n",
    "            \n",
    "        ## False Positive Rate ##\n",
    "        fpr = round((fp / (fp + tn) * 100), ndigits = 1)\n",
    "            \n",
    "        fpr_list.append(fpr)\n",
    "            \n",
    "        ## Precision ##\n",
    "        precision = round((precision_score(y_test, preds, pos_label = 1) * 100), ndigits = 1)\n",
    "            \n",
    "        prec_list.append(precision)\n",
    "            \n",
    "        ## Balanced Accuracy Score ##\n",
    "        total_pred = tn + tp + fn + fp\n",
    "        balanced_acc = (recall_score + specificity) / 2\n",
    "    \n",
    "        bal_acc_list.append(balanced_acc)\n",
    "        \n",
    "        ## F1 Score ##\n",
    "        f1_score = round(2*((precision*recall_score)/(precision+recall_score)), ndigits = 2)\n",
    "        \n",
    "        f1_score_list.append(f1_score)\n",
    "    \n",
    "    ### Create a Dictionary to be turned into a DF ###\n",
    "    score_dict = {'clf': classifier_list, 'tn' : tn_list , 'fp' : fp_list, 'fn' : fn_list, \n",
    "              'tp' : tp_list , 'accuracy' : acc_list , 'misclass' : miss_list ,\n",
    "              'recall' : recall_list , 'specificity' : spec_list , 'fpr' : fpr_list, \n",
    "              'precision' : prec_list, 'balanced_acc' : bal_acc_list, 'f1_score': f1_score_list}\n",
    "    \n",
    "    ### DataFrame Instantiation ###\n",
    "    metric_df = pd.DataFrame(score_dict)\n",
    "    \n",
    "    return metric_df"
   ]
  },
  {
   "cell_type": "markdown",
   "metadata": {},
   "source": [
    "**Call clf_metric_scorer fuction and name the resulting DF**"
   ]
  },
  {
   "cell_type": "code",
   "execution_count": 24,
   "metadata": {},
   "outputs": [],
   "source": [
    "clf_metric_scores = clf_metric_scorer(classifiers)"
   ]
  },
  {
   "cell_type": "code",
   "execution_count": 25,
   "metadata": {},
   "outputs": [
    {
     "data": {
      "text/html": [
       "<div>\n",
       "<style scoped>\n",
       "    .dataframe tbody tr th:only-of-type {\n",
       "        vertical-align: middle;\n",
       "    }\n",
       "\n",
       "    .dataframe tbody tr th {\n",
       "        vertical-align: top;\n",
       "    }\n",
       "\n",
       "    .dataframe thead th {\n",
       "        text-align: right;\n",
       "    }\n",
       "</style>\n",
       "<table border=\"1\" class=\"dataframe\">\n",
       "  <thead>\n",
       "    <tr style=\"text-align: right;\">\n",
       "      <th></th>\n",
       "      <th>clf</th>\n",
       "      <th>tn</th>\n",
       "      <th>fp</th>\n",
       "      <th>fn</th>\n",
       "      <th>tp</th>\n",
       "      <th>accuracy</th>\n",
       "      <th>misclass</th>\n",
       "      <th>recall</th>\n",
       "      <th>specificity</th>\n",
       "      <th>fpr</th>\n",
       "      <th>precision</th>\n",
       "      <th>balanced_acc</th>\n",
       "      <th>f1_score</th>\n",
       "    </tr>\n",
       "  </thead>\n",
       "  <tbody>\n",
       "    <tr>\n",
       "      <th>0</th>\n",
       "      <td>LogisticRegression(max_iter=10000)</td>\n",
       "      <td>527</td>\n",
       "      <td>54</td>\n",
       "      <td>88</td>\n",
       "      <td>622</td>\n",
       "      <td>89.0</td>\n",
       "      <td>11.0</td>\n",
       "      <td>87.6</td>\n",
       "      <td>85.7</td>\n",
       "      <td>9.3</td>\n",
       "      <td>92.0</td>\n",
       "      <td>86.65</td>\n",
       "      <td>89.75</td>\n",
       "    </tr>\n",
       "    <tr>\n",
       "      <th>1</th>\n",
       "      <td>RandomForestClassifier(random_state=42)</td>\n",
       "      <td>535</td>\n",
       "      <td>46</td>\n",
       "      <td>113</td>\n",
       "      <td>597</td>\n",
       "      <td>87.7</td>\n",
       "      <td>12.3</td>\n",
       "      <td>84.1</td>\n",
       "      <td>82.6</td>\n",
       "      <td>7.9</td>\n",
       "      <td>92.8</td>\n",
       "      <td>83.35</td>\n",
       "      <td>88.24</td>\n",
       "    </tr>\n",
       "    <tr>\n",
       "      <th>2</th>\n",
       "      <td>SVC()</td>\n",
       "      <td>504</td>\n",
       "      <td>77</td>\n",
       "      <td>94</td>\n",
       "      <td>616</td>\n",
       "      <td>86.8</td>\n",
       "      <td>13.2</td>\n",
       "      <td>86.8</td>\n",
       "      <td>84.3</td>\n",
       "      <td>13.3</td>\n",
       "      <td>88.9</td>\n",
       "      <td>85.55</td>\n",
       "      <td>87.84</td>\n",
       "    </tr>\n",
       "    <tr>\n",
       "      <th>3</th>\n",
       "      <td>KNeighborsClassifier()</td>\n",
       "      <td>556</td>\n",
       "      <td>25</td>\n",
       "      <td>468</td>\n",
       "      <td>242</td>\n",
       "      <td>61.8</td>\n",
       "      <td>38.2</td>\n",
       "      <td>34.1</td>\n",
       "      <td>54.3</td>\n",
       "      <td>4.3</td>\n",
       "      <td>90.6</td>\n",
       "      <td>44.20</td>\n",
       "      <td>49.55</td>\n",
       "    </tr>\n",
       "    <tr>\n",
       "      <th>4</th>\n",
       "      <td>MultinomialNB()</td>\n",
       "      <td>545</td>\n",
       "      <td>36</td>\n",
       "      <td>110</td>\n",
       "      <td>600</td>\n",
       "      <td>88.7</td>\n",
       "      <td>11.3</td>\n",
       "      <td>84.5</td>\n",
       "      <td>83.2</td>\n",
       "      <td>6.2</td>\n",
       "      <td>94.3</td>\n",
       "      <td>83.85</td>\n",
       "      <td>89.13</td>\n",
       "    </tr>\n",
       "    <tr>\n",
       "      <th>5</th>\n",
       "      <td>AdaBoostClassifier()</td>\n",
       "      <td>540</td>\n",
       "      <td>41</td>\n",
       "      <td>148</td>\n",
       "      <td>562</td>\n",
       "      <td>85.4</td>\n",
       "      <td>14.6</td>\n",
       "      <td>79.2</td>\n",
       "      <td>78.5</td>\n",
       "      <td>7.1</td>\n",
       "      <td>93.2</td>\n",
       "      <td>78.85</td>\n",
       "      <td>85.63</td>\n",
       "    </tr>\n",
       "  </tbody>\n",
       "</table>\n",
       "</div>"
      ],
      "text/plain": [
       "                                       clf   tn  fp   fn   tp  accuracy  \\\n",
       "0       LogisticRegression(max_iter=10000)  527  54   88  622      89.0   \n",
       "1  RandomForestClassifier(random_state=42)  535  46  113  597      87.7   \n",
       "2                                    SVC()  504  77   94  616      86.8   \n",
       "3                   KNeighborsClassifier()  556  25  468  242      61.8   \n",
       "4                          MultinomialNB()  545  36  110  600      88.7   \n",
       "5                     AdaBoostClassifier()  540  41  148  562      85.4   \n",
       "\n",
       "   misclass  recall  specificity   fpr  precision  balanced_acc  f1_score  \n",
       "0      11.0    87.6         85.7   9.3       92.0         86.65     89.75  \n",
       "1      12.3    84.1         82.6   7.9       92.8         83.35     88.24  \n",
       "2      13.2    86.8         84.3  13.3       88.9         85.55     87.84  \n",
       "3      38.2    34.1         54.3   4.3       90.6         44.20     49.55  \n",
       "4      11.3    84.5         83.2   6.2       94.3         83.85     89.13  \n",
       "5      14.6    79.2         78.5   7.1       93.2         78.85     85.63  "
      ]
     },
     "execution_count": 25,
     "metadata": {},
     "output_type": "execute_result"
    }
   ],
   "source": [
    "clf_metric_scores"
   ]
  },
  {
   "cell_type": "markdown",
   "metadata": {},
   "source": [
    "**Setting clf column as index**"
   ]
  },
  {
   "cell_type": "code",
   "execution_count": 26,
   "metadata": {},
   "outputs": [],
   "source": [
    "clf = clf_metric_scores['clf']"
   ]
  },
  {
   "cell_type": "code",
   "execution_count": 27,
   "metadata": {},
   "outputs": [],
   "source": [
    "clf_metric_scores.set_index('clf', inplace = True)"
   ]
  },
  {
   "cell_type": "code",
   "execution_count": 28,
   "metadata": {},
   "outputs": [
    {
     "data": {
      "text/html": [
       "<div>\n",
       "<style scoped>\n",
       "    .dataframe tbody tr th:only-of-type {\n",
       "        vertical-align: middle;\n",
       "    }\n",
       "\n",
       "    .dataframe tbody tr th {\n",
       "        vertical-align: top;\n",
       "    }\n",
       "\n",
       "    .dataframe thead th {\n",
       "        text-align: right;\n",
       "    }\n",
       "</style>\n",
       "<table border=\"1\" class=\"dataframe\">\n",
       "  <thead>\n",
       "    <tr style=\"text-align: right;\">\n",
       "      <th></th>\n",
       "      <th>tn</th>\n",
       "      <th>fp</th>\n",
       "      <th>fn</th>\n",
       "      <th>tp</th>\n",
       "      <th>accuracy</th>\n",
       "      <th>misclass</th>\n",
       "      <th>recall</th>\n",
       "      <th>specificity</th>\n",
       "      <th>fpr</th>\n",
       "      <th>precision</th>\n",
       "      <th>balanced_acc</th>\n",
       "      <th>f1_score</th>\n",
       "    </tr>\n",
       "    <tr>\n",
       "      <th>clf</th>\n",
       "      <th></th>\n",
       "      <th></th>\n",
       "      <th></th>\n",
       "      <th></th>\n",
       "      <th></th>\n",
       "      <th></th>\n",
       "      <th></th>\n",
       "      <th></th>\n",
       "      <th></th>\n",
       "      <th></th>\n",
       "      <th></th>\n",
       "      <th></th>\n",
       "    </tr>\n",
       "  </thead>\n",
       "  <tbody>\n",
       "    <tr>\n",
       "      <th>LogisticRegression(max_iter=10000)</th>\n",
       "      <td>527</td>\n",
       "      <td>54</td>\n",
       "      <td>88</td>\n",
       "      <td>622</td>\n",
       "      <td>89.0</td>\n",
       "      <td>11.0</td>\n",
       "      <td>87.6</td>\n",
       "      <td>85.7</td>\n",
       "      <td>9.3</td>\n",
       "      <td>92.0</td>\n",
       "      <td>86.65</td>\n",
       "      <td>89.75</td>\n",
       "    </tr>\n",
       "    <tr>\n",
       "      <th>RandomForestClassifier(random_state=42)</th>\n",
       "      <td>535</td>\n",
       "      <td>46</td>\n",
       "      <td>113</td>\n",
       "      <td>597</td>\n",
       "      <td>87.7</td>\n",
       "      <td>12.3</td>\n",
       "      <td>84.1</td>\n",
       "      <td>82.6</td>\n",
       "      <td>7.9</td>\n",
       "      <td>92.8</td>\n",
       "      <td>83.35</td>\n",
       "      <td>88.24</td>\n",
       "    </tr>\n",
       "    <tr>\n",
       "      <th>SVC()</th>\n",
       "      <td>504</td>\n",
       "      <td>77</td>\n",
       "      <td>94</td>\n",
       "      <td>616</td>\n",
       "      <td>86.8</td>\n",
       "      <td>13.2</td>\n",
       "      <td>86.8</td>\n",
       "      <td>84.3</td>\n",
       "      <td>13.3</td>\n",
       "      <td>88.9</td>\n",
       "      <td>85.55</td>\n",
       "      <td>87.84</td>\n",
       "    </tr>\n",
       "    <tr>\n",
       "      <th>KNeighborsClassifier()</th>\n",
       "      <td>556</td>\n",
       "      <td>25</td>\n",
       "      <td>468</td>\n",
       "      <td>242</td>\n",
       "      <td>61.8</td>\n",
       "      <td>38.2</td>\n",
       "      <td>34.1</td>\n",
       "      <td>54.3</td>\n",
       "      <td>4.3</td>\n",
       "      <td>90.6</td>\n",
       "      <td>44.20</td>\n",
       "      <td>49.55</td>\n",
       "    </tr>\n",
       "    <tr>\n",
       "      <th>MultinomialNB()</th>\n",
       "      <td>545</td>\n",
       "      <td>36</td>\n",
       "      <td>110</td>\n",
       "      <td>600</td>\n",
       "      <td>88.7</td>\n",
       "      <td>11.3</td>\n",
       "      <td>84.5</td>\n",
       "      <td>83.2</td>\n",
       "      <td>6.2</td>\n",
       "      <td>94.3</td>\n",
       "      <td>83.85</td>\n",
       "      <td>89.13</td>\n",
       "    </tr>\n",
       "    <tr>\n",
       "      <th>AdaBoostClassifier()</th>\n",
       "      <td>540</td>\n",
       "      <td>41</td>\n",
       "      <td>148</td>\n",
       "      <td>562</td>\n",
       "      <td>85.4</td>\n",
       "      <td>14.6</td>\n",
       "      <td>79.2</td>\n",
       "      <td>78.5</td>\n",
       "      <td>7.1</td>\n",
       "      <td>93.2</td>\n",
       "      <td>78.85</td>\n",
       "      <td>85.63</td>\n",
       "    </tr>\n",
       "  </tbody>\n",
       "</table>\n",
       "</div>"
      ],
      "text/plain": [
       "                                          tn  fp   fn   tp  accuracy  \\\n",
       "clf                                                                    \n",
       "LogisticRegression(max_iter=10000)       527  54   88  622      89.0   \n",
       "RandomForestClassifier(random_state=42)  535  46  113  597      87.7   \n",
       "SVC()                                    504  77   94  616      86.8   \n",
       "KNeighborsClassifier()                   556  25  468  242      61.8   \n",
       "MultinomialNB()                          545  36  110  600      88.7   \n",
       "AdaBoostClassifier()                     540  41  148  562      85.4   \n",
       "\n",
       "                                         misclass  recall  specificity   fpr  \\\n",
       "clf                                                                            \n",
       "LogisticRegression(max_iter=10000)           11.0    87.6         85.7   9.3   \n",
       "RandomForestClassifier(random_state=42)      12.3    84.1         82.6   7.9   \n",
       "SVC()                                        13.2    86.8         84.3  13.3   \n",
       "KNeighborsClassifier()                       38.2    34.1         54.3   4.3   \n",
       "MultinomialNB()                              11.3    84.5         83.2   6.2   \n",
       "AdaBoostClassifier()                         14.6    79.2         78.5   7.1   \n",
       "\n",
       "                                         precision  balanced_acc  f1_score  \n",
       "clf                                                                         \n",
       "LogisticRegression(max_iter=10000)            92.0         86.65     89.75  \n",
       "RandomForestClassifier(random_state=42)       92.8         83.35     88.24  \n",
       "SVC()                                         88.9         85.55     87.84  \n",
       "KNeighborsClassifier()                        90.6         44.20     49.55  \n",
       "MultinomialNB()                               94.3         83.85     89.13  \n",
       "AdaBoostClassifier()                          93.2         78.85     85.63  "
      ]
     },
     "execution_count": 28,
     "metadata": {},
     "output_type": "execute_result"
    }
   ],
   "source": [
    "clf_metric_scores"
   ]
  },
  {
   "cell_type": "markdown",
   "metadata": {},
   "source": [
    "# Interpreting Testing Scores on all Models. \n",
    "\n",
    "I will be measuring success by balanced accuracy score. Because of the data collection and processing techniques used in this this binary classification problem. We have two classes that have fairly similar sizes of samples as well as similarly stratified classes. AND since there is no dire requirement to predict positives over negatives. This score makes sense. \n",
    "**The balanced accuracy metric essentially gives half its weight to correctly labeled positives and the other half of its weight to correctly labeled negatives.\n",
    "\n",
    "All of the models scored reasonably close in Balanced Accuracy Score with one major exception. KNN Classifier score was half of what the rest of the models were achieving. This is because Balanced accuracy accounts for correctly labeled negatives and KNN classifier incorrectly labeled a significantly larger portion of the negatives. \n",
    "\n",
    "Because of these findings I will choose the best performers on Balanced accuracy score and throw them into an ensemble VotingClassifer. This will hopefull help them to balance each other out. \n",
    "\n",
    "I will also pick the best performing model and introduce that to Grid Searched parameters as well. "
   ]
  },
  {
   "cell_type": "code",
   "execution_count": 30,
   "metadata": {},
   "outputs": [
    {
     "data": {
      "text/plain": [
       "clf\n",
       "LogisticRegression(max_iter=10000)         86.65\n",
       "SVC()                                      85.55\n",
       "MultinomialNB()                            83.85\n",
       "RandomForestClassifier(random_state=42)    83.35\n",
       "AdaBoostClassifier()                       78.85\n",
       "KNeighborsClassifier()                     44.20\n",
       "Name: balanced_acc, dtype: float64"
      ]
     },
     "execution_count": 30,
     "metadata": {},
     "output_type": "execute_result"
    }
   ],
   "source": [
    "clf_metric_scores['balanced_acc'].sort_values(ascending = False)"
   ]
  },
  {
   "cell_type": "markdown",
   "metadata": {},
   "source": [
    "# Comparing ROC/AUC"
   ]
  },
  {
   "cell_type": "code",
   "execution_count": 31,
   "metadata": {},
   "outputs": [
    {
     "name": "stdout",
     "output_type": "stream",
     "text": [
      "                                              AUC\n",
      "LogisticRegression(max_iter=10000)       0.891557\n",
      "RandomForestClassifier(random_state=42)  0.880836\n",
      "SVC()                                    0.867538\n",
      "KNeighborsClassifier()                   0.648908\n",
      "MultinomialNB()                          0.891554\n",
      "AdaBoostClassifier()                     0.860491\n"
     ]
    },
    {
     "data": {
      "image/png": "[encoded data removed]",
      "text/plain": [
       "<Figure size 432x288 with 1 Axes>"
      ]
     },
     "metadata": {
      "needs_background": "light"
     },
     "output_type": "display_data"
    },
    {
     "data": {
      "image/png": "[encoded data removed]",
      "text/plain": [
       "<Figure size 432x288 with 1 Axes>"
      ]
     },
     "metadata": {
      "needs_background": "light"
     },
     "output_type": "display_data"
    },
    {
     "data": {
      "image/png": "[encoded data removed]",
      "text/plain": [
       "<Figure size 432x288 with 1 Axes>"
      ]
     },
     "metadata": {
      "needs_background": "light"
     },
     "output_type": "display_data"
    },
    {
     "data": {
      "image/png": "[encoded data removed]",
      "text/plain": [
       "<Figure size 432x288 with 1 Axes>"
      ]
     },
     "metadata": {
      "needs_background": "light"
     },
     "output_type": "display_data"
    },
    {
     "data": {
      "image/png": "[encoded data removed]",
      "text/plain": [
       "<Figure size 432x288 with 1 Axes>"
      ]
     },
     "metadata": {
      "needs_background": "light"
     },
     "output_type": "display_data"
    },
    {
     "data": {
      "image/png": "[encoded data removed]",
      "text/plain": [
       "<Figure size 432x288 with 1 Axes>"
      ]
     },
     "metadata": {
      "needs_background": "light"
     },
     "output_type": "display_data"
    }
   ],
   "source": [
    "auc_list = []\n",
    "classifier_list = []\n",
    "\n",
    "for clf in classifiers:\n",
    "    \n",
    "    ## for classifier identification column in new DF ##\n",
    "    classifier_list.append(str(clf))\n",
    "    \n",
    "    ## Fit Classifiers ##\n",
    "    clf.fit(Z_train, y_train)\n",
    "        \n",
    "    ## Create Predictions ##\n",
    "    pred = clf.predict(Z_test)\n",
    "        \n",
    "    fpr, tpr, threshold = roc_curve(y_test, pred, pos_label = 1)\n",
    "        \n",
    "    auc = metrics.auc(fpr, tpr)\n",
    "    auc_list.append(auc)\n",
    "        \n",
    "    plot_roc_curve(clf, Z_test, y_test)\n",
    "    plt.plot([0,1], [0,1], 'k--')\n",
    "    plt.title(f'ROC AUC using {clf}')\n",
    "    \n",
    "\n",
    "auc_df = pd.DataFrame(auc_list, index = classifier_list, columns = ['AUC'])\n",
    "print(auc_df)"
   ]
  },
  {
   "cell_type": "markdown",
   "metadata": {},
   "source": [
    "**AREA UNDER THE CURVE INTERPRETATION**\n",
    "\n",
    "The AUC Curves again look fairly good for all models but the KNN classifier. They're all hugging the top left corner of the chart which indicates that they have a high true positive rate and a lower false positive rate. "
   ]
  },
  {
   "cell_type": "code",
   "execution_count": 32,
   "metadata": {},
   "outputs": [],
   "source": [
    "## creating a list of our two chosen vectorizers to iterate through in our grid search\n",
    "vectorizer = [CountVectorizer(), TfidfVectorizer()]"
   ]
  },
  {
   "cell_type": "code",
   "execution_count": 33,
   "metadata": {},
   "outputs": [],
   "source": [
    "## creating variables to accept tuning parameters\n",
    "max_feat = [300, 500]  \n",
    "ngram_range = [(1, 3), (1, 2)] \n",
    "stop_words = [None, 'english'] \n",
    "max_df = [0.9, 0.8] "
   ]
  },
  {
   "cell_type": "code",
   "execution_count": 34,
   "metadata": {},
   "outputs": [
    {
     "name": "stdout",
     "output_type": "stream",
     "text": [
      "Fitting 4 folds for each of 48 candidates, totalling 192 fits\n",
      "Best score for CountVectorizer is: \n",
      "    0.8668\n",
      "    \n",
      "{'clf': VotingClassifier(estimators=[('lr', LogisticRegression()),\n",
      "                             ('rf', RandomForestClassifier()),\n",
      "                             ('ada', AdaBoostClassifier()), ('svc', SVC())]), 'vect__max_df': 0.9, 'vect__max_features': 500, 'vect__ngram_range': (1, 2), 'vect__stop_words': 'english'}\n",
      "\n",
      "Fitting 4 folds for each of 48 candidates, totalling 192 fits\n",
      "Best score for Tf-IDF Vectorizer is: \n",
      "    0.8715\n",
      "    \n",
      "{'clf': VotingClassifier(estimators=[('lr', LogisticRegression()),\n",
      "                             ('rf', RandomForestClassifier()),\n",
      "                             ('ada', AdaBoostClassifier()), ('svc', SVC())]), 'vect__max_df': 0.8, 'vect__max_features': 500, 'vect__ngram_range': (1, 2), 'vect__stop_words': None}\n",
      "\n"
     ]
    }
   ],
   "source": [
    "results = []\n",
    "\n",
    "## looping through both vectorizers\n",
    "for vect in vectorizer:\n",
    "    \n",
    "    #### Pipeline for our Vectorizer and Classifier Models ####\n",
    "    pipeline = Pipeline([\n",
    "        ('vect', vect),\n",
    "        ('clf', LogisticRegression())])\n",
    "    \n",
    "    instantiations = [ #### Beginning of Instantiations List ####\n",
    "        {\n",
    "            ### SVC Vect Hyperparameters ###\n",
    "            \n",
    "            'vect__max_features': max_feat,\n",
    "            'vect__stop_words': stop_words,\n",
    "            'vect__ngram_range': ngram_range,\n",
    "            'vect__max_df': max_df,\n",
    "            \n",
    "            ## SVC Instantiation and Hyperparameters\n",
    "            'clf': (SVC(gamma='scale', ), ),\n",
    "            'clf__kernel': ('rbf', 'poly') \n",
    "        }, \n",
    "    #######\n",
    "        \n",
    "    \n",
    "        {\n",
    "            ### Voting Classifier Vect Hyperparameters ###\n",
    "            'vect__max_features': max_feat,\n",
    "            'vect__stop_words': stop_words,\n",
    "            'vect__ngram_range': ngram_range,\n",
    "            'vect__max_df': max_df,\n",
    "            \n",
    "            ## Instantiating Ensemble Voting Classifier ##\n",
    "            'clf': (VotingClassifier(estimators=[('lr', LogisticRegression()), \n",
    "                                                 ('rf', RandomForestClassifier()), \n",
    "                                                 ('ada', AdaBoostClassifier()), \n",
    "                                                 ('svc', SVC())],                                           \n",
    "                                            voting='hard'), )\n",
    "        }    \n",
    "                    ] #### end of instantiations list ####\n",
    "    \n",
    "    \n",
    "    #### Grid Search ####\n",
    "    \n",
    "    grid_search = GridSearchCV(pipeline, \n",
    "                               instantiations,\n",
    "                               cv=4,\n",
    "                               n_jobs=-1,\n",
    "                               verbose=3,\n",
    "                               return_train_score=True)\n",
    "    \n",
    "    #### Output Results ####\n",
    "    \n",
    "    ## running an if statement to print the type of vectorizer used\n",
    "    if vect == vectorizer[0]:\n",
    "        vect_string = \"CountVectorizer\"\n",
    "    \n",
    "    else:\n",
    "        vect_string = \"Tf-IDF Vectorizer\"\n",
    "    \n",
    "    ## fitting our model and printing our best scores and parameters\n",
    "    grid_search.fit(X_train, y_train)\n",
    "    print(f'''Best score for {vect_string} is: \n",
    "    {round(grid_search.best_score_, 4)}\n",
    "    ''')\n",
    "    print(grid_search.best_params_)\n",
    "    print(\"\")\n",
    "    \n",
    "    ## appending our cv_results_ to the end of results\n",
    "    results.append(grid_search.cv_results_)    "
   ]
  },
  {
   "cell_type": "code",
   "execution_count": 35,
   "metadata": {},
   "outputs": [],
   "source": [
    "tvec = TfidfVectorizer(max_df= 0.8, max_features= 300, ngram_range= (1, 2), stop_words= 'english')"
   ]
  },
  {
   "cell_type": "code",
   "execution_count": 36,
   "metadata": {},
   "outputs": [],
   "source": [
    "pipeline = Pipeline([\n",
    "        ('vect', tvec),\n",
    "        ('clf', VotingClassifier(estimators=[('lr', LogisticRegression()), \n",
    "                                                 ('rf', RandomForestClassifier()), \n",
    "                                                 ('ada', AdaBoostClassifier()), \n",
    "                                                 ('svc', SVC())] ,voting='hard'))])"
   ]
  },
  {
   "cell_type": "code",
   "execution_count": 37,
   "metadata": {},
   "outputs": [],
   "source": [
    "params = {'vect__max_features': max_feat,\n",
    "            'vect__stop_words': stop_words,\n",
    "            'vect__ngram_range': ngram_range,\n",
    "            'vect__max_df': max_df}"
   ]
  },
  {
   "cell_type": "code",
   "execution_count": 38,
   "metadata": {},
   "outputs": [],
   "source": [
    "grid_search = GridSearchCV(pipeline,\n",
    "                           params, \n",
    "                               cv=4,\n",
    "                               n_jobs=-1,\n",
    "                               verbose=3,\n",
    "                               return_train_score=True)"
   ]
  },
  {
   "cell_type": "code",
   "execution_count": 39,
   "metadata": {},
   "outputs": [
    {
     "name": "stdout",
     "output_type": "stream",
     "text": [
      "Fitting 4 folds for each of 16 candidates, totalling 64 fits\n"
     ]
    },
    {
     "data": {
      "text/plain": [
       "GridSearchCV(cv=4,\n",
       "             estimator=Pipeline(steps=[('vect',\n",
       "                                        TfidfVectorizer(max_df=0.8,\n",
       "                                                        max_features=300,\n",
       "                                                        ngram_range=(1, 2),\n",
       "                                                        stop_words='english')),\n",
       "                                       ('clf',\n",
       "                                        VotingClassifier(estimators=[('lr',\n",
       "                                                                      LogisticRegression()),\n",
       "                                                                     ('rf',\n",
       "                                                                      RandomForestClassifier()),\n",
       "                                                                     ('ada',\n",
       "                                                                      AdaBoostClassifier()),\n",
       "                                                                     ('svc',\n",
       "                                                                      SVC())]))]),\n",
       "             n_jobs=-1,\n",
       "             param_grid={'vect__max_df': [0.9, 0.8],\n",
       "                         'vect__max_features': [300, 500],\n",
       "                         'vect__ngram_range': [(1, 3), (1, 2)],\n",
       "                         'vect__stop_words': [None, 'english']},\n",
       "             return_train_score=True, verbose=3)"
      ]
     },
     "execution_count": 39,
     "metadata": {},
     "output_type": "execute_result"
    }
   ],
   "source": [
    "grid_search.fit(X_train, y_train)"
   ]
  },
  {
   "cell_type": "code",
   "execution_count": 48,
   "metadata": {},
   "outputs": [],
   "source": [
    "preds = grid_search.predict(X_test)"
   ]
  },
  {
   "cell_type": "code",
   "execution_count": 49,
   "metadata": {},
   "outputs": [],
   "source": [
    "tn, fp, fn, tp = confusion_matrix(y_test, preds).ravel()"
   ]
  },
  {
   "cell_type": "code",
   "execution_count": 50,
   "metadata": {},
   "outputs": [],
   "source": [
    "recall_score = round((tp / (fn + tp) * 100) , ndigits = 1)"
   ]
  },
  {
   "cell_type": "code",
   "execution_count": 51,
   "metadata": {},
   "outputs": [],
   "source": [
    "specificity = round((tn / (tn + fn) * 100), ndigits= 1)"
   ]
  },
  {
   "cell_type": "code",
   "execution_count": 52,
   "metadata": {},
   "outputs": [
    {
     "data": {
      "text/plain": [
       "80.65"
      ]
     },
     "execution_count": 52,
     "metadata": {},
     "output_type": "execute_result"
    }
   ],
   "source": [
    "balanced_acc = (recall_score + specificity) / 2\n",
    "balanced_acc"
   ]
  },
  {
   "cell_type": "markdown",
   "metadata": {},
   "source": [
    "Balanced Accuracy Score for Voting Classifer scored higher at 91% rate on balanced accuracy. This seems to be acceptable as a successful predictor. "
   ]
  },
  {
   "cell_type": "code",
   "execution_count": null,
   "metadata": {},
   "outputs": [],
   "source": []
  }
 ],
 "metadata": {
  "kernelspec": {
   "display_name": "Python 3",
   "language": "python",
   "name": "python3"
  },
  "language_info": {
   "codemirror_mode": {
    "name": "ipython",
    "version": 3
   },
   "file_extension": ".py",
   "mimetype": "text/x-python",
   "name": "python",
   "nbconvert_exporter": "python",
   "pygments_lexer": "ipython3",
   "version": "3.8.3"
  }
 },
 "nbformat": 4,
 "nbformat_minor": 4
}
