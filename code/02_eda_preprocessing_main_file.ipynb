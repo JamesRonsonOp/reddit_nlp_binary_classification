{
 "cells": [
  {
   "cell_type": "markdown",
   "metadata": {},
   "source": [
    "# EDA and PREPROCESSING Notebook"
   ]
  },
  {
   "cell_type": "markdown",
   "metadata": {},
   "source": [
    "**Notebook Structure**\n",
    "* [Preprocessing](#Preprocessing)\n",
    "* [Cleaning](#cleaning)\n",
    "* [Stop Words](#stop_word)\n",
    "* [EDA](#eda)\n",
    "* [Count Vectorization](#cvec)\n",
    "* [Frequency Vectorization](#fvec)\n",
    "* [Top 25 Words Charts](#top25)\n",
    "* [TFIDF Encoding](#tfidf)\n",
    "* [Parts of Speech](#pos)\n",
    "* [Parts of Speech Chart](#pos_chart)\n",
    "* [Spacy Scattertext](#spacy)"
   ]
  },
  {
   "cell_type": "markdown",
   "metadata": {},
   "source": [
    "# About This Notebook\n",
    "\n",
    "This notebook takes in cleaned data that was pulled from r/Homebrewing and r/Winemaking subreddits, preprocesses it, executes and analyses exploratory data analysis and finishes off with a Spacy Scattertext plot. "
   ]
  },
  {
   "cell_type": "markdown",
   "metadata": {},
   "source": [
    "### Import Libraries"
   ]
  },
  {
   "cell_type": "code",
   "execution_count": 1100,
   "metadata": {},
   "outputs": [],
   "source": [
    "#Standard Libraries\n",
    "import pandas as pd\n",
    "import numpy as np\n",
    "\n",
    "# Importing Visualization Libraries\n",
    "import matplotlib.pyplot as plt\n",
    "plt.rcParams['axes.facecolor'] = 'black' # setting default background color\n",
    "import seaborn as sns\n",
    "import matplotlib.patches as mpatches\n",
    "\n",
    "# NLP Libraries\n",
    "from nltk import FreqDist, pos_tag\n",
    "from nltk.tokenize import word_tokenize, RegexpTokenizer\n",
    "from nltk.corpus import stopwords\n",
    "import re #regex\n",
    "import contractions #contractions library \n",
    "import string\n",
    "\n",
    "# Scikit Libraries\n",
    "from sklearn.feature_extraction.text import CountVectorizer, TfidfVectorizer\n",
    "from sklearn.feature_extraction.text import TfidfTransformer\n",
    "from sklearn.naive_bayes import MultinomialNB\n",
    "from sklearn.feature_extraction import text\n",
    "from sklearn.decomposition import PCA, TruncatedSVD\n",
    "\n",
    "# Spacy Related Imports\n",
    "import spacy\n",
    "import scattertext as st\n",
    "from scattertext import CorpusFromPandas, produce_scattertext_explorer\n",
    "\n",
    "# imports related to deploying Spacy Scattertext within notebook and local browser.\n",
    "import os, pkgutil, json, urllib\n",
    "from urllib.request import urlopen\n",
    "from IPython.display import IFrame\n",
    "from IPython.core.display import display, HTML\n",
    "\n"
   ]
  },
  {
   "cell_type": "markdown",
   "metadata": {},
   "source": [
    "**Notes on Special Import Libaries**\n",
    "* os library info:\n",
    "    https://docs.python.org/3/library/os.html\n",
    "* pkgutil library info:\n",
    "    https://docs.python.org/3/library/pkgutil.html\n",
    "* urllib Library info:\n",
    "    https://docs.python.org/3/library/urllib.html\n",
    "* Ipython LIbrary (This looks like a cool one I will dive more into)\n",
    "    https://ipython.org/"
   ]
  },
  {
   "cell_type": "markdown",
   "metadata": {},
   "source": [
    "### Read in Data"
   ]
  },
  {
   "cell_type": "code",
   "execution_count": 1101,
   "metadata": {},
   "outputs": [
    {
     "data": {
      "text/html": [
       "<div>\n",
       "<style scoped>\n",
       "    .dataframe tbody tr th:only-of-type {\n",
       "        vertical-align: middle;\n",
       "    }\n",
       "\n",
       "    .dataframe tbody tr th {\n",
       "        vertical-align: top;\n",
       "    }\n",
       "\n",
       "    .dataframe thead th {\n",
       "        text-align: right;\n",
       "    }\n",
       "</style>\n",
       "<table border=\"1\" class=\"dataframe\">\n",
       "  <thead>\n",
       "    <tr style=\"text-align: right;\">\n",
       "      <th></th>\n",
       "      <th>title</th>\n",
       "      <th>selftext</th>\n",
       "      <th>subreddit</th>\n",
       "    </tr>\n",
       "  </thead>\n",
       "  <tbody>\n",
       "    <tr>\n",
       "      <th>0</th>\n",
       "      <td>Resources for a newbie home winemaker</td>\n",
       "      <td>Resources for a newbie home winemaker I want t...</td>\n",
       "      <td>winemaking</td>\n",
       "    </tr>\n",
       "  </tbody>\n",
       "</table>\n",
       "</div>"
      ],
      "text/plain": [
       "                                   title  \\\n",
       "0  Resources for a newbie home winemaker   \n",
       "\n",
       "                                            selftext   subreddit  \n",
       "0  Resources for a newbie home winemaker I want t...  winemaking  "
      ]
     },
     "execution_count": 1101,
     "metadata": {},
     "output_type": "execute_result"
    }
   ],
   "source": [
    "wine = pd.read_csv('../data/01_wine.csv', )\n",
    "wine.head(1)"
   ]
  },
  {
   "cell_type": "code",
   "execution_count": 1102,
   "metadata": {},
   "outputs": [
    {
     "data": {
      "text/html": [
       "<div>\n",
       "<style scoped>\n",
       "    .dataframe tbody tr th:only-of-type {\n",
       "        vertical-align: middle;\n",
       "    }\n",
       "\n",
       "    .dataframe tbody tr th {\n",
       "        vertical-align: top;\n",
       "    }\n",
       "\n",
       "    .dataframe thead th {\n",
       "        text-align: right;\n",
       "    }\n",
       "</style>\n",
       "<table border=\"1\" class=\"dataframe\">\n",
       "  <thead>\n",
       "    <tr style=\"text-align: right;\">\n",
       "      <th></th>\n",
       "      <th>selftext</th>\n",
       "      <th>subreddit</th>\n",
       "    </tr>\n",
       "  </thead>\n",
       "  <tbody>\n",
       "    <tr>\n",
       "      <th>0</th>\n",
       "      <td>Getting to the bottom of my keg and it is yeas...</td>\n",
       "      <td>Homebrewing</td>\n",
       "    </tr>\n",
       "  </tbody>\n",
       "</table>\n",
       "</div>"
      ],
      "text/plain": [
       "                                            selftext    subreddit\n",
       "0  Getting to the bottom of my keg and it is yeas...  Homebrewing"
      ]
     },
     "execution_count": 1102,
     "metadata": {},
     "output_type": "execute_result"
    }
   ],
   "source": [
    "beer = pd.read_csv('../data/01_beer.csv')\n",
    "beer.head(1)"
   ]
  },
  {
   "cell_type": "markdown",
   "metadata": {},
   "source": [
    "**Dropping title column** from both DFs. The text from the column has already been merged to selftext in the previous notebook. "
   ]
  },
  {
   "cell_type": "code",
   "execution_count": 975,
   "metadata": {},
   "outputs": [],
   "source": [
    "wine.drop(columns = 'title', inplace = True)\n",
    "beer.drop(columns = 'title', inplace = True)"
   ]
  },
  {
   "cell_type": "code",
   "execution_count": 1088,
   "metadata": {},
   "outputs": [
    {
     "name": "stdout",
     "output_type": "stream",
     "text": [
      "Index(['title', 'selftext', 'subreddit'], dtype='object')\n",
      "Index(['title', 'selftext', 'subreddit'], dtype='object')\n"
     ]
    }
   ],
   "source": [
    "print(wine.columns)\n",
    "print(beer.columns)"
   ]
  },
  {
   "cell_type": "markdown",
   "metadata": {},
   "source": [
    "# Concatenating \n",
    "wine and beer dataframes into one df on the row index "
   ]
  },
  {
   "cell_type": "code",
   "execution_count": 979,
   "metadata": {},
   "outputs": [],
   "source": [
    "posts_df = pd.concat([wine, beer], ignore_index = True)"
   ]
  },
  {
   "cell_type": "code",
   "execution_count": 981,
   "metadata": {
    "scrolled": true
   },
   "outputs": [
    {
     "data": {
      "text/html": [
       "<div>\n",
       "<style scoped>\n",
       "    .dataframe tbody tr th:only-of-type {\n",
       "        vertical-align: middle;\n",
       "    }\n",
       "\n",
       "    .dataframe tbody tr th {\n",
       "        vertical-align: top;\n",
       "    }\n",
       "\n",
       "    .dataframe thead th {\n",
       "        text-align: right;\n",
       "    }\n",
       "</style>\n",
       "<table border=\"1\" class=\"dataframe\">\n",
       "  <thead>\n",
       "    <tr style=\"text-align: right;\">\n",
       "      <th></th>\n",
       "      <th>selftext</th>\n",
       "    </tr>\n",
       "    <tr>\n",
       "      <th>subreddit</th>\n",
       "      <th></th>\n",
       "    </tr>\n",
       "  </thead>\n",
       "  <tbody>\n",
       "    <tr>\n",
       "      <th>Homebrewing</th>\n",
       "      <td>2367</td>\n",
       "    </tr>\n",
       "    <tr>\n",
       "      <th>winemaking</th>\n",
       "      <td>1935</td>\n",
       "    </tr>\n",
       "  </tbody>\n",
       "</table>\n",
       "</div>"
      ],
      "text/plain": [
       "             selftext\n",
       "subreddit            \n",
       "Homebrewing      2367\n",
       "winemaking       1935"
      ]
     },
     "execution_count": 981,
     "metadata": {},
     "output_type": "execute_result"
    }
   ],
   "source": [
    "posts_df.groupby('subreddit').count()"
   ]
  },
  {
   "cell_type": "markdown",
   "metadata": {},
   "source": [
    "<a id='Preprocessing'></a>__________________________________\n",
    "# PREPROCESSING"
   ]
  },
  {
   "cell_type": "markdown",
   "metadata": {},
   "source": [
    "<a id = 'cleaning'></a>\n",
    "### Cleaning Symbols/Numbers/Capital Letters\n",
    "* The code for this section has been adapted from this article in Towards Data Science and from class lecturs. \n",
    "* Articles contributions to this came in bits and pieces. I streamlined it into one function and added some other modifications. \n",
    "* This function takes in a df label and a series/column label, eliminates numbers, strips white space, lowercases characters, tokenizes the data, removes punctuations, sets changes to original series/column and keeps tokenized column. \n",
    "* https://towardsdatascience.com/preprocessing-text-data-using-python-576206753c28\n"
   ]
  },
  {
   "cell_type": "code",
   "execution_count": 983,
   "metadata": {},
   "outputs": [],
   "source": [
    "def rmv_num_sym(df, series_label):\n",
    "    \n",
    "    # getting rid of numbers\n",
    "    df[series_label] = df[series_label].str.replace('\\d+', ' ')\n",
    "    \n",
    "    # stripping white space\n",
    "    df[series_label]= df[series_label].str.strip(' ')\n",
    "    \n",
    "    # lowercase all remaining characters\n",
    "    df[series_label] = df[series_label].str.lower()\n",
    "   \n",
    "    # removing punctuation\n",
    "    tokenizer = RegexpTokenizer(r'\\w+')\n",
    "    df[series_label] = df[series_label].apply(tokenizer.tokenize)\n",
    "    \n",
    "    # rejoining dataframe to no_contraction_str\n",
    "    df[series_label] = [' '.join(map(str, l)) for l in df[series_label]]\n",
    "    \n",
    "    # make sure to reassign df to this function to set changes to permanent. \n",
    "    return df"
   ]
  },
  {
   "cell_type": "code",
   "execution_count": 984,
   "metadata": {},
   "outputs": [],
   "source": [
    "posts_df  = rmv_num_sym(posts_df, 'selftext')"
   ]
  },
  {
   "cell_type": "code",
   "execution_count": 985,
   "metadata": {},
   "outputs": [
    {
     "data": {
      "text/plain": [
       "0     resources for a newbie home winemaker i want t...\n",
       "1     a question about kit wine i ve made quite a fe...\n",
       "2     riesling my first wine hi everyone i am going ...\n",
       "3     persimmon wine straining hello this is my firs...\n",
       "4     wire used for trellis hey all i m planting som...\n",
       "5     when to kill the yeast when to bottle i have i...\n",
       "6     noobie question about bottling this is probabl...\n",
       "7     hours and no bubbles hi its my first time to m...\n",
       "8     instant pot wine hey a poster in another sub r...\n",
       "9     help my wine came out super dry and i m new to...\n",
       "10    newbie here no rinse o wash hi all just got a ...\n",
       "11    new to winemaking hey everyone i m sure this h...\n",
       "12    is there a way to evaporate water from an ongo...\n",
       "13    got a factory new ultramarine blue ferrari for...\n",
       "14    winery vineyard owners what s the likely hood ...\n",
       "15    how to add creamy taste to wine i m still plan...\n",
       "16    years of aging cannot get rid of a sorbate mal...\n",
       "17    where to get white merlot kits made some last ...\n",
       "18    making wine with grenadine syrup was just rumm...\n",
       "19    winemaking supplier ca warehouse national dist...\n",
       "Name: selftext, dtype: object"
      ]
     },
     "execution_count": 985,
     "metadata": {},
     "output_type": "execute_result"
    }
   ],
   "source": [
    "posts_df['selftext'][:20]"
   ]
  },
  {
   "cell_type": "markdown",
   "metadata": {},
   "source": [
    "<a id= 'stop_word'></a>\n",
    "## Stop Word Creation\n",
    "inspired by these links:\n",
    "* https://stackoverflow.com/questions/24386489/adding-words-to-scikit-learns-countvectorizers-stop-list\n",
    "* https://www.geeksforgeeks.org/removing-stop-words-nltk-python/\n",
    "https://stackoverflow.com/questions/29523254/python-remove-stop-words-from-pandas-dataframe\n",
    "\n",
    "* I combined this all into 1 function\n",
    "* I decided to use both Count Vectorizer and NLTK stop words in addition to my own custom stop words found in EDA for the purpose of adding robustness. "
   ]
  },
  {
   "cell_type": "markdown",
   "metadata": {},
   "source": [
    "#### Creating Custom Stop Words"
   ]
  },
  {
   "cell_type": "code",
   "execution_count": 986,
   "metadata": {},
   "outputs": [],
   "source": [
    "my_stop_words = ['just', 'like', 'make', 'add', 'know', 'use', 'does', 'good', 'did', 'https', 'com', 'time', 'want', 'got', 'used', 'use', 'really', 'using', 'little', 'think', 'imgur', 'imgur com', 'added', 'days', 'day', 'need', 'going', 'looking', 'new', '_', '__', '___', '____', ]"
   ]
  },
  {
   "cell_type": "code",
   "execution_count": 987,
   "metadata": {},
   "outputs": [],
   "source": [
    "def stop_word_merger(custom_stops_list):\n",
    "    \n",
    "    # import string library\n",
    "    import string\n",
    "    \n",
    "    # Merging Count Vectorizer Stop Words to Custom Stop Words\n",
    "    # Union is used because cvec stops are a frozen set. \n",
    "    stop_words_custom = text.ENGLISH_STOP_WORDS.union(custom_stops_list)\n",
    "    \n",
    "    # converting NLTK stops from frozen set to list in order to add to custom stops\n",
    "    nltk_stopwords = list(stopwords.words('english'))\n",
    "    \n",
    "    # again using union because stop_words_custom is a frozen set. \n",
    "    stop_words_custom = stop_words_custom.union(nltk_stopwords)\n",
    "    \n",
    "    stop_words_custom = stop_words_custom.union(list(string.ascii_lowercase))\n",
    "\n",
    "    stop_words_custom - stop_words_custom.union(list(string.ascii_uppercase))\n",
    "    \n",
    "    # returning all three (cvec, nltk, custom) stop words lists as one list. \n",
    "    print(f'Length of Stop Words List: {len(stop_words_custom)}')\n",
    "    \n",
    "    return stop_words_custom\n",
    "    "
   ]
  },
  {
   "cell_type": "code",
   "execution_count": 988,
   "metadata": {},
   "outputs": [
    {
     "name": "stdout",
     "output_type": "stream",
     "text": [
      "Length of Stop Words List: 425\n"
     ]
    }
   ],
   "source": [
    "# calling stop_word_merger function with my custom stop words list\n",
    "# and renaming it custom_stops for brevity\n",
    "custom_stops = stop_word_merger(my_stop_words)"
   ]
  },
  {
   "cell_type": "code",
   "execution_count": 989,
   "metadata": {},
   "outputs": [],
   "source": [
    "# Printing all stop words. ## Remove colon to view ##\n",
    "custom_stops;"
   ]
  },
  {
   "cell_type": "markdown",
   "metadata": {},
   "source": [
    "#### Checking Amount of Stop Words"
   ]
  },
  {
   "cell_type": "code",
   "execution_count": 990,
   "metadata": {},
   "outputs": [],
   "source": [
    "def stop_words_checker(df, series_label, stop_words):\n",
    "    \n",
    "    # Function that checks to see how many of stop words are in a series\n",
    "    \n",
    "    count = 0\n",
    "    total_words = 0\n",
    "    \n",
    "    for posts in posts_df['selftext']:\n",
    "        for word in posts.split():\n",
    "            if word in stop_words:\n",
    "                count += 1\n",
    "    \n",
    "    for posts in posts_df['selftext']:\n",
    "        for word in posts.split():\n",
    "            total_words += 1\n",
    "       \n",
    "    print(f'There are {count} stop words in this corpus.')\n",
    "    print(f'Out of {total_words} total words in corpus.')\n",
    "    print(f'Stop words account for {round((count / total_words * 100), ndigits = 2)}% of all words in corpus.')\n",
    "    "
   ]
  },
  {
   "cell_type": "code",
   "execution_count": 991,
   "metadata": {
    "scrolled": true
   },
   "outputs": [
    {
     "name": "stdout",
     "output_type": "stream",
     "text": [
      "There are 278247 stop words in this corpus.\n",
      "Out of 471162 total words in corpus.\n",
      "Stop words account for 59.06% of all words in corpus.\n"
     ]
    }
   ],
   "source": [
    "stop_words_checker(posts_df, 'selftext', custom_stops)"
   ]
  },
  {
   "cell_type": "markdown",
   "metadata": {},
   "source": [
    "#### Removing Stop Words"
   ]
  },
  {
   "cell_type": "code",
   "execution_count": 992,
   "metadata": {},
   "outputs": [],
   "source": [
    "def remove_stop_words(df, series_label, stop_words):\n",
    "    \n",
    "    # A function that removes stop words from corpus\n",
    "    \n",
    "    df['stop_out'] = df[series_label].apply(lambda x: ' '.join([word for word in x.split() if word not in stop_words]))\n",
    "    df[series_label] = posts_df['stop_out']\n",
    "    df.drop(columns = ['stop_out'], inplace = True)\n",
    "    \n",
    "    return df"
   ]
  },
  {
   "cell_type": "code",
   "execution_count": 993,
   "metadata": {},
   "outputs": [],
   "source": [
    "# Relabeling posts_df to the Df cleaned of stopwords\n",
    "posts_df = remove_stop_words(posts_df, 'selftext', custom_stops)"
   ]
  },
  {
   "cell_type": "code",
   "execution_count": 994,
   "metadata": {},
   "outputs": [
    {
     "name": "stdout",
     "output_type": "stream",
     "text": [
      "There are 0 stop words in this corpus.\n",
      "Out of 192915 total words in corpus.\n",
      "Stop words account for 0.0% of all words in corpus.\n"
     ]
    }
   ],
   "source": [
    "# checking to see if stop words are gone\n",
    "stop_words_checker(posts_df, 'selftext', custom_stops)"
   ]
  },
  {
   "cell_type": "markdown",
   "metadata": {},
   "source": [
    "____________________\n",
    "<a id = 'eda'></a>\n",
    "# EDA"
   ]
  },
  {
   "cell_type": "markdown",
   "metadata": {},
   "source": [
    "## Creating seperate df's for homebrewing and winemaking"
   ]
  },
  {
   "cell_type": "code",
   "execution_count": 995,
   "metadata": {},
   "outputs": [],
   "source": [
    "brew = posts_df[posts_df['subreddit'] == 'Homebrewing']\n",
    "wine = posts_df[posts_df['subreddit'] == 'winemaking']"
   ]
  },
  {
   "cell_type": "markdown",
   "metadata": {},
   "source": [
    "<a id='cvec'></a>\n",
    "## Instantiating and Fitting CountVectorizers\n",
    "\n",
    "Instantiating 2 seperate Count Vectorizers. One for Homebrewing DF and one for winemaking DF. I am doing this separately in order to analyze each df's word trends seperately."
   ]
  },
  {
   "cell_type": "markdown",
   "metadata": {},
   "source": [
    "**Instantiating Count Vectorizer for Brew and Wine DF's**"
   ]
  },
  {
   "cell_type": "code",
   "execution_count": 1061,
   "metadata": {},
   "outputs": [],
   "source": [
    "cvec_brew = CountVectorizer(stop_words = custom_stops, \n",
    "                            ngram_range = (1,3))\n",
    "cvec_wine = CountVectorizer(stop_words = custom_stops,  \n",
    "                            ngram_range = (1,3))"
   ]
  },
  {
   "cell_type": "markdown",
   "metadata": {},
   "source": [
    "**Fitting Brew and Wine Count Vectorizer**"
   ]
  },
  {
   "cell_type": "code",
   "execution_count": 1062,
   "metadata": {},
   "outputs": [],
   "source": [
    "brew_vec = cvec_brew.fit_transform(brew['selftext'])\n",
    "wine_vec = cvec_wine.fit_transform(wine['selftext'])"
   ]
  },
  {
   "cell_type": "markdown",
   "metadata": {},
   "source": [
    "<a id='fvec'></a>\n",
    "# Frequency Vectorization\n",
    "\n",
    "## Top 25 Words in Homebrew and Winemaking Subreddits\n",
    "* After stop words are removed\n",
    "* After basic preprocessing with CountVectorizer\n",
    "\n",
    "The code to achieve this was inspired by this site:\n",
    "https://stackoverflow.com/questions/16078015/list-the-words-in-a-vocabulary-according-to-occurrence-in-a-text-corpus-with-sc\n",
    "\n",
    "* I adapted the code to work in my custom function. \n",
    "* I can now easily do any amount of top words by adjusting n_words parameter. "
   ]
  },
  {
   "cell_type": "code",
   "execution_count": 1000,
   "metadata": {},
   "outputs": [],
   "source": [
    "def top_n_words(fitted_cnt_vect, count_vect, n_words):\n",
    "    # Function takes a fitted count vectorizer, \n",
    "    # an instantiated count_vect and number of words\n",
    "    # returns a DF of n number of top words and ngrams in descending order.\n",
    "    \n",
    "    sumd_vectors = fitted_cnt_vect.sum(axis = 0)\n",
    "    \n",
    "    word_freq = [(word, sumd_vectors[0, idx]) for word, idx in count_vect.vocabulary_.items()]\n",
    "    \n",
    "    top_words = sorted(word_freq, key = lambda x: x[1], reverse = True)[:n_words]\n",
    "    \n",
    "    top_words_df = pd.DataFrame(top_words)\n",
    "    \n",
    "    top_words_df.rename(columns = {0: 'word', 1: 'count'}, inplace = True)\n",
    "    \n",
    "    \n",
    "    return top_words_df\n",
    "    "
   ]
  },
  {
   "cell_type": "markdown",
   "metadata": {},
   "source": [
    "**Top 25 Homebrewing Words**"
   ]
  },
  {
   "cell_type": "code",
   "execution_count": 1063,
   "metadata": {},
   "outputs": [
    {
     "data": {
      "text/html": [
       "<div>\n",
       "<style scoped>\n",
       "    .dataframe tbody tr th:only-of-type {\n",
       "        vertical-align: middle;\n",
       "    }\n",
       "\n",
       "    .dataframe tbody tr th {\n",
       "        vertical-align: top;\n",
       "    }\n",
       "\n",
       "    .dataframe thead th {\n",
       "        text-align: right;\n",
       "    }\n",
       "</style>\n",
       "<table border=\"1\" class=\"dataframe\">\n",
       "  <thead>\n",
       "    <tr style=\"text-align: right;\">\n",
       "      <th></th>\n",
       "      <th>word</th>\n",
       "      <th>count</th>\n",
       "    </tr>\n",
       "  </thead>\n",
       "  <tbody>\n",
       "    <tr>\n",
       "      <th>0</th>\n",
       "      <td>beer</td>\n",
       "      <td>1457</td>\n",
       "    </tr>\n",
       "    <tr>\n",
       "      <th>1</th>\n",
       "      <td>yeast</td>\n",
       "      <td>1137</td>\n",
       "    </tr>\n",
       "    <tr>\n",
       "      <th>2</th>\n",
       "      <td>brew</td>\n",
       "      <td>864</td>\n",
       "    </tr>\n",
       "    <tr>\n",
       "      <th>3</th>\n",
       "      <td>brewing</td>\n",
       "      <td>733</td>\n",
       "    </tr>\n",
       "    <tr>\n",
       "      <th>4</th>\n",
       "      <td>water</td>\n",
       "      <td>704</td>\n",
       "    </tr>\n",
       "  </tbody>\n",
       "</table>\n",
       "</div>"
      ],
      "text/plain": [
       "      word  count\n",
       "0     beer   1457\n",
       "1    yeast   1137\n",
       "2     brew    864\n",
       "3  brewing    733\n",
       "4    water    704"
      ]
     },
     "execution_count": 1063,
     "metadata": {},
     "output_type": "execute_result"
    }
   ],
   "source": [
    "# creating top 25 homebrew DF by calling top_n_words function\n",
    "beer_25_df = top_n_words(brew_vec, cvec_brew, 25)\n",
    "beer_25_df.head()"
   ]
  },
  {
   "cell_type": "markdown",
   "metadata": {},
   "source": [
    "**Top 25 Winemaking Words**"
   ]
  },
  {
   "cell_type": "code",
   "execution_count": 1064,
   "metadata": {},
   "outputs": [
    {
     "data": {
      "text/html": [
       "<div>\n",
       "<style scoped>\n",
       "    .dataframe tbody tr th:only-of-type {\n",
       "        vertical-align: middle;\n",
       "    }\n",
       "\n",
       "    .dataframe tbody tr th {\n",
       "        vertical-align: top;\n",
       "    }\n",
       "\n",
       "    .dataframe thead th {\n",
       "        text-align: right;\n",
       "    }\n",
       "</style>\n",
       "<table border=\"1\" class=\"dataframe\">\n",
       "  <thead>\n",
       "    <tr style=\"text-align: right;\">\n",
       "      <th></th>\n",
       "      <th>word</th>\n",
       "      <th>count</th>\n",
       "    </tr>\n",
       "  </thead>\n",
       "  <tbody>\n",
       "    <tr>\n",
       "      <th>0</th>\n",
       "      <td>wine</td>\n",
       "      <td>3526</td>\n",
       "    </tr>\n",
       "    <tr>\n",
       "      <th>1</th>\n",
       "      <td>yeast</td>\n",
       "      <td>968</td>\n",
       "    </tr>\n",
       "    <tr>\n",
       "      <th>2</th>\n",
       "      <td>making</td>\n",
       "      <td>711</td>\n",
       "    </tr>\n",
       "    <tr>\n",
       "      <th>3</th>\n",
       "      <td>fermentation</td>\n",
       "      <td>649</td>\n",
       "    </tr>\n",
       "    <tr>\n",
       "      <th>4</th>\n",
       "      <td>sugar</td>\n",
       "      <td>532</td>\n",
       "    </tr>\n",
       "  </tbody>\n",
       "</table>\n",
       "</div>"
      ],
      "text/plain": [
       "           word  count\n",
       "0          wine   3526\n",
       "1         yeast    968\n",
       "2        making    711\n",
       "3  fermentation    649\n",
       "4         sugar    532"
      ]
     },
     "execution_count": 1064,
     "metadata": {},
     "output_type": "execute_result"
    }
   ],
   "source": [
    "# creating top 25 homebrew DF by calling top_n_words function\n",
    "wine_25_df = top_n_words(wine_vec, cvec_wine, 25)\n",
    "wine_25_df.head()"
   ]
  },
  {
   "cell_type": "markdown",
   "metadata": {},
   "source": [
    "<a id='top25'></a>\n",
    "## Top 25 Word Charts"
   ]
  },
  {
   "cell_type": "markdown",
   "metadata": {},
   "source": [
    "**Top 25 Words Homebrewing Chart**"
   ]
  },
  {
   "cell_type": "code",
   "execution_count": 1065,
   "metadata": {
    "scrolled": true
   },
   "outputs": [
    {
     "data": {
      "image/png": "[encoded data removed]",
      "text/plain": [
       "<Figure size 864x648 with 1 Axes>"
      ]
     },
     "metadata": {
      "needs_background": "light"
     },
     "output_type": "display_data"
    }
   ],
   "source": [
    "brew_color_list = ['goldenrod', 'aqua', 'goldenrod', 'goldenrod', \n",
    "                   'aqua','goldenrod', 'aqua','goldenrod', \n",
    "                   'aqua','goldenrod', 'aqua','goldenrod', \n",
    "                   'aqua','goldenrod', 'goldenrod','goldenrod', \n",
    "                   'aqua','goldenrod', 'aqua','goldenrod', \n",
    "                   'goldenrod','goldenrod', 'aqua','aqua', 'aqua',]\n",
    "\n",
    "x = list(beer_25_df['count'])\n",
    "bars = list(beer_25_df['word'])\n",
    "y_pos = np.arange(len(bars))\n",
    "plt.figure(figsize = (12,9))\n",
    "plt.barh(y_pos, x, color = brew_color_list)\n",
    "plt.yticks(y_pos, bars, color = 'black')\n",
    "plt.xticks(color = 'black')\n",
    "plt.xlabel('Word Count', color = 'black')\n",
    "plt.ylabel('Word', color = 'black')\n",
    "plt.title('Top 25 Words HomeBrewing Subreddit', color = 'black')\n",
    "plt.show()"
   ]
  },
  {
   "cell_type": "code",
   "execution_count": 1004,
   "metadata": {},
   "outputs": [
    {
     "data": {
      "image/png": "[encoded data removed]",
      "text/plain": [
       "<Figure size 864x648 with 1 Axes>"
      ]
     },
     "metadata": {
      "needs_background": "light"
     },
     "output_type": "display_data"
    }
   ],
   "source": [
    "wine_color_list = ['rebeccapurple', 'aqua', 'rebeccapurple', 'aqua', \n",
    "                   'rebeccapurple', 'rebeccapurple', 'rebeccapurple', 'aqua', \n",
    "                   'aqua', 'rebeccapurple', 'aqua', 'aqua', \n",
    "                   'aqua', 'aqua', 'aqua', 'rebeccapurple', \n",
    "                   'aqua', 'aqua', 'rebeccapurple', 'rebeccapurple', \n",
    "                   'rebeccapurple', 'rebeccapurple', 'rebeccapurple', 'rebeccapurple','rebeccapurple',]\n",
    "\n",
    "\n",
    "\n",
    "\n",
    "x = list(wine_25_df['count'])\n",
    "bars = list(wine_25_df['word'])\n",
    "y_pos = np.arange(len(bars))\n",
    "\n",
    "plt.figure(figsize = (12,9))\n",
    "plt.barh(y_pos, x, color = wine_color_list)\n",
    "plt.yticks(y_pos, bars, color = 'black')\n",
    "plt.xticks(color = 'black')\n",
    "plt.xlabel('Word Count', color = 'black')\n",
    "plt.ylabel('Word', color = 'black')\n",
    "plt.title('Top 25 Words Winemaking Subreddit', color = 'black')\n",
    "plt.show()"
   ]
  },
  {
   "cell_type": "code",
   "execution_count": 1005,
   "metadata": {},
   "outputs": [],
   "source": [
    "def shared_words(series_of_vect_words1, series_of_vect_words2):\n",
    "    # A function that takes in two seperate series of different words\n",
    "    # and returns a list of words shared between both series'\n",
    "    \n",
    "    shrd_wrds = []\n",
    "    \n",
    "    for word in series_of_vect_words1:\n",
    "        for word2 in series_of_vect_words2:\n",
    "            if word == word2:\n",
    "                shrd_wrds.append(word)\n",
    "                \n",
    "    return shrd_wrds"
   ]
  },
  {
   "cell_type": "code",
   "execution_count": 1006,
   "metadata": {},
   "outputs": [],
   "source": [
    "shared_words = shared_words(wine_25_df['word'], beer_25_df['word'])"
   ]
  },
  {
   "cell_type": "code",
   "execution_count": 1007,
   "metadata": {},
   "outputs": [
    {
     "name": "stdout",
     "output_type": "stream",
     "text": [
      " Words shared by both DFs: ['yeast', 'fermentation', 'batch', 'amp', 'bottle', 'water', 'gallon', 'thanks', 'question', 'help', 'recipe']\n"
     ]
    }
   ],
   "source": [
    "print(f' Words shared by both DFs: {shared_words}')"
   ]
  },
  {
   "cell_type": "markdown",
   "metadata": {},
   "source": [
    "### Analysis of Top 25 Word Charts\n",
    "\n",
    "Not surprisingly the top word in Winemaking is 'wine' and the top word in Homebrewing is 'beer.' Also not surprising are other shared words in the top 25 such as fermentation, water and yeast. \n",
    "\n",
    "I think there are some distincive words in each of these lists that will make a prediciting model very successful. In the homebrewing list words like beer, brew, keg, hops and grain will add distinguishing capability to the model. In the winemaking list words like wine, grapes, primary and secondary will add distinguishing capability to the model.\n",
    "\n",
    "### Outliers and Overly Frequent Words\n",
    "\n",
    "After reviewing these charts it will likely be necessary to remove the terms 'wine', 'beer', 'brew' and 'brewing' from the corpus as these counts may make the model overpredictive to many of these features. \n",
    "\n",
    "In the case of words like 'yeast', 'fermentation', 'batch', 'amp', 'bottle', 'water', 'gallon', 'thanks', 'question', 'help' and 'recipe' it may be necessary to remove these words because they appear frequently in both models. \n",
    "\n",
    "[X] These words (All the mentioned words in this cell) are indeed removed later in the notebook. \n",
    "___________________________"
   ]
  },
  {
   "cell_type": "markdown",
   "metadata": {},
   "source": [
    "<a id= 'tfidf'></a>\n",
    "_________________________________\n",
    "# TF-IDF Encoding\n",
    "## IDF Values\n",
    "The lower the IDF value of a word, the less unique it is to any particular document\n",
    "\n",
    "Used this website for guidance on this process:\n",
    "https://kavita-ganesan.com/tfidftransformer-tfidfvectorizer-usage-differences/#.X_DmeulKhTY\n",
    "\n",
    "I used Tfidf Transformer instead of Tfidf Vectorizer.\n",
    "Tf = term frequency\n",
    "Tf-idf = term frequency times inverse document-frequency. This is a common term weighting scheme in information retrieval, that has also found good use in document classification. \n",
    "\n",
    "The goal of using tf-idf instead of the raw frequencies of occurence of a token in a given document is to scale down the impact of tokens that occur very frequently in a given corpus and that are hence empirically less informative than features that occur in a small fraction of the training corpus. "
   ]
  },
  {
   "cell_type": "markdown",
   "metadata": {},
   "source": [
    "Notes on TfidfTransformer Hyperparameters:\n",
    "* smooth_idf was used (True is default), the constant 1 is added ot the numerator and denominator of the idf as if an extra document was seen continaing every term in collection exactly once, this prevents zero division. \n",
    "* use_idf (True is default), enables inverse-document-frequency reweighting. "
   ]
  },
  {
   "cell_type": "markdown",
   "metadata": {},
   "source": [
    "**Brew TF-IDF**"
   ]
  },
  {
   "cell_type": "code",
   "execution_count": 1008,
   "metadata": {},
   "outputs": [
    {
     "data": {
      "text/plain": [
       "TfidfTransformer(sublinear_tf=True)"
      ]
     },
     "execution_count": 1008,
     "metadata": {},
     "output_type": "execute_result"
    }
   ],
   "source": [
    "tfidf_trans_brew = TfidfTransformer(smooth_idf = True, use_idf = True, sublinear_tf = True)\n",
    "tfidf_trans_brew.fit(brew_vec)"
   ]
  },
  {
   "cell_type": "markdown",
   "metadata": {},
   "source": [
    "**Wine TF-IDF**"
   ]
  },
  {
   "cell_type": "code",
   "execution_count": 1009,
   "metadata": {},
   "outputs": [
    {
     "data": {
      "text/plain": [
       "TfidfTransformer(sublinear_tf=True)"
      ]
     },
     "execution_count": 1009,
     "metadata": {},
     "output_type": "execute_result"
    }
   ],
   "source": [
    "tfidf_trans_wine = TfidfTransformer(smooth_idf = True, use_idf = True, sublinear_tf = True)\n",
    "tfidf_trans_wine.fit(wine_vec)"
   ]
  },
  {
   "cell_type": "markdown",
   "metadata": {},
   "source": [
    "**Creating a DataFrame of IDF Values**"
   ]
  },
  {
   "cell_type": "code",
   "execution_count": 1010,
   "metadata": {},
   "outputs": [],
   "source": [
    "idf_brew_df = pd.DataFrame(tfidf_trans_brew.idf_, \n",
    "                           index = cvec_brew.get_feature_names(), \n",
    "                           columns = ['idf_weights'])\n",
    "idf_wine_df = pd.DataFrame(tfidf_trans_wine.idf_, \n",
    "                           index = cvec_wine.get_feature_names(), \n",
    "                           columns = ['idf_weights'])"
   ]
  },
  {
   "cell_type": "code",
   "execution_count": 1011,
   "metadata": {},
   "outputs": [
    {
     "data": {
      "text/html": [
       "<div>\n",
       "<style scoped>\n",
       "    .dataframe tbody tr th:only-of-type {\n",
       "        vertical-align: middle;\n",
       "    }\n",
       "\n",
       "    .dataframe tbody tr th {\n",
       "        vertical-align: top;\n",
       "    }\n",
       "\n",
       "    .dataframe thead th {\n",
       "        text-align: right;\n",
       "    }\n",
       "</style>\n",
       "<table border=\"1\" class=\"dataframe\">\n",
       "  <thead>\n",
       "    <tr style=\"text-align: right;\">\n",
       "      <th></th>\n",
       "      <th>idf_weights</th>\n",
       "    </tr>\n",
       "  </thead>\n",
       "  <tbody>\n",
       "    <tr>\n",
       "      <th>__________</th>\n",
       "      <td>8.076654</td>\n",
       "    </tr>\n",
       "  </tbody>\n",
       "</table>\n",
       "</div>"
      ],
      "text/plain": [
       "            idf_weights\n",
       "__________     8.076654"
      ]
     },
     "execution_count": 1011,
     "metadata": {},
     "output_type": "execute_result"
    }
   ],
   "source": [
    "idf_brew_df.head(1)"
   ]
  },
  {
   "cell_type": "code",
   "execution_count": 1091,
   "metadata": {},
   "outputs": [
    {
     "data": {
      "text/plain": [
       "beer            2.123410\n",
       "yeast           2.427680\n",
       "brew            2.434747\n",
       "brewing         2.547225\n",
       "recipe          2.845545\n",
       "batch           2.864439\n",
       "water           2.929159\n",
       "thanks          2.985976\n",
       "fermentation    3.001480\n",
       "keg             3.072708\n",
       "question        3.096478\n",
       "help            3.186305\n",
       "ale             3.205281\n",
       "gallon          3.209119\n",
       "way             3.209119\n",
       "hops            3.212973\n",
       "bottle          3.285004\n",
       "grain           3.289162\n",
       "brewed          3.310215\n",
       "making          3.310215\n",
       "malt            3.323064\n",
       "mash            3.349266\n",
       "fermenter       3.358155\n",
       "sure            3.358155\n",
       "thinking        3.367124\n",
       "Name: idf_weights, dtype: float64"
      ]
     },
     "execution_count": 1091,
     "metadata": {},
     "output_type": "execute_result"
    }
   ],
   "source": [
    "idf_brew_df['idf_weights'].nsmallest(25)"
   ]
  },
  {
   "cell_type": "code",
   "execution_count": 1093,
   "metadata": {},
   "outputs": [
    {
     "data": {
      "text/plain": [
       "wine            1.298763\n",
       "making          2.254831\n",
       "yeast           2.382171\n",
       "fermentation    2.607374\n",
       "thanks          2.736497\n",
       "batch           2.778419\n",
       "sugar           2.835038\n",
       "question        2.966260\n",
       "juice           2.969957\n",
       "help            3.023202\n",
       "fruit           3.058991\n",
       "bottle          3.063048\n",
       "gallon          3.075318\n",
       "water           3.125962\n",
       "grapes          3.183884\n",
       "started         3.240503\n",
       "winemaking      3.250259\n",
       "wondering       3.255173\n",
       "hi              3.270062\n",
       "recipe          3.280112\n",
       "way             3.321355\n",
       "start           3.326632\n",
       "primary         3.342633\n",
       "advice          3.348023\n",
       "try             3.358893\n",
       "Name: idf_weights, dtype: float64"
      ]
     },
     "execution_count": 1093,
     "metadata": {},
     "output_type": "execute_result"
    }
   ],
   "source": [
    "idf_wine_df['idf_weights'].nsmallest(25)"
   ]
  },
  {
   "cell_type": "code",
   "execution_count": 1014,
   "metadata": {},
   "outputs": [
    {
     "data": {
      "text/html": [
       "<div>\n",
       "<style scoped>\n",
       "    .dataframe tbody tr th:only-of-type {\n",
       "        vertical-align: middle;\n",
       "    }\n",
       "\n",
       "    .dataframe tbody tr th {\n",
       "        vertical-align: top;\n",
       "    }\n",
       "\n",
       "    .dataframe thead th {\n",
       "        text-align: right;\n",
       "    }\n",
       "</style>\n",
       "<table border=\"1\" class=\"dataframe\">\n",
       "  <thead>\n",
       "    <tr style=\"text-align: right;\">\n",
       "      <th></th>\n",
       "      <th>idf_weights</th>\n",
       "      <th>subreddit</th>\n",
       "    </tr>\n",
       "  </thead>\n",
       "  <tbody>\n",
       "    <tr>\n",
       "      <th>_____</th>\n",
       "      <td>7.875232</td>\n",
       "      <td>winemaking</td>\n",
       "    </tr>\n",
       "    <tr>\n",
       "      <th>_____ gut</th>\n",
       "      <td>7.875232</td>\n",
       "      <td>winemaking</td>\n",
       "    </tr>\n",
       "  </tbody>\n",
       "</table>\n",
       "</div>"
      ],
      "text/plain": [
       "           idf_weights   subreddit\n",
       "_____         7.875232  winemaking\n",
       "_____ gut     7.875232  winemaking"
      ]
     },
     "execution_count": 1014,
     "metadata": {},
     "output_type": "execute_result"
    }
   ],
   "source": [
    "idf_wine_df['subreddit'] = 'winemaking'\n",
    "idf_wine_df.head(2)"
   ]
  },
  {
   "cell_type": "code",
   "execution_count": 1015,
   "metadata": {},
   "outputs": [
    {
     "data": {
      "text/html": [
       "<div>\n",
       "<style scoped>\n",
       "    .dataframe tbody tr th:only-of-type {\n",
       "        vertical-align: middle;\n",
       "    }\n",
       "\n",
       "    .dataframe tbody tr th {\n",
       "        vertical-align: top;\n",
       "    }\n",
       "\n",
       "    .dataframe thead th {\n",
       "        text-align: right;\n",
       "    }\n",
       "</style>\n",
       "<table border=\"1\" class=\"dataframe\">\n",
       "  <thead>\n",
       "    <tr style=\"text-align: right;\">\n",
       "      <th></th>\n",
       "      <th>idf_weights</th>\n",
       "      <th>subreddit</th>\n",
       "    </tr>\n",
       "  </thead>\n",
       "  <tbody>\n",
       "    <tr>\n",
       "      <th>__________</th>\n",
       "      <td>8.076654</td>\n",
       "      <td>homebrewing</td>\n",
       "    </tr>\n",
       "    <tr>\n",
       "      <th>__________ amarillo</th>\n",
       "      <td>8.076654</td>\n",
       "      <td>homebrewing</td>\n",
       "    </tr>\n",
       "  </tbody>\n",
       "</table>\n",
       "</div>"
      ],
      "text/plain": [
       "                     idf_weights    subreddit\n",
       "__________              8.076654  homebrewing\n",
       "__________ amarillo     8.076654  homebrewing"
      ]
     },
     "execution_count": 1015,
     "metadata": {},
     "output_type": "execute_result"
    }
   ],
   "source": [
    "idf_brew_df['subreddit'] = 'homebrewing'\n",
    "idf_brew_df.head(2)"
   ]
  },
  {
   "cell_type": "markdown",
   "metadata": {},
   "source": [
    "**TF-IDF Dataframe with both Winemaking and Homebrewing**"
   ]
  },
  {
   "cell_type": "code",
   "execution_count": 1016,
   "metadata": {
    "scrolled": true
   },
   "outputs": [
    {
     "data": {
      "text/html": [
       "<div>\n",
       "<style scoped>\n",
       "    .dataframe tbody tr th:only-of-type {\n",
       "        vertical-align: middle;\n",
       "    }\n",
       "\n",
       "    .dataframe tbody tr th {\n",
       "        vertical-align: top;\n",
       "    }\n",
       "\n",
       "    .dataframe thead th {\n",
       "        text-align: right;\n",
       "    }\n",
       "</style>\n",
       "<table border=\"1\" class=\"dataframe\">\n",
       "  <thead>\n",
       "    <tr style=\"text-align: right;\">\n",
       "      <th></th>\n",
       "      <th>idf_weights</th>\n",
       "      <th>subreddit</th>\n",
       "    </tr>\n",
       "  </thead>\n",
       "  <tbody>\n",
       "    <tr>\n",
       "      <th>⁰f bring</th>\n",
       "      <td>8.076654</td>\n",
       "      <td>homebrewing</td>\n",
       "    </tr>\n",
       "    <tr>\n",
       "      <th>⁰f bring warmer</th>\n",
       "      <td>8.076654</td>\n",
       "      <td>homebrewing</td>\n",
       "    </tr>\n",
       "  </tbody>\n",
       "</table>\n",
       "</div>"
      ],
      "text/plain": [
       "                 idf_weights    subreddit\n",
       "⁰f bring            8.076654  homebrewing\n",
       "⁰f bring warmer     8.076654  homebrewing"
      ]
     },
     "execution_count": 1016,
     "metadata": {},
     "output_type": "execute_result"
    }
   ],
   "source": [
    "idf_df = pd.concat([idf_wine_df, idf_brew_df])\n",
    "idf_df.tail(2)"
   ]
  },
  {
   "cell_type": "markdown",
   "metadata": {},
   "source": [
    "# Analysis TF-IDF \n",
    "\n",
    "The results here are not very surprising as the lowest weighted values are very similar to the top 25 most frequent words. I didn't include TF-IFD in any further steps because admittedly I didn't understand them very well when initially producing these results. In hindsight I think there is a possibility that TF-IDF may have some advantages as processed data. It is easy to calculate and would have saved me an extra step when I added more stop words because words appeared to frequently in both corpuses or had too much predictive capability. There are downsides to TF_IDF. It does not recognize the difference between plural and singular words and may incorrectly downplay the weightings of some words if they are represented by a good deal of both plural and singular nouns. \n",
    "\n",
    "\"Although many new algorithms have come up in the recent past, the simple TF-IDF algorithm is still the benchmark for Query retrieval methods. But, the simple TF-IDF has its own limitations as well, like it fails to distinguish between a singular word and plural words. So, if suppose you search for ‘drug’, TF-IDF will not be able to equate the word ‘drug’ with ‘drugs’ categorizing each instead as separate words and slightly decreasing the word’s ‘Wd’ value.\"\n",
    "\n",
    "* https://www.bluepiit.com/blog/using-tf-idf-algorithm-to-find-relevance-score-in-document-queries/#:~:text=%23%23%20Advantages%20of%20TF%2DIDF,relevant%20to%20a%20particular%20query\n"
   ]
  },
  {
   "cell_type": "markdown",
   "metadata": {},
   "source": [
    "<a id = 'pos'></a>\n",
    "# Parts of Speech Analysis using NLTK"
   ]
  },
  {
   "cell_type": "markdown",
   "metadata": {},
   "source": [
    "**Create list of posts to be tokenized for each subreddit**"
   ]
  },
  {
   "cell_type": "code",
   "execution_count": 1017,
   "metadata": {},
   "outputs": [],
   "source": [
    "brew_text = list(brew['selftext'])\n",
    "wine_text = list(wine['selftext'])"
   ]
  },
  {
   "cell_type": "code",
   "execution_count": 1097,
   "metadata": {},
   "outputs": [],
   "source": [
    "brew_text; ## remove semi-colon to view ##"
   ]
  },
  {
   "cell_type": "markdown",
   "metadata": {},
   "source": [
    "**Tokenize using NLTK word tokenizer**"
   ]
  },
  {
   "cell_type": "code",
   "execution_count": 1019,
   "metadata": {},
   "outputs": [],
   "source": [
    "brew_tokens = [word_tokenize(i) for i in brew_text]\n",
    "wine_tokens = [word_tokenize(i) for i in wine_text]"
   ]
  },
  {
   "cell_type": "code",
   "execution_count": 1090,
   "metadata": {},
   "outputs": [],
   "source": [
    "brew_tokens; ## Remove semi-colon to view ##"
   ]
  },
  {
   "cell_type": "code",
   "execution_count": 1082,
   "metadata": {},
   "outputs": [],
   "source": [
    "#creating a list of words from wine subreddit to pos tag\n",
    "wine_tag_list = []\n",
    "for lst in wine_tokens:\n",
    "    for item in lst:\n",
    "        wine_tag_list.append(item)\n",
    "        \n",
    "# creating a list of words from wine subreddit to pos tag\n",
    "brew_tag_list = []\n",
    "for lst in brew_tokens:\n",
    "    for item in lst:\n",
    "        brew_tag_list.append(item)"
   ]
  },
  {
   "cell_type": "markdown",
   "metadata": {},
   "source": [
    "**Executing Part-of-Speech tagging using Penn Treebank tags**"
   ]
  },
  {
   "cell_type": "code",
   "execution_count": 1023,
   "metadata": {},
   "outputs": [],
   "source": [
    "wine_tag = pos_tag(wine_tag_list)\n",
    "brew_tag = pos_tag(brew_tag_list)"
   ]
  },
  {
   "cell_type": "markdown",
   "metadata": {},
   "source": [
    "**Creating DF's for Tagged Parts of Speech and their Words in Each Subreddit**"
   ]
  },
  {
   "cell_type": "markdown",
   "metadata": {},
   "source": [
    "##### Wine Tags DF"
   ]
  },
  {
   "cell_type": "code",
   "execution_count": 1025,
   "metadata": {},
   "outputs": [],
   "source": [
    "wine_tag_df = pd.DataFrame(wine_tag, columns = ['word', 'part_of_speech'])\n",
    "wine_tag_df.head(1)"
   ]
  },
  {
   "cell_type": "code",
   "execution_count": 1078,
   "metadata": {},
   "outputs": [
    {
     "name": "stdout",
     "output_type": "stream",
     "text": [
      "total tagged words in Winemaking: 79886\n"
     ]
    }
   ],
   "source": [
    "total_words_wine = len(wine_tag_df)\n",
    "print(f'total tagged words in Winemaking: {total_words_wine}')"
   ]
  },
  {
   "cell_type": "markdown",
   "metadata": {},
   "source": [
    "##### Brew Tags DF"
   ]
  },
  {
   "cell_type": "code",
   "execution_count": 1028,
   "metadata": {},
   "outputs": [],
   "source": [
    "brew_tag_df = pd.DataFrame(brew_tag, columns = ['word', 'part_of_speech'])\n",
    "brew_tag_df.head(1)"
   ]
  },
  {
   "cell_type": "code",
   "execution_count": 1077,
   "metadata": {},
   "outputs": [
    {
     "name": "stdout",
     "output_type": "stream",
     "text": [
      "total tagged words in Homebrewing: 113140\n"
     ]
    }
   ],
   "source": [
    "total_words_brew = len(brew_tag_df)\n",
    "print(f'total tagged words in Homebrewing: {total_words_brew}')"
   ]
  },
  {
   "cell_type": "markdown",
   "metadata": {},
   "source": [
    "**Link to NLTK Tag Set**\n",
    "https://www.ling.upenn.edu/courses/Fall_2003/ling001/penn_treebank_pos.html"
   ]
  },
  {
   "cell_type": "code",
   "execution_count": 1031,
   "metadata": {},
   "outputs": [
    {
     "data": {
      "text/plain": [
       "NN     31537\n",
       "JJ     16373\n",
       "NNS     8736\n",
       "VBG     5613\n",
       "VBP     4040\n",
       "Name: part_of_speech, dtype: int64"
      ]
     },
     "execution_count": 1031,
     "metadata": {},
     "output_type": "execute_result"
    }
   ],
   "source": [
    "wine_pos_values = wine_tag_df['part_of_speech'].value_counts()\n",
    "wine_pos_values[:5]"
   ]
  },
  {
   "cell_type": "code",
   "execution_count": 1032,
   "metadata": {},
   "outputs": [
    {
     "data": {
      "text/plain": [
       "NN     47272\n",
       "JJ     22194\n",
       "NNS    10896\n",
       "VBG     6991\n",
       "VBD     6637\n",
       "Name: part_of_speech, dtype: int64"
      ]
     },
     "execution_count": 1032,
     "metadata": {},
     "output_type": "execute_result"
    }
   ],
   "source": [
    "brew_pos_values = brew_tag_df['part_of_speech'].value_counts()\n",
    "brew_pos_values[:5]"
   ]
  },
  {
   "cell_type": "code",
   "execution_count": 1033,
   "metadata": {},
   "outputs": [
    {
     "data": {
      "text/html": [
       "<div>\n",
       "<style scoped>\n",
       "    .dataframe tbody tr th:only-of-type {\n",
       "        vertical-align: middle;\n",
       "    }\n",
       "\n",
       "    .dataframe tbody tr th {\n",
       "        vertical-align: top;\n",
       "    }\n",
       "\n",
       "    .dataframe thead th {\n",
       "        text-align: right;\n",
       "    }\n",
       "</style>\n",
       "<table border=\"1\" class=\"dataframe\">\n",
       "  <thead>\n",
       "    <tr style=\"text-align: right;\">\n",
       "      <th></th>\n",
       "      <th>part_of_speech</th>\n",
       "    </tr>\n",
       "  </thead>\n",
       "  <tbody>\n",
       "    <tr>\n",
       "      <th>NN</th>\n",
       "      <td>47272</td>\n",
       "    </tr>\n",
       "  </tbody>\n",
       "</table>\n",
       "</div>"
      ],
      "text/plain": [
       "    part_of_speech\n",
       "NN           47272"
      ]
     },
     "execution_count": 1033,
     "metadata": {},
     "output_type": "execute_result"
    }
   ],
   "source": [
    "brew_pos_value_df = pd.DataFrame(brew_pos_values)\n",
    "brew_pos_value_df.head(1)"
   ]
  },
  {
   "cell_type": "code",
   "execution_count": 1034,
   "metadata": {},
   "outputs": [
    {
     "data": {
      "text/html": [
       "<div>\n",
       "<style scoped>\n",
       "    .dataframe tbody tr th:only-of-type {\n",
       "        vertical-align: middle;\n",
       "    }\n",
       "\n",
       "    .dataframe tbody tr th {\n",
       "        vertical-align: top;\n",
       "    }\n",
       "\n",
       "    .dataframe thead th {\n",
       "        text-align: right;\n",
       "    }\n",
       "</style>\n",
       "<table border=\"1\" class=\"dataframe\">\n",
       "  <thead>\n",
       "    <tr style=\"text-align: right;\">\n",
       "      <th></th>\n",
       "      <th>part_of_speech</th>\n",
       "    </tr>\n",
       "  </thead>\n",
       "  <tbody>\n",
       "    <tr>\n",
       "      <th>NN</th>\n",
       "      <td>31537</td>\n",
       "    </tr>\n",
       "  </tbody>\n",
       "</table>\n",
       "</div>"
      ],
      "text/plain": [
       "    part_of_speech\n",
       "NN           31537"
      ]
     },
     "execution_count": 1034,
     "metadata": {},
     "output_type": "execute_result"
    }
   ],
   "source": [
    "wine_pos_value_df = pd.DataFrame(wine_pos_values)\n",
    "wine_pos_value_df.head(1)"
   ]
  },
  {
   "cell_type": "code",
   "execution_count": 1035,
   "metadata": {},
   "outputs": [],
   "source": [
    "brew_pos_value_df['pos_perc_of_words'] = brew_pos_value_df['part_of_speech'] / total_words_brew"
   ]
  },
  {
   "cell_type": "code",
   "execution_count": 1036,
   "metadata": {},
   "outputs": [],
   "source": [
    "wine_pos_value_df['pos_perc_of_words'] = wine_pos_value_df['part_of_speech'] / total_words_wine"
   ]
  },
  {
   "cell_type": "code",
   "execution_count": 1098,
   "metadata": {},
   "outputs": [
    {
     "data": {
      "text/html": [
       "<div>\n",
       "<style scoped>\n",
       "    .dataframe tbody tr th:only-of-type {\n",
       "        vertical-align: middle;\n",
       "    }\n",
       "\n",
       "    .dataframe tbody tr th {\n",
       "        vertical-align: top;\n",
       "    }\n",
       "\n",
       "    .dataframe thead th {\n",
       "        text-align: right;\n",
       "    }\n",
       "</style>\n",
       "<table border=\"1\" class=\"dataframe\">\n",
       "  <thead>\n",
       "    <tr style=\"text-align: right;\">\n",
       "      <th></th>\n",
       "      <th>part_of_speech</th>\n",
       "      <th>pos_perc_of_words</th>\n",
       "    </tr>\n",
       "  </thead>\n",
       "  <tbody>\n",
       "    <tr>\n",
       "      <th>NN</th>\n",
       "      <td>47272</td>\n",
       "      <td>0.417819</td>\n",
       "    </tr>\n",
       "    <tr>\n",
       "      <th>JJ</th>\n",
       "      <td>22194</td>\n",
       "      <td>0.196164</td>\n",
       "    </tr>\n",
       "  </tbody>\n",
       "</table>\n",
       "</div>"
      ],
      "text/plain": [
       "    part_of_speech  pos_perc_of_words\n",
       "NN           47272           0.417819\n",
       "JJ           22194           0.196164"
      ]
     },
     "execution_count": 1098,
     "metadata": {},
     "output_type": "execute_result"
    }
   ],
   "source": [
    "brew_pos_value_df.head(2)"
   ]
  },
  {
   "cell_type": "code",
   "execution_count": 1099,
   "metadata": {},
   "outputs": [
    {
     "data": {
      "text/html": [
       "<div>\n",
       "<style scoped>\n",
       "    .dataframe tbody tr th:only-of-type {\n",
       "        vertical-align: middle;\n",
       "    }\n",
       "\n",
       "    .dataframe tbody tr th {\n",
       "        vertical-align: top;\n",
       "    }\n",
       "\n",
       "    .dataframe thead th {\n",
       "        text-align: right;\n",
       "    }\n",
       "</style>\n",
       "<table border=\"1\" class=\"dataframe\">\n",
       "  <thead>\n",
       "    <tr style=\"text-align: right;\">\n",
       "      <th></th>\n",
       "      <th>part_of_speech</th>\n",
       "      <th>pos_perc_of_words</th>\n",
       "    </tr>\n",
       "  </thead>\n",
       "  <tbody>\n",
       "    <tr>\n",
       "      <th>NN</th>\n",
       "      <td>31537</td>\n",
       "      <td>0.394775</td>\n",
       "    </tr>\n",
       "    <tr>\n",
       "      <th>JJ</th>\n",
       "      <td>16373</td>\n",
       "      <td>0.204955</td>\n",
       "    </tr>\n",
       "  </tbody>\n",
       "</table>\n",
       "</div>"
      ],
      "text/plain": [
       "    part_of_speech  pos_perc_of_words\n",
       "NN           31537           0.394775\n",
       "JJ           16373           0.204955"
      ]
     },
     "execution_count": 1099,
     "metadata": {},
     "output_type": "execute_result"
    }
   ],
   "source": [
    "wine_pos_value_df.head(2)"
   ]
  },
  {
   "cell_type": "markdown",
   "metadata": {},
   "source": [
    "**Wine Parts of Speech Stats**"
   ]
  },
  {
   "cell_type": "code",
   "execution_count": 1039,
   "metadata": {},
   "outputs": [
    {
     "data": {
      "text/plain": [
       "'Wine Adjectives = 21.19 Percent of Words'"
      ]
     },
     "execution_count": 1039,
     "metadata": {},
     "output_type": "execute_result"
    }
   ],
   "source": [
    "wine_adjectives = (wine_pos_value_df['pos_perc_of_words']['JJ'] +\n",
    "                   wine_pos_value_df['pos_perc_of_words']['JJR'] +\n",
    "                   wine_pos_value_df['pos_perc_of_words']['JJS']) * 100\n",
    "f'Wine Adjectives = {round(wine_adjectives, ndigits = 2)} Percent of Words'"
   ]
  },
  {
   "cell_type": "code",
   "execution_count": 1040,
   "metadata": {},
   "outputs": [
    {
     "data": {
      "text/plain": [
       "'Wine Nouns = 50.41 Percent of Words'"
      ]
     },
     "execution_count": 1040,
     "metadata": {},
     "output_type": "execute_result"
    }
   ],
   "source": [
    "wine_nouns = (wine_pos_value_df['pos_perc_of_words']['NN'] +\n",
    "                   wine_pos_value_df['pos_perc_of_words']['NNS']) * 100\n",
    "f'Wine Nouns = {round(wine_nouns, ndigits = 2)} Percent of Words'"
   ]
  },
  {
   "cell_type": "code",
   "execution_count": 1041,
   "metadata": {},
   "outputs": [
    {
     "data": {
      "text/plain": [
       "'Wine Adverbs = 5.21 Percent of Words'"
      ]
     },
     "execution_count": 1041,
     "metadata": {},
     "output_type": "execute_result"
    }
   ],
   "source": [
    "wine_adverbs = (wine_pos_value_df['pos_perc_of_words']['RB'] +\n",
    "                   wine_pos_value_df['pos_perc_of_words']['RBR'] +\n",
    "                   wine_pos_value_df['pos_perc_of_words']['RBS']) * 100\n",
    "f'Wine Adverbs = {round(wine_adverbs, ndigits = 2)} Percent of Words'"
   ]
  },
  {
   "cell_type": "code",
   "execution_count": 1042,
   "metadata": {},
   "outputs": [
    {
     "data": {
      "text/plain": [
       "'Wine Verbs = 22.07 Percent of Words'"
      ]
     },
     "execution_count": 1042,
     "metadata": {},
     "output_type": "execute_result"
    }
   ],
   "source": [
    "wine_verbs = (wine_pos_value_df['pos_perc_of_words']['VB'] +\n",
    "                   wine_pos_value_df['pos_perc_of_words']['VBD'] +\n",
    "                   wine_pos_value_df['pos_perc_of_words']['VBG'] +\n",
    "             wine_pos_value_df['pos_perc_of_words']['VBN'] +\n",
    "                   wine_pos_value_df['pos_perc_of_words']['VBP'] +\n",
    "                   wine_pos_value_df['pos_perc_of_words']['VBZ']) * 100\n",
    "f'Wine Verbs = {round(wine_verbs, ndigits = 2)} Percent of Words'"
   ]
  },
  {
   "cell_type": "markdown",
   "metadata": {},
   "source": [
    "**Brewing Parts of Speech Stats**"
   ]
  },
  {
   "cell_type": "code",
   "execution_count": 1043,
   "metadata": {},
   "outputs": [
    {
     "data": {
      "text/plain": [
       "'Brew Adjectives = 20.49 Percent of Words'"
      ]
     },
     "execution_count": 1043,
     "metadata": {},
     "output_type": "execute_result"
    }
   ],
   "source": [
    "brew_adjectives = (brew_pos_value_df['pos_perc_of_words']['JJ'] +\n",
    "                   brew_pos_value_df['pos_perc_of_words']['JJR'] +\n",
    "                   brew_pos_value_df['pos_perc_of_words']['JJS']) * 100\n",
    "f'Brew Adjectives = {round(brew_adjectives, ndigits = 2)} Percent of Words'"
   ]
  },
  {
   "cell_type": "code",
   "execution_count": 1044,
   "metadata": {},
   "outputs": [
    {
     "data": {
      "text/plain": [
       "'Brew Nouns = 51.41 Percent of Words'"
      ]
     },
     "execution_count": 1044,
     "metadata": {},
     "output_type": "execute_result"
    }
   ],
   "source": [
    "brew_nouns = (brew_pos_value_df['pos_perc_of_words']['NN'] +\n",
    "                   brew_pos_value_df['pos_perc_of_words']['NNS']) * 100\n",
    "f'Brew Nouns = {round(brew_nouns, ndigits = 2)} Percent of Words'"
   ]
  },
  {
   "cell_type": "code",
   "execution_count": 1045,
   "metadata": {},
   "outputs": [
    {
     "data": {
      "text/plain": [
       "'Brew Adverbs = 5.1 Percent of Words'"
      ]
     },
     "execution_count": 1045,
     "metadata": {},
     "output_type": "execute_result"
    }
   ],
   "source": [
    "brew_adverbs = (brew_pos_value_df['pos_perc_of_words']['RB'] +\n",
    "                   brew_pos_value_df['pos_perc_of_words']['RBR'] +\n",
    "                   brew_pos_value_df['pos_perc_of_words']['RBS']) * 100\n",
    "f'Brew Adverbs = {round(brew_adverbs, ndigits = 2)} Percent of Words'"
   ]
  },
  {
   "cell_type": "code",
   "execution_count": 1046,
   "metadata": {},
   "outputs": [
    {
     "data": {
      "text/plain": [
       "'Brew Verbs = 21.55 Percent of Words'"
      ]
     },
     "execution_count": 1046,
     "metadata": {},
     "output_type": "execute_result"
    }
   ],
   "source": [
    "brew_verbs = (brew_pos_value_df['pos_perc_of_words']['VB'] +\n",
    "                   brew_pos_value_df['pos_perc_of_words']['VBD'] +\n",
    "                   brew_pos_value_df['pos_perc_of_words']['VBG'] +\n",
    "             brew_pos_value_df['pos_perc_of_words']['VBN'] +\n",
    "                   brew_pos_value_df['pos_perc_of_words']['VBP'] +\n",
    "                   brew_pos_value_df['pos_perc_of_words']['VBZ']) * 100\n",
    "f'Brew Verbs = {round(brew_verbs, ndigits = 2)} Percent of Words'"
   ]
  },
  {
   "cell_type": "markdown",
   "metadata": {},
   "source": [
    "<a id= 'pos_chart'></a>\n",
    "### Parts of Speech Chart"
   ]
  },
  {
   "cell_type": "code",
   "execution_count": 1047,
   "metadata": {},
   "outputs": [],
   "source": [
    "wine_pos_tags = [wine_adverbs, wine_adjectives, wine_verbs, wine_nouns]\n",
    "brew_pos_tags = [brew_adverbs, brew_adjectives, brew_verbs, brew_nouns]"
   ]
  },
  {
   "cell_type": "code",
   "execution_count": 1048,
   "metadata": {},
   "outputs": [
    {
     "data": {
      "image/png": "[encoded data removed]",
      "text/plain": [
       "<Figure size 720x576 with 1 Axes>"
      ]
     },
     "metadata": {
      "needs_background": "light"
     },
     "output_type": "display_data"
    }
   ],
   "source": [
    "compare_tags = pd.DataFrame({'Wine POS': wine_pos_tags, \n",
    "                            'Brew POS': brew_pos_tags})\n",
    "compare_tags.plot.bar(figsize = (10, 8), \n",
    "                      color = ['rebeccapurple', 'goldenrod']).set_title('Part of Speech as a Percentage of Total Words')\n",
    "plt.legend(facecolor = 'white')\n",
    "plt.yticks(color = 'black')\n",
    "plt.xticks(ticks = [0, 1, 2, 3], labels = ['Adverbs', 'Adjectives', 'Verbs', 'Nouns'], color = 'black')\n",
    "plt.ylabel('Percentage of Total Words', color = 'black')\n",
    "plt.xlabel('Part of Speech', color = 'black');"
   ]
  },
  {
   "cell_type": "markdown",
   "metadata": {},
   "source": [
    "## Parts of Speech Chart Analysis\n",
    "\n",
    "#### Nouns\n",
    "* **NN means Noun, singular or mass.**\n",
    "* **NNS is another form of Noun, plural.** \n",
    "\n",
    "Not surprising that it is the most common part of speech in both categories as nouns are a prominent part of all speech and especially when discussing tools used to produce things like wine and beer. \n",
    "\n",
    "#### Adjective\n",
    "* **JJ mean Adjective**\n",
    "\n",
    "another crucial part of every day language is found to be the 2nd most abundant part of speech used in both subreddits. \n",
    "\n",
    "#### Verbs\n",
    "* **VBG means Verb gerund or present participle**\n",
    "* **VBD means Verb, past tense**\n",
    "* **VBP means Verb, 3rd person singular present.**\n",
    "\n",
    "Verbs are also not suprisingly found amoung the most common words in both subredits. \n",
    "\n",
    "#### Final Thoughts of POS\n",
    "\n",
    "I am disappointed that there are no glaring differences in POS of speech. However, what I do find interesting is the nearly identical numbers for both subreddits. The type of POS and the percentage of the respective POS in relation to total word count is almost identical in every category. This could be inspiration for further dives into POS research in groups that may not be so closely in common. It would be interesting to see if there can be some distinguishing characteristics. \n",
    "\n",
    "#### A Caveat\n",
    "\n",
    "This POS analysis was done after stop words had been removed. This could have had an impact on the end results of the analysis. I think further research may also be necessary to compare POS before and after stop words are removed. If there is a difference it would be interesting to note if either subreddit used the stop words more or less than the other. This could have implications regarding command of language and perhaps culture of the different subreddits. "
   ]
  },
  {
   "cell_type": "markdown",
   "metadata": {},
   "source": [
    "## Finalizing Stop Words before Modeling"
   ]
  },
  {
   "cell_type": "code",
   "execution_count": 1049,
   "metadata": {},
   "outputs": [],
   "source": [
    "shared_words.append('wine')\n",
    "shared_words.append('beer')"
   ]
  },
  {
   "cell_type": "code",
   "execution_count": 1050,
   "metadata": {},
   "outputs": [
    {
     "name": "stdout",
     "output_type": "stream",
     "text": [
      "['yeast', 'fermentation', 'batch', 'amp', 'bottle', 'water', 'gallon', 'thanks', 'question', 'help', 'recipe', 'wine', 'beer']\n"
     ]
    }
   ],
   "source": [
    "print(shared_words)"
   ]
  },
  {
   "cell_type": "markdown",
   "metadata": {},
   "source": [
    "**Removing Shared Words**"
   ]
  },
  {
   "cell_type": "code",
   "execution_count": 1051,
   "metadata": {},
   "outputs": [
    {
     "name": "stdout",
     "output_type": "stream",
     "text": [
      "There are 15755 stop words in this corpus.\n",
      "Out of 192915 total words in corpus.\n",
      "Stop words account for 8.17% of all words in corpus.\n"
     ]
    }
   ],
   "source": [
    "stop_words_checker(posts_df, 'selftext', shared_words)"
   ]
  },
  {
   "cell_type": "code",
   "execution_count": 1052,
   "metadata": {},
   "outputs": [],
   "source": [
    "# removing my custom stop words with my custom function\n",
    "posts_df = remove_stop_words(posts_df, 'selftext', shared_words)"
   ]
  },
  {
   "cell_type": "code",
   "execution_count": 1053,
   "metadata": {},
   "outputs": [
    {
     "name": "stdout",
     "output_type": "stream",
     "text": [
      "There are 0 stop words in this corpus.\n",
      "Out of 177160 total words in corpus.\n",
      "Stop words account for 0.0% of all words in corpus.\n"
     ]
    }
   ],
   "source": [
    "# checking on removed stop words from corpus. \n",
    "stop_words_checker(posts_df, 'selftext', shared_words)"
   ]
  },
  {
   "cell_type": "markdown",
   "metadata": {},
   "source": [
    "# Saving Pre-Processed posts_df to csv"
   ]
  },
  {
   "cell_type": "code",
   "execution_count": 1054,
   "metadata": {},
   "outputs": [],
   "source": [
    "posts_df.to_csv('../data/preprocessed_df.csv', index = False)"
   ]
  },
  {
   "cell_type": "markdown",
   "metadata": {},
   "source": [
    "<a id='spacy'></a>\n",
    "# Spacy Scattertext\n",
    "* Code derived from Spacy Documentation and Jason Kessler's (Creator of Scattertext) personal Github. \n",
    "\n",
    "https://github.com/JasonKessler/scattertext/blob/master/demo_category_frequencies.py\n",
    "\n",
    "A medium article from Jason Kessler regarding Scattertext. \n",
    "https://medium.com/analytics-vidhya/visualizing-phrase-prominence-and-category-association-with-scattertext-and-pytextrank-f7a5f036d4d2\n",
    "\n",
    "video by Jason Kessler explaining Scattertext\n",
    "https://www.youtube.com/watch?v=H7X9CA2pWKo\n",
    "\n",
    "Slide share presentation from Jason Kessler\n",
    "https://www.slideshare.net/JasonKessler/natural-language-visualization-with-scattertext\n",
    "\n",
    "*Scattertext documentation that only has half the code needed to deploy the model. :(\n",
    "https://spacy.io/universe/project/scattertext\n",
    "\n",
    "* Disclosure, I recieved advice from my brother, who works in data sciene, on how to employ this plot in an html file on my web browser. \n"
   ]
  },
  {
   "cell_type": "code",
   "execution_count": 1057,
   "metadata": {},
   "outputs": [],
   "source": [
    "# Instantiating spacy nlp object\n",
    "nlp = spacy.load('en')"
   ]
  },
  {
   "cell_type": "code",
   "execution_count": 1058,
   "metadata": {},
   "outputs": [],
   "source": [
    "# Creating Tokenized Text by applying nlp object\n",
    "posts_df['tokenized'] = posts_df['selftext'].apply(nlp)"
   ]
  },
  {
   "cell_type": "code",
   "execution_count": 1059,
   "metadata": {
    "scrolled": true
   },
   "outputs": [],
   "source": [
    "# This function creates a pandas df from a corpus. \n",
    "# The nlp object must be applied to the corpus first. \n",
    "\n",
    "corpus = st.CorpusFromPandas(posts_df,\n",
    "                             category_col='subreddit',\n",
    "                             text_col='selftext',\n",
    "                             nlp=nlp).build()\n"
   ]
  },
  {
   "cell_type": "code",
   "execution_count": 1060,
   "metadata": {
    "scrolled": true
   },
   "outputs": [
    {
     "data": {
      "text/html": [
       "\n",
       "        <iframe\n",
       "            width=\"1400\"\n",
       "            height=\"1000\"\n",
       "            src=\"../data/scattertext.html\"\n",
       "            frameborder=\"0\"\n",
       "            allowfullscreen\n",
       "        ></iframe>\n",
       "        "
      ],
      "text/plain": [
       "<IPython.lib.display.IFrame at 0x7f7f064bfe20>"
      ]
     },
     "execution_count": 1060,
     "metadata": {},
     "output_type": "execute_result"
    }
   ],
   "source": [
    "# This function calls the plot\n",
    "html = produce_scattertext_explorer(corpus, \n",
    "                            category = 'winemaking',\n",
    "                            category_name = 'Winemaking',\n",
    "                            not_category_name = 'Homebrewing', \n",
    "                            width_in_pixels=1200, \n",
    "                            show_characteristic = False,\n",
    "                            minimum_term_frequency = 5, )\n",
    "file = '../data/02_scattertext.html'\n",
    "open(file, 'wb').write(html.encode('utf-8'))\n",
    "IFrame(src=file_name, width = 1400, height=1000)"
   ]
  },
  {
   "cell_type": "code",
   "execution_count": null,
   "metadata": {},
   "outputs": [],
   "source": []
  }
 ],
 "metadata": {
  "kernelspec": {
   "display_name": "Python 3",
   "language": "python",
   "name": "python3"
  },
  "language_info": {
   "codemirror_mode": {
    "name": "ipython",
    "version": 3
   },
   "file_extension": ".py",
   "mimetype": "text/x-python",
   "name": "python",
   "nbconvert_exporter": "python",
   "pygments_lexer": "ipython3",
   "version": "3.8.3"
  }
 },
 "nbformat": 4,
 "nbformat_minor": 4
}
