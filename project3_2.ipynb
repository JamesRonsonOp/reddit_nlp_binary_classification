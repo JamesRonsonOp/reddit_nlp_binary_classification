{
 "cells": [
  {
   "cell_type": "markdown",
   "metadata": {},
   "source": [
    "##### Import Libraries"
   ]
  },
  {
   "cell_type": "code",
   "execution_count": 46,
   "metadata": {},
   "outputs": [],
   "source": [
    "import requests\n",
    "import time\n",
    "import pandas as pd\n",
    "import numpy as np\n",
    "import matplotlib.pyplot as plt\n",
    "import seaborn as sns\n",
    "import json"
   ]
  },
  {
   "cell_type": "markdown",
   "metadata": {},
   "source": [
    "##### Creating target URL from Pushshift API"
   ]
  },
  {
   "cell_type": "code",
   "execution_count": 47,
   "metadata": {},
   "outputs": [],
   "source": [
    "url = 'https://api.pushshift.io/reddit/search/submission'"
   ]
  },
  {
   "cell_type": "markdown",
   "metadata": {},
   "source": [
    "##### Setting Parameters for Pushshift API"
   ]
  },
  {
   "cell_type": "code",
   "execution_count": 48,
   "metadata": {},
   "outputs": [],
   "source": [
    "params = {\n",
    "    'subreddit' : 'casualconversation',\n",
    "    'size' : 500, \n",
    "    # 'before' : min, \n",
    "    #'after' : 1608445057\n",
    "}"
   ]
  },
  {
   "cell_type": "markdown",
   "metadata": {},
   "source": [
    "##### Sending a Get Request to pushift API url. "
   ]
  },
  {
   "cell_type": "code",
   "execution_count": 49,
   "metadata": {},
   "outputs": [],
   "source": [
    "res = requests.get(url, params)"
   ]
  },
  {
   "cell_type": "markdown",
   "metadata": {},
   "source": [
    "##### Checking request status code. 200 = 'success'"
   ]
  },
  {
   "cell_type": "code",
   "execution_count": 50,
   "metadata": {},
   "outputs": [
    {
     "data": {
      "text/plain": [
       "200"
      ]
     },
     "execution_count": 50,
     "metadata": {},
     "output_type": "execute_result"
    }
   ],
   "source": [
    "res.status_code"
   ]
  },
  {
   "cell_type": "markdown",
   "metadata": {},
   "source": [
    "##### Taking in API request and decoding it into json"
   ]
  },
  {
   "cell_type": "code",
   "execution_count": 51,
   "metadata": {},
   "outputs": [],
   "source": [
    "api_dict = res.json()"
   ]
  },
  {
   "cell_type": "markdown",
   "metadata": {},
   "source": [
    "At the moment api_dict is a list of dictionaries and nested within that list of dictionaries is a list of other dictionaries. \n",
    "* In the dictionary named 'data' there is a list of dictionaries that contain all of the post data from my reddit subbreddits. \n",
    "* I am going to index into this dictionary and create and lable it 'posts' in the below step. "
   ]
  },
  {
   "cell_type": "code",
   "execution_count": 52,
   "metadata": {},
   "outputs": [],
   "source": [
    "posts = api_dict['data']"
   ]
  },
  {
   "cell_type": "code",
   "execution_count": 53,
   "metadata": {},
   "outputs": [
    {
     "data": {
      "text/plain": [
       "100"
      ]
     },
     "execution_count": 53,
     "metadata": {},
     "output_type": "execute_result"
    }
   ],
   "source": [
    "len(posts)"
   ]
  },
  {
   "cell_type": "markdown",
   "metadata": {},
   "source": [
    "##### Creating a DataFrame of all of my posts data"
   ]
  },
  {
   "cell_type": "code",
   "execution_count": 54,
   "metadata": {},
   "outputs": [],
   "source": [
    "posts_df = pd.DataFrame(posts)"
   ]
  },
  {
   "cell_type": "code",
   "execution_count": 56,
   "metadata": {},
   "outputs": [
    {
     "data": {
      "text/html": [
       "<div>\n",
       "<style scoped>\n",
       "    .dataframe tbody tr th:only-of-type {\n",
       "        vertical-align: middle;\n",
       "    }\n",
       "\n",
       "    .dataframe tbody tr th {\n",
       "        vertical-align: top;\n",
       "    }\n",
       "\n",
       "    .dataframe thead th {\n",
       "        text-align: right;\n",
       "    }\n",
       "</style>\n",
       "<table border=\"1\" class=\"dataframe\">\n",
       "  <thead>\n",
       "    <tr style=\"text-align: right;\">\n",
       "      <th></th>\n",
       "      <th>subreddit</th>\n",
       "      <th>selftext</th>\n",
       "      <th>title</th>\n",
       "      <th>created_utc</th>\n",
       "    </tr>\n",
       "  </thead>\n",
       "  <tbody>\n",
       "    <tr>\n",
       "      <th>0</th>\n",
       "      <td>CasualConversation</td>\n",
       "      <td>I married my best friend today! our picture ha...</td>\n",
       "      <td>Today I got married!</td>\n",
       "      <td>1608590739</td>\n",
       "    </tr>\n",
       "    <tr>\n",
       "      <th>1</th>\n",
       "      <td>CasualConversation</td>\n",
       "      <td>[removed]</td>\n",
       "      <td>I just watched my cat get high for the first t...</td>\n",
       "      <td>1608589579</td>\n",
       "    </tr>\n",
       "    <tr>\n",
       "      <th>2</th>\n",
       "      <td>CasualConversation</td>\n",
       "      <td>I've got my first interview in 10 years tomorr...</td>\n",
       "      <td>Wish me luck</td>\n",
       "      <td>1608589039</td>\n",
       "    </tr>\n",
       "    <tr>\n",
       "      <th>3</th>\n",
       "      <td>CasualConversation</td>\n",
       "      <td>I’m what some people would call impressive, bu...</td>\n",
       "      <td>Reflecting on school</td>\n",
       "      <td>1608587834</td>\n",
       "    </tr>\n",
       "    <tr>\n",
       "      <th>4</th>\n",
       "      <td>CasualConversation</td>\n",
       "      <td>Tell me about yourself, something that you are...</td>\n",
       "      <td>My life is uninteresting so imma listen to wha...</td>\n",
       "      <td>1608587604</td>\n",
       "    </tr>\n",
       "    <tr>\n",
       "      <th>...</th>\n",
       "      <td>...</td>\n",
       "      <td>...</td>\n",
       "      <td>...</td>\n",
       "      <td>...</td>\n",
       "    </tr>\n",
       "    <tr>\n",
       "      <th>95</th>\n",
       "      <td>CasualConversation</td>\n",
       "      <td>[removed]</td>\n",
       "      <td>Cars</td>\n",
       "      <td>1608563346</td>\n",
       "    </tr>\n",
       "    <tr>\n",
       "      <th>96</th>\n",
       "      <td>CasualConversation</td>\n",
       "      <td>Nothing crazy, just like the title says. I sta...</td>\n",
       "      <td>I started a new job back over the summer, and ...</td>\n",
       "      <td>1608563099</td>\n",
       "    </tr>\n",
       "    <tr>\n",
       "      <th>97</th>\n",
       "      <td>CasualConversation</td>\n",
       "      <td>[removed]</td>\n",
       "      <td>Uppingham School, Rutland, UK</td>\n",
       "      <td>1608561906</td>\n",
       "    </tr>\n",
       "    <tr>\n",
       "      <th>98</th>\n",
       "      <td>CasualConversation</td>\n",
       "      <td>[removed]</td>\n",
       "      <td>We had to leave our dog and go see friends pre...</td>\n",
       "      <td>1608561671</td>\n",
       "    </tr>\n",
       "    <tr>\n",
       "      <th>99</th>\n",
       "      <td>CasualConversation</td>\n",
       "      <td>My cousin overdosed and suffered two heart att...</td>\n",
       "      <td>I made my cousin laugh</td>\n",
       "      <td>1608561588</td>\n",
       "    </tr>\n",
       "  </tbody>\n",
       "</table>\n",
       "<p>100 rows × 4 columns</p>\n",
       "</div>"
      ],
      "text/plain": [
       "             subreddit                                           selftext  \\\n",
       "0   CasualConversation  I married my best friend today! our picture ha...   \n",
       "1   CasualConversation                                          [removed]   \n",
       "2   CasualConversation  I've got my first interview in 10 years tomorr...   \n",
       "3   CasualConversation  I’m what some people would call impressive, bu...   \n",
       "4   CasualConversation  Tell me about yourself, something that you are...   \n",
       "..                 ...                                                ...   \n",
       "95  CasualConversation                                          [removed]   \n",
       "96  CasualConversation  Nothing crazy, just like the title says. I sta...   \n",
       "97  CasualConversation                                          [removed]   \n",
       "98  CasualConversation                                          [removed]   \n",
       "99  CasualConversation  My cousin overdosed and suffered two heart att...   \n",
       "\n",
       "                                                title  created_utc  \n",
       "0                                Today I got married!   1608590739  \n",
       "1   I just watched my cat get high for the first t...   1608589579  \n",
       "2                                        Wish me luck   1608589039  \n",
       "3                                Reflecting on school   1608587834  \n",
       "4   My life is uninteresting so imma listen to wha...   1608587604  \n",
       "..                                                ...          ...  \n",
       "95                                               Cars   1608563346  \n",
       "96  I started a new job back over the summer, and ...   1608563099  \n",
       "97                      Uppingham School, Rutland, UK   1608561906  \n",
       "98  We had to leave our dog and go see friends pre...   1608561671  \n",
       "99                             I made my cousin laugh   1608561588  \n",
       "\n",
       "[100 rows x 4 columns]"
      ]
     },
     "execution_count": 56,
     "metadata": {},
     "output_type": "execute_result"
    }
   ],
   "source": [
    "posts_df[['subreddit', 'selftext', 'title', 'created_utc']].sort_values('created_utc', ascending = False)"
   ]
  },
  {
   "cell_type": "code",
   "execution_count": 58,
   "metadata": {},
   "outputs": [],
   "source": [
    "posts_df.to_csv('casual_3.csv')"
   ]
  },
  {
   "cell_type": "code",
   "execution_count": null,
   "metadata": {},
   "outputs": [],
   "source": []
  }
 ],
 "metadata": {
  "kernelspec": {
   "display_name": "Python 3",
   "language": "python",
   "name": "python3"
  },
  "language_info": {
   "codemirror_mode": {
    "name": "ipython",
    "version": 3
   },
   "file_extension": ".py",
   "mimetype": "text/x-python",
   "name": "python",
   "nbconvert_exporter": "python",
   "pygments_lexer": "ipython3",
   "version": "3.8.3"
  }
 },
 "nbformat": 4,
 "nbformat_minor": 4
}
